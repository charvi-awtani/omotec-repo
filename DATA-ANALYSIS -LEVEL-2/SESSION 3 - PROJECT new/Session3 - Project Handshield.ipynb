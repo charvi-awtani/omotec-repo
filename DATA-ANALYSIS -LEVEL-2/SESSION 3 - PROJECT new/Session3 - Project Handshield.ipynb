{
 "cells": [
  {
   "attachments": {},
   "cell_type": "markdown",
   "metadata": {},
   "source": [
    "### SESSION 3 - Project HandShield (Dr. Strange Filter)\n"
   ]
  },
  {
   "attachments": {},
   "cell_type": "markdown",
   "metadata": {},
   "source": [
    "TOC : <br>\n",
    "\n",
    "1. Setup\n",
    "2. Installing Packages\n",
    "3. Project - Folder Structure  \n",
    "4. functions.py \n",
    "5. main.py"
   ]
  },
  {
   "attachments": {},
   "cell_type": "markdown",
   "metadata": {},
   "source": [
    "Introducing ```HandShield``` - a real-time interactive augmented reality application that tracks hand gestures and draws a virtual shield on your hand, protecting you from any imaginary dangers!\n",
    "\n",
    "Built using the power of ```OpenCV and MediaPipe```, HandShield tracks the landmarks of your hand in real-time and creates a shield that moves along with your hand movements. The application can distinguish between an open hand gesture and a closed fist, and reacts accordingly to draw the virtual shield.\n",
    "\n",
    "HandShield is a fun and interactive way to explore augmented reality technology, and its open-source code allows for customization and experimentation. Users can change the design and color of the shield, as well as adjust the size and rotation speed of the shield based on their preferences.\n",
    "\n",
    "With its easy-to-use interface and interactive capabilities, HandShield is a perfect project for those interested in computer vision, augmented reality, and creative programming. Whether you're looking to learn more about computer vision or just have some fun with augmented reality, HandShield is a great project to get started with. Try it out today and see the magic of augmented reality come to life on your hand!\n",
    "\n",
    "![](Images/Doctor-Strange.jpg)\n",
    "\n",
    "Keywords: - Computer Vision, Hand Tracking, Gesture Recognition, Image Processing, OpenCV, MediaPipe."
   ]
  },
  {
   "attachments": {},
   "cell_type": "markdown",
   "metadata": {
    "colab_type": "text",
    "id": "kFSqkTCdWKMI"
   },
   "source": [
    "## 1. Setup"
   ]
  },
  {
   "attachments": {},
   "cell_type": "markdown",
   "metadata": {},
   "source": [
    "Packages to be installed:\n",
    "\n",
    "  1. pip install opencv-python\n",
    "  2. pip install mediapipe"
   ]
  },
  {
   "attachments": {},
   "cell_type": "markdown",
   "metadata": {},
   "source": [
    "***Note*** : \n",
    "\n",
    "Installing Visual C++ Redistributable is necessary for the HandShield project because it installs the Microsoft C and C++ (MSVC) runtime libraries that are required by many applications built using Microsoft C and C++ tools. These libraries are used by the OpenCV and MediaPipe libraries, which are written in C++ and require a C++ compiler to build. By installing the Visual C++ Redistributable, the necessary runtime libraries are installed on the target system, ensuring that the HandShield application can run smoothly without any missing dependencies.\n",
    "\n",
    "<a href = \"https://learn.microsoft.com/en-US/cpp/windows/latest-supported-vc-redist?view=msvc-170\">Click here</a> to install the Visual C++ Redistributable."
   ]
  },
  {
   "attachments": {},
   "cell_type": "markdown",
   "metadata": {
    "colab_type": "text",
    "id": "p3UGXxUii5Ym"
   },
   "source": [
    "## 2. Installing Packages"
   ]
  },
  {
   "attachments": {},
   "cell_type": "markdown",
   "metadata": {},
   "source": [
    "```pip install opencv-python```"
   ]
  },
  {
   "attachments": {},
   "cell_type": "markdown",
   "metadata": {},
   "source": [
    "```pip install mediapipe```"
   ]
  },
  {
   "attachments": {},
   "cell_type": "markdown",
   "metadata": {},
   "source": [
    "## 3. Project - Folder Structure\n",
    "\n",
    "```\n",
    ".\n",
    "├── Models                    # Models to be used when creating the filter\n",
    "|   ├── Inner Circles         # Circle models to be found on the inner side \n",
    "|   └── Outer Circles         # Circle models to be found on the outer side \n",
    "├── functions.py              \n",
    "├── main.py                    \n",
    "├── requirements.txt                 \n",
    "```\n",
    "\n",
    "The project folder contains two Python code files named ```functions.py and main.py```. Additionally, it includes a folder containing images for the ```inner and outer circles```. There is also a ```requirements.txt``` file that lists the required Python packages for running the project. Overall, the folder provides all the necessary files for running the Handshield project.\n",
    "\n",
    "\n",
    "\n",
    "\n"
   ]
  },
  {
   "attachments": {},
   "cell_type": "markdown",
   "metadata": {
    "colab_type": "text",
    "id": "LBdjK2G5ywuc"
   },
   "source": [
    "## 4. ```functions.py``` \n",
    "\n",
    "This module is designed to work with OpenCV to process and draw on video frames captured from a webcam. It includes several functions that perform different tasks.\n",
    "\n",
    "The position_data function calculates the position of specific points on a hand detected by a hand tracking algorithm. For example, it can calculate the position of the tip of a finger or the wrist.\n",
    "\n",
    "The calculate_distance function helps to calculate the distance between two given points.\n",
    "\n",
    "The draw_line function allows drawing a line between two points on a video frame. This function can be useful for visualizing the position of specific points on the hand or to draw a line indicating a gesture.\n",
    "\n",
    "Finally, the asd function overlays an image on the video frame at a specified location. The function also allows you to resize the image if needed. This function is useful when you want to display an image, such as an icon, on the video frame."
   ]
  },
  {
   "cell_type": "code",
   "execution_count": 1,
   "metadata": {},
   "outputs": [],
   "source": [
    "import cv2 as cv\n",
    "# imports the OpenCV library and aliases it to \"cv\" for easier use in the code.\n",
    "\n",
    "LINE_COLOR = (0, 140, 255)\n",
    "# sets a variable named \"LINE_COLOR\" to a tuple containing the values for blue, green, and red color channels, respectively. In this case, the values are (0, 140, 255), which represents a bright orange color. This variable is used later in the code to define the color of lines drawn on the video frames."
   ]
  },
  {
   "attachments": {},
   "cell_type": "markdown",
   "metadata": {},
   "source": [
    "The ```position_data``` function takes in a list of landmarks (lmlist) that correspond to the different parts of a hand detected by a hand tracking algorithm. The function extracts the coordinates of specific points on the hand, such as the tips of the fingers, the base of the thumb, and the MCP (metacarpophalangeal) joint of each finger. These coordinates are stored in tuples, which are then returned as a list containing all the points in a specific order. The order of the points is important and must match the order in which the points were extracted by the hand tracking algorithm."
   ]
  },
  {
   "cell_type": "code",
   "execution_count": 2,
   "metadata": {},
   "outputs": [],
   "source": [
    "def position_data(lmlist):\n",
    "    # Assign the (x, y) coordinates of the first landmark point (typically the base of the hand) to the variable wrist.\n",
    "    wrist = (lmlist[0][0], lmlist[0][1])\n",
    "    \n",
    "    # Assign the (x, y) coordinates of the fifth landmark point (typically the tip of the thumb) to the variable thumb_tip.\n",
    "    thumb_tip = (lmlist[4][0], lmlist[4][1])\n",
    "    \n",
    "    # Assign the (x, y) coordinates of the sixth landmark point (typically the metacarpophalangeal joint of the index finger) to the variable index_mcp.\n",
    "    index_mcp = (lmlist[5][0], lmlist[5][1])\n",
    "    \n",
    "    # Assign the (x, y) coordinates of the ninth landmark point (typically the tip of the index finger) to the variable index_tip.\n",
    "    index_tip = (lmlist[8][0], lmlist[8][1])\n",
    "    \n",
    "    # Assign the (x, y) coordinates of the tenth landmark point (typically the metacarpophalangeal joint of the middle finger) to the variable midle_mcp.\n",
    "    midle_mcp = (lmlist[9][0], lmlist[9][1])\n",
    "    \n",
    "    # Assign the (x, y) coordinates of the thirteenth landmark point (typically the tip of the middle finger) to the variable midle_tip.\n",
    "    midle_tip = (lmlist[12][0], lmlist[12][1])\n",
    "    \n",
    "    # Assign the (x, y) coordinates of the seventeenth landmark point (typically the tip of the ring finger) to the variable ring_tip.\n",
    "    ring_tip  = (lmlist[16][0], lmlist[16][1])\n",
    "    \n",
    "    # Assign the (x, y) coordinates of the twenty-first landmark point (typically the tip of the pinky finger) to the variable pinky_tip.\n",
    "    pinky_tip = (lmlist[20][0], lmlist[20][1])\n",
    "\n",
    "    # Return a list of all the coordinate tuples calculated above, in the order: wrist, thumb_tip, index_mcp, index_tip, midle_mcp, midle_tip, ring_tip, pinky_tip.\n",
    "    return [wrist, thumb_tip, index_mcp, index_tip, midle_mcp, midle_tip, ring_tip, pinky_tip]\n"
   ]
  },
  {
   "attachments": {},
   "cell_type": "markdown",
   "metadata": {},
   "source": [
    "The function ```calculate_distance``` takes in two points as input parameters and calculates the Euclidean distance between them. The coordinates of the two points are extracted and assigned to x1, y1, x2, and y2. The Euclidean distance formula is then applied to the coordinates to compute the distance between the two points. The result is returned as a float value representing the length of the line segment connecting the two points."
   ]
  },
  {
   "cell_type": "code",
   "execution_count": 3,
   "metadata": {},
   "outputs": [],
   "source": [
    "def calculate_distance(p1, p2):\n",
    "    # This function takes in two parameters p1 and p2, which are expected to be tuples of (x, y) coordinates for two points.\n",
    "    x1, y1, x2, y2 = p1[0], p1[1], p2[0], p2[1]\n",
    "    # This line unpacks the x and y coordinates from the two input tuples into four separate variables for easier calculation.\n",
    "    length = ((x2 - x1) ** 2 + (y2 - y1) ** 2) ** (1.0 / 2)\n",
    "    # This line calculates the Euclidean distance between the two points using the distance formula: sqrt((x2 - x1)^2 + (y2 - y1)^2)\n",
    "    return length\n",
    "    # This line returns the calculated distance as a float value.\n"
   ]
  },
  {
   "attachments": {},
   "cell_type": "markdown",
   "metadata": {},
   "source": [
    "The function ```draw_line``` takes in four parameters: frame, p1, p2, color, and size. It draws a line on the frame between points p1 and p2 with a specified color and size. Additionally, it draws a second line with half the specified size in white to create an outline effect. The function then returns the modified frame."
   ]
  },
  {
   "cell_type": "code",
   "execution_count": 4,
   "metadata": {},
   "outputs": [],
   "source": [
    "def draw_line(frame, p1, p2, color=LINE_COLOR, size=5):\n",
    "    # This function draws a line on the input frame between two given points.\n",
    "    # Arguments:\n",
    "    # - frame: The input image on which to draw the line.\n",
    "    # - p1: The first point as a tuple (x, y) to start the line.\n",
    "    # - p2: The second point as a tuple (x, y) to end the line.\n",
    "    # - color: The color of the line to draw, specified as an RGB tuple (R, G, B).\n",
    "    # - size: The thickness of the line to draw, specified as an integer.\n",
    "    # Returns:\n",
    "    # - frame: The original frame with the drawn line added to it.\n",
    "    \n",
    "    # Draw the primary line with the given color and size.\n",
    "    cv.line(frame, p1, p2, color, size)\n",
    "    \n",
    "    # Draw a white line on top of the primary line to make it stand out more.\n",
    "    # The white line is half the thickness of the primary line.\n",
    "    cv.line(frame, p1, p2, (255, 255, 255), round(size / 2))\n",
    "    \n",
    "    # Return the original frame with the drawn line added to it.\n",
    "    return frame\n"
   ]
  },
  {
   "attachments": {},
   "cell_type": "markdown",
   "metadata": {},
   "source": [
    "This function ```asd``` overlays a target image onto a frame at specified coordinates. An optional parameter can be used to resize the target image. It splits the target image into color channels and an alpha channel, merges the color channels, and creates a mask from the alpha channel. The function selects a region of interest in the frame to place the overlaid image and uses bitwise operations to combine the ROI with a copy of itself and the inverted mask to create a black background. It then applies the masked overlay color to the black background using bitwise operations and combines the black background and masked overlay color to create the final overlaid image."
   ]
  },
  {
   "cell_type": "code",
   "execution_count": 5,
   "metadata": {},
   "outputs": [],
   "source": [
    "def asd(targetImg, frame, x, y, size=None):\n",
    "    # Check if a custom size is provided, and resize the target image accordingly\n",
    "    if size is not None:\n",
    "        targetImg = cv.resize(targetImg, size)\n",
    "\n",
    "    # Create a copy of the original frame\n",
    "    newFrame = frame.copy()\n",
    "\n",
    "    # Split the target image into separate color channels and alpha channel\n",
    "    b, g, r, a = cv.split(targetImg)\n",
    "\n",
    "    # Merge the color channels back together into an RGB image\n",
    "    overlay_color = cv.merge((b, g, r))\n",
    "\n",
    "    # Create a mask from the alpha channel of the target image, and apply median blur to smooth it\n",
    "    mask = cv.medianBlur(a, 1)\n",
    "\n",
    "    # Get the height and width of the overlaid image\n",
    "    h, w, _ = overlay_color.shape\n",
    "\n",
    "    # Select a region of interest (ROI) in the frame to place the overlaid image\n",
    "    roi = newFrame[y:y + h, x:x + w]\n",
    "\n",
    "    # Use bitwise operations to combine the ROI with a copy of itself and the inverted mask to create a black background\n",
    "    img1_bg = cv.bitwise_and(roi.copy(), roi.copy(), mask=cv.bitwise_not(mask))\n",
    "\n",
    "    # Use bitwise operations to apply the masked overlay color to the black background\n",
    "    img2_fg = cv.bitwise_and(overlay_color, overlay_color, mask=mask)\n",
    "\n",
    "    # Combine the black background and masked overlay color to create the final overlaid image\n",
    "    newFrame[y:y + h, x:x + w] = cv.add(img1_bg, img2_fg)\n",
    "\n",
    "    # Return the final frame with the overlaid image\n",
    "    return newFrame\n"
   ]
  },
  {
   "attachments": {},
   "cell_type": "markdown",
   "metadata": {},
   "source": [
    "## 5. ```main.py```\n",
    "\n",
    "The given code is a Python script that uses the OpenCV and Mediapipe libraries to track hand landmarks and overlay images on top of the hand.\n",
    "\n",
    "The script starts by importing the necessary libraries and defining some constants. It then sets up the camera and the mediapipe hands module.\n",
    "\n",
    "In the main loop, the script reads a frame from the camera and converts it to RGB format. The mediapipe hands module is then used to detect hand landmarks in the frame. If landmarks are detected, the script extracts the coordinates of the hand landmarks and calculates the distance between certain landmark points to determine if the hand is in a specific position.\n",
    "\n",
    "If the hand is in the desired position, the script draws lines connecting the hand landmarks on the frame. If the hand is in a different position, the script overlays two images of circles rotating in opposite directions on top of the hand. The size and position of the circles are based on the hand landmarks.\n",
    "\n",
    "Finally, the script displays the modified frame and waits for the \"q\" key to be pressed to exit the loop and close the window."
   ]
  },
  {
   "cell_type": "code",
   "execution_count": 6,
   "metadata": {},
   "outputs": [],
   "source": [
    "# Import required libraries\n",
    "import cv2 as cv\n",
    "import mediapipe as mp\n",
    "from functions import position_data, calculate_distance, draw_line, asd\n",
    "\n",
    "# Paths for the inner and outer circle images\n",
    "INNER_CIRCLE = \"Models/inner_circles/orange.png\"\n",
    "OUTER_CIRCLE = \"Models/outer_circles/orange.png\""
   ]
  },
  {
   "cell_type": "code",
   "execution_count": 7,
   "metadata": {},
   "outputs": [],
   "source": [
    "# Camera Setup\n",
    "cap = cv.VideoCapture(0)\n",
    "# 0 is passed to VideoCapture to use the default camera. If you have multiple cameras, you can select a specific camera by passing its index.\n",
    "\n",
    "cap.set(3, 1280) # set width to 1280 pixels\n",
    "cap.set(4, 720) # set height to 720 pixels\n",
    "\n",
    "# Mediapipe setup for handlandmarks\n",
    "mpDraw = mp.solutions.drawing_utils # module that provides drawing functions for visualization\n",
    "mpHands = mp.solutions.hands # module for hand landmark detection\n",
    "hands = mpHands.Hands() # instantiate the Hands object\n",
    "\n",
    "# Initials\n",
    "inner_circle = cv.imread(INNER_CIRCLE, -1) # Load inner circle image with alpha channel (-1)\n",
    "outer_circle = cv.imread(OUTER_CIRCLE, -1) # Load outer circle image with alpha channel (-1)\n",
    "\n",
    "LINE_COLOR = (0, 140, 255) # Set line color to a shade of orange\n",
    "deg = 0 # Initialize degree variable to 0. This will be used later on."
   ]
  },
  {
   "cell_type": "code",
   "execution_count": 8,
   "metadata": {},
   "outputs": [],
   "source": [
    "while cap.isOpened():\n",
    "# Read camera frame\n",
    "    _, frame = cap.read()\n",
    "    # Flip frame horizontally\n",
    "    frame = cv.flip(frame, 1)\n",
    "\n",
    "    # Convert frame to RGB color space\n",
    "    rgbFrame = cv.cvtColor(frame, cv.COLOR_BGR2RGB)\n",
    "\n",
    "    # Detect hand landmarks using Mediapipe\n",
    "    results = hands.process(rgbFrame)\n",
    "\n",
    "    # If hand landmarks are detected, iterate through each hand and draw landmarks\n",
    "    if results.multi_hand_landmarks:\n",
    "        for hand in results.multi_hand_landmarks:\n",
    "            # Initialize empty list for landmark coordinates\n",
    "            lmLists = []\n",
    "            \n",
    "            # Iterate through each landmark and add its coordinates to lmLists\n",
    "            for id, lm in enumerate(hand.landmark):\n",
    "                # Get frame dimensions\n",
    "                h, w, _ = frame.shape\n",
    "                \n",
    "                # Append landmark coordinates to lmLists\n",
    "                lmLists.append([int(lm.x * w), int(lm.y * h)])\n",
    "                \n",
    "                # The x and y coordinates of the landmarks are normalized with respect to the width and height of the frame, so they need to be multiplied by w and h respectively to get the actual pixel values.\n",
    "                # The landmark coordinates are appended to lmLists as a list of [x,y] values.\n",
    "                \n",
    "            # lmLists contains the pixel coordinates of each landmark for the current hand\n",
    "            # This information can be used to draw connections between landmarks or to perform other actions on the hand landmarks.\n",
    "\n",
    "        # Get the wrist, thumb tip, index finger metacarpal, index finger tip, middle finger metacarpal, middle finger tip, ring finger tip, and pinky finger tip coordinates from the extracted landmark list\n",
    "        coordinates = position_data(lmLists)\n",
    "        wrist, thumb_tip, index_mcp, index_tip, midle_mcp, midle_tip, ring_tip, pinky_tip = coordinates[0],coordinates[1], coordinates[2],coordinates[3], coordinates[4],coordinates[5], coordinates[6],coordinates[7] \n",
    "\n",
    "        # Calculate the distance between the index finger metacarpal and wrist, and the distance between the \n",
    "        # index finger tip and pinky finger tip\n",
    "        index_wrist_distance = calculate_distance(wrist, index_mcp)\n",
    "        index_pinks_distance = calculate_distance(index_tip, pinky_tip)\n",
    "\n",
    "        # Calculate the ratio between the two distances\n",
    "        ratio = index_pinks_distance/index_wrist_distance\n",
    "\n",
    "        if (1.3 > ratio > 0.5):\n",
    "            frame=draw_line(frame, wrist, thumb_tip)\n",
    "            frame=draw_line(frame, wrist, index_tip)\n",
    "            frame=draw_line(frame, wrist, midle_tip)\n",
    "            frame=draw_line(frame, wrist, ring_tip)\n",
    "            frame=draw_line(frame, wrist, pinky_tip)\n",
    "            frame=draw_line(frame, thumb_tip, index_tip)\n",
    "            frame=draw_line(frame, thumb_tip, midle_tip)\n",
    "            frame=draw_line(frame, thumb_tip, ring_tip)\n",
    "            frame=draw_line(frame, thumb_tip, pinky_tip)\n",
    "        # Checks if \"ratio\" is between 0.5 and 1.3\n",
    "            if (1.3 > ratio > 0.5):\n",
    "                frame=draw_line(frame, wrist, thumb_tip) # Draws a line between \"wrist\" and \"thumb_tip\" on \"frame\" and updates \"frame\".\n",
    "                frame=draw_line(frame, wrist, index_tip) # Draws a line between \"wrist\" and \"index_tip\" on \"frame\" and updates \"frame\".\n",
    "                frame=draw_line(frame, wrist, midle_tip) # Draws a line between \"wrist\" and \"midle_tip\" on \"frame\" and updates \"frame\".\n",
    "                frame=draw_line(frame, wrist, ring_tip) # Draws a line between \"wrist\" and \"ring_tip\" on \"frame\" and updates \"frame\".\n",
    "                frame=draw_line(frame, wrist, pinky_tip) # Draws a line between \"wrist\" and \"pinky_tip\" on \"frame\" and updates \"frame\".\n",
    "                frame=draw_line(frame, thumb_tip, index_tip) # Draws a line between \"thumb_tip\" and \"index_tip\" on \"frame\" and updates \"frame\".\n",
    "                frame=draw_line(frame, thumb_tip, midle_tip) # Draws a line between \"thumb_tip\" and \"midle_tip\" on \"frame\" and updates \"frame\".\n",
    "                frame=draw_line(frame, thumb_tip, ring_tip) # Draws a line between \"thumb_tip\" and \"ring_tip\" on \"frame\" and updates \"frame\".\n",
    "                frame=draw_line(frame, thumb_tip, pinky_tip) # Draws a line between \"thumb_tip\" and \"pinky_tip\" on \"frame\" and updates \"frame\".\n",
    "            \n",
    "            elif (ratio > 1.3):\n",
    "            # Executes if \"ratio\" is greater than 1.3.\n",
    "                centerx = midle_mcp[0]\n",
    "                centery = midle_mcp[1]\n",
    "                # Sets the x and y coordinates of the center of the circle to \"centerx\" and \"centery\", respectively, based on the x and y coordinates of the \"midle_mcp\" point.\n",
    "                shield_size = 3.0\n",
    "                # Sets the size of the shield.\n",
    "                diameter = round(index_wrist_distance * shield_size)\n",
    "                # Computes the diameter of the circle based on the distance between \"index_tip\" and \"wrist\" and the shield size.\n",
    "                x1 = round(centerx - (diameter / 2))\n",
    "                y1 = round(centery - (diameter / 2))\n",
    "                # Computes the x and y coordinates of the top-left corner of the bounding box that will contain the circle.\n",
    "                h, w, c = frame.shape\n",
    "                if x1 < 0:\n",
    "                    x1 = 0\n",
    "                elif x1 > w:\n",
    "                    x1 = w\n",
    "                if y1 < 0:\n",
    "                    y1 = 0\n",
    "                elif y1 > h:\n",
    "                    y1 = h\n",
    "                # Ensures that the top-left corner of the bounding box does not exceed the dimensions of the \"frame\".\n",
    "                if x1 + diameter > w:\n",
    "                    diameter = w - x1\n",
    "                if y1 + diameter > h:\n",
    "                    diameter = h - y1\n",
    "                # Adjusts the diameter of the circle if the bounding box exceeds the dimensions of the \"frame\".\n",
    "                shield_size = diameter, diameter\n",
    "                # Updates the shield size based on the computed diameter.\n",
    "                ang_vel = 2.0\n",
    "                deg = deg + ang_vel\n",
    "                if deg > 360:\n",
    "                    deg = 0\n",
    "                # Computes the angular velocity of the shield and updates the degree of rotation. Resets the degree of rotation to 0 once it exceeds 360.\n",
    "                hei, wid, col = outer_circle.shape\n",
    "                cen = (wid // 2, hei // 2)\n",
    "                M1 = cv.getRotationMatrix2D(cen, round(deg), 1.0)\n",
    "                M2 = cv.getRotationMatrix2D(cen, round(360 - deg), 1.0)\n",
    "                rotated1 = cv.warpAffine(outer_circle, M1, (wid, hei))\n",
    "                rotated2 = cv.warpAffine(inner_circle, M2, (wid, hei))\n",
    "                # Computes the rotation matrix and applies the rotation to the outer and inner circles.\n",
    "                if (diameter != 0):\n",
    "                    frame = asd(rotated1, frame, x1, y1, shield_size)\n",
    "                    frame = asd(rotated2, frame, x1, y1, shield_size)\n",
    "                # If the diameter of the circle is non-zero, overlays the rotated outer and inner circles onto the \"frame\".\n",
    "\n",
    "    cv.imshow(\"Image\", frame)\n",
    "    # Display the image frame in a window named \"Image\"\n",
    "    if cv.waitKey(1) == ord(\"q\"):\n",
    "        break\n",
    "    # Wait for a key event, and if the pressed key is \"q\" (which has an ASCII code of 113), break out of the loop\n",
    "\n",
    "cap.release()\n",
    "cv.destroyAllWindows()\n",
    "# Release the video capture object and destroy all windows created by OpenCV"
   ]
  },
  {
   "attachments": {},
   "cell_type": "markdown",
   "metadata": {},
   "source": [
    "<hr>"
   ]
  }
 ],
 "metadata": {
  "accelerator": "GPU",
  "colab": {
   "collapsed_sections": [],
   "last_runtime": {
    "build_target": "//learning/brain/python/client:colab_notebook",
    "kind": "private"
   },
   "name": "object_detection_tutorial.ipynb",
   "private_outputs": true,
   "provenance": [
    {
     "file_id": "1LNYL6Zsn9Xlil2CVNOTsgDZQSBKeOjCh",
     "timestamp": 1566498233247
    },
    {
     "file_id": "/piper/depot/google3/third_party/tensorflow_models/object_detection/object_detection_tutorial.ipynb?workspaceId=markdaoust:copybara_AFABFE845DCD573AD3D43A6BAFBE77D4_0::citc",
     "timestamp": 1566488313397
    },
    {
     "file_id": "/piper/depot/google3/third_party/py/tensorflow_docs/g3doc/en/r2/tutorials/generative/object_detection_tutorial.ipynb?workspaceId=markdaoust:copybara_AFABFE845DCD573AD3D43A6BAFBE77D4_0::citc",
     "timestamp": 1566145894046
    },
    {
     "file_id": "1nBPoWynOV0auSIy40eQcBIk9C6YRSkI8",
     "timestamp": 1566145841085
    },
    {
     "file_id": "/piper/depot/google3/third_party/tensorflow_models/object_detection/object_detection_tutorial.ipynb?workspaceId=markdaoust:copybara_AFABFE845DCD573AD3D43A6BAFBE77D4_0::citc",
     "timestamp": 1556295408037
    },
    {
     "file_id": "1layerger-51XwWOwYMY_5zHaCavCeQkO",
     "timestamp": 1556214267924
    },
    {
     "file_id": "/piper/depot/google3/third_party/tensorflow_models/object_detection/object_detection_tutorial.ipynb?workspaceId=markdaoust:copybara_AFABFE845DCD573AD3D43A6BAFBE77D4_0::citc",
     "timestamp": 1556207836484
    },
    {
     "file_id": "1w6mqQiNV3liPIX70NOgitOlDF1_4sRMw",
     "timestamp": 1556154824101
    },
    {
     "file_id": "https://github.com/tensorflow/models/blob/master/research/object_detection/object_detection_tutorial.ipynb",
     "timestamp": 1556150293326
    }
   ],
   "version": "0.3.2"
  },
  "kernelspec": {
   "display_name": "Python 3",
   "language": "python",
   "name": "python3"
  },
  "language_info": {
   "codemirror_mode": {
    "name": "ipython",
    "version": 3
   },
   "file_extension": ".py",
   "mimetype": "text/x-python",
   "name": "python",
   "nbconvert_exporter": "python",
   "pygments_lexer": "ipython3",
   "version": "3.9.2rc1"
  }
 },
 "nbformat": 4,
 "nbformat_minor": 1
}
