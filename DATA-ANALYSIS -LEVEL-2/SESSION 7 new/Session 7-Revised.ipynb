{
 "cells": [
  {
   "attachments": {},
   "cell_type": "markdown",
   "id": "e7955f19",
   "metadata": {},
   "source": [
    "# SESSION 7"
   ]
  },
  {
   "attachments": {},
   "cell_type": "markdown",
   "id": "8fa0d333",
   "metadata": {},
   "source": [
    "```TOC```\n",
    "1. Pyautogui<br>\n",
    "2. OpenCV Library (opencv-python)<br>\n",
    "3. Python Imaging Library<br>\n",
    "4. Cursor movement<br>\n",
    "5. Error handling<br>\n",
    "6. Input device interface<br>"
   ]
  },
  {
   "attachments": {},
   "cell_type": "markdown",
   "id": "88836804",
   "metadata": {},
   "source": [
    "## 1. Pyautogui"
   ]
  },
  {
   "attachments": {},
   "cell_type": "markdown",
   "id": "50faccf0",
   "metadata": {},
   "source": [
    "**Introduction to Pyautogui library:**\n",
    "\n",
    "Pyautogui is a Python library that allows you to automate tasks on your computer. It can simulate keyboard and mouse movements and clicks, take screenshots, and even perform image recognition.\n",
    "\n",
    "**Installing Pyautogui:**\n",
    "\n",
    "To install Pyautogui, you can use pip, the Python package manager, by running the following command in your terminal or command prompt:"
   ]
  },
  {
   "attachments": {},
   "cell_type": "markdown",
   "id": "0a55490a",
   "metadata": {},
   "source": [
    "```pip install pyautogui```"
   ]
  },
  {
   "attachments": {},
   "cell_type": "markdown",
   "id": "bf5e6618",
   "metadata": {},
   "source": [
    "**Pyautogui functions and methods:**\n",
    "\n",
    "Once installed, you can use Pyautogui's functions and methods in your Python script. Here are some commonly used functions and methods:\n",
    "\n",
    "pyautogui.moveTo(x, y, duration=0.0) - Moves the mouse cursor to the given (x, y) coordinates on the screen. You can also specify the duration of the movement in seconds.\n",
    "\n",
    "pyautogui.click(x=None, y=None, clicks=1, interval=0.0, button='left') - Performs a mouse click at the given (x, y) coordinates on the screen. You can also specify the number of clicks, the interval between clicks, and the button to use (left, right, or middle).\n",
    "\n",
    "pyautogui.typewrite(message, interval=0.0) - Types the given message using the keyboard. You can also specify the interval between keystrokes.\n",
    "\n",
    "pyautogui.screenshot(filename=None, region=None, **kwargs) - Takes a screenshot of the screen and saves it to a file. You can also specify a region of the screen to capture.\n",
    "\n",
    "pyautogui.locateOnScreen(image, **kwargs) - Searches the screen for the given image and returns the coordinates of the matching region.\n",
    "\n",
    "pyautogui.press() and pyautogui.hotkey-  The functions don’t return anything but perform the job of simulating of pressing the enter key and simulates pressing the hotkey ctrl+a. "
   ]
  },
  {
   "attachments": {},
   "cell_type": "markdown",
   "id": "e8378e1b",
   "metadata": {},
   "source": [
    "**Pyautogui keyboard and mouse control:**\n",
    "\n",
    "You can use Pyautogui to control the keyboard and mouse on your computer. Here's an example of how to use Pyautogui to open a new Chrome window:"
   ]
  },
  {
   "cell_type": "code",
   "execution_count": 1,
   "id": "28a5d899",
   "metadata": {},
   "outputs": [],
   "source": [
    "import pyautogui\n",
    "import time\n",
    "\n",
    "# Press the Windows key and type \"chrome\"\n",
    "pyautogui.press('win')\n",
    "pyautogui.typewrite('chrome')\n",
    "time.sleep(1)\n",
    "\n",
    "# Press Enter to open Chrome\n",
    "pyautogui.press('enter')\n",
    "time.sleep(5)\n",
    "\n",
    "# Open a new window\n",
    "pyautogui.hotkey('ctrl', 'n')"
   ]
  },
  {
   "attachments": {},
   "cell_type": "markdown",
   "id": "50e8e346",
   "metadata": {},
   "source": [
    "**Taking Screenshots:**<br>\n",
    "Pyautogui provides the screenshot() function to take a screenshot of the current screen. The function returns a Pillow Image object, which can be saved or manipulated further. Here's an example:"
   ]
  },
  {
   "cell_type": "code",
   "execution_count": 5,
   "id": "ab35d1ca",
   "metadata": {},
   "outputs": [],
   "source": [
    "import pyautogui\n",
    "\n",
    "# take a screenshot\n",
    "screenshot = pyautogui.screenshot()\n",
    "\n",
    "# save the screenshot as an image file\n",
    "screenshot.save('Images/screenshot.png')"
   ]
  },
  {
   "attachments": {},
   "cell_type": "markdown",
   "id": "40edf554",
   "metadata": {},
   "source": [
    "The screenshot() function can also take an optional region argument to specify a specific region of the screen to capture. Here's an example:"
   ]
  },
  {
   "cell_type": "code",
   "execution_count": 6,
   "id": "0edc7b8c",
   "metadata": {},
   "outputs": [],
   "source": [
    "import pyautogui\n",
    "\n",
    "# specify the region to capture\n",
    "left = 100\n",
    "top = 100\n",
    "width = 200\n",
    "height = 200\n",
    "\n",
    "# take a screenshot of the specified region\n",
    "screenshot = pyautogui.screenshot(region=(left, top, width, height))\n",
    "\n",
    "# save the screenshot as an image file\n",
    "screenshot.save('Images/screenshot2.png')"
   ]
  },
  {
   "attachments": {},
   "cell_type": "markdown",
   "id": "cc4c4247",
   "metadata": {},
   "source": [
    "**Image Recognition:**<br>\n",
    "Pyautogui also provides functions for image recognition, which allows us to locate images on the screen and perform actions based on their position. The locateOnScreen() function can be used to locate an image on the screen and return its position as a tuple of coordinates. \n",
    "\n",
    "Here's an example:"
   ]
  },
  {
   "cell_type": "code",
   "execution_count": 8,
   "id": "344c3af5",
   "metadata": {},
   "outputs": [],
   "source": [
    "import pyautogui\n",
    "\n",
    "# locate the 'firefox' image on the screen\n",
    "position = pyautogui.locateOnScreen('Images/firefox.jpeg')\n",
    "\n",
    "# # click on the center of the located image\n",
    "# pyautogui.click(position.left + position.width / 2, position.top + position.height / 2)"
   ]
  },
  {
   "attachments": {},
   "cell_type": "markdown",
   "id": "a63f9b5e",
   "metadata": {},
   "source": [
    "The locateAllOnScreen() function can be used to locate all instances of an image on the screen and return their positions as a list of tuples. \n",
    "\n",
    "Here's an example:"
   ]
  },
  {
   "cell_type": "code",
   "execution_count": 9,
   "id": "08ed4c1c",
   "metadata": {},
   "outputs": [],
   "source": [
    "import pyautogui\n",
    "\n",
    "# locate all instances of the 'firefox' image on the screen\n",
    "positions = list(pyautogui.locateAllOnScreen('Images/firefox.jpeg'))\n",
    "\n",
    "# click on the center of each located image\n",
    "for position in positions:\n",
    "    pyautogui.click(position.left + position.width / 2, position.top + position.height / 2)"
   ]
  },
  {
   "attachments": {},
   "cell_type": "markdown",
   "id": "f447a609",
   "metadata": {},
   "source": [
    "<hr>"
   ]
  },
  {
   "attachments": {},
   "cell_type": "markdown",
   "id": "2b6b882e",
   "metadata": {},
   "source": [
    "## 2. OpenCV Library (opencv-python)\n",
    "\n",
    "\"opencv-python\" is a Python package that provides access to OpenCV (Open Source Computer Vision Library) functions and algorithms. OpenCV is a popular open-source library used for computer vision tasks such as image and video processing, object detection, and feature extraction.\n",
    "\n",
    "To install \"opencv-python\" package, you can use the following command in your Python environment:\n",
    "\n",
    "```pip install opencv-python```\n",
    "\n",
    "Once the package is installed, you can import the necessary modules and start using OpenCV functions in your Python code. \n"
   ]
  },
  {
   "attachments": {},
   "cell_type": "markdown",
   "id": "1fe984a5",
   "metadata": {},
   "source": [
    "Here is an example of how you can use \"opencv-python\" for basic image processing tasks:\n",
    "\n",
    "In this code, we first import the \"cv2\" module from the \"opencv-python\" package. We then read an image from a file using the cv2.imread() function. Next, we convert the image to grayscale using the cv2.cvtColor() function. We apply edge detection using the cv2.Canny() function to detect the edges in the image. Finally, we display the original image and the edges using the cv2.imshow() function, and wait for a key press to close the windows using cv2.waitKey(0)."
   ]
  },
  {
   "cell_type": "code",
   "execution_count": 10,
   "id": "b7d0a359",
   "metadata": {},
   "outputs": [],
   "source": [
    "import cv2\n",
    "\n",
    "# Read an image from file\n",
    "image = cv2.imread('Images/image.jpg')\n",
    "\n",
    "# Convert the image to grayscale\n",
    "gray_image = cv2.cvtColor(image, cv2.COLOR_BGR2GRAY)\n",
    "\n",
    "# Apply edge detection\n",
    "edges = cv2.Canny(gray_image, 100, 200)\n",
    "\n",
    "# Display the original image and the edges\n",
    "cv2.imshow('Original Image', image)\n",
    "cv2.imshow('Edges', edges)\n",
    "\n",
    "# Wait for a key press and then close the windows\n",
    "cv2.waitKey(0)\n",
    "cv2.destroyAllWindows()"
   ]
  },
  {
   "attachments": {},
   "cell_type": "markdown",
   "id": "1374e1f2",
   "metadata": {},
   "source": [
    "This \"opencv-python\" provides a wide range of functions and algorithms for various computer vision tasks. You can explore the official OpenCV documentation (https://docs.opencv.org/) for more detailed information on the available functions and their usage."
   ]
  },
  {
   "attachments": {},
   "cell_type": "markdown",
   "id": "0aee2f5b",
   "metadata": {},
   "source": [
    "<hr>"
   ]
  },
  {
   "attachments": {},
   "cell_type": "markdown",
   "id": "34ccd12a",
   "metadata": {},
   "source": [
    "## 3. Python Imaging Library\n",
    "\n",
    "\"PIL\" (Python Imaging Library) is a powerful library for opening, manipulating, and saving many different image file formats in Python. It provides a wide range of image processing capabilities, such as resizing, cropping, rotating, filtering, and more. The library is widely used in various applications that involve working with images.\n",
    "\n",
    "To use \"PIL\" in your Python code, you need to install the package. You can install it using the following command:\n",
    "\n",
    "```pip install Pillow```\n",
    "\n",
    "Once installed, you can import the necessary modules and start using \"PIL\" functions in your code. "
   ]
  },
  {
   "attachments": {},
   "cell_type": "markdown",
   "id": "302033e8",
   "metadata": {},
   "source": [
    "Here is an example that demonstrates some basic image processing operations using \"PIL\":\n",
    "\n",
    "In this code, we first import the Image module from the \"PIL\" package. We then open an image file using the Image.open() function. We can access various properties of the image, such as its format, size, and mode.\n",
    "\n",
    "Next, we perform some basic image processing operations. We resize the image using the resize() method, passing in the desired width and height. We convert the image to grayscale using the convert() method and specifying the mode as 'L'. We rotate the image by 45 degrees using the rotate() method.\n",
    "\n",
    "Finally, we save the processed images using the save() method, specifying the file names. The images are saved in the specified formats, which can be JPEG, PNG, or other supported formats, depending on the file extension."
   ]
  },
  {
   "cell_type": "code",
   "execution_count": 2,
   "id": "0e8e60ef",
   "metadata": {},
   "outputs": [
    {
     "name": "stdout",
     "output_type": "stream",
     "text": [
      "Image format: JPEG\n",
      "Image size: (872, 586)\n",
      "Image mode: RGB\n"
     ]
    }
   ],
   "source": [
    "from PIL import Image\n",
    "\n",
    "# Open an image file\n",
    "image = Image.open('Images/image.jpg')\n",
    "\n",
    "# Display image properties\n",
    "print(\"Image format:\", image.format)\n",
    "print(\"Image size:\", image.size)\n",
    "print(\"Image mode:\", image.mode)\n",
    "\n",
    "# Resize the image\n",
    "resized_image = image.resize((500, 500))\n",
    "\n",
    "# Convert the image to grayscale\n",
    "grayscale_image = image.convert('L')\n",
    "\n",
    "# Rotate the image\n",
    "rotated_image = image.rotate(45)\n",
    "\n",
    "# Save the processed images\n",
    "resized_image.save('Images/resized_image.jpg')\n",
    "grayscale_image.save('Images/grayscale_image.jpg')\n",
    "rotated_image.save('Images/rotated_image.jpg')"
   ]
  },
  {
   "attachments": {},
   "cell_type": "markdown",
   "id": "dae12e42",
   "metadata": {},
   "source": [
    "\"PIL\" provides many more functions and capabilities for working with images. You can refer to the official \"PIL\" documentation (https://pillow.readthedocs.io/) for detailed information on the available functions and their usage."
   ]
  },
  {
   "attachments": {},
   "cell_type": "markdown",
   "id": "e8dfa926",
   "metadata": {},
   "source": [
    "<hr>"
   ]
  },
  {
   "attachments": {},
   "cell_type": "markdown",
   "id": "66f9a358",
   "metadata": {},
   "source": [
    "## 4. Cursor movement using PyautoGui\n",
    "\n",
    "\n",
    "Cursor movement is a fundamental part of any graphical user interface (GUI). With Pyautogui, you can control the mouse cursor's movement and automate tasks that involve moving the cursor. The following Python code shows how to move the mouse cursor to a specific location on the screen:\n"
   ]
  },
  {
   "cell_type": "code",
   "execution_count": 3,
   "id": "e74822c0",
   "metadata": {},
   "outputs": [],
   "source": [
    "import pyautogui\n",
    "\n",
    "# Move the cursor to x=100, y=100 on the screen\n",
    "pyautogui.moveTo(100, 100)"
   ]
  },
  {
   "attachments": {},
   "cell_type": "markdown",
   "id": "f404f622",
   "metadata": {},
   "source": [
    "You can also specify the duration of the cursor movement using the duration parameter:"
   ]
  },
  {
   "cell_type": "code",
   "execution_count": 4,
   "id": "6784c636",
   "metadata": {},
   "outputs": [],
   "source": [
    "# Move the cursor to x=100, y=100 on the screen over 2 seconds\n",
    "pyautogui.moveTo(100, 100, duration=2)"
   ]
  },
  {
   "attachments": {},
   "cell_type": "markdown",
   "id": "a52ee2e9",
   "metadata": {},
   "source": [
    "To move the cursor relative to its current position, you can use the move function:"
   ]
  },
  {
   "cell_type": "code",
   "execution_count": 5,
   "id": "210d20ad",
   "metadata": {},
   "outputs": [],
   "source": [
    "# Move the cursor 100 pixels to the right and 50 pixels down\n",
    "pyautogui.move(100, 50)"
   ]
  },
  {
   "attachments": {},
   "cell_type": "markdown",
   "id": "2abac473",
   "metadata": {},
   "source": [
    "To optimize cursor movement, you can adjust the cursor speed and acceleration using the pyautogui.PAUSE and pyautogui.MINIMUM_DURATION constants:"
   ]
  },
  {
   "cell_type": "code",
   "execution_count": 6,
   "id": "8dc83d2c",
   "metadata": {},
   "outputs": [],
   "source": [
    "# Set the delay between each PyAutoGUI function call to 0.1 seconds\n",
    "pyautogui.PAUSE = 0.1\n",
    "\n",
    "# Set the minimum duration for any PyAutoGUI function call to 0.01 seconds\n",
    "pyautogui.MINIMUM_DURATION = 0.01"
   ]
  },
  {
   "attachments": {},
   "cell_type": "markdown",
   "id": "95b878f3",
   "metadata": {},
   "source": [
    "```With these optimizations, Pyautogui can move the cursor quickly and accurately, reducing the time it takes to complete automation tasks.```"
   ]
  },
  {
   "attachments": {},
   "cell_type": "markdown",
   "id": "b010f9fc",
   "metadata": {},
   "source": [
    "<hr>"
   ]
  },
  {
   "attachments": {},
   "cell_type": "markdown",
   "id": "cdf9f74a",
   "metadata": {},
   "source": [
    "## 5. Input device interface\n",
    "\n",
    "Pyautogui provides various functions and methods to interact with different input devices like touchpads, touchscreens, sensors, etc. Let's see how we can use Pyautogui for input device interface:\n"
   ]
  },
  {
   "attachments": {},
   "cell_type": "markdown",
   "id": "bd13ad28",
   "metadata": {},
   "source": [
    "**Touchpad and touchscreen interface with Pyautogui:**<br>\n",
    "To interact with touchpad and touchscreen, we can use the Pyautogui.moveTo() and Pyautogui.click() functions. The code snippet below moves the cursor to a specified location on the screen and clicks the left button on a touchpad or touchscreen:"
   ]
  },
  {
   "cell_type": "code",
   "execution_count": 8,
   "id": "12110e49",
   "metadata": {},
   "outputs": [],
   "source": [
    "import pyautogui\n",
    "\n",
    "# Move the cursor to position (x=100, y=100) and click the left button\n",
    "pyautogui.moveTo(100, 100)\n",
    "pyautogui.click(button='left')"
   ]
  },
  {
   "attachments": {},
   "cell_type": "markdown",
   "id": "437a61c3",
   "metadata": {},
   "source": [
    "**Sensor interface with Pyautogui:**<br>\n",
    "To interact with sensors, we can use the Pyautogui.typewrite() function. The code snippet below types the string 'Hello World!' as input to a sensor:\n",
    "\n"
   ]
  },
  {
   "cell_type": "code",
   "execution_count": 9,
   "id": "21c03a65",
   "metadata": {},
   "outputs": [],
   "source": [
    "import pyautogui\n",
    "\n",
    "# Type 'Hello World!' as input to the sensor\n",
    "pyautogui.typewrite('Hello World!')"
   ]
  },
  {
   "attachments": {},
   "cell_type": "markdown",
   "id": "62a8c613",
   "metadata": {},
   "source": [
    "<hr>"
   ]
  }
 ],
 "metadata": {
  "kernelspec": {
   "display_name": "Python 3 (ipykernel)",
   "language": "python",
   "name": "python3"
  },
  "language_info": {
   "codemirror_mode": {
    "name": "ipython",
    "version": 3
   },
   "file_extension": ".py",
   "mimetype": "text/x-python",
   "name": "python",
   "nbconvert_exporter": "python",
   "pygments_lexer": "ipython3",
   "version": "3.10.9"
  },
  "vscode": {
   "interpreter": {
    "hash": "f1a104daade7a70772ad630bf0568980f4e260449ff540bcd2b6baf0ecd3487d"
   }
  }
 },
 "nbformat": 4,
 "nbformat_minor": 5
}
