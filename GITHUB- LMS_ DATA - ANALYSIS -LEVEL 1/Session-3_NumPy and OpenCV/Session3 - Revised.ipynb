{
 "cells": [
  {
   "attachments": {},
   "cell_type": "markdown",
   "id": "cc02d1c0",
   "metadata": {},
   "source": [
    "# **SESSION 3**"
   ]
  },
  {
   "attachments": {},
   "cell_type": "markdown",
   "id": "900aadd1",
   "metadata": {},
   "source": [
    "1. NumPy Topics - Copy & View<br>\n",
    "2. Reshaping & Flattening the NumPy arrays<br>\n",
    "3. Sorting the NumPy Arrays<br>\n",
    "4. Introduction to openCV-Python<br>\n",
    "5. OpenCV Topics - vstack, hstack, indexing, cropping, slicing,filtering:<br>\n",
    "    5.1 OpenCV and NumPy Operations: vstack<br>\n",
    "    5.2 OpenCV and NumPy Operations: hstack<br>\n",
    "    5.3 OpenCV and NumPy Operations: indexing<br>\n",
    "    5.4 OpenCV and NumPy Operations: Crop using indexing<br>\n",
    "    5.5 OpenCV and NumPy Operations: Cropping Numpy Zeros<br>\n",
    "    5.6 OpenCV and NumPy Operations: Extracting Channel using indexing<br>\n",
    "    5.7 OpenCV and NumPy Operations: Cropping & Patching<br>\n",
    "    5.7 OpenCV and NumPy Operations: Gray Slicing<br>\n",
    "    5.8 OpenCV and NumPy Operations: Masking using Filtering<br>"
   ]
  },
  {
   "attachments": {},
   "cell_type": "markdown",
   "id": "f36751ed",
   "metadata": {},
   "source": [
    "## 1. NumPy Topics - Copy & View"
   ]
  },
  {
   "attachments": {},
   "cell_type": "markdown",
   "id": "bde8a703",
   "metadata": {},
   "source": [
    "- In NumPy, there are two main ways to create a copy of an array:  ```\"shallow copy\" and  \"deep copy\"```.\n",
    "- A shallow copy is created using the ```view()``` method or by simply assigning the array to a new variable.\n",
    "- A deep copy, on the other hand, creates a new array object with its own data. You can create a deep copy using the ```copy()``` method."
   ]
  },
  {
   "attachments": {},
   "cell_type": "markdown",
   "id": "fe9ba205",
   "metadata": {},
   "source": [
    "**Copy:**   \n",
    "The copy owns the data and any changes made to the copy will not affect original array, and any changes made to the original array will not be affected to the copy."
   ]
  },
  {
   "attachments": {},
   "cell_type": "markdown",
   "id": "07b7871b",
   "metadata": {},
   "source": [
    "**View:**   \n",
    "The view does not own the data and any changes made to the view will affect the original array, and any changes made to the original will affect the view."
   ]
  },
  {
   "attachments": {},
   "cell_type": "markdown",
   "id": "1377252b",
   "metadata": {},
   "source": [
    "#### NumPy Array View\n",
    "- A view of an array is a new array object that shares the same data with the original array. \n",
    "- Any changes made to the view will also affect the original array. \n",
    "- In NumPy, you can create a view of an array using the ```view()``` method. "
   ]
  },
  {
   "cell_type": "code",
   "execution_count": 1,
   "id": "5dfb53fc",
   "metadata": {},
   "outputs": [
    {
     "name": "stdout",
     "output_type": "stream",
     "text": [
      "[0 2 3]\n"
     ]
    }
   ],
   "source": [
    "#Example of numPy View creation\n",
    "import numpy as np\n",
    "\n",
    "a = np.array([1, 2, 3])\n",
    "b = a.view()\n",
    "\n",
    "b[0] = 0\n",
    "\n",
    "print(a)"
   ]
  },
  {
   "attachments": {},
   "cell_type": "markdown",
   "id": "b67ce9ce",
   "metadata": {},
   "source": [
    "#### NumPy Array Copy\n",
    "- A copy of an array is a new array with its own data, and changes made to the copy do not affect the original array. \n",
    "- In NumPy, you can create a copy of an array using the ```copy()``` method."
   ]
  },
  {
   "cell_type": "code",
   "execution_count": 2,
   "id": "7ab87acd",
   "metadata": {},
   "outputs": [
    {
     "name": "stdout",
     "output_type": "stream",
     "text": [
      "[1 2 3]\n"
     ]
    }
   ],
   "source": [
    "#Example of numPy Copy creation\n",
    "import numpy as np\n",
    "\n",
    "a = np.array([1, 2, 3])\n",
    "b = a.copy()\n",
    "\n",
    "b[0] = 0\n",
    "# In this case, changing the first element of b did not affect the first element of a.\n",
    "print(a)"
   ]
  },
  {
   "attachments": {},
   "cell_type": "markdown",
   "id": "0804e860",
   "metadata": {},
   "source": [
    "### Example Code to peform Array Checks:\n",
    "*Check if an Array Owns the data that it's copy owns, and the view does not own the original array's data.*\n",
    "\n",
    "*Every NumPy array has the attribute base that returns None if the array owns the data.*\n",
    "\n",
    "*Otherwise, the base  attribute refers to the original object.*"
   ]
  },
  {
   "cell_type": "code",
   "execution_count": 3,
   "id": "dcadc2c1",
   "metadata": {},
   "outputs": [
    {
     "name": "stdout",
     "output_type": "stream",
     "text": [
      "NumPy Copy Output:  None\n",
      "NumPy View Output:  [1 2 3 4 5]\n"
     ]
    }
   ],
   "source": [
    "#Print the value of the base attribute to check if an array owns it's data or not:\n",
    "\n",
    "import numpy as np\n",
    "\n",
    "arr = np.array([1, 2, 3, 4, 5])\n",
    "\n",
    "x = arr.copy()\n",
    "y = arr.view()\n",
    "\n",
    "print('NumPy Copy Output: ',x.base) # as x is a copy & it owns the data it holds\n",
    "print('NumPy View Output: ',y.base) # as y is a view of arr & it doesn't owns the data it holds"
   ]
  },
  {
   "attachments": {},
   "cell_type": "markdown",
   "id": "d64f46f3",
   "metadata": {},
   "source": [
    "> *1-dimensional NumPy Array as highlighted in the below image*\n",
    "\n",
    "<br>\n",
    "<img src=\"images/1-D-Array.png\" alt=\"Drawing\" style=\"width: 300px;\" align=\"center\"/>\n",
    "<br>\n",
    "<br>\n",
    "<hr>"
   ]
  },
  {
   "attachments": {},
   "cell_type": "markdown",
   "id": "97d801a8",
   "metadata": {},
   "source": [
    "# Copying and changing the array"
   ]
  },
  {
   "cell_type": "code",
   "execution_count": 4,
   "id": "9f046c08",
   "metadata": {},
   "outputs": [
    {
     "name": "stdout",
     "output_type": "stream",
     "text": [
      "[42  2  3  4  5]\n",
      "[1 2 3 4 5]\n"
     ]
    }
   ],
   "source": [
    "# Examples of NumPy Copy & Change\n",
    "import numpy as np\n",
    "\n",
    "arr = np.array([1, 2, 3, 4, 5])\n",
    "# copying the original array\n",
    "x = arr.copy()\n",
    "# changing the original array\n",
    "arr[0] = 42\n",
    "\n",
    "print(arr)\n",
    "print(x)\n"
   ]
  },
  {
   "attachments": {},
   "cell_type": "markdown",
   "id": "dc654671",
   "metadata": {},
   "source": [
    "<br>\n",
    "<img src=\"images/ex-5.png\" alt=\"Drawing\" style=\"width: 300px;\" align=\"center\"/>\n",
    "<br>\n",
    "<br>\n",
    "<hr>"
   ]
  },
  {
   "attachments": {},
   "cell_type": "markdown",
   "id": "03629cf8",
   "metadata": {},
   "source": [
    "# Make Changes in the View"
   ]
  },
  {
   "cell_type": "code",
   "execution_count": 5,
   "id": "651c4f2d",
   "metadata": {},
   "outputs": [
    {
     "name": "stdout",
     "output_type": "stream",
     "text": [
      "[1 2 3 4 5]\n",
      "[31  2  3  4  5]\n"
     ]
    }
   ],
   "source": [
    "# Make a view, change the view, and display both arrays:\n",
    "\n",
    "import numpy as np\n",
    "\n",
    "arr = np.array([1, 2, 3, 4, 5])\n",
    "x = arr.view()\n",
    "print(arr)\n",
    "x[0] = 31\n",
    "\n",
    "print(x)"
   ]
  },
  {
   "attachments": {},
   "cell_type": "markdown",
   "id": "501fcde4",
   "metadata": {},
   "source": [
    "# NumPy Array : Copy vs View"
   ]
  },
  {
   "attachments": {},
   "cell_type": "markdown",
   "id": "bcc8498b",
   "metadata": {},
   "source": [
    "**The main difference between a copy and a view of an array is that the copy is a new array, and the view is just a view of the original array.**\n",
    "\n",
    "**The copy owns the data and any changes made to the copy will not affect original array, and any changes made to the original array will not affect the copy.**\n",
    "\n",
    "**The view does not own the data and any changes made to the view will affect the original array, and any changes made to the original array will affect the view.**\n"
   ]
  },
  {
   "cell_type": "code",
   "execution_count": 6,
   "id": "888b34f6",
   "metadata": {},
   "outputs": [
    {
     "name": "stdout",
     "output_type": "stream",
     "text": [
      "[42  2  3  4  5]\n",
      "[1 2 3 4 5]\n"
     ]
    }
   ],
   "source": [
    "## COPY:\n",
    "## Make a copy, change the original array, and display both arrays:\n",
    "\n",
    "import numpy as np\n",
    "\n",
    "arr = np.array([1, 2, 3, 4, 5])\n",
    "x = arr.copy()\n",
    "arr[0] = 42\n",
    "\n",
    "print(arr)\n",
    "print(x)"
   ]
  },
  {
   "cell_type": "code",
   "execution_count": 7,
   "id": "f67e802b",
   "metadata": {},
   "outputs": [
    {
     "name": "stdout",
     "output_type": "stream",
     "text": [
      "[1 2 3 4 5]\n",
      "[42  2  3  4  5]\n"
     ]
    }
   ],
   "source": [
    "# VIEW:\n",
    "# Make a view, change the original array, and display both arrays:\n",
    "\n",
    "import numpy as np\n",
    "\n",
    "arr = np.array([1, 2, 3, 4, 5])\n",
    "x = arr.view()\n",
    "print(arr)\n",
    "arr[0] = 42\n",
    "\n",
    "\n",
    "print(x)"
   ]
  },
  {
   "attachments": {},
   "cell_type": "markdown",
   "id": "ec748733",
   "metadata": {},
   "source": [
    "<hr>"
   ]
  },
  {
   "attachments": {},
   "cell_type": "markdown",
   "id": "1c2d46b3",
   "metadata": {},
   "source": [
    "# 2. Reshaping & Flattening the NumPy arrays\n",
    "\n",
    "- **Reshaping an array refers to changing its shape or dimensions without changing its total number of elements.**<br>\n",
    "- **Flattening array means converting a multidimensional array into a 1D array.**"
   ]
  },
  {
   "cell_type": "code",
   "execution_count": 8,
   "id": "0df426dd",
   "metadata": {},
   "outputs": [
    {
     "name": "stdout",
     "output_type": "stream",
     "text": [
      "[[[1 2]\n",
      "  [3 4]]\n",
      "\n",
      " [[5 6]\n",
      "  [7 8]]]\n"
     ]
    }
   ],
   "source": [
    "# Convert 1D array with 8 elements to 3D array with 2x2 elements:\n",
    "\n",
    "import numpy as np\n",
    "\n",
    "arr = np.array([1, 2, 3, 4, 5, 6, 7, 8])\n",
    "\n",
    "newarr = arr.reshape(2, 2, -1)\n",
    "\n",
    "print(newarr)"
   ]
  },
  {
   "attachments": {},
   "cell_type": "markdown",
   "id": "ef794bbe",
   "metadata": {},
   "source": [
    "**Flattening array means converting a multidimensional array into a 1D array.**\n",
    "\n",
    "**We can use reshape(-1) to do this.**"
   ]
  },
  {
   "cell_type": "code",
   "execution_count": 9,
   "id": "1c8c7af7",
   "metadata": {},
   "outputs": [
    {
     "name": "stdout",
     "output_type": "stream",
     "text": [
      "[1 2 3 4 5 6]\n"
     ]
    }
   ],
   "source": [
    "# Convert the array into a 1D array:\n",
    "\n",
    "import numpy as np\n",
    "\n",
    "arr = np.array([[1, 2, 3], [4, 5, 6]])\n",
    "\n",
    "newarr = arr.reshape(-1)\n",
    "\n",
    "print(newarr)"
   ]
  },
  {
   "attachments": {
    "Untitled%20Diagram%20%2816%29.jpg": {
     "image/jpeg": "[encoded data removed]"
    }
   },
   "cell_type": "markdown",
   "id": "9b0a4932",
   "metadata": {},
   "source": [
    "![Untitled%20Diagram%20%2816%29.jpg](attachment:Untitled%20Diagram%20%2816%29.jpg)"
   ]
  },
  {
   "attachments": {},
   "cell_type": "markdown",
   "id": "c6ed9d6d",
   "metadata": {},
   "source": [
    "<hr>"
   ]
  },
  {
   "attachments": {},
   "cell_type": "markdown",
   "id": "5fd015ef",
   "metadata": {},
   "source": [
    "# 3. Sorting the NumPy Arrays"
   ]
  },
  {
   "cell_type": "markdown",
   "id": "96bb41b3",
   "metadata": {},
   "source": [
    "**Sorting means putting elements in an ordered sequence.**\n",
    "\n",
    "**Ordered sequence is any sequence that has an order corresponding to elements, like numeric or alphabetical, ascending or descending.**\n",
    "\n",
    "**The NumPy ndarray object has a function called sort(), that will sort a specified array.**"
   ]
  },
  {
   "cell_type": "code",
   "execution_count": 10,
   "id": "64f1f0f7",
   "metadata": {},
   "outputs": [
    {
     "name": "stdout",
     "output_type": "stream",
     "text": [
      "[0 1 2 3]\n"
     ]
    }
   ],
   "source": [
    "#Sort the array:\n",
    "\n",
    "import numpy as np\n",
    "\n",
    "arr = np.array([3, 2, 0, 1])\n",
    "\n",
    "print(np.sort(arr))\n"
   ]
  },
  {
   "attachments": {
    "Untitled%20Diagram%20%2818%29.jpg": {
     "image/jpeg": "[encoded data removed]"
    }
   },
   "cell_type": "markdown",
   "id": "d8b99a97",
   "metadata": {},
   "source": [
    "![Untitled%20Diagram%20%2818%29.jpg](attachment:Untitled%20Diagram%20%2818%29.jpg)"
   ]
  },
  {
   "cell_type": "code",
   "execution_count": 11,
   "id": "d596e333",
   "metadata": {},
   "outputs": [
    {
     "name": "stdout",
     "output_type": "stream",
     "text": [
      "['apple' 'banana' 'cherry']\n"
     ]
    }
   ],
   "source": [
    "# Sort the array alphabetically:\n",
    "\n",
    "import numpy as np\n",
    "\n",
    "arr = np.array(['banana', 'cherry', 'apple'])\n",
    "\n",
    "print(np.sort(arr))"
   ]
  },
  {
   "attachments": {},
   "cell_type": "markdown",
   "id": "b91f057f",
   "metadata": {},
   "source": [
    "#### Sorting a 2-D Array\n"
   ]
  },
  {
   "cell_type": "code",
   "execution_count": 12,
   "id": "a4d05c07",
   "metadata": {},
   "outputs": [
    {
     "name": "stdout",
     "output_type": "stream",
     "text": [
      "[[2 3 4]\n",
      " [0 1 5]]\n"
     ]
    }
   ],
   "source": [
    "# If you use the sort() method on a 2-D array, all the rows of that 2-D array will be sorted:\n",
    "\n",
    "# Sort a 2-D array :\n",
    "\n",
    "import numpy as np\n",
    "\n",
    "arr = np.array([[3, 2, 4], [5, 0, 1]])\n",
    "\n",
    "print(np.sort(arr))"
   ]
  },
  {
   "attachments": {},
   "cell_type": "markdown",
   "id": "c244faa7",
   "metadata": {},
   "source": [
    "<hr>"
   ]
  },
  {
   "attachments": {},
   "cell_type": "markdown",
   "id": "6e96d1a3",
   "metadata": {},
   "source": [
    "# 4. Introduction to openCV-Python"
   ]
  },
  {
   "attachments": {},
   "cell_type": "markdown",
   "id": "f76c39cf",
   "metadata": {},
   "source": [
    "openCV was initailly developed in c++ a very fast compiled language as compared to the slow nature of python. But due to the simplicity of python and the ease of use, a wrapper was developed for python around the original openCV c++ code. Which allowed the users to make the best of both world. A wrapper in simple terms means that the user will be writing the code in python but in the backend the code will be executed in c++ which made the code execution faster."
   ]
  },
  {
   "attachments": {},
   "cell_type": "markdown",
   "id": "a4d741c0",
   "metadata": {},
   "source": [
    "## Installing openCV"
   ]
  },
  {
   "attachments": {},
   "cell_type": "markdown",
   "id": "ba471f3e",
   "metadata": {},
   "source": [
    "- for windows users <br>\n",
    "**`pip install opencv-python`**\n",
    "\n",
    "<br>\n",
    "\n",
    "- for mac users <br>\n",
    "**`pip3 install opencv-python`**"
   ]
  },
  {
   "attachments": {},
   "cell_type": "markdown",
   "id": "3ec916d7",
   "metadata": {},
   "source": [
    "## Understanding Images\n",
    "Before we start with image processing we must understand what an image is.<br><br>\n",
    "#### Below Image shows a zoomed in image of a mouse pointer with white edges on the screen.\n",
    "\n",
    "<div>\n",
    "<img src=\"Images/Image-3.png\" width=\"800\" align=\"center\"/>\n",
    "</div>\n",
    "\n",
    "Wait but the edges of the mouse is not white!!<br>\n",
    "\n",
    "The white color is the result of the RGB sub-pixel colors mixing together as they are close to each other. Red Green and Blue being the primary colors we can create any color on the screen by manipulating the brightness of each sub-pixel."
   ]
  },
  {
   "attachments": {},
   "cell_type": "markdown",
   "id": "d22c6253",
   "metadata": {},
   "source": [
    "- A standard monitor supports 256 levels of brightness for every sub-pixel. So by manipulating the RGB sub-pixels we can create a total number of $256^{3}$ colors.\n",
    "- A subpixel brightness of 0 denotes that the subpixel is entirely turned off while a value of 255 denotes the subpixel is completely turned on.\n",
    "\n",
    "You can use the below link to check out a RGB color picker which allows you to chose the RGB brightness to create a new color.\n",
    "https://programmingdesignsystems.com/color/color-models-and-color-spaces/index.html"
   ]
  },
  {
   "attachments": {},
   "cell_type": "markdown",
   "id": "81c5abec",
   "metadata": {},
   "source": [
    "**An image on the screen can be represented using a 3D numpy array having the number of rows and columns equal to the height and the width of the image and the third dimension representing the RGB subpixel values**\n",
    "<div>\n",
    "<img src=\"Images/Image-4.png\" width=\"400\" align=\"center\"/>\n",
    "</div>"
   ]
  },
  {
   "attachments": {},
   "cell_type": "markdown",
   "id": "4976733f",
   "metadata": {},
   "source": [
    "<hr>"
   ]
  },
  {
   "attachments": {},
   "cell_type": "markdown",
   "id": "62576b3e",
   "metadata": {},
   "source": [
    "# 5. OpenCV Topics - vstack, hstack, indexing, cropping, slicing,filtering."
   ]
  },
  {
   "attachments": {},
   "cell_type": "markdown",
   "id": "8a98511b",
   "metadata": {},
   "source": [
    "#### 5.1 OpenCV and NumPy Operations: **vstack**"
   ]
  },
  {
   "attachments": {},
   "cell_type": "markdown",
   "id": "a34987cd",
   "metadata": {},
   "source": [
    "To use OpenCV's vstack function to stack two images vertically using NumPy, you can follow these steps:\n",
    " 1. Import the necessary libraries\n",
    " 2. Load your images using ```cv2.imread```\n",
    " 3. Resize the images to have the same width\n",
    " 4. Stack the images vertically using ```np.vstack```\n",
    " 5. Display the stacked image using ```cv2.imshow```"
   ]
  },
  {
   "cell_type": "code",
   "execution_count": 5,
   "id": "99c1eb11",
   "metadata": {},
   "outputs": [],
   "source": [
    "# OpenCV's vstack function : \n",
    "\n",
    "import cv2\n",
    "import numpy as np\n",
    "\n",
    "img1 = cv2.imread('Images/image1.png')\n",
    "img2 = cv2.imread('Images/image2.png')\n",
    "\n",
    "height, width = img1.shape[:2]\n",
    "img2 = cv2.resize(img2, (width, height))\n",
    "\n",
    "stacked_img = np.vstack((img1, img2))\n",
    "\n",
    "cv2.imshow('Stacked Image', stacked_img)\n",
    "cv2.waitKey(0)\n",
    "cv2.destroyAllWindows()"
   ]
  },
  {
   "attachments": {},
   "cell_type": "markdown",
   "id": "d19abbea",
   "metadata": {},
   "source": [
    "<img src=\"Images/Image-stacked.png\" width=\"400\" align=\"center\"/>"
   ]
  },
  {
   "attachments": {},
   "cell_type": "markdown",
   "id": "87eea127",
   "metadata": {},
   "source": [
    "#### 5.2 OpenCV and NumPy Operations: **hstack**"
   ]
  },
  {
   "attachments": {},
   "cell_type": "markdown",
   "id": "eab11662",
   "metadata": {},
   "source": [
    "- To use OpenCV's hstack function to stack two images horizontally using NumPy."
   ]
  },
  {
   "cell_type": "code",
   "execution_count": 13,
   "id": "b2135041",
   "metadata": {},
   "outputs": [],
   "source": [
    "# OpenCV's hstack function\n",
    "import cv2\n",
    "import numpy as np\n",
    "\n",
    "img1 = cv2.imread('Images/image1.png')\n",
    "img2 = cv2.imread('Images/image2.png')\n",
    "\n",
    "height, width = img1.shape[:2]\n",
    "img2 = cv2.resize(img2, (width, height))\n",
    "\n",
    "stacked_img = np.hstack((img1, img2))\n",
    "\n",
    "cv2.imshow('Stacked Image', stacked_img)\n",
    "cv2.waitKey(0)\n",
    "cv2.destroyAllWindows()"
   ]
  },
  {
   "attachments": {},
   "cell_type": "markdown",
   "id": "4f05cc90",
   "metadata": {},
   "source": [
    "<img src=\"Images/Image-stacked2.png\" width=\"800\" align=\"center\"/>"
   ]
  },
  {
   "attachments": {},
   "cell_type": "markdown",
   "id": "74988133",
   "metadata": {},
   "source": [
    "#### 5.3 OpenCV and NumPy Operations: **indexing**"
   ]
  },
  {
   "attachments": {},
   "cell_type": "markdown",
   "id": "730bf878",
   "metadata": {},
   "source": [
    "- We first load an image using OpenCV and display it. \n",
    "- Then, we convert the image to grayscale using OpenCV's cvtColor function. \n",
    "- We then get the dimensions of the grayscale image and create a new NumPy array of zeros with the same dimensions. \n",
    "- We then loop through each pixel in the grayscale image and set the corresponding pixel in the new NumPy array. \n",
    "- Finally, we display and save the new image."
   ]
  },
  {
   "cell_type": "code",
   "execution_count": 11,
   "id": "61293e92",
   "metadata": {},
   "outputs": [],
   "source": [
    "import cv2\n",
    "import numpy as np\n",
    "\n",
    "# Load an image using OpenCV\n",
    "img = cv2.imread('Images\\\\example.jpg')\n",
    "\n",
    "# Display the image\n",
    "cv2.imshow('image', img)\n",
    "##cv2.waitKey(0)\n",
    "\n",
    "# Convert the image to grayscale\n",
    "gray = cv2.cvtColor(img, cv2.COLOR_BGR2GRAY)\n",
    "\n",
    "# Display the grayscale image\n",
    "cv2.imshow('gray', gray)\n",
    "##cv2.waitKey(0)\n",
    "\n",
    "# Get the dimensions of the grayscale image\n",
    "height, width = gray.shape\n",
    "\n",
    "# Create a new NumPy array of zeros with the same dimensions as the grayscale image\n",
    "new_img = np.zeros((height, width), dtype=np.uint8)\n",
    "\n",
    "# Loop through each pixel in the grayscale image and set the corresponding pixel in the new image\n",
    "for i in range(height):\n",
    "    for j in range(width):\n",
    "        new_img[i][j] = gray[i][j]\n",
    "\n",
    "# Display the new image\n",
    "cv2.imshow('new_img', new_img)\n",
    "cv2.waitKey(0)\n",
    "\n",
    "# Save the new image\n",
    "cv2.imwrite('new_img.jpg', new_img)\n",
    "\n",
    "# Release all windows\n",
    "cv2.destroyAllWindows()"
   ]
  },
  {
   "attachments": {},
   "cell_type": "markdown",
   "id": "c8721257",
   "metadata": {},
   "source": [
    "<img src=\"Images/Image-indexed2.png\" width=\"500\" align=\"center\"/>"
   ]
  },
  {
   "attachments": {},
   "cell_type": "markdown",
   "id": "3e38ad37",
   "metadata": {},
   "source": [
    "#### 5.4 OpenCV and NumPy Operations: **Crop using indexing**"
   ]
  },
  {
   "attachments": {},
   "cell_type": "markdown",
   "id": "8d6c84db",
   "metadata": {},
   "source": [
    "- Using NumPy and OpenCV together, we convert images from OpenCV format to NumPy arrays,using Indexing we perform our desired operations like Cropping, and then convert the arrays back to OpenCV format."
   ]
  },
  {
   "cell_type": "code",
   "execution_count": 31,
   "id": "cf2bb111",
   "metadata": {},
   "outputs": [],
   "source": [
    "import cv2\n",
    "import numpy as np\n",
    "\n",
    "# Load image using OpenCV\n",
    "img = cv2.imread('Images\\\\example.jpg')\n",
    "\n",
    "# Convert image to NumPy array\n",
    "img_array = np.array(img)\n",
    "\n",
    "# Slice the image using NumPy array indexing\n",
    "cropped = img_array[100:200, 150:800]\n",
    "\n",
    "# Convert the sliced array back to OpenCV format\n",
    "cropped_img = cv2.cvtColor(np.uint8(cropped), cv2.COLOR_RGB2BGR)\n",
    "\n",
    "# Perform NumPy operations on the image\n",
    "gray_img = cv2.cvtColor(img, cv2.COLOR_BGR2GRAY)\n",
    "##blurred = cv2.GaussianBlur(gray_img, (5, 5), 0)\n",
    "\n",
    "# Show the original image, cropped image, and blurred image\n",
    "cv2.imshow('Original', img)\n",
    "cv2.imshow('Cropped', cropped_img)\n",
    "##cv2.imshow('Blurred', blurred)\n",
    "cv2.waitKey(0)\n",
    "cv2.destroyAllWindows()"
   ]
  },
  {
   "attachments": {},
   "cell_type": "markdown",
   "id": "92549c26",
   "metadata": {},
   "source": [
    "<img src=\"Images/Image-cropped2.png\" width=\"500\" align=\"center\"/>"
   ]
  },
  {
   "attachments": {},
   "cell_type": "markdown",
   "id": "e1b6c2b9",
   "metadata": {},
   "source": [
    "#### 5.5 OpenCV and NumPy Operations: **Cropping Numpy Zeros**"
   ]
  },
  {
   "cell_type": "code",
   "execution_count": 34,
   "id": "1aa39065",
   "metadata": {},
   "outputs": [],
   "source": [
    "import cv2\n",
    "import numpy as np\n",
    "\n",
    "# Create a black image using np.zeros\n",
    "img = np.zeros((500, 500, 3), dtype=np.uint8)\n",
    "\n",
    "# Draw a rectangle on the image using OpenCV\n",
    "cv2.rectangle(img, (100, 100), (400, 400), (0, 255, 0), thickness=2)\n",
    "\n",
    "# Crop the image using NumPy array slicing\n",
    "cropped_img = img[100:400, 100:400]\n",
    "\n",
    "# Display the original and cropped images\n",
    "cv2.imshow('Original Image', img)\n",
    "cv2.imshow('Cropped Image', cropped_img)\n",
    "cv2.waitKey(0)\n",
    "cv2.destroyAllWindows()"
   ]
  },
  {
   "attachments": {},
   "cell_type": "markdown",
   "id": "8d57cb4c",
   "metadata": {},
   "source": [
    "<img src=\"Images/Image-cropped.png\" width=\"500\" align=\"center\"/>"
   ]
  },
  {
   "attachments": {},
   "cell_type": "markdown",
   "id": "dbe42368",
   "metadata": {},
   "source": [
    "#### 5.6 OpenCV and NumPy Operations: **Extracting Channel using indexing**"
   ]
  },
  {
   "attachments": {},
   "cell_type": "markdown",
   "id": "d8534b9e",
   "metadata": {},
   "source": [
    "**CODE EXPLANATION:<br>**\n",
    "- We load an image using OpenCV's imread() function, then convert it to grayscale using the cvtColor() function. We then create two modified copies of the image using NumPy indexing: one that contains only the blue channel, and one that has the red and green channels inverted.\n",
    "\n",
    "- To extract the blue channel, we create a copy of the image using the copy() method, then set the green and red channels to 0 using NumPy indexing: blue_img[:, :, 1] = 0 sets the green channel to 0, and blue_img[:, :, 2] = 0 sets the red channel to 0.\n",
    "\n",
    "- To invert the red and green channels, we create another copy of the image using the copy() method, then subtract each channel from 255 using NumPy indexing: inverted_img[:, :, :2] = 255 - inverted_img[:, :, :2] subtracts each pixel value in the red and green channels from 255, effectively inverting their colors."
   ]
  },
  {
   "cell_type": "code",
   "execution_count": 32,
   "id": "003eedc1",
   "metadata": {},
   "outputs": [],
   "source": [
    "import cv2\n",
    "import numpy as np\n",
    "\n",
    "# Load an image using OpenCV\n",
    "img = cv2.imread('Images\\\\example.jpg')\n",
    "\n",
    "# Convert the image to grayscale\n",
    "gray_img = cv2.cvtColor(img, cv2.COLOR_BGR2GRAY)\n",
    "\n",
    "# Create a copy of the image with only the blue channel\n",
    "blue_img = img.copy()\n",
    "blue_img[:, :, 1] = 0 # setting the green channel zero\n",
    "blue_img[:, :, 2] = 0 # setting the red channel zero\n",
    "\n",
    "# blue_img[:, :, 0] = 0 # for setting the blue channel zero\n",
    "\n",
    "# Create a copy of the image with the red and green channels inverted\n",
    "inverted_img = img.copy()\n",
    "inverted_img[:, :, :2] = 255 - inverted_img[:, :, :2]\n",
    "\n",
    "# Display the original image and the modified images using OpenCV\n",
    "cv2.imshow('Original Image', img)\n",
    "cv2.imshow('Grayscale Image', gray_img)\n",
    "cv2.imshow('Blue Channel Image', blue_img)\n",
    "cv2.imshow('Inverted Image', inverted_img)\n",
    "cv2.waitKey(0)\n",
    "cv2.destroyAllWindows()"
   ]
  },
  {
   "attachments": {},
   "cell_type": "markdown",
   "id": "f8d24f7c",
   "metadata": {},
   "source": [
    "<img src=\"Images/Image-indexed.png\" width=\"500\" align=\"center\"/>"
   ]
  },
  {
   "attachments": {},
   "cell_type": "markdown",
   "id": "4e8c3e34",
   "metadata": {},
   "source": [
    "#### 5.7 OpenCV and NumPy Operations: **Cropping & Patching**"
   ]
  },
  {
   "cell_type": "code",
   "execution_count": null,
   "id": "817b058b",
   "metadata": {},
   "outputs": [],
   "source": [
    "import cv2\n",
    "\n",
    "img =  cv2.imread(\"Images\\\\test_image.jpg\")\n",
    "image_copy = img.copy() \n",
    "print(img.shape)\n",
    "\n",
    "#Set height and width to image height and width\n",
    "imgheight=img.shape[0]\n",
    "imgwidth=img.shape[1]\n",
    "\n",
    "M = 76\n",
    "N = 104\n",
    "x1 = 0\n",
    "y1 = 0\n",
    "\n",
    "for y in range(0, imgheight, M):\n",
    "    for x in range(0, imgwidth, N):\n",
    "        if (imgheight - y) < M or (imgwidth - x) < N:\n",
    "            break\n",
    "            \n",
    "        y1 = y + M\n",
    "        x1 = x + N\n",
    "\n",
    "        # check whether the patch width or height exceeds the image width or height\n",
    "        if x1 >= imgwidth and y1 >= imgheight:\n",
    "            x1 = imgwidth - 1\n",
    "            y1 = imgheight - 1\n",
    "            #Crop into patches of size MxN\n",
    "            tiles = image_copy[y:y+M, x:x+N]\n",
    "            #Save each patch into file directory\n",
    "            cv2.imwrite('Images\\\\'+'tile'+str(x)+'_'+str(y)+'.jpg', tiles)\n",
    "            cv2.imshow('Images\\\\'+'tile'+str(x)+'_'+str(y)+'.jpg', tiles)\n",
    "            cv2.rectangle(img, (x, y), (x1, y1), (0, 255, 0), 1)\n",
    "        elif y1 >= imgheight: # when patch height exceeds the image height\n",
    "            y1 = imgheight - 1\n",
    "            #Crop into patches of size MxN\n",
    "            tiles = image_copy[y:y+M, x:x+N]\n",
    "            #Save each patch into file directory\n",
    "            cv2.imwrite('Images\\\\'+'tile'+str(x)+'_'+str(y)+'.jpg', tiles)\n",
    "            cv2.imshow('Images\\\\'+'tile'+str(x)+'_'+str(y)+'.jpg', tiles)\n",
    "            cv2.rectangle(img, (x, y), (x1, y1), (0, 255, 0), 1)\n",
    "        elif x1 >= imgwidth: # when patch width exceeds the image width\n",
    "            x1 = imgwidth - 1\n",
    "            #Crop into patches of size MxN\n",
    "            tiles = image_copy[y:y+M, x:x+N]\n",
    "            #Save each patch into file directory\n",
    "            cv2.imwrite('Images\\\\'+'tile'+str(x)+'_'+str(y)+'.jpg', tiles)\n",
    "            cv2.imshow('Images\\\\'+'tile'+str(x)+'_'+str(y)+'.jpg', tiles)\n",
    "            cv2.rectangle(img, (x, y), (x1, y1), (0, 255, 0), 1)\n",
    "        else:\n",
    "            #Crop into patches of size MxN\n",
    "            tiles = image_copy[y:y+M, x:x+N]\n",
    "            #Save each patch into file directory\n",
    "            cv2.imwrite('Images\\\\'+'tile'+str(x)+'_'+str(y)+'.jpg', tiles)\n",
    "            cv2.imshow('Images\\\\'+'tile'+str(x)+'_'+str(y)+'.jpg', tiles)\n",
    "            cv2.rectangle(img, (x, y), (x1, y1), (0, 255, 0), 1)\n",
    "        \n",
    "#Output Patched image\n",
    "cv2.imshow(\"Patched Image\",img)\n",
    "\n",
    "cv2.waitKey()\n",
    "cv2.destroyAllWindows()\n"
   ]
  },
  {
   "attachments": {},
   "cell_type": "markdown",
   "id": "793d8045",
   "metadata": {},
   "source": [
    "<img src=\"Images/Image-sliced-patched.png\" width=\"500\" align=\"center\"/>"
   ]
  },
  {
   "attachments": {},
   "cell_type": "markdown",
   "id": "849a89f4",
   "metadata": {},
   "source": [
    "#### 5.7 OpenCV and NumPy Operations: **Gray Slicing**"
   ]
  },
  {
   "cell_type": "code",
   "execution_count": 14,
   "id": "a5b2feb1",
   "metadata": {},
   "outputs": [],
   "source": [
    "import cv2\n",
    "import numpy as np\n",
    "\n",
    "img = cv2.imread('Images\\\\Image-background.png', 0)\n",
    "\n",
    "#  Find width and height of image\n",
    "row, column= img.shape\n",
    "\n",
    "#  Create an zeros array to store the sliced image\n",
    "img1 = np.zeros((row,column),dtype = 'uint8')\n",
    "\n",
    "#  Specify the min and max range\n",
    "min_range = 80\n",
    "max_range = 140\n",
    "\n",
    "# Loop over the input image and if pixel value lies in desired range set it to 255 \n",
    "# otherwise set it to desired value\n",
    "for i in range(row):\n",
    "    for j in range(column):\n",
    "        if img[i,j]>min_range and img[i,j]<max_range: \n",
    "            img1[i,j] = 255\n",
    "        else: \n",
    "            img1[i,j] = img[i-1,j-1] \n",
    "\n",
    "cv2.imshow('Image-Original.jpg', img)\n",
    "cv2.imshow('Image-Slicedimage.jpg', img1)\n",
    "cv2.waitKey(0)\n",
    "cv2.destroyAllWindows()"
   ]
  },
  {
   "attachments": {},
   "cell_type": "markdown",
   "id": "7965d254",
   "metadata": {},
   "source": [
    "<img src=\"Images/Image-Sliced.png\" width=\"500\" align=\"center\"/>"
   ]
  },
  {
   "attachments": {},
   "cell_type": "markdown",
   "id": "cfb169ad",
   "metadata": {},
   "source": [
    "#### 5.7 OpenCV and NumPy Operations: **Tile Slicing** - CHECK IF REMOVE"
   ]
  },
  {
   "cell_type": "code",
   "execution_count": 8,
   "id": "a03b793f",
   "metadata": {},
   "outputs": [
    {
     "name": "stderr",
     "output_type": "stream",
     "text": [
      "<ipython-input-8-61d5564b9bd8>:18: VisibleDeprecationWarning: Creating an ndarray from ragged nested sequences (which is a list-or-tuple of lists-or-tuples-or ndarrays with different lengths or shapes) is deprecated. If you meant to do this, you must specify 'dtype=object' when creating the ndarray.\n",
      "  tiles_array = np.array(tiles)\n"
     ]
    }
   ],
   "source": [
    "import cv2\n",
    "import numpy as np\n",
    "\n",
    "# Load the image\n",
    "img = cv2.imread('Images\\\\clahe.jpg')\n",
    "cv2.imshow('Original Image', img)\n",
    "# Define the size of each tile\n",
    "tile_size = (256, 256)\n",
    "\n",
    "# Slice the image into tiles\n",
    "tiles = []\n",
    "for i in range(0, img.shape[0], tile_size[0]):\n",
    "    for j in range(0, img.shape[1], tile_size[1]):\n",
    "        tile = img[i:i+tile_size[0], j:j+tile_size[1]]\n",
    "        tiles.append(tile)\n",
    "\n",
    "# Convert the list of tiles to a NumPy array\n",
    "tiles_array = np.array(tiles)\n",
    "\n",
    "# Display the first tile\n",
    "\n",
    "cv2.imshow('Tile 0', tiles_array[0])\n",
    "cv2.imshow('Tile 1', tiles_array[1])\n",
    "\n",
    "cv2.waitKey(0)\n",
    "cv2.destroyAllWindows()"
   ]
  },
  {
   "attachments": {},
   "cell_type": "markdown",
   "id": "1e1ceda2",
   "metadata": {},
   "source": [
    "#### 5.8 OpenCV and NumPy Operations: **Masking using Filtering**"
   ]
  },
  {
   "cell_type": "code",
   "execution_count": 13,
   "id": "958b8c99",
   "metadata": {},
   "outputs": [],
   "source": [
    "import cv2\n",
    "import numpy as np\n",
    "  \n",
    "img = cv2.imread('Images\\\\example.jpg')\n",
    "  \n",
    "##while(1):\n",
    "##    _, frame = cap.read()\n",
    "# It converts the BGR color space of image to HSV color space\n",
    "hsv = cv2.cvtColor(img, cv2.COLOR_BGR2HSV)\n",
    "    \n",
    "# Threshold of blue in HSV space\n",
    "lower_blue = np.array([60, 35, 140])\n",
    "upper_blue = np.array([180, 255, 255])\n",
    "\n",
    "# preparing the mask to overlay\n",
    "mask = cv2.inRange(hsv, lower_blue, upper_blue)\n",
    "    \n",
    "# The black region in the mask has the value of 0,\n",
    "# so when multiplied with original image removes all non-blue regions\n",
    "result = cv2.bitwise_and(img, img, mask = mask)\n",
    "\n",
    "cv2.imshow('Original Image', img)\n",
    "cv2.imshow('mask Image', mask)\n",
    "cv2.imshow('result Image', result)\n",
    "    \n",
    "cv2.waitKey(0)\n",
    "  \n",
    "cv2.destroyAllWindows()\n"
   ]
  },
  {
   "attachments": {},
   "cell_type": "markdown",
   "id": "ee195bdf",
   "metadata": {},
   "source": [
    "<img src=\"Images/Image-filtered.png\" width=\"500\" align=\"center\"/>"
   ]
  },
  {
   "attachments": {},
   "cell_type": "markdown",
   "id": "cee0cda0",
   "metadata": {},
   "source": [
    "<hr>"
   ]
  },
  {
   "attachments": {},
   "cell_type": "markdown",
   "id": "330018e1",
   "metadata": {},
   "source": [
    "# Homework Problems"
   ]
  },
  {
   "attachments": {},
   "cell_type": "markdown",
   "id": "d0c612d2",
   "metadata": {},
   "source": [
    "1) Make a view,change the view and display both arrays\n",
    "    ```\n",
    "    arr = [21, 23, 34, 74, 5]\n",
    "    Update the zeroth index to 65\n",
    "    ```"
   ]
  },
  {
   "attachments": {},
   "cell_type": "markdown",
   "id": "1625750d",
   "metadata": {},
   "source": [
    "2) Make a copy, change the original array, and display both arrays\n",
    "    ```\n",
    "    arr = [78, 27, 23, 74, 75]\n",
    "    Update the zeroth index to 29\n",
    "    ```"
   ]
  },
  {
   "attachments": {},
   "cell_type": "markdown",
   "id": "6f10fd03",
   "metadata": {},
   "source": [
    "3) Write Code to perform Sorting on the below 2 D array\n",
    "    ```\n",
    "    arr = [[39, 20, 74], [75, 90, 81]]\n",
    "    ```"
   ]
  },
  {
   "attachments": {},
   "cell_type": "markdown",
   "id": "710cdf00",
   "metadata": {},
   "source": [
    "4) Sort the below array in alphabetical order\n",
    "    ```\n",
    "    arr = ['figs', 'cherry', 'mango']\n",
    "    ```"
   ]
  },
  {
   "attachments": {},
   "cell_type": "markdown",
   "id": "e3ab8f96",
   "metadata": {},
   "source": [
    "5) Write code for Creating Filter Directly from Array, so will return only even elements from the original array a=[22,32,54,25,33]"
   ]
  },
  {
   "attachments": {},
   "cell_type": "markdown",
   "id": "89d81a27",
   "metadata": {},
   "source": [
    "6) Create a NumPy Filter Array for the below numPy Array using the below Boolean Filter pattern\n",
    "```\n",
    "   arr = np.array([4, 3, 40, 6]) x=[True,False,False,True]\n",
    "```"
   ]
  },
  {
   "attachments": {},
   "cell_type": "markdown",
   "id": "ffa3901b",
   "metadata": {},
   "source": [
    "7) Create code to Flatten the below 2D array to 1-D Format\n",
    "```\n",
    "   a=([[1,4,7], [2,5,8],[3,6,9]])\n",
    "```"
   ]
  },
  {
   "attachments": {},
   "cell_type": "markdown",
   "id": "001cd5bb",
   "metadata": {},
   "source": [
    "<hr>"
   ]
  },
  {
   "attachments": {},
   "cell_type": "markdown",
   "id": "6ac00c83",
   "metadata": {},
   "source": [
    "For solutions of Homework questions, please refer to the ```HomeworkSolution.ipynb``` file"
   ]
  }
 ],
 "metadata": {
  "kernelspec": {
   "display_name": "Python 3",
   "language": "python",
   "name": "python3"
  },
  "language_info": {
   "codemirror_mode": {
    "name": "ipython",
    "version": 3
   },
   "file_extension": ".py",
   "mimetype": "text/x-python",
   "name": "python",
   "nbconvert_exporter": "python",
   "pygments_lexer": "ipython3",
   "version": "3.9.13"
  },
  "vscode": {
   "interpreter": {
    "hash": "f1a104daade7a70772ad630bf0568980f4e260449ff540bcd2b6baf0ecd3487d"
   }
  }
 },
 "nbformat": 4,
 "nbformat_minor": 5
}
