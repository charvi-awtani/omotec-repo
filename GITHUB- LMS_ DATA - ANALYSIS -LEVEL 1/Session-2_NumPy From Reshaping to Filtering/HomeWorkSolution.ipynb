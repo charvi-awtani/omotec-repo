{
 "cells": [
  {
   "attachments": {},
   "cell_type": "markdown",
   "metadata": {},
   "source": [
    "## Homework Solution"
   ]
  },
  {
   "attachments": {},
   "cell_type": "markdown",
   "metadata": {},
   "source": [
    "1) Checking the data type of array"
   ]
  },
  {
   "cell_type": "code",
   "execution_count": 3,
   "metadata": {},
   "outputs": [
    {
     "name": "stdout",
     "output_type": "stream",
     "text": [
      "Array: [ 1.2  2.3  3.5  2.7  5.6 10.1]\n",
      "Datatype: float64\n"
     ]
    }
   ],
   "source": [
    "# importing numpy library\n",
    "import numpy as np\n",
    "\n",
    "# creating and initializing an array\n",
    "arr = np.array([1.2, 2.3, 3.5, 2.7, 5.6, 10.10])\n",
    "\n",
    "# printing the array and checking datatype\n",
    "print('Array:', arr)\n",
    "\n",
    "print('Datatype:', arr.dtype)"
   ]
  },
  {
   "attachments": {},
   "cell_type": "markdown",
   "metadata": {},
   "source": [
    "2) Create two Arrays & Stack them vertically"
   ]
  },
  {
   "cell_type": "code",
   "execution_count": 4,
   "metadata": {},
   "outputs": [
    {
     "name": "stdout",
     "output_type": "stream",
     "text": [
      "First array:\n",
      " [1 2 3 4 5]\n",
      "Second array:\n",
      " [16 17 18 19 20]\n",
      "Vertically stacked array:\n",
      " [[ 1  2  3  4  5]\n",
      " [16 17 18 19 20]]\n"
     ]
    }
   ],
   "source": [
    "import numpy as np\n",
    "  \n",
    "x = np.array([1, 2, 3, 4, 5])\n",
    "y = np.array([16, 17, 18, 19, 20])\n",
    "print('First array:\\n', x)\n",
    "print('Second array:\\n', y)\n",
    "print('Vertically stacked array:\\n', np.vstack((x, y)))\n"
   ]
  },
  {
   "attachments": {},
   "cell_type": "markdown",
   "metadata": {},
   "source": [
    "3) Create two Arrays & Stack them horizontally"
   ]
  },
  {
   "cell_type": "code",
   "execution_count": 5,
   "metadata": {},
   "outputs": [
    {
     "name": "stdout",
     "output_type": "stream",
     "text": [
      "First array:\n",
      " [1 2 3 4 5]\n",
      "Second array:\n",
      " [16 17 18 19 20]\n",
      "Horizontally stacked array:\n",
      " [ 1  2  3  4  5 16 17 18 19 20]\n"
     ]
    }
   ],
   "source": [
    "import numpy as np\n",
    "  \n",
    "x = np.array([1, 2, 3, 4, 5])\n",
    "y = np.array([16, 17, 18, 19, 20])\n",
    "print('First array:\\n', x)\n",
    "print('Second array:\\n', y)\n",
    "print('Horizontally stacked array:\\n', np.hstack((x, y)))\n"
   ]
  },
  {
   "attachments": {},
   "cell_type": "markdown",
   "metadata": {},
   "source": [
    "4) dtype of the given array object is ‘int32’. Now change this to ‘float64’ type."
   ]
  },
  {
   "cell_type": "code",
   "execution_count": 6,
   "metadata": {},
   "outputs": [
    {
     "name": "stdout",
     "output_type": "stream",
     "text": [
      "[10. 20. 30. 40. 50.]\n",
      "float64\n"
     ]
    }
   ],
   "source": [
    "# change the dtype to 'float64'\n",
    "# importing the numpy library as np\n",
    "import numpy as np\n",
    "\n",
    "# Create a numpy array\n",
    "arr = np.array([10, 20, 30, 40, 50])\n",
    "arr = arr.astype('float64')\n",
    "\n",
    "# Print the array\n",
    "print(arr)\n",
    "# Print the dtype\n",
    "print(arr.dtype)"
   ]
  },
  {
   "attachments": {},
   "cell_type": "markdown",
   "metadata": {},
   "source": [
    "5) convert int into strings of  arr [1, 2, 3, 8, 7, 5]"
   ]
  },
  {
   "cell_type": "code",
   "execution_count": 7,
   "metadata": {},
   "outputs": [
    {
     "name": "stdout",
     "output_type": "stream",
     "text": [
      "Array: [b'1' b'2' b'3' b'8' b'7' b'5']\n",
      "Datatype: |S1\n"
     ]
    }
   ],
   "source": [
    "import numpy as np\n",
    "\n",
    "# Creating and initializing array with datatype\n",
    "arr = np.array([1, 2, 3, 8, 7, 5], dtype='S')\n",
    "\n",
    "# printing array and its datatype\n",
    "print(\"Array:\", arr)\n",
    "print(\"Datatype:\", arr.dtype)"
   ]
  },
  {
   "attachments": {},
   "cell_type": "markdown",
   "metadata": {},
   "source": [
    "6) Stack the given arrays along columns, arr1=[1, 2, 3] &  arr2=[12,13,14]"
   ]
  },
  {
   "cell_type": "code",
   "execution_count": 10,
   "metadata": {},
   "outputs": [
    {
     "name": "stdout",
     "output_type": "stream",
     "text": [
      "[[ 1  2  3]\n",
      " [12 13 14]]\n"
     ]
    }
   ],
   "source": [
    "import numpy as np\n",
    "\n",
    "arr1 = np.array([1, 2, 3])\n",
    "\n",
    "arr2 = np.array([12, 13, 14])\n",
    "\n",
    "arr = np.vstack((arr1, arr2))\n",
    "\n",
    "print(arr)"
   ]
  },
  {
   "attachments": {},
   "cell_type": "markdown",
   "metadata": {},
   "source": [
    "7) Stack the given arrays along Rows, arr1=[1, 2, 3] & arr2=[12,13,14]"
   ]
  },
  {
   "cell_type": "code",
   "execution_count": 11,
   "metadata": {},
   "outputs": [
    {
     "name": "stdout",
     "output_type": "stream",
     "text": [
      "[ 1  2  3 12 13 14]\n"
     ]
    }
   ],
   "source": [
    "import numpy as np\n",
    "\n",
    "arr1 = np.array([1, 2, 3])\n",
    "\n",
    "arr2 = np.array([12, 13, 14])\n",
    "\n",
    "arr = np.hstack((arr1, arr2))\n",
    "\n",
    "print(arr)"
   ]
  },
  {
   "attachments": {},
   "cell_type": "markdown",
   "metadata": {},
   "source": [
    "8) Join the given arrays arr1=[15,16,17] & arr2=[78,89,45]"
   ]
  },
  {
   "cell_type": "code",
   "execution_count": 12,
   "metadata": {},
   "outputs": [
    {
     "name": "stdout",
     "output_type": "stream",
     "text": [
      "[15 16 17 78 89 45]\n"
     ]
    }
   ],
   "source": [
    "import numpy as np\n",
    "\n",
    "arr1 = np.array([15, 16, 17])\n",
    "\n",
    "arr2 = np.array([78, 89, 45])\n",
    "\n",
    "arr = np.concatenate((arr1, arr2))\n",
    "\n",
    "print(arr)\n"
   ]
  },
  {
   "attachments": {},
   "cell_type": "markdown",
   "metadata": {},
   "source": [
    "9) Create a 1D array & then Convert it into a 2D array of shape 4x2 & 2x4"
   ]
  },
  {
   "cell_type": "code",
   "execution_count": 14,
   "metadata": {},
   "outputs": [
    {
     "name": "stdout",
     "output_type": "stream",
     "text": [
      "After reshaping having dimension 4x2:\n",
      "[[1 2]\n",
      " [3 4]\n",
      " [5 6]\n",
      " [7 8]]\n",
      "\n",
      "\n",
      "After reshaping having dimension 2x4:\n",
      "[[1 2 3 4]\n",
      " [5 6 7 8]]\n",
      "\n",
      "\n"
     ]
    }
   ],
   "source": [
    "import numpy as np\n",
    "# 1-D array having elements [1 2 3 4 5 6 7 8]\n",
    "arr = np.array([1, 2, 3, 4, 5, 6, 7, 8])\n",
    "\n",
    "# Now we can convert this 1-D array into a 2-D array of shape 4x2 & 2x4\n",
    "\n",
    "# 1. having dimension 4 x 2\n",
    "arr1 = arr.reshape(4, 2)\n",
    "print ('After reshaping having dimension 4x2:')\n",
    "print (arr1)\n",
    "print ('\\n')\n",
    "\n",
    "# 2. having dimension 2 x 4\n",
    "arr2 = arr.reshape(2, 4)\n",
    "print ('After reshaping having dimension 2x4:')\n",
    "print (arr2)\n",
    "print ('\\n')"
   ]
  }
 ],
 "metadata": {
  "kernelspec": {
   "display_name": "Python 3",
   "language": "python",
   "name": "python3"
  },
  "language_info": {
   "codemirror_mode": {
    "name": "ipython",
    "version": 3
   },
   "file_extension": ".py",
   "mimetype": "text/x-python",
   "name": "python",
   "nbconvert_exporter": "python",
   "pygments_lexer": "ipython3",
   "version": "3.9.2rc1"
  },
  "orig_nbformat": 4
 },
 "nbformat": 4,
 "nbformat_minor": 2
}
