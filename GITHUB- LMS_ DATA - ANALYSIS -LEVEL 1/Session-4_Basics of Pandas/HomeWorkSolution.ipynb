{
 "cells": [
  {
   "attachments": {},
   "cell_type": "markdown",
   "metadata": {},
   "source": [
    "# Homework Solutions"
   ]
  },
  {
   "attachments": {},
   "cell_type": "markdown",
   "metadata": {},
   "source": [
    "1. Write a Python program to create a simple DataFrame with two columns (‘Name’ and ‘Age’) and populate it with data. Then print the entire DataFrame."
   ]
  },
  {
   "cell_type": "code",
   "execution_count": 1,
   "metadata": {},
   "outputs": [
    {
     "name": "stdout",
     "output_type": "stream",
     "text": [
      "    Name  Age\n",
      "0  Aarav   22\n",
      "1  Aarya   25\n",
      "2   Aadi   28\n",
      "3  Aalia   31\n",
      "4  Aamir   34\n"
     ]
    }
   ],
   "source": [
    "import pandas as pd\n",
    "\n",
    "# create a dictionary containing data for 'Name' and 'Age' columns\n",
    "data = {'Name': ['Aarav', 'Aarya', 'Aadi', 'Aalia', 'Aamir'],\n",
    "        'Age': [22, 25, 28, 31, 34]}\n",
    "\n",
    "# create a DataFrame from the dictionary\n",
    "df = pd.DataFrame(data)\n",
    "\n",
    "# print the entire DataFrame\n",
    "print(df)\n"
   ]
  },
  {
   "attachments": {},
   "cell_type": "markdown",
   "metadata": {},
   "source": [
    "2. Create a pandas dataframe with the following data:\n",
    "\n",
    "``` Name  Age  Gender\n",
    "0  John   25    Male\n",
    "1  Jane   30  Female\n",
    "2  Mark   20    Male\n",
    "```"
   ]
  },
  {
   "cell_type": "code",
   "execution_count": 2,
   "metadata": {},
   "outputs": [
    {
     "name": "stdout",
     "output_type": "stream",
     "text": [
      "   Name  Age  Gender\n",
      "0  John   25    Male\n",
      "1  Jane   30  Female\n",
      "2  Mark   20    Male\n"
     ]
    }
   ],
   "source": [
    "import pandas as pd\n",
    "\n",
    "data = {'Name': ['John', 'Jane', 'Mark'],\n",
    "        'Age': [25, 30, 20],\n",
    "        'Gender': ['Male', 'Female', 'Male']}\n",
    "df = pd.DataFrame(data)\n",
    "print(df)"
   ]
  },
  {
   "attachments": {},
   "cell_type": "markdown",
   "metadata": {},
   "source": [
    "3. To select only some of the items in the dictionary, use the index argument and specify only the items you want to include in the Series.\n",
    "```\n",
    "vitamin = {\"day1\": 420, \"day2\": 380, \"day3\": 390}\n",
    "```"
   ]
  },
  {
   "cell_type": "code",
   "execution_count": 3,
   "metadata": {},
   "outputs": [
    {
     "name": "stdout",
     "output_type": "stream",
     "text": [
      "day1    420\n",
      "day3    390\n",
      "dtype: int64\n"
     ]
    }
   ],
   "source": [
    "import pandas as pd\n",
    "   \n",
    "# create a dictionary containing data for the Series\n",
    "vitamin = {\"day1\": 420, \"day2\": 380, \"day3\": 390}\n",
    "\n",
    "# create a Series from the dictionary and select only 'day1' and 'day3' items\n",
    "series = pd.Series(vitamin, index=['day1', 'day3'])\n",
    "\n",
    "# print the resulting Series\n",
    "print(series)"
   ]
  },
  {
   "attachments": {},
   "cell_type": "markdown",
   "metadata": {},
   "source": [
    "4. Add a panda series to another series using append()\n",
    "```\n",
    "a=[12,23,65,87] \n",
    "b=[78,52,33,61]\n",
    "```"
   ]
  },
  {
   "cell_type": "code",
   "execution_count": 4,
   "metadata": {},
   "outputs": [
    {
     "name": "stdout",
     "output_type": "stream",
     "text": [
      "0    12\n",
      "1    23\n",
      "2    65\n",
      "3    87\n",
      "0    78\n",
      "1    52\n",
      "2    33\n",
      "3    61\n",
      "dtype: int64\n"
     ]
    }
   ],
   "source": [
    "import pandas as pd\n",
    "\n",
    "a = [12, 23, 65, 87]\n",
    "b = [78, 52, 33, 61]\n",
    "\n",
    "# Convert lists to pandas series\n",
    "a_series = pd.Series(a)\n",
    "b_series = pd.Series(b)\n",
    "\n",
    "# Append b_series to a_series\n",
    "result_series = a_series.append(b_series)\n",
    "\n",
    "print(result_series)"
   ]
  },
  {
   "attachments": {},
   "cell_type": "markdown",
   "metadata": {},
   "source": [
    "5. use the concat() to combine the following arrays\n",
    "```python\n",
    "series_1 = pd.Series([2, 4, 6, 8])\n",
    "series_2 = pd.Series([10, 12, 14, 16])\n",
    "```"
   ]
  },
  {
   "cell_type": "code",
   "execution_count": 5,
   "metadata": {},
   "outputs": [
    {
     "name": "stdout",
     "output_type": "stream",
     "text": [
      "0     2\n",
      "1     4\n",
      "2     6\n",
      "3     8\n",
      "0    10\n",
      "1    12\n",
      "2    14\n",
      "3    16\n",
      "dtype: int64\n"
     ]
    }
   ],
   "source": [
    "import pandas as pd\n",
    "\n",
    "series_1 = pd.Series([2, 4, 6, 8])\n",
    "series_2 = pd.Series([10, 12, 14, 16])\n",
    "\n",
    "result_series = pd.concat([series_1, series_2])\n",
    "print(result_series)"
   ]
  },
  {
   "attachments": {},
   "cell_type": "markdown",
   "metadata": {},
   "source": [
    "6. Create a pandas series with the following data:\n",
    "\n",
    "```0    10\n",
    "1    20\n",
    "2    30\n",
    "3    40\n",
    "dtype: int64\n",
    "```"
   ]
  },
  {
   "cell_type": "code",
   "execution_count": 6,
   "metadata": {},
   "outputs": [
    {
     "name": "stdout",
     "output_type": "stream",
     "text": [
      "0    10\n",
      "1    20\n",
      "2    30\n",
      "3    40\n",
      "dtype: int64\n"
     ]
    }
   ],
   "source": [
    "import pandas as pd\n",
    "\n",
    "data = [10, 20, 30, 40]\n",
    "series = pd.Series(data)\n",
    "print(series)"
   ]
  },
  {
   "attachments": {},
   "cell_type": "markdown",
   "metadata": {},
   "source": [
    "7. Create a pandas series with the following data and index labels:\n",
    "\n",
    "```a    10\n",
    "b    20\n",
    "c    30\n",
    "d    40\n",
    "dtype: int64\n",
    "```"
   ]
  },
  {
   "cell_type": "code",
   "execution_count": 7,
   "metadata": {},
   "outputs": [
    {
     "name": "stdout",
     "output_type": "stream",
     "text": [
      "a    10\n",
      "b    20\n",
      "c    30\n",
      "d    40\n",
      "dtype: int64\n"
     ]
    }
   ],
   "source": [
    "import pandas as pd\n",
    "\n",
    "data = [10, 20, 30, 40]\n",
    "labels = ['a', 'b', 'c', 'd']\n",
    "series = pd.Series(data, index=labels)\n",
    "print(series)"
   ]
  },
  {
   "attachments": {},
   "cell_type": "markdown",
   "metadata": {},
   "source": [
    "8. Create a pandas series from a dictionary with the following data:\n",
    "\n",
    "```{'a': 10, 'b': 20, 'c': 30, 'd': 40}```"
   ]
  },
  {
   "cell_type": "code",
   "execution_count": 8,
   "metadata": {},
   "outputs": [
    {
     "name": "stdout",
     "output_type": "stream",
     "text": [
      "a    10\n",
      "b    20\n",
      "c    30\n",
      "d    40\n",
      "dtype: int64\n"
     ]
    }
   ],
   "source": [
    "import pandas as pd\n",
    "\n",
    "data = {'a': 10, 'b': 20, 'c': 30, 'd': 40}\n",
    "series = pd.Series(data)\n",
    "print(series)"
   ]
  }
 ],
 "metadata": {
  "kernelspec": {
   "display_name": "Python 3",
   "language": "python",
   "name": "python3"
  },
  "language_info": {
   "codemirror_mode": {
    "name": "ipython",
    "version": 3
   },
   "file_extension": ".py",
   "mimetype": "text/x-python",
   "name": "python",
   "nbconvert_exporter": "python",
   "pygments_lexer": "ipython3",
   "version": "3.9.2rc1"
  },
  "orig_nbformat": 4
 },
 "nbformat": 4,
 "nbformat_minor": 2
}
