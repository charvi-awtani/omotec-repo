{
 "cells": [
  {
   "attachments": {},
   "cell_type": "markdown",
   "id": "b391655e",
   "metadata": {},
   "source": [
    "# Homework Solutions"
   ]
  },
  {
   "attachments": {},
   "cell_type": "markdown",
   "id": "941102a5",
   "metadata": {},
   "source": [
    "1) Create a scatter plot\n",
    "```\n",
    "    x = np.array([5,77,8,7,2,17,92,89,14,11,12,9,6])\n",
    "    y = np.array([9,86,87,88,111,86,13,87,94,78,7,85,6])\n",
    "```"
   ]
  },
  {
   "cell_type": "code",
   "execution_count": 7,
   "id": "85f37b67",
   "metadata": {},
   "outputs": [
    {
     "data": {
      "image/png": "[encoded data removed]",
      "text/plain": [
       "<Figure size 432x288 with 1 Axes>"
      ]
     },
     "metadata": {
      "needs_background": "light"
     },
     "output_type": "display_data"
    }
   ],
   "source": [
    "import matplotlib.pyplot as plt\n",
    "import numpy as np\n",
    "\n",
    "x = np.array([5,77,8,7,2,17,92,89,14,11,12,9,6])\n",
    "y = np.array([9,86,87,88,111,86,13,87,94,78,7,85,6])\n",
    "\n",
    "plt.scatter(x, y)\n",
    "plt.show()"
   ]
  },
  {
   "attachments": {},
   "cell_type": "markdown",
   "id": "e212f644",
   "metadata": {},
   "source": [
    "2) Create a scatter plot using marker as star\n",
    "```\n",
    "    height = [178, 175, 120, 186, 103, 187, 178, 169, 183, 180]\n",
    "    weight = [75, 70, 65, 80, 67, 94, 50, 58, 78, 85]\n",
    "```"
   ]
  },
  {
   "cell_type": "code",
   "execution_count": 8,
   "id": "f162402b",
   "metadata": {},
   "outputs": [
    {
     "data": {
      "text/plain": [
       "<matplotlib.collections.PathCollection at 0x26d1a38ce50>"
      ]
     },
     "execution_count": 8,
     "metadata": {},
     "output_type": "execute_result"
    },
    {
     "data": {
      "image/png": "[encoded data removed]",
      "text/plain": [
       "<Figure size 432x288 with 1 Axes>"
      ]
     },
     "metadata": {
      "needs_background": "light"
     },
     "output_type": "display_data"
    }
   ],
   "source": [
    "import matplotlib.pyplot as plt\n",
    "import numpy as np\n",
    "import pandas as pd\n",
    "\n",
    "\n",
    "height = [178, 175, 120, 186, 103, 187, 178, 169, 183, 180]\n",
    "weight = [75, 70, 65, 80, 67, 94, 50, 58, 78, 85]\n",
    "\n",
    "# plot a scatter plot with star markers\n",
    "plt.scatter(weight, height, marker='*')"
   ]
  },
  {
   "attachments": {},
   "cell_type": "markdown",
   "id": "8b82b538",
   "metadata": {},
   "source": [
    "3) Create a scatter plot using marker as star , but read the input from a CSV File as below:\n",
    "\n",
    "<br>\n",
    "<img src=\"images/Image-csv.png\" alt=\"Drawing\" style=\"width: 200px;\" align=\"center\"/>\n",
    "<br>\n",
    "<br>"
   ]
  },
  {
   "cell_type": "code",
   "execution_count": 8,
   "id": "3ace806e",
   "metadata": {},
   "outputs": [
    {
     "data": {
      "text/plain": [
       "<matplotlib.collections.PathCollection at 0x2139336a1c0>"
      ]
     },
     "execution_count": 8,
     "metadata": {},
     "output_type": "execute_result"
    },
    {
     "data": {
      "image/png": "[encoded data removed]",
      "text/plain": [
       "<Figure size 432x288 with 1 Axes>"
      ]
     },
     "metadata": {
      "needs_background": "light"
     },
     "output_type": "display_data"
    }
   ],
   "source": [
    "import matplotlib.pyplot as plt\n",
    "import numpy as np\n",
    "import pandas as pd\n",
    "\n",
    "# Create above CSV File & read the csv file to extract data\n",
    "\n",
    "data = pd.read_csv('Images\\sample-data.csv')\n",
    "view_count = data['views']\n",
    "likes = data['likes']\n",
    "\n",
    "# plot a scatter plot with star markers\n",
    "plt.scatter(view_count, likes, marker='*')"
   ]
  },
  {
   "attachments": {},
   "cell_type": "markdown",
   "id": "4685c661",
   "metadata": {},
   "source": [
    "4) Create a scatter plot using marker as STAR and size as 25\n",
    "```\n",
    "    age = [178, 175, 120, 186, 103, 187, 178, 169, 183, 180]\n",
    "    weight = [75, 70, 65, 80, 67, 94, 50, 58, 78, 85]\n",
    "```"
   ]
  },
  {
   "cell_type": "code",
   "execution_count": 3,
   "id": "7dd63491",
   "metadata": {},
   "outputs": [
    {
     "data": {
      "text/plain": [
       "<matplotlib.collections.PathCollection at 0x213932823d0>"
      ]
     },
     "execution_count": 3,
     "metadata": {},
     "output_type": "execute_result"
    },
    {
     "data": {
      "image/png": "[encoded data removed]",
      "text/plain": [
       "<Figure size 432x288 with 1 Axes>"
      ]
     },
     "metadata": {
      "needs_background": "light"
     },
     "output_type": "display_data"
    }
   ],
   "source": [
    "import matplotlib.pyplot as plt\n",
    "import numpy as np\n",
    "\n",
    "age = [178, 175, 120, 186, 103, 187, 178, 169, 183, 180]\n",
    "weight = [75, 70, 65, 80, 67, 94, 50, 58, 78, 85]\n",
    "\n",
    "# plot a scatter plot with star markers\n",
    "plt.scatter(age, weight, marker='*',s=25)"
   ]
  },
  {
   "cell_type": "code",
   "execution_count": 11,
   "id": "142dc974",
   "metadata": {},
   "outputs": [
    {
     "data": {
      "text/plain": [
       "<matplotlib.collections.PathCollection at 0x21394115c70>"
      ]
     },
     "execution_count": 11,
     "metadata": {},
     "output_type": "execute_result"
    },
    {
     "data": {
      "image/png": "[encoded data removed]",
      "text/plain": [
       "<Figure size 432x288 with 1 Axes>"
      ]
     },
     "metadata": {
      "needs_background": "light"
     },
     "output_type": "display_data"
    }
   ],
   "source": [
    "import matplotlib.pyplot as plt\n",
    "import numpy as np\n",
    "import pandas as pd\n",
    "\n",
    "# Create above CSV File & read the csv file to extract data\n",
    "\n",
    "data = pd.read_csv('Images\\sample-data.csv')\n",
    "view_count = data['views']\n",
    "likes = data['likes']\n",
    "\n",
    "# plot a scatter plot with star markers\n",
    "plt.scatter(view_count, likes, marker='*',s=25)"
   ]
  },
  {
   "attachments": {},
   "cell_type": "markdown",
   "id": "180dae6b",
   "metadata": {},
   "source": [
    "5) Create a scatter plot using marker as STAR and size as 25, but read the input from a CSV File as below:\n",
    "\n",
    "<br>\n",
    "<img src=\"images/Image-csv.png\" alt=\"Drawing\" style=\"width: 200px;\" align=\"center\"/>\n",
    "<br>\n",
    "<br>"
   ]
  },
  {
   "attachments": {},
   "cell_type": "markdown",
   "id": "7b28d2f2",
   "metadata": {},
   "source": [
    "6) Create a scatterplot using color ( RED & GREEN) by category "
   ]
  },
  {
   "cell_type": "code",
   "execution_count": 4,
   "id": "9dca1500",
   "metadata": {},
   "outputs": [
    {
     "data": {
      "image/png": "[encoded data removed]",
      "text/plain": [
       "<Figure size 432x288 with 1 Axes>"
      ]
     },
     "metadata": {
      "needs_background": "light"
     },
     "output_type": "display_data"
    }
   ],
   "source": [
    "import matplotlib.pyplot as plt\n",
    "import numpy as np\n",
    "\n",
    "x = np.array([5,7,8,7,2,17,2,9,4,11,12,9,6])\n",
    "y = np.array([99,86,87,88,111,86,103,87,94,78,77,85,86])\n",
    "plt.scatter(x, y, color = 'red')\n",
    "\n",
    "x = np.array([2,2,8,1,15,8,12,9,7,3,11,4,7,14,12])\n",
    "y = np.array([100,105,84,105,90,99,90,95,94,100,79,112,91,80,85])\n",
    "plt.scatter(x, y, color = 'green')\n",
    "\n",
    "plt.show()"
   ]
  },
  {
   "attachments": {},
   "cell_type": "markdown",
   "id": "31a5e3c3",
   "metadata": {},
   "source": [
    "7) Create a compare scatter plot for \n",
    "```\n",
    "    #plot1\n",
    "    students_id = np.array([1,2,3,4,5,6,7,8,9,10])\n",
    "    students_marks = np.array([95,98,83,75,67,58,67,78,53,32])\n",
    "    #plot2\n",
    "    students_id = np.array([1,2,3,4,5,6,7,8,9,10])\n",
    "    students_marks = np.array([58,90,67,78,53,32,95,98,83,67,]\n",
    "```"
   ]
  },
  {
   "cell_type": "code",
   "execution_count": 5,
   "id": "eac38fda",
   "metadata": {},
   "outputs": [
    {
     "data": {
      "image/png": "[encoded data removed]",
      "text/plain": [
       "<Figure size 432x288 with 1 Axes>"
      ]
     },
     "metadata": {
      "needs_background": "light"
     },
     "output_type": "display_data"
    }
   ],
   "source": [
    "import matplotlib.pyplot as plt\n",
    "import numpy as np\n",
    "#Maths Marks\n",
    "students_id = np.array([1,2,3,4,5,6,7,8,9,10])\n",
    "students_marks = np.array([95,98,83,75,67,58,67,78,53,32])\n",
    "plt.scatter(students_id, students_marks)\n",
    "\n",
    "#science marks\n",
    "students_id = np.array([1,2,3,4,5,6,7,8,9,10])\n",
    "students_marks = np.array([58,90,67,78,53,32,95,98,83,67,])\n",
    "plt.scatter(students_id, students_marks)\n",
    "\n",
    "plt.show()"
   ]
  },
  {
   "attachments": {},
   "cell_type": "markdown",
   "id": "3097a1dd",
   "metadata": {},
   "source": [
    "8) Create a scatter plot and make the marker size as 25"
   ]
  },
  {
   "cell_type": "code",
   "execution_count": 6,
   "id": "13e84ae6",
   "metadata": {},
   "outputs": [
    {
     "data": {
      "image/png": "[encoded data removed]",
      "text/plain": [
       "<Figure size 432x288 with 1 Axes>"
      ]
     },
     "metadata": {
      "needs_background": "light"
     },
     "output_type": "display_data"
    }
   ],
   "source": [
    "import matplotlib.pyplot as plt\n",
    " \n",
    "#data\n",
    "x = [0, 1, 1, 2, 2, 3]\n",
    "y = [0, 1, 2, 1, 2, 3]\n",
    " \n",
    "#markers' size\n",
    "size = 25\n",
    "\n",
    " \n",
    "#scatter plot\n",
    "plt.scatter(x, y, s = size)\n",
    " \n",
    "plt.show()"
   ]
  },
  {
   "attachments": {},
   "cell_type": "markdown",
   "id": "7e4e8b96",
   "metadata": {},
   "source": [
    "9) Create a scatter plot and make the marker color as RED\n",
    "```\n",
    "    x = np.array([5,7,8, 2,17])\n",
    "    y1 = np.array([99,103,87,94,78])\n",
    "    y2 = np.array([26, 23, 18, 55, 16])\n",
    "```"
   ]
  },
  {
   "cell_type": "code",
   "execution_count": 10,
   "id": "56ef720a",
   "metadata": {},
   "outputs": [
    {
     "data": {
      "image/png": "[encoded data removed]",
      "text/plain": [
       "<Figure size 432x288 with 1 Axes>"
      ]
     },
     "metadata": {
      "needs_background": "light"
     },
     "output_type": "display_data"
    }
   ],
   "source": [
    "# Import Library\n",
    "\n",
    "import matplotlib.pyplot as plt\n",
    "import numpy as np\n",
    "\n",
    "# Define Data\n",
    "\n",
    "x = np.array([5,7,8, 2,17])\n",
    "y1 = np.array([99,103,87,94,78])\n",
    "y2 = np.array([26, 23, 18, 55, 16])\n",
    "\n",
    "# Scatter Plot color array\n",
    "\n",
    "plt.scatter(x, y1, color='red')\n",
    "plt.scatter(x, y2, color='red')\n",
    "\n",
    "# Display\n",
    "\n",
    "plt.show()"
   ]
  },
  {
   "attachments": {},
   "cell_type": "markdown",
   "id": "9930103a",
   "metadata": {},
   "source": [
    "10) Create a Heatmap using matplotlib by reading the below CSV File details\n",
    "\n",
    "<br>\n",
    "<img src=\"images/Image-data-csv.png\" alt=\"Drawing\" style=\"width: 200px;\" align=\"center\"/>\n",
    "<br>\n",
    "<br>"
   ]
  },
  {
   "cell_type": "code",
   "execution_count": 12,
   "id": "8fa38ff4",
   "metadata": {},
   "outputs": [
    {
     "data": {
      "text/plain": [
       "<matplotlib.image.AxesImage at 0x2139bcafee0>"
      ]
     },
     "execution_count": 12,
     "metadata": {},
     "output_type": "execute_result"
    },
    {
     "data": {
      "image/png": "[encoded data removed]",
      "text/plain": [
       "<Figure size 720x432 with 2 Axes>"
      ]
     },
     "metadata": {
      "needs_background": "light"
     },
     "output_type": "display_data"
    }
   ],
   "source": [
    "import pandas as pd\n",
    "import numpy as np\n",
    "import matplotlib.pyplot as plt\n",
    "import seaborn as sns\n",
    "data = pd.read_csv('Images\\data.csv')\n",
    "\n",
    "fig, ax = plt.subplots(figsize=(10,6))\n",
    "sns.heatmap(data.corr(), center=0, cmap='Reds')\n",
    "ax.set_title('Multi-Collinearity of View Counts')\n",
    "\n",
    "plt.imshow(data, cmap =\"RdYlBu\")"
   ]
  },
  {
   "attachments": {},
   "cell_type": "markdown",
   "id": "bdce0315",
   "metadata": {},
   "source": [
    "<hr>"
   ]
  },
  {
   "attachments": {},
   "cell_type": "markdown",
   "id": "29b0f924",
   "metadata": {},
   "source": [
    "For solutions of Homework questions, please refer to the ```HomeworkSolution.ipynb``` file"
   ]
  }
 ],
 "metadata": {
  "kernelspec": {
   "display_name": "Python 3",
   "language": "python",
   "name": "python3"
  },
  "language_info": {
   "codemirror_mode": {
    "name": "ipython",
    "version": 3
   },
   "file_extension": ".py",
   "mimetype": "text/x-python",
   "name": "python",
   "nbconvert_exporter": "python",
   "pygments_lexer": "ipython3",
   "version": "3.9.2rc1"
  },
  "vscode": {
   "interpreter": {
    "hash": "f1a104daade7a70772ad630bf0568980f4e260449ff540bcd2b6baf0ecd3487d"
   }
  }
 },
 "nbformat": 4,
 "nbformat_minor": 5
}
