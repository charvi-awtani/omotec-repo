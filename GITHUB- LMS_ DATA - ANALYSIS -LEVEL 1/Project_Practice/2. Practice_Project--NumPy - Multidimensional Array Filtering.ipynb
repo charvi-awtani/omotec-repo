{
 "cells": [
  {
   "attachments": {},
   "cell_type": "markdown",
   "id": "54d5942e",
   "metadata": {},
   "source": [
    "## NumPy based : Multidimensional Array Filtering Using Apartment\n"
   ]
  },
  {
   "attachments": {},
   "cell_type": "markdown",
   "id": "21dcd122",
   "metadata": {},
   "source": [
    "### Table of Contents<br>\n",
    "    1. Problem statement\n",
    "    2. Solution for problem statement 1\n",
    "    3. Solution for problem statement 2"
   ]
  },
  {
   "attachments": {},
   "cell_type": "markdown",
   "id": "1790b20b",
   "metadata": {},
   "source": [
    "#### 1. Problem Statement:\n",
    "1. we have a dataset of students scores in different subjects and we want to filter the data based on certain criteria.\n",
    "2. we'll assume that we have a dataset of sales transactions with multiple dimensions such as product, region, and time."
   ]
  },
  {
   "attachments": {},
   "cell_type": "markdown",
   "id": "f60cb45c",
   "metadata": {},
   "source": [
    "#### 2. Solution for problem statement 1\n",
    "- imports the NumPy library\n",
    "- we define a multidimensional array scores using the np.array() function from NumPy. This array represents the scores of different students in various subjects. It is a 2-dimensional array with 5 rows (representing 5 students) and 4 columns (representing 4 subjects)."
   ]
  },
  {
   "cell_type": "code",
   "execution_count": 1,
   "id": "77bee8d8",
   "metadata": {},
   "outputs": [],
   "source": [
    "import numpy as np\n",
    "\n",
    "# Sample multidimensional array representing students' scores\n",
    "scores = np.array([\n",
    "    [85, 90, 92, 88],\n",
    "    [78, 82, 80, 85],\n",
    "    [92, 88, 95, 90],\n",
    "    [75, 80, 85, 90],\n",
    "    [88, 92, 87, 95]\n",
    "])"
   ]
  },
  {
   "attachments": {},
   "cell_type": "markdown",
   "id": "b6b4629c",
   "metadata": {},
   "source": [
    "- We set a threshold value, which represents the minimum score required for a student to be included in the filtered data. In this case, we set it to 90.\n",
    "- the array scores is filtered based on the condition scores > threshold. This creates a boolean mask where each element in scores is compared to the threshold. Elements that satisfy the condition (scores greater than the threshold) are set to True, and those that do not satisfy the condition are set to False. The resulting boolean mask is then used to index the scores array, which returns a 1-dimensional array of the filtered scores."
   ]
  },
  {
   "cell_type": "code",
   "execution_count": 2,
   "id": "608cb933",
   "metadata": {},
   "outputs": [
    {
     "name": "stdout",
     "output_type": "stream",
     "text": [
      "[92 92 95 92 95]\n"
     ]
    }
   ],
   "source": [
    "threshold = 90\n",
    "filtered_scores = scores[scores > threshold]\n",
    "print(filtered_scores)"
   ]
  },
  {
   "attachments": {},
   "cell_type": "markdown",
   "id": "9e0645bb",
   "metadata": {},
   "source": [
    "#### 3. Solution for problem statement 2\n",
    "- import the numpy library and create a sample sales data array using np.array(). \n",
    "- Each row in the array represents a sales transaction, with columns for the product, region, month, and sales amount."
   ]
  },
  {
   "cell_type": "code",
   "execution_count": null,
   "id": "8b08711c",
   "metadata": {},
   "outputs": [],
   "source": [
    "import numpy as np\n",
    "\n",
    "# Sample sales data\n",
    "sales_data = np.array([\n",
    "    ['Product A', 'Region 1', 'Jan', 100],\n",
    "    ['Product B', 'Region 2', 'Feb', 200],\n",
    "    ['Product A', 'Region 2', 'Jan', 150],\n",
    "    ['Product C', 'Region 1', 'Mar', 300],\n",
    "    ['Product B', 'Region 1', 'Feb', 250],\n",
    "    ['Product A', 'Region 1', 'Mar', 120],\n",
    "])\n"
   ]
  },
  {
   "attachments": {},
   "cell_type": "markdown",
   "id": "26cf2ffb",
   "metadata": {},
   "source": [
    "- Next, we define the filter_sales_data function. It takes the data array and optional filter parameters: product, region, and month. Inside the function, we create a variable filtered_data and initialize it with the original data array.\n",
    "\n",
    "- then check each filter parameter. If a filter parameter is provided (not None), we apply the filter to the filtered_data array using boolean indexing. For example, if product is provided, we filter the data to only include rows where the product in the first column matches the specified product value. We do the same for region and month."
   ]
  },
  {
   "cell_type": "code",
   "execution_count": null,
   "id": "6cec0b70",
   "metadata": {},
   "outputs": [],
   "source": [
    "# Filter function\n",
    "def filter_sales_data(data, product=None, region=None, month=None):\n",
    "    filtered_data = data\n",
    "    if product:\n",
    "        filtered_data = filtered_data[filtered_data[:, 0] == product]\n",
    "    if region:\n",
    "        filtered_data = filtered_data[filtered_data[:, 1] == region]\n",
    "    if month:\n",
    "        filtered_data = filtered_data[filtered_data[:, 2] == month]\n",
    "    return filtered_data\n"
   ]
  },
  {
   "attachments": {},
   "cell_type": "markdown",
   "id": "6244f5a0",
   "metadata": {},
   "source": [
    "- the filter_sales_data function with the sales_data array and specify the filter values: product='Product A', region='Region 1', and month='Mar'.\n",
    "\n",
    "- The function filters the sales data based on these parameters and assigns the filtered result to the filtered_data variable. Then, we print the filtered_data array, which contains the rows that match all the specified filters."
   ]
  },
  {
   "cell_type": "code",
   "execution_count": null,
   "id": "6959ccef",
   "metadata": {},
   "outputs": [],
   "source": [
    "# Example usage\n",
    "filtered_data = filter_sales_data(sales_data, product='Product A', region='Region 1', month='Mar')\n",
    "print(filtered_data)\n"
   ]
  },
  {
   "attachments": {},
   "cell_type": "markdown",
   "id": "dc8012b2",
   "metadata": {},
   "source": [
    "<hr>"
   ]
  }
 ],
 "metadata": {
  "kernelspec": {
   "display_name": "Python 3 (ipykernel)",
   "language": "python",
   "name": "python3"
  },
  "language_info": {
   "codemirror_mode": {
    "name": "ipython",
    "version": 3
   },
   "file_extension": ".py",
   "mimetype": "text/x-python",
   "name": "python",
   "nbconvert_exporter": "python",
   "pygments_lexer": "ipython3",
   "version": "3.9.12"
  }
 },
 "nbformat": 4,
 "nbformat_minor": 5
}
