{
 "cells": [
  {
   "attachments": {},
   "cell_type": "markdown",
   "metadata": {},
   "source": [
    "# SESSION 5\n",
    "This session can be best explained alongwith ```Session 9```"
   ]
  },
  {
   "attachments": {},
   "cell_type": "markdown",
   "metadata": {},
   "source": [
    "TOC:<br>\n",
    "Section I) TensorFlow<br>\n",
    "\n",
    "1. Introduction to TensorFlow<br>\n",
    "2. Deep Learning<br>\n",
    "3. Artificial Neural Networks(ANN)\n",
    "4. Convolutional Neural Networks (CNN)<br>\n",
    "5. Recurrent Neural Networks (RNN)<br>\n",
    "6. Generative Adversarial Networks (GAN)<br>\n",
    "7. Object Detection and Tracking<br>\n",
    "8. Image Classification<br>\n",
    "\n",
    "Section II) Keras<br>\n",
    "\n",
    "1. Neural network models<br>\n",
    "2. Sequential Models<br>\n",
    "3. Functional Models<br>\n",
    "4. Model Optimization and Tuning<br>\n",
    "5. Regularization Techniques<br>\n",
    "\n",
    "Section III) Scikit learn<br>\n",
    "\n",
    "1. Regression models<br>\n",
    "2. Classification Problems<br>\n",
    "3. Decision Trees<br>\n",
    "4. Random Forest<br>\n",
    "5. Ensemble Learning<br>\n",
    "6. Scikit Learn - Project on Label Propagation"
   ]
  },
  {
   "attachments": {},
   "cell_type": "markdown",
   "metadata": {},
   "source": [
    "<hr>"
   ]
  },
  {
   "attachments": {},
   "cell_type": "markdown",
   "metadata": {},
   "source": [
    "## SECTION - I) TensorFlow"
   ]
  },
  {
   "attachments": {},
   "cell_type": "markdown",
   "metadata": {},
   "source": [
    "###  1.  Introduction to TensorFlow"
   ]
  },
  {
   "attachments": {},
   "cell_type": "markdown",
   "metadata": {},
   "source": [
    "TensorFlow is an open-source machine learning framework developed by Google. It provides a comprehensive set of tools and libraries for building and deploying machine learning models. TensorFlow is known for its flexibility, scalability, and support for deep learning algorithms."
   ]
  },
  {
   "attachments": {},
   "cell_type": "markdown",
   "metadata": {},
   "source": [
    "Here's an example of Python code that demonstrates the basics of TensorFlow:"
   ]
  },
  {
   "cell_type": "code",
   "execution_count": 1,
   "metadata": {},
   "outputs": [],
   "source": [
    "import tensorflow as tf"
   ]
  },
  {
   "attachments": {},
   "cell_type": "markdown",
   "metadata": {},
   "source": [
    "This is a very simple example, but it demonstrates the basic concepts of TensorFlow. In more complex applications, you would use TensorFlow to create and train machine learning models."
   ]
  },
  {
   "cell_type": "code",
   "execution_count": null,
   "metadata": {},
   "outputs": [],
   "source": [
    "import tensorflow as tf\n",
    "\n",
    "# Create a constant tensor\n",
    "x = tf.constant(5)\n",
    "\n",
    "# Create a variable tensor\n",
    "y = tf.Variable(10)\n",
    "\n",
    "# Add the two tensors\n",
    "z = tf.add(x, y)\n",
    "\n",
    "# Create a session to run the computation\n",
    "sess = tf.Session()\n",
    "\n",
    "# Print the result\n",
    "print(sess.run(z))"
   ]
  },
  {
   "attachments": {},
   "cell_type": "markdown",
   "metadata": {},
   "source": [
    "This code will print the output 15.\n",
    "\n",
    "Here is a more detailed explanation of what the code is doing:\n",
    "\n",
    "The first line imports the TensorFlow library.\n",
    "The second line creates a constant tensor with the value 5.\n",
    "The third line creates a variable tensor with the value 10.\n",
    "The fourth line adds the two tensors and stores the result in a new tensor called z.\n",
    "The fifth line creates a session to run the computation.\n",
    "The sixth line prints the result of the computation."
   ]
  },
  {
   "attachments": {},
   "cell_type": "markdown",
   "metadata": {},
   "source": [
    "<hr>"
   ]
  },
  {
   "attachments": {},
   "cell_type": "markdown",
   "metadata": {},
   "source": [
    "### 2. Deep Learning"
   ]
  },
  {
   "attachments": {},
   "cell_type": "markdown",
   "metadata": {},
   "source": [
    "Deep learning is a subfield of machine learning that focuses on building and training neural networks with multiple layers. Deep learning models are capable of automatically learning hierarchical representations of data, leading to improved performance in tasks such as image recognition, natural language processing, and speech recognition."
   ]
  },
  {
   "attachments": {},
   "cell_type": "markdown",
   "metadata": {},
   "source": [
    "Here's an example of Python code that demonstrates the construction of a deep learning model using TensorFlow:"
   ]
  },
  {
   "cell_type": "code",
   "execution_count": 4,
   "metadata": {},
   "outputs": [],
   "source": [
    "import tensorflow as tf\n",
    "from tensorflow.keras.models import Sequential\n",
    "from tensorflow.keras.layers import Dense"
   ]
  },
  {
   "cell_type": "code",
   "execution_count": 3,
   "metadata": {},
   "outputs": [
    {
     "name": "stdout",
     "output_type": "stream",
     "text": [
      "Epoch 1/10\n",
      "1875/1875 [==============================] - 14s 5ms/step - loss: 0.2618 - accuracy: 0.9253\n",
      "Epoch 2/10\n",
      "1875/1875 [==============================] - 10s 5ms/step - loss: 0.1129 - accuracy: 0.9665\n",
      "Epoch 3/10\n",
      "1875/1875 [==============================] - 10s 6ms/step - loss: 0.0774 - accuracy: 0.9772\n",
      "Epoch 4/10\n",
      "1875/1875 [==============================] - 11s 6ms/step - loss: 0.0583 - accuracy: 0.9821\n",
      "Epoch 5/10\n",
      "1875/1875 [==============================] - 9s 5ms/step - loss: 0.0459 - accuracy: 0.9862\n",
      "Epoch 6/10\n",
      "1875/1875 [==============================] - 10s 5ms/step - loss: 0.0362 - accuracy: 0.9886\n",
      "Epoch 7/10\n",
      "1875/1875 [==============================] - 10s 5ms/step - loss: 0.0282 - accuracy: 0.9916\n",
      "Epoch 8/10\n",
      "1875/1875 [==============================] - 7s 4ms/step - loss: 0.0229 - accuracy: 0.9931\n",
      "Epoch 9/10\n",
      "1875/1875 [==============================] - 9s 5ms/step - loss: 0.0198 - accuracy: 0.9939\n",
      "Epoch 10/10\n",
      "1875/1875 [==============================] - 8s 4ms/step - loss: 0.0157 - accuracy: 0.9951\n",
      "313/313 [==============================] - 2s 2ms/step - loss: 0.0762 - accuracy: 0.9794\n"
     ]
    },
    {
     "data": {
      "text/plain": [
       "[0.0761634036898613, 0.9793999791145325]"
      ]
     },
     "execution_count": 3,
     "metadata": {},
     "output_type": "execute_result"
    }
   ],
   "source": [
    "import tensorflow as tf\n",
    "\n",
    "# Import the MNIST dataset\n",
    "mnist = tf.keras.datasets.mnist\n",
    "\n",
    "# Load the training data\n",
    "(x_train, y_train), (x_test, y_test) = mnist.load_data()\n",
    "\n",
    "# Normalize the data\n",
    "x_train = x_train / 255.0\n",
    "x_test = x_test / 255.0\n",
    "\n",
    "# Define the model\n",
    "model = tf.keras.models.Sequential([\n",
    "    tf.keras.layers.Flatten(input_shape=(28, 28)),\n",
    "    tf.keras.layers.Dense(128, activation='relu'),\n",
    "    tf.keras.layers.Dense(10, activation='softmax')\n",
    "])\n",
    "\n",
    "# Compile the model\n",
    "model.compile(optimizer='adam', loss='sparse_categorical_crossentropy', metrics=['accuracy'])\n",
    "\n",
    "# Train the model\n",
    "model.fit(x_train, y_train, epochs=10)\n",
    "\n",
    "# Evaluate the model\n",
    "model.evaluate(x_test, y_test)"
   ]
  },
  {
   "attachments": {},
   "cell_type": "markdown",
   "metadata": {},
   "source": [
    "This code will create a deep learning model with two hidden layers, each with 128 neurons. The model will be trained on the MNIST dataset, which consists of 60,000 training images and 10,000 test images. The model will be trained for 10 epochs, and the accuracy will be evaluated on the test set after each epoch.\n",
    "\n",
    "The output of the code will be the accuracy of the model on the test set. In this example, the accuracy is likely to be around 98%."
   ]
  },
  {
   "attachments": {},
   "cell_type": "markdown",
   "metadata": {},
   "source": [
    "### 3. Artificial Neural Networks(ANN)"
   ]
  },
  {
   "attachments": {},
   "cell_type": "markdown",
   "metadata": {},
   "source": [
    "Artificial Neural Networks contain artificial neurons which are called units. These units are arranged in a series of layers that together constitute the whole Artificial Neural Network in a system. A layer can have only a dozen units or millions of units as this depends on how the complex neural networks will be required to learn the hidden patterns in the dataset."
   ]
  },
  {
   "attachments": {},
   "cell_type": "markdown",
   "metadata": {},
   "source": [
    "# Types of ANN : "
   ]
  },
  {
   "attachments": {},
   "cell_type": "markdown",
   "metadata": {},
   "source": [
    "<hr>"
   ]
  },
  {
   "attachments": {},
   "cell_type": "markdown",
   "metadata": {},
   "source": [
    "### 4. Convolutional Neural Networks (CNN)"
   ]
  },
  {
   "attachments": {},
   "cell_type": "markdown",
   "metadata": {},
   "source": [
    "Convolutional Neural Networks (CNNs) are a type of deep learning model specifically designed for processing grid-like data, such as images. CNNs use convolutional layers to automatically learn spatial hierarchies of features from the input data. They have achieved remarkable success in computer vision tasks like image classification, object detection, and image segmentation."
   ]
  },
  {
   "attachments": {},
   "cell_type": "markdown",
   "metadata": {},
   "source": [
    "Here's an example of Python code that demonstrates the construction and training of a Convolutional Neural Network (CNN) using TensorFlow:"
   ]
  },
  {
   "cell_type": "code",
   "execution_count": 7,
   "metadata": {},
   "outputs": [],
   "source": [
    "import tensorflow as tf\n",
    "from tensorflow.keras.models import Sequential\n",
    "from tensorflow.keras.layers import Conv2D, MaxPooling2D, Flatten, Dense"
   ]
  },
  {
   "attachments": {},
   "cell_type": "markdown",
   "metadata": {},
   "source": [
    "\n",
    "This code can be used to train a CNN to classify images from the CIFAR10 dataset. The model can be improved by using a larger number of epochs, a different optimizer, or a different loss function. The model can also be used to classify images from other datasets"
   ]
  },
  {
   "cell_type": "code",
   "execution_count": null,
   "metadata": {},
   "outputs": [],
   "source": [
    "import tensorflow as tf\n",
    "\n",
    "# Import the CIFAR10 dataset\n",
    "(x_train, y_train), (x_test, y_test) = tf.keras.datasets.cifar10.load_data()\n",
    "\n",
    "# Normalize the data\n",
    "x_train = x_train / 255.0\n",
    "x_test = x_test / 255.0\n",
    "\n",
    "# Define the model\n",
    "model = tf.keras.models.Sequential([\n",
    "  tf.keras.layers.Conv2D(32, (3, 3), padding='same', activation='relu', input_shape=(32, 32, 3)),\n",
    "  tf.keras.layers.MaxPooling2D((2, 2), strides=(2, 2)),\n",
    "  tf.keras.layers.Conv2D(64, (3, 3), padding='same', activation='relu'),\n",
    "  tf.keras.layers.MaxPooling2D((2, 2), strides=(2, 2)),\n",
    "  tf.keras.layers.Flatten(),\n",
    "  tf.keras.layers.Dense(128, activation='relu'),\n",
    "  tf.keras.layers.Dense(10, activation='softmax')\n",
    "])\n",
    "\n",
    "# Compile the model\n",
    "model.compile(optimizer='adam', loss='categorical_crossentropy', metrics=['accuracy'])\n",
    "\n",
    "# Train the model\n",
    "model.fit(x_train, y_train, epochs=10)\n",
    "\n",
    "# Evaluate the model\n",
    "model.evaluate(x_test, y_test)"
   ]
  },
  {
   "attachments": {},
   "cell_type": "markdown",
   "metadata": {},
   "source": [
    "This code will first import the CIFAR10 dataset, which is a collection of 60,000 32x32 color images of 10 different classes. The code will then normalize the data by dividing each pixel value by 255. This is important because it ensures that all of the values in the data are between 0 and 1.\n",
    "\n",
    "Next, the code will define the model. The model consists of 5 layers:\n",
    "\n",
    "A convolutional layer with 32 filters of size 3x3.\n",
    "A max pooling layer with a pool size of 2x2.\n",
    "Another convolutional layer with 64 filters of size 3x3.\n",
    "Another max pooling layer with a pool size of 2x2.\n",
    "A flattening layer that converts the 2D output of the previous layer to a 1D vector.\n",
    "A dense layer with 128 neurons.\n",
    "A final dense layer with 10 neurons, one for each class.\n",
    "The code will then compile the model using the Adam optimizer and the categorical crossentropy loss function. The model will then be trained for 10 epochs.\n",
    "\n",
    "Finally, the code will evaluate the model on the test set. The accuracy of the model will be printed to the console."
   ]
  },
  {
   "attachments": {},
   "cell_type": "markdown",
   "metadata": {},
   "source": [
    "<hr>"
   ]
  },
  {
   "attachments": {},
   "cell_type": "markdown",
   "metadata": {},
   "source": [
    "### 5. Recurrent Neural Networks (RNN)"
   ]
  },
  {
   "attachments": {},
   "cell_type": "markdown",
   "metadata": {},
   "source": [
    "Recurrent Neural Networks (RNNs) are a type of neural network that is well-suited for processing sequential data, such as time series or text. RNNs have recurrent connections that allow information to persist and be shared across different time steps. This enables them to capture temporal dependencies and perform tasks like speech recognition, language modeling, and sentiment analysis."
   ]
  },
  {
   "attachments": {},
   "cell_type": "markdown",
   "metadata": {},
   "source": [
    "Here's an example of Python code that demonstrates the construction and training of a Recurrent Neural Network (RNN) using TensorFlow:"
   ]
  },
  {
   "cell_type": "code",
   "execution_count": 1,
   "metadata": {},
   "outputs": [],
   "source": [
    "import tensorflow as tf\n",
    "from tensorflow.keras.models import Sequential\n",
    "from tensorflow.keras.layers import Embedding, LSTM, Dense"
   ]
  },
  {
   "attachments": {},
   "cell_type": "markdown",
   "metadata": {},
   "source": [
    "This code can be used to train an RNN to classify images from the MNIST dataset. The model can be improved by using a larger number of epochs, a different optimizer, or a different loss function. The model can also be used to classify images from other datasets."
   ]
  },
  {
   "cell_type": "code",
   "execution_count": null,
   "metadata": {},
   "outputs": [],
   "source": [
    "import tensorflow as tf\n",
    "\n",
    "# Import the MNIST dataset\n",
    "(x_train, y_train), (x_test, y_test) = tf.keras.datasets.mnist.load_data()\n",
    "\n",
    "# Normalize the data\n",
    "x_train = x_train / 255.0\n",
    "x_test = x_test / 255.0\n",
    "\n",
    "# Define the model\n",
    "model = tf.keras.models.Sequential([\n",
    "  tf.keras.layers.Embedding(784, 128),\n",
    "  tf.keras.layers.LSTM(128),\n",
    "  tf.keras.layers.Dense(10, activation='softmax')\n",
    "])\n",
    "\n",
    "# Compile the model\n",
    "model.compile(optimizer='adam', loss='sparse_categorical_crossentropy', metrics=['accuracy'])\n",
    "\n",
    "# Train the model\n",
    "model.fit(x_train, y_train, epochs=10)\n",
    "\n",
    "# Evaluate the model\n",
    "model.evaluate(x_test, y_test)"
   ]
  },
  {
   "attachments": {},
   "cell_type": "markdown",
   "metadata": {},
   "source": [
    "This code will first import the MNIST dataset, which is a collection of 60,000 28x28 grayscale images of handwritten digits. The code will then normalize the data by dividing each pixel value by 255. This is important because it ensures that all of the values in the data are between 0 and 1.\n",
    "\n",
    "Next, the code will define the model. The model consists of 3 layers:\n",
    "\n",
    "An embedding layer that converts each 28x28 image to a 128-dimensional vector.\n",
    "An LSTM layer with 128 units.\n",
    "A dense layer with 10 neurons, one for each class.\n",
    "The code will then compile the model using the Adam optimizer and the sparse categorical crossentropy loss function. The model will then be trained for 10 epochs.\n",
    "\n",
    "Finally, the code will evaluate the model on the test set. The accuracy of the model will be printed to the console."
   ]
  },
  {
   "attachments": {},
   "cell_type": "markdown",
   "metadata": {},
   "source": [
    "<hr>"
   ]
  },
  {
   "attachments": {},
   "cell_type": "markdown",
   "metadata": {},
   "source": [
    "### 6. Generative Adversarial Networks (GAN)"
   ]
  },
  {
   "attachments": {},
   "cell_type": "markdown",
   "metadata": {},
   "source": [
    "Generative Adversarial Networks (GANs) are a class of deep learning models that involve two neural networks: a generator and a discriminator. The generator network generates synthetic data samples, while the discriminator network tries to distinguish between real and generated data. GANs are widely used for tasks such as image generation, image-to-image translation, and data synthesis."
   ]
  },
  {
   "attachments": {},
   "cell_type": "markdown",
   "metadata": {},
   "source": [
    "Here's an example of Python code that demonstrates the implementation of a basic Generative Adversarial Network (GAN) using TensorFlow:"
   ]
  },
  {
   "cell_type": "code",
   "execution_count": 34,
   "metadata": {},
   "outputs": [],
   "source": [
    "import tensorflow as tf\n",
    "from tensorflow.keras import layers\n",
    "import numpy as np\n",
    "import matplotlib.pyplot as plt"
   ]
  },
  {
   "attachments": {},
   "cell_type": "markdown",
   "metadata": {},
   "source": [
    "Define the generator network"
   ]
  },
  {
   "cell_type": "code",
   "execution_count": 35,
   "metadata": {},
   "outputs": [],
   "source": [
    "def build_generator(latent_dim):\n",
    "    model = tf.keras.Sequential()\n",
    "    model.add(layers.Dense(256, input_dim=latent_dim, activation='relu'))\n",
    "    model.add(layers.BatchNormalization())\n",
    "    model.add(layers.Dense(512, activation='relu'))\n",
    "    model.add(layers.BatchNormalization())\n",
    "    model.add(layers.Dense(1024, activation='relu'))\n",
    "    model.add(layers.BatchNormalization())\n",
    "    model.add(layers.Dense(784, activation='tanh'))\n",
    "    model.add(layers.Reshape((28, 28, 1)))\n",
    "    return model"
   ]
  },
  {
   "attachments": {},
   "cell_type": "markdown",
   "metadata": {},
   "source": [
    "Define the discriminator network"
   ]
  },
  {
   "cell_type": "code",
   "execution_count": 36,
   "metadata": {},
   "outputs": [],
   "source": [
    "def build_discriminator():\n",
    "    model = tf.keras.Sequential()\n",
    "    model.add(layers.Flatten(input_shape=(28, 28, 1)))\n",
    "    model.add(layers.Dense(512, activation='relu'))\n",
    "    model.add(layers.Dense(256, activation='relu'))\n",
    "    model.add(layers.Dense(1, activation='sigmoid'))\n",
    "    return model"
   ]
  },
  {
   "attachments": {},
   "cell_type": "markdown",
   "metadata": {},
   "source": [
    "Define the loss functions"
   ]
  },
  {
   "cell_type": "code",
   "execution_count": 37,
   "metadata": {},
   "outputs": [],
   "source": [
    "cross_entropy = tf.keras.losses.BinaryCrossentropy(from_logits=True)"
   ]
  },
  {
   "attachments": {},
   "cell_type": "markdown",
   "metadata": {},
   "source": [
    "Define the generator and discriminator models"
   ]
  },
  {
   "cell_type": "code",
   "execution_count": 38,
   "metadata": {},
   "outputs": [],
   "source": [
    "latent_dim = 100\n",
    "generator = build_generator(latent_dim)\n",
    "discriminator = build_discriminator()"
   ]
  },
  {
   "attachments": {},
   "cell_type": "markdown",
   "metadata": {},
   "source": [
    "Define the optimizer for both models"
   ]
  },
  {
   "cell_type": "code",
   "execution_count": 39,
   "metadata": {},
   "outputs": [],
   "source": [
    "generator_optimizer = tf.keras.optimizers.Adam(1e-4)\n",
    "discriminator_optimizer = tf.keras.optimizers.Adam(1e-4)"
   ]
  },
  {
   "attachments": {},
   "cell_type": "markdown",
   "metadata": {},
   "source": [
    "Define the training loop"
   ]
  },
  {
   "cell_type": "code",
   "execution_count": 40,
   "metadata": {},
   "outputs": [],
   "source": [
    "num_epochs = 50\n",
    "batch_size = 128\n",
    "random_dim = 100\n",
    "num_examples_to_generate = 16"
   ]
  },
  {
   "attachments": {},
   "cell_type": "markdown",
   "metadata": {},
   "source": [
    "Create random noise samples for testing the generator"
   ]
  },
  {
   "cell_type": "code",
   "execution_count": 41,
   "metadata": {},
   "outputs": [],
   "source": [
    "test_seed = tf.random.normal([num_examples_to_generate, random_dim])"
   ]
  },
  {
   "attachments": {},
   "cell_type": "markdown",
   "metadata": {},
   "source": [
    "Define a function to generate images using the generator"
   ]
  },
  {
   "cell_type": "code",
   "execution_count": 42,
   "metadata": {},
   "outputs": [],
   "source": [
    "def generate_images(model, test_input):\n",
    "    predictions = model(test_input, training=False)\n",
    "    fig = plt.figure(figsize=(4, 4))\n",
    "    for i in range(predictions.shape[0]):\n",
    "        plt.subplot(4, 4, i+1)\n",
    "        plt.imshow(predictions[i, :, :, 0] * 0.5 + 0.5, cmap='gray')\n",
    "        plt.axis('off')\n",
    "    plt.show()"
   ]
  },
  {
   "attachments": {},
   "cell_type": "markdown",
   "metadata": {},
   "source": [
    "Define the training loop"
   ]
  },
  {
   "cell_type": "code",
   "execution_count": 43,
   "metadata": {},
   "outputs": [],
   "source": [
    "@tf.function\n",
    "def train_step(images):\n",
    "    noise = tf.random.normal([batch_size, random_dim])\n",
    "    with tf.GradientTape() as gen_tape, tf.GradientTape() as disc_tape:\n",
    "        generated_images = generator(noise, training=True)\n",
    "        real_output = discriminator(images, training=True)\n",
    "        fake_output = discriminator(generated_images, training=True)\n",
    "        gen_loss = cross_entropy(tf.ones_like(fake_output), fake_output)\n",
    "        disc_loss_real = cross_entropy(tf.ones_like(real_output), real_output)\n",
    "        disc_loss_fake = cross_entropy(tf.zeros_like(fake_output), fake_output)\n",
    "        disc_loss = disc_loss_real + disc_loss_fake\n",
    "    gradients_of_generator = gen_tape.gradient(gen_loss, generator.trainable_variables)\n",
    "    gradients_of_discriminator = disc_tape.gradient(disc_loss, discriminator.trainable_variables)\n",
    "    generator_optimizer.apply_gradients(zip(gradients_of_generator, generator.trainable_variables))\n",
    "    discriminator_optimizer.apply_gradients(zip(gradients_of_discriminator, discriminator.trainable_variables))"
   ]
  },
  {
   "attachments": {},
   "cell_type": "markdown",
   "metadata": {},
   "source": [
    "Start the training"
   ]
  },
  {
   "cell_type": "code",
   "execution_count": 44,
   "metadata": {},
   "outputs": [],
   "source": [
    "def train(dataset, epochs):\n",
    "    for epoch in range(epochs):\n",
    "        for image_batch in dataset:\n",
    "            train_step(image_batch)\n",
    "\n",
    "        # Generate images after each epoch\n",
    "        generate_images(generator, test_seed)"
   ]
  },
  {
   "attachments": {},
   "cell_type": "markdown",
   "metadata": {},
   "source": [
    "Load and preprocess the MNIST dataset"
   ]
  },
  {
   "cell_type": "code",
   "execution_count": 45,
   "metadata": {},
   "outputs": [
    {
     "name": "stdout",
     "output_type": "stream",
     "text": [
      "Downloading data from https://storage.googleapis.com/tensorflow/tf-keras-datasets/mnist.npz\n",
      "11490434/11490434 [==============================] - 23s 2us/step\n"
     ]
    }
   ],
   "source": [
    "(train_images, train_labels), (_, _) = tf.keras.datasets.mnist.load_data()\n",
    "train_images = train_images.reshape(train_images.shape[0], 28, 28, 1).astype('float32')\n",
    "train_images = (train_images - 127.5) / 127.5  # Normalize the images to [-1, 1]\n",
    "train_dataset = tf.data.Dataset.from_tensor_slices(train_images).shuffle(60000).batch(batch_size)"
   ]
  },
  {
   "attachments": {},
   "cell_type": "markdown",
   "metadata": {},
   "source": [
    "Start the training"
   ]
  },
  {
   "cell_type": "code",
   "execution_count": null,
   "metadata": {},
   "outputs": [],
   "source": [
    "train(train_dataset, num_epochs)"
   ]
  },
  {
   "attachments": {},
   "cell_type": "markdown",
   "metadata": {},
   "source": [
    "In this code, we define a basic GAN for generating handwritten digit images using the MNIST dataset. The generator network takes random noise as input and generates synthetic images. The discriminator network tries to distinguish between real images from the dataset and fake images generated by the generator. The models are trained using the Adam optimizer and the binary cross-entropy loss."
   ]
  },
  {
   "attachments": {},
   "cell_type": "markdown",
   "metadata": {},
   "source": [
    "The training loop consists of multiple epochs, where in each epoch, we iterate over the dataset and perform a forward and backward pass to update the generator and discriminator models. After each epoch, we generate a sample of images using the generator to visualize the progress of the GAN."
   ]
  },
  {
   "attachments": {},
   "cell_type": "markdown",
   "metadata": {},
   "source": [
    "<hr>"
   ]
  },
  {
   "attachments": {},
   "cell_type": "markdown",
   "metadata": {},
   "source": [
    "### 7. Object Detection and Tracking"
   ]
  },
  {
   "attachments": {},
   "cell_type": "markdown",
   "metadata": {},
   "source": [
    "Object detection and tracking involve identifying and locating objects within images or videos and tracking their movements across frames. TensorFlow provides pre-trained models like the Single Shot MultiBox Detector (SSD) and the Faster R-CNN for object detection. These models can be fine-tuned on custom datasets or used directly for tasks such as object detection, instance segmentation, and object tracking."
   ]
  },
  {
   "attachments": {},
   "cell_type": "markdown",
   "metadata": {},
   "source": [
    "Here's an example of Python code that demonstrates the use of TensorFlow for object detection and tracking using a pre-trained model:"
   ]
  },
  {
   "cell_type": "code",
   "execution_count": null,
   "metadata": {},
   "outputs": [],
   "source": [
    "import cv2\n",
    "import numpy as np\n",
    "import tensorflow as tf\n",
    "from object_detection.utils import label_map_util\n",
    "from object_detection.utils import visualization_utils as vis_util"
   ]
  },
  {
   "attachments": {},
   "cell_type": "markdown",
   "metadata": {},
   "source": [
    "This is a very simple example, but it demonstrates the basic concepts of object detection and tracking using TensorFlow. In more complex applications, you would use TensorFlow to detect and track objects in real-time, such as in self-driving cars or video surveillance systems."
   ]
  },
  {
   "cell_type": "code",
   "execution_count": null,
   "metadata": {},
   "outputs": [],
   "source": [
    "import tensorflow as tf\n",
    "from object_detection.utils import visualization_utils as vis_utils\n",
    "\n",
    "# Load the pre-trained model\n",
    "model = tf.saved_model.load('path/to/model')\n",
    "\n",
    "# Create a video capture object\n",
    "cap = cv2.VideoCapture('path/to/video')\n",
    "\n",
    "# Loop over the frames in the video\n",
    "while cap.isOpened():\n",
    "\n",
    "    # Capture the current frame\n",
    "    ret, frame = cap.read()\n",
    "\n",
    "    # Convert the frame to a tensor\n",
    "    image = tf.convert_to_tensor(frame)\n",
    "\n",
    "    # Run the model on the image\n",
    "    detections = model(image)\n",
    "\n",
    "    # Visualize the detections\n",
    "    vis_utils.visualize_boxes_and_labels_on_image_array(\n",
    "        frame,\n",
    "        detections['detection_boxes'],\n",
    "        detections['detection_classes'],\n",
    "        detections['detection_scores'],\n",
    "        category_index=None,\n",
    "        use_normalized_coordinates=True,\n",
    "        line_thickness=2,\n",
    "        min_score_thresh=0.5)\n",
    "\n",
    "    # Display the frame\n",
    "    cv2.imshow('Object Detection', frame)\n",
    "\n",
    "    # Wait for a key press\n",
    "    key = cv2.waitKey(1)\n",
    "\n",
    "    # If the user presses `q`, stop the loop\n",
    "    if key == ord('q'):\n",
    "        break\n",
    "\n",
    "# Close the video capture object\n",
    "cap.release()\n",
    "\n",
    "# Destroy all windows\n",
    "cv2.destroyAllWindows()"
   ]
  },
  {
   "attachments": {},
   "cell_type": "markdown",
   "metadata": {},
   "source": [
    "This code will load a pre-trained object detection model and use it to detect objects in a video. The detected objects will be visualized on the video frame. The user can press the q key to stop the loop.\n",
    "\n",
    "Here is a more detailed explanation of what the code is doing:\n",
    "\n",
    "The first line imports the TensorFlow library.\n",
    "The second line imports the OpenCV library.\n",
    "The third line loads the pre-trained model.\n",
    "The fourth line creates a video capture object.\n",
    "The fifth line loops over the frames in the video.\n",
    "The sixth line captures the current frame.\n",
    "The seventh line converts the frame to a tensor.\n",
    "The eighth line runs the model on the image.\n",
    "The ninth line visualizes the detections.\n",
    "The tenth line displays the frame.\n",
    "The eleventh line waits for a key press.\n",
    "The twelfth line closes the video capture object.\n",
    "The thirteenth line destroys all windows."
   ]
  },
  {
   "attachments": {},
   "cell_type": "markdown",
   "metadata": {},
   "source": [
    "<hr>"
   ]
  },
  {
   "attachments": {},
   "cell_type": "markdown",
   "metadata": {},
   "source": [
    "### 8. Image Classification"
   ]
  },
  {
   "attachments": {},
   "cell_type": "markdown",
   "metadata": {},
   "source": [
    "Image classification is the task of assigning labels or categories to images based on their content. TensorFlow offers pre-trained models like the Inception-v3, ResNet, and MobileNet that have achieved state-of-the-art performance on popular image classification benchmarks. These models can be used as-is or fine-tuned on custom datasets for specific image classification tasks."
   ]
  },
  {
   "attachments": {},
   "cell_type": "markdown",
   "metadata": {},
   "source": [
    "Here's an example of Python code that demonstrates image classification using a pre-trained model in TensorFlow:"
   ]
  },
  {
   "cell_type": "code",
   "execution_count": 31,
   "metadata": {},
   "outputs": [],
   "source": [
    "import tensorflow as tf\n",
    "from tensorflow.keras.applications import InceptionV3\n",
    "from tensorflow.keras.preprocessing import image\n",
    "from tensorflow.keras.applications.inception_v3 import preprocess_input, decode_predictions\n",
    "import numpy as np"
   ]
  },
  {
   "attachments": {},
   "cell_type": "markdown",
   "metadata": {},
   "source": [
    "Load the pre-trained InceptionV3 model"
   ]
  },
  {
   "cell_type": "code",
   "execution_count": 32,
   "metadata": {},
   "outputs": [
    {
     "name": "stdout",
     "output_type": "stream",
     "text": [
      "Downloading data from https://storage.googleapis.com/tensorflow/keras-applications/inception_v3/inception_v3_weights_tf_dim_ordering_tf_kernels.h5\n",
      "96112376/96112376 [==============================] - 180s 2us/step\n"
     ]
    }
   ],
   "source": [
    "model = InceptionV3(weights='imagenet')"
   ]
  },
  {
   "attachments": {},
   "cell_type": "markdown",
   "metadata": {},
   "source": [
    "Load and preprocess the image"
   ]
  },
  {
   "cell_type": "code",
   "execution_count": null,
   "metadata": {},
   "outputs": [],
   "source": [
    "img_path = 'path/to/your/image.jpg'\n",
    "img = image.load_img(img_path, target_size=(299, 299))\n",
    "x = image.img_to_array(img)\n",
    "x = np.expand_dims(x, axis=0)\n",
    "x = preprocess_input(x)"
   ]
  },
  {
   "attachments": {},
   "cell_type": "markdown",
   "metadata": {},
   "source": [
    "Perform image classification"
   ]
  },
  {
   "cell_type": "code",
   "execution_count": null,
   "metadata": {},
   "outputs": [],
   "source": [
    "preds = model.predict(x)\n",
    "decoded_preds = decode_predictions(preds, top=3)[0]"
   ]
  },
  {
   "attachments": {},
   "cell_type": "markdown",
   "metadata": {},
   "source": [
    "Print the top predictions"
   ]
  },
  {
   "cell_type": "code",
   "execution_count": null,
   "metadata": {},
   "outputs": [],
   "source": [
    "print('Predicted:', decoded_preds)"
   ]
  },
  {
   "attachments": {},
   "cell_type": "markdown",
   "metadata": {},
   "source": [
    "###### Output:<br>\n",
    "###### Predicted: [('n02124075', 'Egyptian_cat', 0.6964707), ('n02123045', 'tabby', 0.121809535), ('n02123159', 'tiger_cat', 0.070878185)]"
   ]
  },
  {
   "attachments": {},
   "cell_type": "markdown",
   "metadata": {},
   "source": [
    "In this code, we first load the pre-trained InceptionV3 model using the InceptionV3 class from tensorflow.keras.applications. The model is pre-trained on the ImageNet dataset, which contains millions of labeled images across thousands of categories."
   ]
  },
  {
   "attachments": {},
   "cell_type": "markdown",
   "metadata": {},
   "source": [
    "We then load and preprocess the image that we want to classify. The image is loaded using image.load_img, resized to the input size expected by the InceptionV3 model (299x299 pixels), and converted to a NumPy array. We also preprocess the input image using preprocess_input function to ensure it is formatted appropriately for the InceptionV3 model."
   ]
  },
  {
   "attachments": {},
   "cell_type": "markdown",
   "metadata": {},
   "source": [
    "Next, we pass the preprocessed image through the model using model.predict. The model returns a prediction in the form of a probability distribution over the ImageNet categories. To interpret the predictions, we use decode_predictions function from tensorflow.keras.applications.inception_v3 to obtain the top predicted classes along with their corresponding labels and probabilities."
   ]
  },
  {
   "attachments": {},
   "cell_type": "markdown",
   "metadata": {},
   "source": [
    "Finally, we print the top predictions. In the example output shown in the code comments, the model predicts that the image contains an Egyptian cat with a probability of 69.65%, followed by the labels \"tabby\" and \"tiger_cat\" with probabilities of 12.18% and 7.09% respectively."
   ]
  },
  {
   "attachments": {},
   "cell_type": "markdown",
   "metadata": {},
   "source": [
    "<hr>"
   ]
  },
  {
   "attachments": {},
   "cell_type": "markdown",
   "metadata": {},
   "source": [
    "## SECTION - II) Keras"
   ]
  },
  {
   "attachments": {},
   "cell_type": "markdown",
   "metadata": {},
   "source": [
    "Keras is a high-level neural networks library written in Python that runs on top of TensorFlow, CNTK, or Theano. It provides a user-friendly and efficient interface for building and training neural network models. Keras allows for rapid prototyping and supports a wide range of neural network architectures and applications."
   ]
  },
  {
   "attachments": {},
   "cell_type": "markdown",
   "metadata": {},
   "source": [
    "#### 1. Neural Network Models:\n",
    "Neural network models in Keras are built by stacking layers on top of each other. Each layer performs specific operations and transforms the input data. Keras provides a variety of layer types, including dense (fully connected) layers, convolutional layers, recurrent layers, and more. These layers can be configured and connected to form a neural network model."
   ]
  },
  {
   "attachments": {},
   "cell_type": "markdown",
   "metadata": {},
   "source": [
    "#### 2. Sequential Models:\n",
    "Sequential models in Keras are a linear stack of layers, where each layer has exactly one input tensor and one output tensor. Sequential models are appropriate for building simple feedforward neural networks. Here's an example of creating a sequential model in Keras:"
   ]
  },
  {
   "cell_type": "code",
   "execution_count": 35,
   "metadata": {},
   "outputs": [],
   "source": [
    "from tensorflow.keras.models import Sequential\n",
    "from tensorflow.keras.layers import Dense"
   ]
  },
  {
   "attachments": {},
   "cell_type": "markdown",
   "metadata": {},
   "source": [
    "### 3. Functional Models:\n",
    "Functional models in Keras allow for more complex network architectures by allowing layers to be connected in a more flexible manner. It enables the creation of models with multiple input or output tensors, shared layers, and branching structures. Here's an example of creating a functional model in Keras:"
   ]
  },
  {
   "cell_type": "code",
   "execution_count": null,
   "metadata": {},
   "outputs": [],
   "source": [
    "from tensorflow.keras.models import Model\n",
    "from tensorflow.keras.layers import Input, Dense"
   ]
  },
  {
   "attachments": {},
   "cell_type": "markdown",
   "metadata": {},
   "source": [
    "### 4. Model Optimization and Tuning:\n",
    "Keras provides a range of optimization algorithms (optimizers) that can be used to train neural network models. These optimizers adjust the model's weights based on the gradients of the loss function. Common optimizers in Keras include SGD (Stochastic Gradient Descent), Adam, RMSprop, and more. Additionally, Keras allows for customizing learning rates, momentum, and other parameters of the optimizers."
   ]
  },
  {
   "attachments": {},
   "cell_type": "markdown",
   "metadata": {},
   "source": [
    "### 5. Regularization Techniques:\n",
    "Regularization techniques in Keras help prevent overfitting, which occurs when a model performs well on the training data but fails to generalize to unseen data. Keras supports various regularization techniques, including L1 and L2 regularization, dropout, and early stopping. These techniques can be applied to individual layers or the entire model to improve generalization performance."
   ]
  },
  {
   "attachments": {},
   "cell_type": "markdown",
   "metadata": {},
   "source": [
    "<hr>"
   ]
  },
  {
   "attachments": {},
   "cell_type": "markdown",
   "metadata": {},
   "source": [
    "## SECTION - III) Scikit-learn"
   ]
  },
  {
   "attachments": {},
   "cell_type": "markdown",
   "metadata": {},
   "source": [
    "Scikit-learn is a popular machine learning library in Python that provides a wide range of tools and algorithms for various machine learning tasks. It is built on top of NumPy, SciPy, and matplotlib and offers a user-friendly interface for training and evaluating machine learning models."
   ]
  },
  {
   "attachments": {},
   "cell_type": "markdown",
   "metadata": {},
   "source": [
    "### 1. Regression Models:\n",
    "Scikit-learn provides several regression models for predicting continuous target variables. Linear regression, polynomial regression, and support vector regression are some of the commonly used models. Here's an example of training a linear regression model in scikit-learn:"
   ]
  },
  {
   "cell_type": "code",
   "execution_count": 38,
   "metadata": {},
   "outputs": [],
   "source": [
    "from sklearn.linear_model import LinearRegression"
   ]
  },
  {
   "cell_type": "code",
   "execution_count": null,
   "metadata": {},
   "outputs": [],
   "source": [
    "import numpy as np\n",
    "import pandas as pd\n",
    "from sklearn.linear_model import LinearRegression\n",
    "\n",
    "# Load the data\n",
    "df = pd.read_csv('data/stock_prices.csv')\n",
    "\n",
    "# Split the data into features and target\n",
    "X = df.drop('target', axis=1)\n",
    "y = df['target']\n",
    "\n",
    "# Create the model\n",
    "model = LinearRegression()\n",
    "\n",
    "# Fit the model\n",
    "model.fit(X, y)\n",
    "\n",
    "# Make predictions\n",
    "predictions = model.predict(X)\n",
    "\n",
    "# Evaluate the model\n",
    "mse = np.mean((predictions - y)**2)\n",
    "print('MSE:', mse)"
   ]
  },
  {
   "attachments": {},
   "cell_type": "markdown",
   "metadata": {},
   "source": [
    "### 2. Classification Models:\n",
    "# Decision Trees \n",
    "Scikit-learn includes a wide range of classification models for predicting categorical target variables. Logistic regression, decision trees, random forests, and support vector machines (SVM) are some of the classification models available. Here's an example of training a decision tree classifier in scikit-learn:"
   ]
  },
  {
   "cell_type": "code",
   "execution_count": null,
   "metadata": {},
   "outputs": [],
   "source": [
    "from sklearn.tree import DecisionTreeClassifier"
   ]
  },
  {
   "attachments": {},
   "cell_type": "markdown",
   "metadata": {},
   "source": [
    "Create a decision tree classifier"
   ]
  },
  {
   "cell_type": "code",
   "execution_count": null,
   "metadata": {},
   "outputs": [],
   "source": [
    "model = DecisionTreeClassifier()"
   ]
  },
  {
   "attachments": {},
   "cell_type": "markdown",
   "metadata": {},
   "source": [
    "Train the model"
   ]
  },
  {
   "cell_type": "code",
   "execution_count": null,
   "metadata": {},
   "outputs": [],
   "source": [
    "model.fit(X_train, y_train)"
   ]
  },
  {
   "attachments": {},
   "cell_type": "markdown",
   "metadata": {},
   "source": [
    "Make predictions"
   ]
  },
  {
   "cell_type": "code",
   "execution_count": null,
   "metadata": {},
   "outputs": [],
   "source": [
    "y_pred = model.predict(X_test)"
   ]
  },
  {
   "attachments": {},
   "cell_type": "markdown",
   "metadata": {},
   "source": [
    "### 3. Model Selection and Evaluation using Logistic Regression:\n",
    "Scikit-learn provides tools for model selection and evaluation, including techniques for cross-validation, hyperparameter tuning, and model evaluation metrics. Here's an example of performing cross-validation and evaluating a model's performance:"
   ]
  },
  {
   "cell_type": "code",
   "execution_count": null,
   "metadata": {},
   "outputs": [],
   "source": [
    "from sklearn.model_selection import cross_val_score\n",
    "from sklearn.linear_model import LogisticRegression"
   ]
  },
  {
   "attachments": {},
   "cell_type": "markdown",
   "metadata": {},
   "source": [
    "Create a logistic regression model"
   ]
  },
  {
   "cell_type": "code",
   "execution_count": null,
   "metadata": {},
   "outputs": [],
   "source": [
    "model = LogisticRegression()"
   ]
  },
  {
   "attachments": {},
   "cell_type": "markdown",
   "metadata": {},
   "source": [
    "Perform cross-validation"
   ]
  },
  {
   "cell_type": "code",
   "execution_count": null,
   "metadata": {},
   "outputs": [],
   "source": [
    "scores = cross_val_score(model, X, y, cv=5)"
   ]
  },
  {
   "attachments": {},
   "cell_type": "markdown",
   "metadata": {},
   "source": [
    "Calculate the mean accuracy"
   ]
  },
  {
   "cell_type": "code",
   "execution_count": null,
   "metadata": {},
   "outputs": [],
   "source": [
    "mean_accuracy = scores.mean()"
   ]
  },
  {
   "attachments": {},
   "cell_type": "markdown",
   "metadata": {},
   "source": [
    "# 4. Random Forest:"
   ]
  },
  {
   "cell_type": "code",
   "execution_count": null,
   "metadata": {},
   "outputs": [],
   "source": [
    "from sklearn.ensemble import RandomForestClassifier"
   ]
  },
  {
   "attachments": {},
   "cell_type": "markdown",
   "metadata": {},
   "source": [
    "Create a Random Forest classifier"
   ]
  },
  {
   "cell_type": "code",
   "execution_count": null,
   "metadata": {},
   "outputs": [],
   "source": [
    "model = RandomForestClassifier()"
   ]
  },
  {
   "attachments": {},
   "cell_type": "markdown",
   "metadata": {},
   "source": [
    "Train the model"
   ]
  },
  {
   "cell_type": "code",
   "execution_count": null,
   "metadata": {},
   "outputs": [],
   "source": [
    "model.fit(X_train, y_train)"
   ]
  },
  {
   "attachments": {},
   "cell_type": "markdown",
   "metadata": {},
   "source": [
    "Make predictions"
   ]
  },
  {
   "cell_type": "code",
   "execution_count": null,
   "metadata": {},
   "outputs": [],
   "source": [
    "y_pred = model.predict(X_test)"
   ]
  },
  {
   "attachments": {},
   "cell_type": "markdown",
   "metadata": {},
   "source": [
    "### 5. Ensemble Methods:\n",
    "Scikit-learn provides ensemble methods that combine multiple base models to improve overall performance. Random Forests, AdaBoost, and Gradient Boosting are popular ensemble methods in scikit-learn. Here's an example of training a Random Forest classifier:"
   ]
  },
  {
   "attachments": {},
   "cell_type": "markdown",
   "metadata": {},
   "source": [
    "# Semi-Supervised Learning"
   ]
  },
  {
   "attachments": {},
   "cell_type": "markdown",
   "metadata": {},
   "source": [
    "Semi-supervised learning is a type of machine learning where a model is trained on both labeled and unlabeled data. It combines elements of supervised learning (using labeled data) and unsupervised learning (using unlabeled data) to improve the model's performance.\n",
    "\n",
    "\n",
    "\n",
    "Semi-supervised learning is particularly useful when labeled data is scarce but unlabeled data is abundant. It allows the model to leverage the unlabeled data to improve its performance."
   ]
  },
  {
   "attachments": {},
   "cell_type": "markdown",
   "metadata": {},
   "source": [
    "In this description, we'll explore how to perform semi-supervised learning using Python. We'll use the scikit-learn library, which provides various machine learning algorithms and tools.\n",
    "\n",
    "First, let's start by installing scikit-learn if you haven't already. You can use the following command to install it via pip:"
   ]
  },
  {
   "cell_type": "code",
   "execution_count": null,
   "metadata": {},
   "outputs": [],
   "source": [
    "pip install scikit-learn"
   ]
  },
  {
   "cell_type": "code",
   "execution_count": null,
   "metadata": {},
   "outputs": [],
   "source": [
    "# Step 1: Import the necessary libraries\n",
    "from sklearn.semi_supervised import LabelPropagation\n",
    "from sklearn.datasets import make_classification\n",
    "\n",
    "# Step 2: Generate a synthetic dataset\n",
    "X, y = make_classification(n_samples=1000, n_features=10, n_informative=8, n_redundant=2, random_state=42)\n",
    "\n",
    "# Step 3: Split the dataset into labeled and unlabeled data\n",
    "labeled_X = X[:100]  # First 100 samples are labeled\n",
    "labeled_y = y[:100]  # Corresponding labels for the labeled samples\n",
    "unlabeled_X = X[100:]  # Remaining samples are unlabeled\n",
    "\n",
    "# Step 4: Create a semi-supervised learning model and fit it\n",
    "model = LabelPropagation()\n",
    "model.fit(labeled_X, labeled_y)\n",
    "\n",
    "# Step 5: Predict the labels for the unlabeled data\n",
    "predicted_labels = model.transduction_[100:]\n",
    "\n",
    "# Step 6: Evaluate the model's performance on the labeled data\n",
    "accuracy = model.score(labeled_X, labeled_y)\n",
    "\n",
    "# Step 7: Print the results\n",
    "print(\"Accuracy on labeled data: {:.2f}%\".format(accuracy * 100))"
   ]
  },
  {
   "attachments": {},
   "cell_type": "markdown",
   "metadata": {},
   "source": [
    "# Confusion Matrix: "
   ]
  },
  {
   "attachments": {},
   "cell_type": "markdown",
   "metadata": {},
   "source": [
    "Confusion matrix is a popular tool for evaluating the performance of classification models. It provides a comprehensive summary of how well the model has classified the different classes in a dataset. In this description, we'll explore how to create and interpret a confusion matrix using Python.\n",
    "\n",
    "Analyzing the confusion matrix can provide insights into the performance of the classification model, such as identifying which classes are frequently misclassified."
   ]
  },
  {
   "cell_type": "code",
   "execution_count": null,
   "metadata": {},
   "outputs": [],
   "source": [
    "# Step 1: Import the necessary libraries\n",
    "from sklearn.metrics import confusion_matrix\n",
    "import seaborn as sns\n",
    "import matplotlib.pyplot as plt\n",
    "\n",
    "# Step 2: Define the true labels and predicted labels\n",
    "true_labels = [1, 0, 1, 1, 0, 1, 0, 0, 1, 0]\n",
    "predicted_labels = [1, 1, 1, 0, 0, 1, 0, 1, 0, 1]\n",
    "\n",
    "# Step 3: Create a confusion matrix\n",
    "cm = confusion_matrix(true_labels, predicted_labels)\n",
    "\n",
    "# Step 4: Visualize the confusion matrix\n",
    "plt.figure(figsize=(6, 4))\n",
    "sns.heatmap(cm, annot=True, fmt=\"d\", cmap=\"Blues\")\n",
    "plt.title(\"Confusion Matrix\")\n",
    "plt.xlabel(\"Predicted Labels\")\n",
    "plt.ylabel(\"True Labels\")\n",
    "plt.show()"
   ]
  },
  {
   "attachments": {},
   "cell_type": "markdown",
   "metadata": {},
   "source": [
    "#  6. Scikit Learn - Project on Label Propagation"
   ]
  },
  {
   "attachments": {},
   "cell_type": "markdown",
   "metadata": {},
   "source": [
    "# Label Propagation digits active learning\n",
    "\n",
    "Demonstrates an active learning technique to learn handwritten digits\n",
    "using label propagation.\n",
    "\n",
    "We start by training a label propagation model with only 10 labeled points,\n",
    "then we select the top five most uncertain points to label. Next, we train\n",
    "with 15 labeled points (original 10 + 5 new ones). We repeat this process\n",
    "four times to have a model trained with 30 labeled examples. Note you can\n",
    "increase this to label more than 30 by changing `max_iterations`. Labeling\n",
    "more than 30 can be useful to get a sense for the speed of convergence of\n",
    "this active learning technique.\n",
    "\n",
    "A plot will appear showing the top 5 most uncertain digits for each iteration\n",
    "of training. These may or may not contain mistakes, but we will train the next\n",
    "model with their true labels.\n"
   ]
  },
  {
   "attachments": {},
   "cell_type": "markdown",
   "metadata": {},
   "source": [
    "### Imports"
   ]
  },
  {
   "cell_type": "code",
   "execution_count": 2,
   "metadata": {},
   "outputs": [],
   "source": [
    "import numpy as np\n",
    "import matplotlib.pyplot as plt\n",
    "from scipy import stats\n",
    "\n",
    "from sklearn import datasets\n",
    "from sklearn.semi_supervised import LabelSpreading\n",
    "from sklearn.metrics import classification_report, confusion_matrix"
   ]
  },
  {
   "attachments": {},
   "cell_type": "markdown",
   "metadata": {},
   "source": [
    "### Python Implementation"
   ]
  },
  {
   "cell_type": "code",
   "execution_count": 5,
   "metadata": {},
   "outputs": [
    {
     "name": "stdout",
     "output_type": "stream",
     "text": [
      "Iteration 0 ______________________________________________________________________\n",
      "Label Spreading model: 40 labeled & 290 unlabeled (330 total)\n",
      "              precision    recall  f1-score   support\n",
      "\n",
      "           0       1.00      1.00      1.00        22\n",
      "           1       0.78      0.69      0.73        26\n",
      "           2       0.93      0.93      0.93        29\n",
      "           3       1.00      0.89      0.94        27\n",
      "           4       0.92      0.96      0.94        23\n",
      "           5       0.96      0.70      0.81        33\n",
      "           6       0.97      0.97      0.97        35\n",
      "           7       0.94      0.91      0.92        33\n",
      "           8       0.62      0.89      0.74        28\n",
      "           9       0.73      0.79      0.76        34\n",
      "\n",
      "    accuracy                           0.87       290\n",
      "   macro avg       0.89      0.87      0.87       290\n",
      "weighted avg       0.88      0.87      0.87       290\n",
      "\n",
      "Confusion matrix\n",
      "[[22  0  0  0  0  0  0  0  0  0]\n",
      " [ 0 18  2  0  0  0  1  0  5  0]\n",
      " [ 0  0 27  0  0  0  0  0  2  0]\n",
      " [ 0  0  0 24  0  0  0  0  3  0]\n",
      " [ 0  1  0  0 22  0  0  0  0  0]\n",
      " [ 0  0  0  0  0 23  0  0  0 10]\n",
      " [ 0  1  0  0  0  0 34  0  0  0]\n",
      " [ 0  0  0  0  0  0  0 30  3  0]\n",
      " [ 0  3  0  0  0  0  0  0 25  0]\n",
      " [ 0  0  0  0  2  1  0  2  2 27]]\n",
      "Iteration 1 ______________________________________________________________________\n",
      "Label Spreading model: 45 labeled & 285 unlabeled (330 total)\n",
      "              precision    recall  f1-score   support\n",
      "\n",
      "           0       1.00      1.00      1.00        22\n",
      "           1       0.79      1.00      0.88        22\n",
      "           2       1.00      0.93      0.96        29\n",
      "           3       1.00      1.00      1.00        26\n",
      "           4       0.92      0.96      0.94        23\n",
      "           5       0.96      0.70      0.81        33\n",
      "           6       1.00      0.97      0.99        35\n",
      "           7       0.94      0.91      0.92        33\n",
      "           8       0.77      0.86      0.81        28\n",
      "           9       0.73      0.79      0.76        34\n",
      "\n",
      "    accuracy                           0.90       285\n",
      "   macro avg       0.91      0.91      0.91       285\n",
      "weighted avg       0.91      0.90      0.90       285\n",
      "\n",
      "Confusion matrix\n",
      "[[22  0  0  0  0  0  0  0  0  0]\n",
      " [ 0 22  0  0  0  0  0  0  0  0]\n",
      " [ 0  0 27  0  0  0  0  0  2  0]\n",
      " [ 0  0  0 26  0  0  0  0  0  0]\n",
      " [ 0  1  0  0 22  0  0  0  0  0]\n",
      " [ 0  0  0  0  0 23  0  0  0 10]\n",
      " [ 0  1  0  0  0  0 34  0  0  0]\n",
      " [ 0  0  0  0  0  0  0 30  3  0]\n",
      " [ 0  4  0  0  0  0  0  0 24  0]\n",
      " [ 0  0  0  0  2  1  0  2  2 27]]\n",
      "Iteration 2 ______________________________________________________________________\n",
      "Label Spreading model: 50 labeled & 280 unlabeled (330 total)\n",
      "              precision    recall  f1-score   support\n",
      "\n",
      "           0       1.00      1.00      1.00        22\n",
      "           1       0.85      1.00      0.92        22\n",
      "           2       1.00      1.00      1.00        28\n",
      "           3       1.00      1.00      1.00        26\n",
      "           4       0.87      1.00      0.93        20\n",
      "           5       0.96      0.70      0.81        33\n",
      "           6       1.00      0.97      0.99        35\n",
      "           7       0.94      1.00      0.97        32\n",
      "           8       0.92      0.86      0.89        28\n",
      "           9       0.73      0.79      0.76        34\n",
      "\n",
      "    accuracy                           0.92       280\n",
      "   macro avg       0.93      0.93      0.93       280\n",
      "weighted avg       0.93      0.92      0.92       280\n",
      "\n",
      "Confusion matrix\n",
      "[[22  0  0  0  0  0  0  0  0  0]\n",
      " [ 0 22  0  0  0  0  0  0  0  0]\n",
      " [ 0  0 28  0  0  0  0  0  0  0]\n",
      " [ 0  0  0 26  0  0  0  0  0  0]\n",
      " [ 0  0  0  0 20  0  0  0  0  0]\n",
      " [ 0  0  0  0  0 23  0  0  0 10]\n",
      " [ 0  1  0  0  0  0 34  0  0  0]\n",
      " [ 0  0  0  0  0  0  0 32  0  0]\n",
      " [ 0  3  0  0  1  0  0  0 24  0]\n",
      " [ 0  0  0  0  2  1  0  2  2 27]]\n",
      "Iteration 3 ______________________________________________________________________\n",
      "Label Spreading model: 55 labeled & 275 unlabeled (330 total)\n",
      "              precision    recall  f1-score   support\n",
      "\n",
      "           0       1.00      1.00      1.00        22\n",
      "           1       0.85      1.00      0.92        22\n",
      "           2       1.00      1.00      1.00        27\n",
      "           3       1.00      1.00      1.00        26\n",
      "           4       0.87      1.00      0.93        20\n",
      "           5       0.96      0.87      0.92        31\n",
      "           6       1.00      0.97      0.99        35\n",
      "           7       1.00      1.00      1.00        31\n",
      "           8       0.92      0.86      0.89        28\n",
      "           9       0.88      0.85      0.86        33\n",
      "\n",
      "    accuracy                           0.95       275\n",
      "   macro avg       0.95      0.95      0.95       275\n",
      "weighted avg       0.95      0.95      0.95       275\n",
      "\n",
      "Confusion matrix\n",
      "[[22  0  0  0  0  0  0  0  0  0]\n",
      " [ 0 22  0  0  0  0  0  0  0  0]\n",
      " [ 0  0 27  0  0  0  0  0  0  0]\n",
      " [ 0  0  0 26  0  0  0  0  0  0]\n",
      " [ 0  0  0  0 20  0  0  0  0  0]\n",
      " [ 0  0  0  0  0 27  0  0  0  4]\n",
      " [ 0  1  0  0  0  0 34  0  0  0]\n",
      " [ 0  0  0  0  0  0  0 31  0  0]\n",
      " [ 0  3  0  0  1  0  0  0 24  0]\n",
      " [ 0  0  0  0  2  1  0  0  2 28]]\n",
      "Iteration 4 ______________________________________________________________________\n",
      "Label Spreading model: 60 labeled & 270 unlabeled (330 total)\n",
      "              precision    recall  f1-score   support\n",
      "\n",
      "           0       1.00      1.00      1.00        22\n",
      "           1       0.96      1.00      0.98        22\n",
      "           2       1.00      0.96      0.98        27\n",
      "           3       0.96      1.00      0.98        25\n",
      "           4       0.86      1.00      0.93        19\n",
      "           5       0.96      0.87      0.92        31\n",
      "           6       1.00      0.97      0.99        35\n",
      "           7       1.00      1.00      1.00        31\n",
      "           8       0.92      0.96      0.94        25\n",
      "           9       0.88      0.85      0.86        33\n",
      "\n",
      "    accuracy                           0.96       270\n",
      "   macro avg       0.95      0.96      0.96       270\n",
      "weighted avg       0.96      0.96      0.96       270\n",
      "\n",
      "Confusion matrix\n",
      "[[22  0  0  0  0  0  0  0  0  0]\n",
      " [ 0 22  0  0  0  0  0  0  0  0]\n",
      " [ 0  0 26  1  0  0  0  0  0  0]\n",
      " [ 0  0  0 25  0  0  0  0  0  0]\n",
      " [ 0  0  0  0 19  0  0  0  0  0]\n",
      " [ 0  0  0  0  0 27  0  0  0  4]\n",
      " [ 0  1  0  0  0  0 34  0  0  0]\n",
      " [ 0  0  0  0  0  0  0 31  0  0]\n",
      " [ 0  0  0  0  1  0  0  0 24  0]\n",
      " [ 0  0  0  0  2  1  0  0  2 28]]\n"
     ]
    },
    {
     "data": {
      "image/png": "[encoded data removed]",
      "text/plain": [
       "<Figure size 640x480 with 25 Axes>"
      ]
     },
     "metadata": {},
     "output_type": "display_data"
    }
   ],
   "source": [
    "import numpy as np\n",
    "import matplotlib.pyplot as plt\n",
    "from scipy import stats\n",
    "\n",
    "from sklearn import datasets\n",
    "from sklearn.semi_supervised import LabelSpreading\n",
    "from sklearn.metrics import classification_report, confusion_matrix\n",
    "\n",
    "digits = datasets.load_digits()\n",
    "rng = np.random.RandomState(0)\n",
    "indices = np.arange(len(digits.data))\n",
    "rng.shuffle(indices)\n",
    "\n",
    "X = digits.data[indices[:330]]\n",
    "y = digits.target[indices[:330]]\n",
    "images = digits.images[indices[:330]]\n",
    "\n",
    "n_total_samples = len(y)\n",
    "n_labeled_points = 40\n",
    "max_iterations = 5\n",
    "\n",
    "unlabeled_indices = np.arange(n_total_samples)[n_labeled_points:]\n",
    "f = plt.figure()\n",
    "\n",
    "for i in range(max_iterations):\n",
    "    if len(unlabeled_indices) == 0:\n",
    "        print(\"No unlabeled items left to label.\")\n",
    "        break\n",
    "    y_train = np.copy(y)\n",
    "    y_train[unlabeled_indices] = -1\n",
    "\n",
    "    lp_model = LabelSpreading(gamma=0.25, max_iter=20)\n",
    "    lp_model.fit(X, y_train)\n",
    "\n",
    "    predicted_labels = lp_model.transduction_[unlabeled_indices]\n",
    "    true_labels = y[unlabeled_indices]\n",
    "\n",
    "    cm = confusion_matrix(true_labels, predicted_labels, labels=lp_model.classes_)\n",
    "\n",
    "    print(\"Iteration %i %s\" % (i, 70 * \"_\"))\n",
    "    print(\n",
    "        \"Label Spreading model: %d labeled & %d unlabeled (%d total)\"\n",
    "        % (n_labeled_points, n_total_samples - n_labeled_points, n_total_samples)\n",
    "    )\n",
    "\n",
    "    print(classification_report(true_labels, predicted_labels))\n",
    "\n",
    "    print(\"Confusion matrix\")\n",
    "    print(cm)\n",
    "\n",
    "    # compute the entropies of transduced label distributions\n",
    "    pred_entropies = stats.distributions.entropy(lp_model.label_distributions_.T)\n",
    "\n",
    "    # select up to 5 digit examples that the classifier is most uncertain about\n",
    "    uncertainty_index = np.argsort(pred_entropies)[::-1]\n",
    "    uncertainty_index = uncertainty_index[\n",
    "        np.in1d(uncertainty_index, unlabeled_indices)\n",
    "    ][:5]\n",
    "\n",
    "    # keep track of indices that we get labels for\n",
    "    delete_indices = np.array([], dtype=int)\n",
    "\n",
    "    # for more than 5 iterations, visualize the gain only on the first 5\n",
    "    if i < 5:\n",
    "        f.text(\n",
    "            0.05,\n",
    "            (1 - (i + 1) * 0.183),\n",
    "            \"model %d\\n\\nfit with\\n%d labels\" % ((i + 1), i * 5 + 10),\n",
    "            size=10,\n",
    "        )\n",
    "    for index, image_index in enumerate(uncertainty_index):\n",
    "        image = images[image_index]\n",
    "\n",
    "        # for more than 5 iterations, visualize the gain only on the first 5\n",
    "        if i < 5:\n",
    "            sub = f.add_subplot(5, 5, index + 1 + (5 * i))\n",
    "            sub.imshow(image, cmap=plt.cm.gray_r, interpolation=\"none\")\n",
    "            sub.set_title(\n",
    "                \"predict: %i\\ntrue: %i\"\n",
    "                % (lp_model.transduction_[image_index], y[image_index]),\n",
    "                size=10,\n",
    "            )\n",
    "            sub.axis(\"off\")\n",
    "\n",
    "        # labeling 5 points, remote from labeled set\n",
    "        (delete_index,) = np.where(unlabeled_indices == image_index)\n",
    "        delete_indices = np.concatenate((delete_indices, delete_index))\n",
    "\n",
    "    unlabeled_indices = np.delete(unlabeled_indices, delete_indices)\n",
    "    n_labeled_points += len(uncertainty_index)\n",
    "\n",
    "f.suptitle(\n",
    "    \"Active learning with Label Propagation.\\nRows show 5 most \"\n",
    "    \"uncertain labels to learn with the next model.\",\n",
    "    y=1.15,\n",
    ")\n",
    "plt.subplots_adjust(left=0.2, bottom=0.03, right=0.9, top=0.9, wspace=0.2, hspace=0.85)\n",
    "plt.show()"
   ]
  },
  {
   "attachments": {},
   "cell_type": "markdown",
   "metadata": {},
   "source": [
    "<hr>"
   ]
  }
 ],
 "metadata": {
  "kernelspec": {
   "display_name": "Python 3 (ipykernel)",
   "language": "python",
   "name": "python3"
  },
  "language_info": {
   "codemirror_mode": {
    "name": "ipython",
    "version": 3
   },
   "file_extension": ".py",
   "mimetype": "text/x-python",
   "name": "python",
   "nbconvert_exporter": "python",
   "pygments_lexer": "ipython3",
   "version": "3.10.9"
  }
 },
 "nbformat": 4,
 "nbformat_minor": 4
}
