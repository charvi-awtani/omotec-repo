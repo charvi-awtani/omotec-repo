{
 "cells": [
  {
   "attachments": {},
   "cell_type": "markdown",
   "id": "e7955f19",
   "metadata": {},
   "source": [
    "# SESSION 9"
   ]
  },
  {
   "attachments": {},
   "cell_type": "markdown",
   "id": "8fa0d333",
   "metadata": {},
   "source": [
    "TOC\n",
    "1. Convolutional Neural Networks (CNNs)<br>\n",
    "2. Transfer learning<br>\n",
    "3. Data Augmentation<br>\n",
    "4. Image preprocessing<br>\n",
    "5. Loss Functions<br>\n",
    "6. Optimization Algorithms<br>\n",
    "7. Performance metrics<br> \n",
    "\t7.1 Accuracy<br>\n",
    "\t7.2 Precision, Recall, and F1 Score<br>\n",
    "\t7.3 Confusion Matrix<br>\n",
    "\t7.4 ROC Curve<br>\n",
    "8. API Integration with TensorFlow Serving"
   ]
  },
  {
   "attachments": {},
   "cell_type": "markdown",
   "id": "88836804",
   "metadata": {},
   "source": [
    "## 1. Convolutional Neural Networks (CNNs)"
   ]
  },
  {
   "attachments": {},
   "cell_type": "markdown",
   "id": "50faccf0",
   "metadata": {},
   "source": [
    "Convolutional Neural Networks (CNNs) are a class of neural networks commonly used in computer vision tasks, which use convolutional layers to learn spatial features in images and other visual data.\n",
    "\n",
    "Here's an example of how to implement a simple CNN in Python using the Keras library:"
   ]
  },
  {
   "attachments": {},
   "cell_type": "markdown",
   "id": "f838fbee",
   "metadata": {},
   "source": [
    "```In this example, we define a CNN model with two convolutional layers, two max pooling layers, a flatten layer, and two dense layers. We then compile the model with an Adam optimizer and categorical cross-entropy loss function. Next, we load and preprocess the MNIST dataset, and finally we train the model on the dataset for 10 epochs using a batch size of 128. By the end of training, we should have a CNN model that can classify handwritten digits with high accuracy.```"
   ]
  },
  {
   "cell_type": "code",
   "execution_count": 1,
   "id": "0a55490a",
   "metadata": {},
   "outputs": [
    {
     "name": "stdout",
     "output_type": "stream",
     "text": [
      "Epoch 1/10\n",
      "469/469 [==============================] - 33s 69ms/step - loss: 0.2133 - accuracy: 0.9356 - val_loss: 0.0679 - val_accuracy: 0.9801\n",
      "Epoch 2/10\n",
      "469/469 [==============================] - 33s 71ms/step - loss: 0.0573 - accuracy: 0.9826 - val_loss: 0.0388 - val_accuracy: 0.9878\n",
      "Epoch 3/10\n",
      "469/469 [==============================] - 35s 74ms/step - loss: 0.0395 - accuracy: 0.9873 - val_loss: 0.0356 - val_accuracy: 0.9888\n",
      "Epoch 4/10\n",
      "469/469 [==============================] - 43s 92ms/step - loss: 0.0298 - accuracy: 0.9906 - val_loss: 0.0314 - val_accuracy: 0.9886\n",
      "Epoch 5/10\n",
      "469/469 [==============================] - 35s 74ms/step - loss: 0.0230 - accuracy: 0.9927 - val_loss: 0.0295 - val_accuracy: 0.9903\n",
      "Epoch 6/10\n",
      "469/469 [==============================] - 31s 66ms/step - loss: 0.0182 - accuracy: 0.9942 - val_loss: 0.0382 - val_accuracy: 0.9882\n",
      "Epoch 7/10\n",
      "469/469 [==============================] - 30s 64ms/step - loss: 0.0143 - accuracy: 0.9953 - val_loss: 0.0356 - val_accuracy: 0.9884\n",
      "Epoch 8/10\n",
      "469/469 [==============================] - 30s 64ms/step - loss: 0.0117 - accuracy: 0.9966 - val_loss: 0.0323 - val_accuracy: 0.9899\n",
      "Epoch 9/10\n",
      "469/469 [==============================] - 31s 66ms/step - loss: 0.0099 - accuracy: 0.9969 - val_loss: 0.0307 - val_accuracy: 0.9903\n",
      "Epoch 10/10\n",
      "469/469 [==============================] - 29s 62ms/step - loss: 0.0090 - accuracy: 0.9970 - val_loss: 0.0330 - val_accuracy: 0.9908\n"
     ]
    },
    {
     "data": {
      "text/plain": [
       "<keras.src.callbacks.History at 0x1832b7dde50>"
      ]
     },
     "execution_count": 1,
     "metadata": {},
     "output_type": "execute_result"
    }
   ],
   "source": [
    "import numpy as np\n",
    "from keras.models import Sequential\n",
    "from keras.layers import Conv2D, MaxPooling2D, Flatten, Dense\n",
    "\n",
    "# Define the CNN model\n",
    "model = Sequential()\n",
    "model.add(Conv2D(32, (3, 3), activation='relu', input_shape=(28, 28, 1)))\n",
    "model.add(MaxPooling2D(pool_size=(2, 2)))\n",
    "model.add(Conv2D(64, (3, 3), activation='relu'))\n",
    "model.add(MaxPooling2D(pool_size=(2, 2)))\n",
    "model.add(Flatten())\n",
    "model.add(Dense(128, activation='relu'))\n",
    "model.add(Dense(10, activation='softmax'))\n",
    "\n",
    "# Compile the model\n",
    "model.compile(optimizer='adam', loss='categorical_crossentropy', metrics=['accuracy'])\n",
    "\n",
    "# Load and preprocess the data\n",
    "from keras.datasets import mnist\n",
    "(X_train, y_train), (X_test, y_test) = mnist.load_data()\n",
    "X_train = np.expand_dims(X_train, axis=-1)\n",
    "X_test = np.expand_dims(X_test, axis=-1)\n",
    "X_train = X_train / 255.0\n",
    "X_test = X_test / 255.0\n",
    "y_train = np.eye(10)[y_train]\n",
    "y_test = np.eye(10)[y_test]\n",
    "\n",
    "# Train the model\n",
    "model.fit(X_train, y_train, batch_size=128, epochs=10, validation_data=(X_test, y_test))"
   ]
  },
  {
   "attachments": {},
   "cell_type": "markdown",
   "id": "02416bdd",
   "metadata": {},
   "source": [
    "<hr>"
   ]
  },
  {
   "attachments": {},
   "cell_type": "markdown",
   "id": "a615e53a",
   "metadata": {},
   "source": [
    "## 2. Transfer learning<br>\n",
    "Transfer learning is a technique in deep learning where pre-trained models are used as a starting point for new models, instead of training a model from scratch. In transfer learning, we typically take a pre-trained model that was trained on a large dataset, and then we remove the last few layers of the model and replace them with new layers that are specific to our task. \n",
    "\n",
    "Here's an example of how to implement transfer learning using the Keras library:"
   ]
  },
  {
   "attachments": {},
   "cell_type": "markdown",
   "id": "4407d751",
   "metadata": {},
   "source": [
    "```In this example, we load the pre-trained VGG16 model that was trained on the ImageNet dataset. We then freeze the pre-trained layers so that they will not be updated during training. Next, we add new layers specific to our task, which in this case is a binary classification task. We create the new model by specifying the input and output layers, and then we compile the model with an RMSprop optimizer and categorical cross-entropy loss function. Finally, we load and preprocess the training data using an ImageDataGenerator, and then we train the model using the fit_generator method. By the end of training, we should have a model that is able to classify new images with high accuracy, despite being trained on a much smaller dataset than the original pre-trained model.```"
   ]
  },
  {
   "cell_type": "code",
   "execution_count": null,
   "id": "16b884cb",
   "metadata": {},
   "outputs": [],
   "source": [
    "from keras.applications import VGG16\n",
    "from keras.layers import Dense, Flatten\n",
    "from keras.models import Model\n",
    "from keras.preprocessing.image import ImageDataGenerator\n",
    "\n",
    "# Load the pre-trained VGG16 model\n",
    "base_model = VGG16(weights='imagenet', include_top=False, input_shape=(224, 224, 3))\n",
    "\n",
    "# Freeze the pre-trained layers\n",
    "for layer in base_model.layers:\n",
    "    layer.trainable = False\n",
    "\n",
    "# Add new layers for our task\n",
    "x = base_model.output\n",
    "x = Flatten()(x)\n",
    "x = Dense(256, activation='relu')(x)\n",
    "predictions = Dense(2, activation='softmax')(x)\n",
    "\n",
    "# Create the new model\n",
    "model = Model(inputs=base_model.input, outputs=predictions)\n",
    "\n",
    "# Compile the model\n",
    "model.compile(optimizer='rmsprop', loss='categorical_crossentropy', metrics=['accuracy'])\n",
    "\n",
    "# Load and preprocess the data\n",
    "train_datagen = ImageDataGenerator(rescale=1./255)\n",
    "train_generator = train_datagen.flow_from_directory('train', target_size=(224, 224), batch_size=32, class_mode='categorical')\n",
    "\n",
    "# Train the model\n",
    "model.fit_generator(train_generator, steps_per_epoch=100, epochs=10)"
   ]
  },
  {
   "attachments": {},
   "cell_type": "markdown",
   "id": "0909ae23",
   "metadata": {},
   "source": [
    "<hr>"
   ]
  },
  {
   "attachments": {},
   "cell_type": "markdown",
   "id": "e57f007b",
   "metadata": {},
   "source": [
    "## 3. Data augmentation\n",
    "Data augmentation is a technique used in machine learning to artificially increase the size of a dataset by creating new training examples from existing ones. This is done by applying random transformations to the existing examples, such as flipping, rotating, scaling, cropping, and adding noise. Data augmentation is especially useful in image recognition tasks, where we can generate new images by applying these transformations to existing ones.\n",
    "\n",
    "Here's an example of how to implement data augmentation using the Keras library:"
   ]
  },
  {
   "attachments": {},
   "cell_type": "markdown",
   "id": "036a8532",
   "metadata": {},
   "source": [
    "```In this example, we use the Keras ImageDataGenerator to apply various transformations to the training data, such as rotation, shifting, shearing, zooming, flipping, and filling. We specify the range of each transformation using parameters like rotation_range, width_shift_range, and horizontal_flip. We then load and preprocess the training data using the ImageDataGenerator, and use the resulting generator to train the model using the fit_generator method. By using data augmentation, we can generate many new training examples from a small dataset, which can improve the performance of the model and reduce overfitting.```"
   ]
  },
  {
   "cell_type": "code",
   "execution_count": null,
   "id": "7f4cf1c3",
   "metadata": {},
   "outputs": [],
   "source": [
    "from keras.preprocessing.image import ImageDataGenerator\n",
    "\n",
    "# Load and preprocess the data\n",
    "train_datagen = ImageDataGenerator(rescale=1./255,\n",
    "                                   rotation_range=40,\n",
    "                                   width_shift_range=0.2,\n",
    "                                   height_shift_range=0.2,\n",
    "                                   shear_range=0.2,\n",
    "                                   zoom_range=0.2,\n",
    "                                   horizontal_flip=True,\n",
    "                                   fill_mode='nearest')\n",
    "\n",
    "train_generator = train_datagen.flow_from_directory('train',\n",
    "                                                    target_size=(224, 224),\n",
    "                                                    batch_size=32,\n",
    "                                                    class_mode='categorical')\n",
    "\n",
    "# Train the model with augmented data\n",
    "model.fit_generator(train_generator, steps_per_epoch=100, epochs=10)"
   ]
  },
  {
   "attachments": {},
   "cell_type": "markdown",
   "id": "2cbe798f",
   "metadata": {},
   "source": [
    "<hr>"
   ]
  },
  {
   "attachments": {},
   "cell_type": "markdown",
   "id": "198d05ff",
   "metadata": {},
   "source": [
    "## 4. Image preprocessing\n",
    "Image preprocessing is a crucial step in any computer vision task, where we prepare the image data to be fed into a machine learning model. This involves tasks such as resizing, normalizing, and centering the images, as well as removing any unwanted noise or artifacts.\n",
    "\n",
    "Here's an example of how to preprocess images using the OpenCV library:"
   ]
  },
  {
   "attachments": {},
   "cell_type": "markdown",
   "id": "f1410d28",
   "metadata": {},
   "source": [
    "```In this example, we use the OpenCV library to preprocess an image. We first load the image using the imread function, and then resize it to a fixed size using the resize function. We then convert the image to grayscale using the cvtColor function, and normalize it using the normalize function to scale the pixel values between 0 and 255. We then center the image by subtracting the mean pixel value of 127.5, and reshape it to a format that can be fed into a machine learning model. This preprocessing pipeline can be customized to suit the specific needs of the task at hand.```"
   ]
  },
  {
   "cell_type": "code",
   "execution_count": 6,
   "id": "3255fcbf",
   "metadata": {},
   "outputs": [],
   "source": [
    "import cv2\n",
    "\n",
    "# Load the image\n",
    "img = cv2.imread('Images/image.jpg')\n",
    "\n",
    "# Resize the image\n",
    "img = cv2.resize(img, (224, 224))\n",
    "\n",
    "# Convert the image to grayscale\n",
    "gray = cv2.cvtColor(img, cv2.COLOR_BGR2GRAY)\n",
    "\n",
    "# Normalize the image\n",
    "normalized = cv2.normalize(gray, None, 0, 255, cv2.NORM_MINMAX)\n",
    "\n",
    "# Center the image\n",
    "centered = normalized - 127.5\n",
    "\n",
    "# Reshape the image\n",
    "reshaped = centered.reshape((1, 224, 224, 1))"
   ]
  },
  {
   "attachments": {},
   "cell_type": "markdown",
   "id": "f05f8cec",
   "metadata": {},
   "source": [
    "<hr>"
   ]
  },
  {
   "attachments": {},
   "cell_type": "markdown",
   "id": "0f1135f8",
   "metadata": {},
   "source": [
    "## 5. Loss Functions\n",
    "\n",
    "In machine learning, a loss function is used to measure the difference between the predicted output of a model and the actual output. The goal of training a model is to minimize this loss function, which in turn improves the accuracy of the model. There are various types of loss functions, such as mean squared error, cross-entropy, and hinge loss, among others.\n",
    "\n",
    "Here's an example of how to define and use a mean squared error loss function in Python:"
   ]
  },
  {
   "attachments": {},
   "cell_type": "markdown",
   "id": "ea58c462",
   "metadata": {},
   "source": [
    "```In this example, we define a mean squared error loss function using TensorFlow. The function takes in two arguments, y_true and y_pred, which represent the true and predicted outputs, respectively. The function then computes the mean squared error between these two inputs using the reduce_mean and square functions provided by TensorFlow.\n",
    "\n",
    "We then use this loss function to calculate the mean squared error between two example tensors y_true and y_pred. The result of the loss function is then printed to the console, which gives us an idea of how well our model is performing.\n",
    "\n",
    "This is just one example of a loss function, and there are many other types of loss functions that can be used depending on the specific problem being solved.```"
   ]
  },
  {
   "cell_type": "code",
   "execution_count": 7,
   "id": "6e410260",
   "metadata": {},
   "outputs": [
    {
     "name": "stdout",
     "output_type": "stream",
     "text": [
      "Mean Squared Error:  tf.Tensor(0.25, shape=(), dtype=float32)\n"
     ]
    }
   ],
   "source": [
    "import tensorflow as tf\n",
    "\n",
    "# Define the mean squared error loss function\n",
    "def mse_loss(y_true, y_pred):\n",
    "    return tf.reduce_mean(tf.square(y_true - y_pred))\n",
    "\n",
    "# Example usage of the loss function\n",
    "y_true = tf.constant([[1, 2, 3], [4, 5, 6], [7, 8, 9]], dtype=tf.float32)\n",
    "y_pred = tf.constant([[1.5, 2.5, 3.5], [3.5, 4.5, 5.5], [6.5, 7.5, 8.5]], dtype=tf.float32)\n",
    "\n",
    "mse = mse_loss(y_true, y_pred)\n",
    "print(\"Mean Squared Error: \", mse)"
   ]
  },
  {
   "attachments": {},
   "cell_type": "markdown",
   "id": "e39cbfd4",
   "metadata": {},
   "source": [
    "<hr>"
   ]
  },
  {
   "attachments": {},
   "cell_type": "markdown",
   "id": "47db4797",
   "metadata": {},
   "source": [
    "## 6. Optimization Algorithms\n",
    "\n",
    "Optimization algorithms are used to update the weights and biases of a machine learning model during the training process. The goal of these algorithms is to minimize the loss function of the model and improve its accuracy. There are several types of optimization algorithms, such as stochastic gradient descent, Adam, and Adagrad, among others.\n",
    "\n",
    "Here's an example of how to use the stochastic gradient descent optimization algorithm in Python:"
   ]
  },
  {
   "attachments": {},
   "cell_type": "markdown",
   "id": "4110ed59",
   "metadata": {},
   "source": [
    "```In this example, we define a neural network model with two dense layers using TensorFlow's Keras API. We also define a sparse categorical cross-entropy loss function, which is commonly used for multi-class classification problems.\n",
    "\n",
    "We then define the stochastic gradient descent optimizer with a learning rate of 0.1. We load the MNIST dataset and prepare it for training by normalizing the pixel values and creating a TensorFlow dataset object.\n",
    "\n",
    "We then train the model for five epochs using the stochastic gradient descent optimizer. For each batch of training data, we compute the loss using the defined loss function and calculate the gradients using TensorFlow's GradientTape. We then update the weights and biases of the model using the optimizer's apply_gradients method.\n",
    "\n",
    "Finally, we print the loss value every 100 steps to monitor the progress of the training process.```"
   ]
  },
  {
   "attachments": {},
   "cell_type": "markdown",
   "id": "334bd4b3",
   "metadata": {},
   "source": [
    "This is just one example of an optimization algorithm, and there are many other types of optimization algorithms that can be used depending on the specific problem being solved."
   ]
  },
  {
   "cell_type": "code",
   "execution_count": null,
   "id": "f9b204ea",
   "metadata": {},
   "outputs": [],
   "source": [
    "import tensorflow as tf\n",
    "\n",
    "# Define the model and loss function\n",
    "model = tf.keras.Sequential([\n",
    "  tf.keras.layers.Dense(10, activation='relu', input_shape=(784,)),\n",
    "  tf.keras.layers.Dense(10, activation='softmax')\n",
    "])\n",
    "loss_fn = tf.keras.losses.SparseCategoricalCrossentropy()\n",
    "\n",
    "# Define the stochastic gradient descent optimizer\n",
    "optimizer = tf.keras.optimizers.SGD(learning_rate=0.1)\n",
    "\n",
    "# Load the MNIST dataset and prepare it for training\n",
    "mnist = tf.keras.datasets.mnist\n",
    "(x_train, y_train), (x_test, y_test) = mnist.load_data()\n",
    "x_train, x_test = x_train / 255.0, x_test / 255.0\n",
    "\n",
    "train_dataset = tf.data.Dataset.from_tensor_slices((x_train, y_train))\n",
    "train_dataset = train_dataset.shuffle(10000).batch(32)\n",
    "\n",
    "# Train the model using stochastic gradient descent\n",
    "epochs = 5\n",
    "for epoch in range(epochs):\n",
    "  for step, (x_batch_train, y_batch_train) in enumerate(train_dataset):\n",
    "    with tf.GradientTape() as tape:\n",
    "      logits = model(x_batch_train, training=True)\n",
    "      loss_value = loss_fn(y_batch_train, logits)\n",
    "\n",
    "    gradients = tape.gradient(loss_value, model.trainable_weights)\n",
    "    optimizer.apply_gradients(zip(gradients, model.trainable_weights))\n",
    "\n",
    "    if step % 100 == 0:\n",
    "      print(\"Epoch: {}, Step: {}, Loss: {}\".format(epoch, step, loss_value))\n"
   ]
  },
  {
   "attachments": {},
   "cell_type": "markdown",
   "id": "829d8457",
   "metadata": {},
   "source": [
    "<hr>"
   ]
  },
  {
   "attachments": {},
   "cell_type": "markdown",
   "id": "6bcb5d86",
   "metadata": {},
   "source": [
    "##  7. Performance metrics \n",
    "\n",
    "Performance metrics are used to evaluate the performance of machine learning models. They help us to understand how well our model is performing and whether it needs any improvements. In this section, we will discuss some of the common performance metrics used in machine learning and how to implement them in Python."
   ]
  },
  {
   "attachments": {},
   "cell_type": "markdown",
   "id": "213dd382",
   "metadata": {},
   "source": [
    "### 7.1 Accuracy\n",
    "Accuracy is the most commonly used performance metric for classification problems. It is defined as the number of correct predictions divided by the total number of predictions. The code to calculate accuracy using scikit-learn is shown below:"
   ]
  },
  {
   "cell_type": "code",
   "execution_count": 9,
   "id": "f7589d31",
   "metadata": {},
   "outputs": [
    {
     "name": "stdout",
     "output_type": "stream",
     "text": [
      "Accuracy:  0.75\n"
     ]
    }
   ],
   "source": [
    "from sklearn.metrics import accuracy_score\n",
    "\n",
    "y_true = [0, 1, 0, 1]\n",
    "y_pred = [0, 1, 1, 1]\n",
    "\n",
    "accuracy = accuracy_score(y_true, y_pred)\n",
    "print(\"Accuracy: \", accuracy)\n"
   ]
  },
  {
   "attachments": {},
   "cell_type": "markdown",
   "id": "d29e054c",
   "metadata": {},
   "source": [
    "### 7.2 Precision, Recall, and F1 Score\n",
    "Precision, recall, and F1 score are commonly used performance metrics for binary classification problems. Precision is the number of true positives divided by the number of true positives plus false positives. Recall is the number of true positives divided by the number of true positives plus false negatives. F1 score is the harmonic mean of precision and recall. The code to calculate precision, recall, and F1 score using scikit-learn is shown below:"
   ]
  },
  {
   "cell_type": "code",
   "execution_count": 10,
   "id": "05608c38",
   "metadata": {},
   "outputs": [
    {
     "name": "stdout",
     "output_type": "stream",
     "text": [
      "Precision:  0.6666666666666666\n",
      "Recall:  1.0\n",
      "F1 score:  0.8\n"
     ]
    }
   ],
   "source": [
    "from sklearn.metrics import precision_score, recall_score, f1_score\n",
    "\n",
    "y_true = [0, 1, 0, 1]\n",
    "y_pred = [0, 1, 1, 1]\n",
    "\n",
    "precision = precision_score(y_true, y_pred)\n",
    "recall = recall_score(y_true, y_pred)\n",
    "f1 = f1_score(y_true, y_pred)\n",
    "\n",
    "print(\"Precision: \", precision)\n",
    "print(\"Recall: \", recall)\n",
    "print(\"F1 score: \", f1)"
   ]
  },
  {
   "attachments": {},
   "cell_type": "markdown",
   "id": "2091035d",
   "metadata": {},
   "source": [
    "### 7.3 Confusion Matrix\n",
    "A confusion matrix is a table that summarizes the performance of a machine learning model for each class. The table compares the actual class with the predicted class. The code to calculate the confusion matrix using scikit-learn is shown below:"
   ]
  },
  {
   "cell_type": "code",
   "execution_count": 11,
   "id": "d77ff26b",
   "metadata": {},
   "outputs": [
    {
     "name": "stdout",
     "output_type": "stream",
     "text": [
      "Confusion matrix: \n",
      "[[1 1]\n",
      " [0 2]]\n"
     ]
    }
   ],
   "source": [
    "from sklearn.metrics import confusion_matrix\n",
    "\n",
    "y_true = [0, 1, 0, 1]\n",
    "y_pred = [0, 1, 1, 1]\n",
    "\n",
    "conf_matrix = confusion_matrix(y_true, y_pred)\n",
    "\n",
    "print(\"Confusion matrix: \")\n",
    "print(conf_matrix)"
   ]
  },
  {
   "attachments": {},
   "cell_type": "markdown",
   "id": "2aa087e0",
   "metadata": {},
   "source": [
    "### 7.4 ROC Curve\n",
    "The Receiver Operating Characteristic (ROC) curve is a plot that shows the trade-off between the true positive rate and false positive rate for different thresholds of the predicted probabilities. The code to plot the ROC curve using scikit-learn is shown below:"
   ]
  },
  {
   "cell_type": "code",
   "execution_count": 12,
   "id": "7a629c29",
   "metadata": {},
   "outputs": [
    {
     "data": {
      "image/png": "[encoded data removed]",
      "text/plain": [
       "<Figure size 432x288 with 1 Axes>"
      ]
     },
     "metadata": {
      "needs_background": "light"
     },
     "output_type": "display_data"
    }
   ],
   "source": [
    "from sklearn.metrics import roc_curve, auc\n",
    "import matplotlib.pyplot as plt\n",
    "\n",
    "y_true = [0, 1, 0, 1]\n",
    "y_pred_prob = [0.2, 0.8, 0.4, 0.6]\n",
    "\n",
    "fpr, tpr, thresholds = roc_curve(y_true, y_pred_prob)\n",
    "roc_auc = auc(fpr, tpr)\n",
    "\n",
    "plt.plot(fpr, tpr, color='darkorange', lw=2, label='ROC curve (area = %0.2f)' % roc_auc)\n",
    "plt.plot([0, 1], [0, 1], color='navy', lw=2, linestyle='--')\n",
    "plt.xlabel('False Positive Rate')\n",
    "plt.ylabel('True Positive Rate')\n",
    "plt.title('Receiver Operating Characteristic')\n",
    "plt.legend(loc=\"lower right\")\n",
    "plt.show()"
   ]
  },
  {
   "attachments": {},
   "cell_type": "markdown",
   "id": "1c74dc11",
   "metadata": {},
   "source": [
    "<hr>"
   ]
  },
  {
   "attachments": {},
   "cell_type": "markdown",
   "id": "a920f57f",
   "metadata": {},
   "source": [
    "## 8. API Integration with TensorFlow Serving\n",
    "\n",
    "To integrate a TensorFlow model with an API using TensorFlow Serving, we need to follow a few steps:\n",
    "\n",
    "Export the TensorFlow model in the SavedModel format\n",
    "Install and start the TensorFlow Serving server\n",
    "Send prediction requests to the server using a RESTful API\n",
    "Here is the Python code to perform these steps:"
   ]
  },
  {
   "attachments": {},
   "cell_type": "markdown",
   "id": "6c3661ef",
   "metadata": {},
   "source": [
    "```In this code, we first load a pre-trained ResNet50 model and save it in the SavedModel format using the tf.saved_model.save function. Next, we start the TensorFlow Serving server using Docker and bind the saved model to the server. Finally, we load an example image, preprocess it, and send a prediction request to the server using the RESTful API. The server returns a JSON object containing the predicted probabilities for each class, which we can then use for further processing.```"
   ]
  },
  {
   "cell_type": "code",
   "execution_count": null,
   "id": "679f3fb5",
   "metadata": {},
   "outputs": [],
   "source": [
    "import tensorflow as tf\n",
    "from tensorflow.keras.applications import ResNet50\n",
    "from tensorflow.keras.preprocessing.image import img_to_array\n",
    "import requests\n",
    "import json\n",
    "\n",
    "# Step 1: Export the TensorFlow model in the SavedModel format\n",
    "model = ResNet50(weights='imagenet')\n",
    "tf.saved_model.save(model, 'resnet_saved_model')\n",
    "\n",
    "# Step 2: Install and start the TensorFlow Serving server\n",
    "# You can install the TensorFlow Serving server using Docker or by building from source.\n",
    "# Here is an example command to start the server:\n",
    "# docker run -p 8501:8501 --mount type=bind,source=/path/to/resnet_saved_model,target=/models/resnet -e MODEL_NAME=resnet -t tensorflow/serving\n",
    "\n",
    "# Step 3: Send prediction requests to the server using a RESTful API\n",
    "image_path = 'Images/image.jpg'\n",
    "image = tf.io.read_file(image_path)\n",
    "image = tf.image.decode_jpeg(image, channels=3)\n",
    "image = tf.image.resize(image, [224, 224])\n",
    "image = tf.cast(image, tf.float32) / 255.0\n",
    "image = tf.expand_dims(image, 0)\n",
    "data = json.dumps({\"signature_name\": \"serving_default\", \"instances\": image.numpy().tolist()})\n",
    "headers = {\"content-type\": \"application/json\"}\n",
    "response = requests.post('http://localhost:8501/v1/models/resnet:predict', data=data, headers=headers)\n",
    "prediction = json.loads(response.text)['predictions'][0]\n",
    "\n",
    "print(prediction)"
   ]
  },
  {
   "attachments": {},
   "cell_type": "markdown",
   "id": "11058d32",
   "metadata": {},
   "source": [
    "<hr>"
   ]
  }
 ],
 "metadata": {
  "kernelspec": {
   "display_name": "Python 3",
   "language": "python",
   "name": "python3"
  },
  "language_info": {
   "codemirror_mode": {
    "name": "ipython",
    "version": 3
   },
   "file_extension": ".py",
   "mimetype": "text/x-python",
   "name": "python",
   "nbconvert_exporter": "python",
   "pygments_lexer": "ipython3",
   "version": "3.9.2rc1"
  },
  "vscode": {
   "interpreter": {
    "hash": "f1a104daade7a70772ad630bf0568980f4e260449ff540bcd2b6baf0ecd3487d"
   }
  }
 },
 "nbformat": 4,
 "nbformat_minor": 5
}
