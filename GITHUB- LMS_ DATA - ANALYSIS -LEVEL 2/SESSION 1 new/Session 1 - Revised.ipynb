{
  "cells": [
    {
      "attachments": {},
      "cell_type": "markdown",
      "metadata": {},
      "source": [
        "## SESSION 1 - Image Processing &  OpenCV"
      ]
    },
    {
      "attachments": {},
      "cell_type": "markdown",
      "metadata": {},
      "source": [
        "TOC : <br>\n",
        "1. Introduction\n",
        "2. Installation and Setup\n",
        "3. Image processing\n",
        "    - Image acquisition and representation<br>\n",
        "    - Image enhancement techniques<br>\n",
        "    - Image restoration techniques<br>\n",
        "    - Image segmentation techniques<br>\n",
        "    - Image compression techniques<br>\n",
        "4. OpenCV<br>\n",
        "    - Image Transformation and Enhancement<br>\n",
        "    - Image Filtering<br>\n",
        "    - Image Blending and Compositing<br>\n",
        "    - Color Spaces and Color Management<br>\n",
        "    - Text and Font Handling<br>"
      ]
    },
    {
      "attachments": {},
      "cell_type": "markdown",
      "metadata": {},
      "source": [
        "<hr>"
      ]
    },
    {
      "attachments": {},
      "cell_type": "markdown",
      "metadata": {},
      "source": [
        "### 1. Introduction\n",
        "\n",
        "- Image processing is a field of computer vision that involves manipulating and analyzing digital images to extract useful information or enhance their visual quality. OpenCV (Open Source Computer Vision) is a popular library that provides a comprehensive set of functions and tools for image processing."
      ]
    },
    {
      "attachments": {},
      "cell_type": "markdown",
      "metadata": {},
      "source": [
        "\n",
        "<img align = \"middle\" src = 'images/opencv-intro.png' width = '700' height = '300'>"
      ]
    },
    {
      "attachments": {},
      "cell_type": "markdown",
      "metadata": {},
      "source": [
        "### 2. Installation and Setup of OpenCV\n",
        "\n",
        "Before we start with image processing and manipulation with OpenCV, we need to install and set it up on our system. \n",
        "\n",
        "You can install OpenCV using pip:\n",
        "```pip install opencv-python```\n",
        "\n",
        "Once OpenCV is installed, you can import it in your Python code as follows:\n",
        "```import cv2```"
      ]
    },
    {
      "attachments": {},
      "cell_type": "markdown",
      "metadata": {},
      "source": [
        "### 3. Image Processing\n",
        "\n",
        "\n",
        "<img align = \"middle\" src = 'images/opencv-5.jpg' width = '700' height = '300'>\n",
        "\n",
        "##### Image Acquisition & Other Basic Operations\n",
        "\n"
      ]
    },
    {
      "attachments": {},
      "cell_type": "markdown",
      "metadata": {},
      "source": [
        "- ```Reading & Copying Images :``` To acquire and represent an image in Python, we can use the OpenCV library. OpenCV provides functions for reading, displaying, and saving images in various formats. \n",
        "\n",
        "    Here's an example code snippet to read and display an image :"
      ]
    },
    {
      "cell_type": "code",
      "execution_count": 32,
      "metadata": {},
      "outputs": [
        {
          "name": "stdout",
          "output_type": "stream",
          "text": [
            "Grayscale image saved successfully.\n"
          ]
        }
      ],
      "source": [
        "import cv2\n",
        "\n",
        "# Read image\n",
        "img = cv2.imread('Images/image.jpg')\n",
        "\n",
        "# Convert image to grayscale\n",
        "gray_img = cv2.cvtColor(img, cv2.COLOR_BGR2GRAY)\n",
        "\n",
        "# Display grayscale image\n",
        "cv2.imshow('Image', img)\n",
        "cv2.imshow('Grayscale Image', gray_img)\n",
        "cv2.waitKey(0)\n",
        "cv2.destroyAllWindows()\n",
        "\n",
        "# Save grayscale image\n",
        "cv2.imwrite('Images/image_gray.jpg', gray_img)\n",
        "print(\"Grayscale image saved successfully.\")\n"
      ]
    },
    {
      "attachments": {},
      "cell_type": "markdown",
      "metadata": {},
      "source": [
        "- ```Resizing an image```"
      ]
    },
    {
      "cell_type": "code",
      "execution_count": 4,
      "metadata": {},
      "outputs": [],
      "source": [
        "import cv2\n",
        "\n",
        "# Read an image\n",
        "img = cv2.imread('Images/image.jpg')\n",
        "\n",
        "new_width = 400\n",
        "new_height = 300\n",
        "\n",
        "# Resize the image\n",
        "resized = cv2.resize(img, (new_width, new_height))\n",
        "\n",
        "# Display the resized image\n",
        "cv2.imshow('resized', resized)\n",
        "\n",
        "# Wait for a key event to close the window\n",
        "cv2.waitKey(0)\n",
        "\n",
        "# Destroy all windows\n",
        "cv2.destroyAllWindows()"
      ]
    },
    {
      "attachments": {},
      "cell_type": "markdown",
      "metadata": {},
      "source": [
        "- ```Cropping an image```"
      ]
    },
    {
      "cell_type": "code",
      "execution_count": 5,
      "metadata": {},
      "outputs": [],
      "source": [
        "import cv2\n",
        "\n",
        "# Read an image\n",
        "img = cv2.imread('Images/image.jpg')\n",
        "\n",
        "# Define the region of interest (ROI) for cropping\n",
        "x, y, width, height = 100, 100, 200, 200\n",
        "roi = img[y:y+height, x:x+width]\n",
        "\n",
        "# Display the cropped image\n",
        "cv2.imshow('cropped', roi)\n",
        "\n",
        "# Wait for a key event to close the window\n",
        "cv2.waitKey(0)\n",
        "\n",
        "# Destroy all windows\n",
        "cv2.destroyAllWindows()"
      ]
    },
    {
      "attachments": {},
      "cell_type": "markdown",
      "metadata": {},
      "source": [
        "- ```Converting an image to grayscale```"
      ]
    },
    {
      "cell_type": "code",
      "execution_count": 8,
      "metadata": {},
      "outputs": [],
      "source": [
        "import cv2\n",
        "\n",
        "# Read an image\n",
        "img = cv2.imread('Images/image.jpg')\n",
        "\n",
        "# Convert the image to grayscale\n",
        "gray = cv2.cvtColor(img, cv2.COLOR_BGR2GRAY)\n",
        "\n",
        "# Display the grayscale image\n",
        "cv2.imshow('gray', gray)\n",
        "\n",
        "# Wait for a key event to close the window\n",
        "cv2.waitKey(0)\n",
        "\n",
        "# Destroy all windows\n",
        "cv2.destroyAllWindows()"
      ]
    },
    {
      "attachments": {},
      "cell_type": "markdown",
      "metadata": {},
      "source": [
        "- ```Drawing shapes on an image```"
      ]
    },
    {
      "cell_type": "code",
      "execution_count": 11,
      "metadata": {},
      "outputs": [],
      "source": [
        "import cv2\n",
        "\n",
        "# Read an image\n",
        "img = cv2.imread('Images/image.jpg')\n",
        "\n",
        "start_x = 100\n",
        "start_y = 100\n",
        "end_x = 200\n",
        "end_y = 200\n",
        "center_x = 100\n",
        "center_y = 100\n",
        "radius = 50\n",
        "thickness = 10\n",
        "\n",
        "# Draw a line on the image\n",
        "cv2.line(img, (start_x, start_y), (end_x, end_y), (255, 0, 0), thickness)\n",
        "\n",
        "# Draw a rectangle on the image\n",
        "cv2.rectangle(img, (x, y), (x+width, y+height), (0, 255, 0), thickness)\n",
        "\n",
        "# Draw a circle on the image\n",
        "cv2.circle(img, (center_x, center_y), radius, (0, 0, 255), thickness)\n",
        "\n",
        "# Display the image with the shapes drawn on it\n",
        "cv2.imshow('image', img)\n",
        "\n",
        "# Wait for a key event to close the window\n",
        "cv2.waitKey(0)\n",
        "\n",
        "# Destroy all windows\n",
        "cv2.destroyAllWindows()"
      ]
    },
    {
      "attachments": {},
      "cell_type": "markdown",
      "metadata": {},
      "source": [
        "- ```Image dimensions and color channels```"
      ]
    },
    {
      "cell_type": "code",
      "execution_count": 12,
      "metadata": {},
      "outputs": [
        {
          "name": "stdout",
          "output_type": "stream",
          "text": [
            "Image dimensions: 872x586 with 3 channels\n"
          ]
        }
      ],
      "source": [
        "import cv2\n",
        "\n",
        "# Read an image\n",
        "img = cv2.imread('Images/image.jpg')\n",
        "\n",
        "# Get the dimensions of the image\n",
        "height, width, channels = img.shape\n",
        "print('Image dimensions: {}x{} with {} channels'.format(width, height, channels))"
      ]
    },
    {
      "attachments": {},
      "cell_type": "markdown",
      "metadata": {},
      "source": [
        "<hr>"
      ]
    },
    {
      "attachments": {},
      "cell_type": "markdown",
      "metadata": {},
      "source": [
        "### Image Transformation and Enhancement with OpenCV"
      ]
    },
    {
      "attachments": {},
      "cell_type": "markdown",
      "metadata": {},
      "source": [
        "OpenCV provides a number of functions for performing various image transformation and enhancement tasks. For example, we can rotate an image using the cv2.getRotationMatrix2D() and cv2.warpAffine() functions, apply perspective transforms using the cv2.getPerspectiveTransform() and cv2.warpPerspective() functions, and adjust the brightness and contrast of an image using the cv2.convertScaleAbs() function."
      ]
    },
    {
      "cell_type": "code",
      "execution_count": 13,
      "metadata": {},
      "outputs": [],
      "source": [
        "import cv2\n",
        "import numpy as np\n",
        "\n",
        "# Load an image from file\n",
        "img = cv2.imread('Images/image.jpg')\n",
        "\n",
        "# Rotate the image\n",
        "rows, cols, _ = img.shape\n",
        "M = cv2.getRotationMatrix2D((cols/2, rows/2), 45, 1)\n",
        "rotated_img = cv2.warpAffine(img, M, (cols, rows))\n",
        "\n",
        "# Apply a perspective transform\n",
        "pts1 = np.float32([[56,65],[368,52],[28,387],[389,390]])\n",
        "pts2 = np.float32([[0,0],[300,0],[0,300],[300,300]])\n",
        "M = cv2.getPerspectiveTransform(pts1,pts2)\n",
        "transformed_img = cv2.warpPerspective(img,M,(300,300))\n",
        "\n",
        "# Adjust the brightness and contrast\n",
        "alpha = 1.5\n",
        "beta = 50\n",
        "adjusted_img = cv2.convertScaleAbs(img, alpha=alpha, beta=beta)\n",
        "\n",
        "# Display the images on screen\n",
        "cv2.imshow('Original Image', img)\n",
        "cv2.imshow('Rotated Image', rotated_img)\n",
        "cv2.imshow('Transformed Image', transformed_img)\n",
        "cv2.imshow('Adjusted Image', adjusted_img)\n",
        "\n",
        "# Wait for a key press\n",
        "cv2.waitKey(0)\n",
        "\n",
        "# Close the windows\n",
        "cv2.destroyAllWindows()"
      ]
    },
    {
      "attachments": {},
      "cell_type": "markdown",
      "metadata": {},
      "source": [
        "#### Image Enhancement Techniques"
      ]
    },
    {
      "attachments": {},
      "cell_type": "markdown",
      "metadata": {},
      "source": [
        "- Histogram Equalization : Histogram equalization is a technique used to enhance the contrast of an image by redistributing the pixel intensities. In Python, we can use the cv2.equalizeHist() function to perform histogram equalization. \n",
        "\n",
        "    Here's an example code snippet :"
      ]
    },
    {
      "cell_type": "code",
      "execution_count": 14,
      "metadata": {},
      "outputs": [],
      "source": [
        "import cv2\n",
        "\n",
        "# Read image in grayscale\n",
        "img = cv2.imread('Images/image.jpg', cv2.IMREAD_GRAYSCALE)\n",
        "\n",
        "# Perform histogram equalization\n",
        "equalized_img = cv2.equalizeHist(img)\n",
        "\n",
        "# Display images\n",
        "cv2.imshow('Original', img)\n",
        "cv2.imshow('Equalized', equalized_img)\n",
        "cv2.waitKey(0)\n",
        "cv2.destroyAllWindows()"
      ]
    },
    {
      "attachments": {},
      "cell_type": "markdown",
      "metadata": {},
      "source": [
        "- Contrast Stretching : Contrast stretching is a technique used to enhance the contrast of an image by expanding the range of pixel intensities. In Python, we can use the cv2.normalize() function to perform contrast stretching. \n",
        "\n",
        "    Here's an example code snippet :"
      ]
    },
    {
      "cell_type": "code",
      "execution_count": 15,
      "metadata": {},
      "outputs": [],
      "source": [
        "import cv2\n",
        "import numpy as np\n",
        "\n",
        "# Read image in grayscale\n",
        "img = cv2.imread('Images/image.jpg', cv2.IMREAD_GRAYSCALE)\n",
        "\n",
        "# Perform contrast stretching\n",
        "normalized_img = cv2.normalize(img, None, 0, 255, cv2.NORM_MINMAX)\n",
        "\n",
        "# Display images\n",
        "cv2.imshow('Original', img)\n",
        "cv2.imshow('Normalized', normalized_img)\n",
        "cv2.waitKey(0)\n",
        "cv2.destroyAllWindows()"
      ]
    },
    {
      "attachments": {},
      "cell_type": "markdown",
      "metadata": {},
      "source": [
        "####  Image Restoration Techniques"
      ]
    },
    {
      "attachments": {},
      "cell_type": "markdown",
      "metadata": {},
      "source": [
        "- In the context of image processing, noise refers to unwanted random variations or disturbances in the pixel values of an image. It is considered as an undesirable artifact that can degrade the quality and clarity of an image. Noise can arise from various sources such as sensor limitations, transmission errors, electromagnetic interference, or environmental factors.\n",
        "\n",
        "- Noise Reduction : Noise reduction is a technique used to remove noise from an image. In Python, we can use various filters like Gaussian filter, median filter, etc. to perform noise reduction. \n",
        "\n",
        "    Here's an example code snippet to perform noise reduction using a Gaussian filter:"
      ]
    },
    {
      "cell_type": "code",
      "execution_count": 16,
      "metadata": {},
      "outputs": [],
      "source": [
        "import cv2\n",
        "\n",
        "# Read image\n",
        "img = cv2.imread('Images/image.jpg')\n",
        "\n",
        "# Perform Gaussian blur\n",
        "blurred_img = cv2.GaussianBlur(img, (5, 5), 0)\n",
        "\n",
        "# Display images\n",
        "cv2.imshow('Original', img)\n",
        "cv2.imshow('Blurred', blurred_img)\n",
        "cv2.waitKey(0)\n",
        "cv2.destroyAllWindows()"
      ]
    },
    {
      "attachments": {},
      "cell_type": "markdown",
      "metadata": {},
      "source": [
        "#### Image Segmentation Techniques"
      ]
    },
    {
      "attachments": {},
      "cell_type": "markdown",
      "metadata": {},
      "source": [
        "- Thresholding : Thresholding is a technique used to separate the foreground and background regions in an image. In Python, we can use the cv2.threshold() function to perform thresholding. \n",
        "\n",
        "    Here's an example code snippet to perform thresholding : "
      ]
    },
    {
      "cell_type": "code",
      "execution_count": 17,
      "metadata": {},
      "outputs": [],
      "source": [
        "import cv2\n",
        "\n",
        "# Read image in grayscale\n",
        "img = cv2.imread('Images/image.jpg', cv2.IMREAD_GRAYSCALE)\n",
        "\n",
        "# Perform thresholding\n",
        "threshold_value = 127\n",
        "max_value = 255\n",
        "ret, thresholded_img = cv2.threshold(img, threshold_value, max_value, cv2.THRESH_BINARY)\n",
        "\n",
        "# Display images\n",
        "cv2.imshow('Original', img)\n",
        "cv2.imshow('Thresholded', thresholded_img)\n",
        "cv2.waitKey(0)\n",
        "cv2.destroyAllWindows()"
      ]
    },
    {
      "attachments": {},
      "cell_type": "markdown",
      "metadata": {},
      "source": [
        "- Edge Detection : Edge detection is a technique used to detect the boundaries of objects in an image. In Python, we can use various edge detection algorithms like Canny edge detection, Sobel edge detection, etc. to perform edge detection. \n",
        "\n",
        "    Here's an example code snippet to perform edge detection using Canny edge detection :"
      ]
    },
    {
      "cell_type": "code",
      "execution_count": 18,
      "metadata": {},
      "outputs": [],
      "source": [
        "import cv2\n",
        "\n",
        "# Read image in grayscale\n",
        "img = cv2.imread('Images/image.jpg', cv2.IMREAD_GRAYSCALE)\n",
        "\n",
        "# Perform Canny edge detection\n",
        "canny_img = cv2.Canny(img, 100, 200)\n",
        "\n",
        "# Display images\n",
        "cv2.imshow('Original', img)\n",
        "cv2.imshow('Canny', canny_img)\n",
        "cv2.waitKey(0)\n",
        "cv2.destroyAllWindows()"
      ]
    },
    {
      "attachments": {},
      "cell_type": "markdown",
      "metadata": {},
      "source": [
        "##  Image Compression Techniques\n",
        "\n",
        "### JPEG Compression\n",
        "\n",
        "JPEG compression is a lossy image compression technique that reduces the file size of an image by removing the high-frequency components of the image. In Python, we can use the cv2.imwrite() function with the appropriate JPEG compression quality parameter to save an image in JPEG format. \n",
        "\n",
        "Here's an example code snippet to save an image in JPEG format:"
      ]
    },
    {
      "cell_type": "code",
      "execution_count": 19,
      "metadata": {},
      "outputs": [
        {
          "data": {
            "text/plain": [
              "True"
            ]
          },
          "execution_count": 19,
          "metadata": {},
          "output_type": "execute_result"
        }
      ],
      "source": [
        "import cv2\n",
        "\n",
        "# Read image\n",
        "img = cv2.imread('Images/image.jpg')\n",
        "\n",
        "# Save image in JPEG format\n",
        "cv2.imwrite('Images/compressed_image.jpg', img, [cv2.IMWRITE_JPEG_QUALITY, 90])"
      ]
    },
    {
      "attachments": {},
      "cell_type": "markdown",
      "metadata": {},
      "source": [
        "### PNG Compression\n",
        "\n",
        "PNG compression is a lossless image compression technique that reduces the file size of an image without losing any information. In Python, we can use the cv2.imwrite() function with the appropriate PNG compression level parameter to save an image in PNG format. \n",
        "\n",
        "Note: The compression level parameter ranges from 0 to 9, with 0 being no compression and 9 being maximum compression.\n",
        "\n",
        "Here's an example code snippet to save an image in PNG format:"
      ]
    },
    {
      "cell_type": "code",
      "execution_count": 20,
      "metadata": {},
      "outputs": [
        {
          "data": {
            "text/plain": [
              "True"
            ]
          },
          "execution_count": 20,
          "metadata": {},
          "output_type": "execute_result"
        }
      ],
      "source": [
        "import cv2\n",
        "\n",
        "# Read image\n",
        "img = cv2.imread('Images/image.jpg')\n",
        "\n",
        "# Save image in PNG format\n",
        "cv2.imwrite('Images/png_compressed_image.png', img, [cv2.IMWRITE_PNG_COMPRESSION, 9])"
      ]
    },
    {
      "attachments": {},
      "cell_type": "markdown",
      "metadata": {},
      "source": [
        "<hr>"
      ]
    },
    {
      "attachments": {},
      "cell_type": "markdown",
      "metadata": {},
      "source": [
        "## 4. Open CV"
      ]
    },
    {
      "attachments": {},
      "cell_type": "markdown",
      "metadata": {},
      "source": [
        "OpenCV (Open Source Computer Vision) is a popular open-source library for computer vision and image processing. It provides a wide range of functions and algorithms that enable developers to perform various tasks related to image and video analysis. "
      ]
    },
    {
      "attachments": {},
      "cell_type": "markdown",
      "metadata": {},
      "source": [
        "\n",
        "<img align = \"middle\" src = 'images/opencv-3.png' width = '700' height = '300'>"
      ]
    },
    {
      "attachments": {},
      "cell_type": "markdown",
      "metadata": {},
      "source": [
        "**Here are some real-world applications of OpenCV:**\n",
        "\n",
        "- Object Detection and Recognition: OpenCV can be used for detecting and recognizing objects in images and videos. \n",
        "- Facial Recognition: OpenCV provides tools for detecting and recognizing faces in images and videos.\n",
        "- Image and Video Processing: OpenCV offers a variety of image and video processing functions, such as filtering, enhancement, and transformation. \n",
        "- Augmented Reality (AR): OpenCV can be employed in AR applications to track and overlay digital content on real-world scenes.\n",
        "- Medical Image Analysis: OpenCV is utilized in medical imaging for tasks like image segmentation, tumor detection, and analysis of biological samples.\n",
        "- Optical Character Recognition (OCR): OpenCV provides tools for extracting text from images and recognizing characters.\n",
        "- Robotics: OpenCV is used in robotics for tasks such as object detection, navigation, and gesture recognition. \n",
        "- Motion Tracking: OpenCV can track the movement of objects in videos and analyze their trajectories.\n",
        "- Industrial Automation: OpenCV is used in industrial settings for tasks like quality control, defect detection, and object recognition.\n",
        "- Driver Assistance Systems: OpenCV is employed in driver assistance systems to detect and track objects on the road, such as vehicles, pedestrians, and traffic signs."
      ]
    },
    {
      "attachments": {},
      "cell_type": "markdown",
      "metadata": {},
      "source": [
        "<hr>"
      ]
    },
    {
      "attachments": {},
      "cell_type": "markdown",
      "metadata": {},
      "source": [
        "### Image Filtering with OpenCV\n",
        "\n",
        "Image filtering is a technique that is used to enhance images, remove noise, and extract useful information from them. In Python, OpenCV is a popular library that is used for image filtering. OpenCV provides a wide range of image filtering functions that can be used to apply different types of filters to an image.\n",
        "\n",
        "Here is a sample Python code that demonstrates image filtering using OpenCV:"
      ]
    },
    {
      "cell_type": "code",
      "execution_count": 21,
      "metadata": {},
      "outputs": [],
      "source": [
        "import cv2\n",
        "import numpy as np\n",
        "\n",
        "# Load the image\n",
        "img = cv2.imread('Images/image.jpg')\n",
        "\n",
        "# Define the kernel for the filter\n",
        "kernel = np.ones((5,5), np.float32)/25\n",
        "\n",
        "# Apply the filter to the image\n",
        "filtered_img = cv2.filter2D(img, -1, kernel)\n",
        "\n",
        "# Display the original and filtered image\n",
        "cv2.imshow('Original Image', img)\n",
        "cv2.imshow('Filtered Image', filtered_img)\n",
        "cv2.waitKey(0)\n",
        "cv2.destroyAllWindows()"
      ]
    },
    {
      "attachments": {},
      "cell_type": "markdown",
      "metadata": {},
      "source": [
        "In the above code, we first load the image using the cv2.imread() function. We then define the kernel for the filter. The kernel is a matrix that is used to define the filter. In this case, we have defined a 5x5 matrix with all values set to 1, and then divided the matrix by 25 to normalize it.\n",
        "\n",
        "We then apply the filter to the image using the cv2.filter2D() function. This function applies the filter to the image using the kernel matrix. The -1 parameter specifies the depth of the image. If set to -1, the output image will have the same depth as the input image.\n",
        "\n",
        "Finally, we display the original and filtered image using the cv2.imshow() function. The cv2.waitKey() function waits for a key event to occur, and the cv2.destroyAllWindows() function destroys all the windows that are created.\n",
        "\n",
        "This is a basic example of image filtering using OpenCV. There are many other functions available in OpenCV that can be used to apply different types of filters to an image.\n"
      ]
    },
    {
      "attachments": {},
      "cell_type": "markdown",
      "metadata": {},
      "source": [
        "<hr>"
      ]
    },
    {
      "attachments": {},
      "cell_type": "markdown",
      "metadata": {},
      "source": [
        "### Image Blending and Compositing with OpenCV\n",
        "\n",
        "Image blending and compositing is a common technique used in computer vision and image processing to combine multiple images into a single image. OpenCV is a popular Python library used for this purpose. \n",
        "\n",
        "The following is a detailed Python code-based description for image blending and compositing with OpenCV:"
      ]
    },
    {
      "attachments": {},
      "cell_type": "markdown",
      "metadata": {},
      "source": [
        "In this code, we first load two images, image1.jpg and image2.jpg, using the cv2.imread() function. We then resize both images to the same size using the cv2.resize() function. Next, we create a mask for blending using the np.zeros_like() function to create an array of zeros with the same size as img1, and then set the region of interest to 200:400 for both the x and y axes, and assign it a value of 255.\n",
        "\n",
        "We then apply the mask to both images using the cv2.bitwise_and() function to get the regions of interest from each image. We use the cv2.bitwise_not() function to invert the mask and apply it to img2.\n",
        "\n",
        "We then blend the masked images using the cv2.addWeighted() function. The first two arguments are the two images we want to blend, followed by the blending weights for each image. In this case, we use equal weights for both images (0.5). The last argument is the gamma value, which we set to 0.\n",
        "\n",
        "Finally, we display all the images using the cv2.imshow() function, and wait for a key press using cv2.waitKey(). We then destroy all the windows using cv2.destroyAllWindows()."
      ]
    },
    {
      "cell_type": "code",
      "execution_count": 22,
      "metadata": {},
      "outputs": [],
      "source": [
        "import cv2\n",
        "import numpy as np\n",
        "\n",
        "# Load the images\n",
        "img1 = cv2.imread('Images/image1.png')\n",
        "img2 = cv2.imread('Images/image2.png')\n",
        "\n",
        "# Resize the images to the same size\n",
        "img1 = cv2.resize(img1, (640, 480))\n",
        "img2 = cv2.resize(img2, (640, 480))\n",
        "\n",
        "# Create a mask for blending\n",
        "mask = np.zeros_like(img1)\n",
        "mask[200:400, 200:400] = 255\n",
        "\n",
        "# Apply the mask to the images\n",
        "masked_img1 = cv2.bitwise_and(img1, mask)\n",
        "masked_img2 = cv2.bitwise_and(img2, cv2.bitwise_not(mask))\n",
        "\n",
        "# Blend the images using addWeighted function\n",
        "blended_img = cv2.addWeighted(masked_img1, 0.5, masked_img2, 0.5, 0)\n",
        "\n",
        "# Display the images\n",
        "cv2.imshow('Image 1', img1)\n",
        "cv2.imshow('Image 2', img2)\n",
        "cv2.imshow('Mask', mask)\n",
        "cv2.imshow('Blended Image', blended_img)\n",
        "cv2.waitKey(0)\n",
        "cv2.destroyAllWindows()"
      ]
    },
    {
      "attachments": {},
      "cell_type": "markdown",
      "metadata": {},
      "source": [
        "<hr>"
      ]
    },
    {
      "attachments": {},
      "cell_type": "markdown",
      "metadata": {},
      "source": [
        "### Color Spaces and Color Management with OpenCV\n",
        "\n",
        "Color Spaces and Color Management are important concepts in computer vision and image processing. OpenCV provides various functions and utilities to work with different color spaces and manage colors in images. Here is a detailed Python code-based description of these topics."
      ]
    },
    {
      "attachments": {},
      "cell_type": "markdown",
      "metadata": {},
      "source": [
        "### Converting between Color Spaces\n",
        "\n",
        "OpenCV provides functions to convert images between different color spaces. Some of the commonly used color spaces are BGR, RGB, HSV, and Gray.\n",
        "\n",
        "To convert an image from one color space to another, we can use the cv2.cvtColor() function. \n",
        "\n",
        "Here is an example of converting an image from BGR to Gray:\n",
        "\n",
        "In this code, we first load an image in BGR format using the cv2.imread() function. We then use the cv2.cvtColor() function to convert the image from BGR to Gray using the cv2.COLOR_BGR2GRAY flag."
      ]
    },
    {
      "cell_type": "code",
      "execution_count": 23,
      "metadata": {},
      "outputs": [
        {
          "data": {
            "text/plain": [
              "-1"
            ]
          },
          "execution_count": 23,
          "metadata": {},
          "output_type": "execute_result"
        }
      ],
      "source": [
        "import cv2\n",
        "\n",
        "# Load the image in BGR format\n",
        "image_bgr = cv2.imread('Images/image.jpg')\n",
        "\n",
        "# Convert BGR to Gray\n",
        "image_gray = cv2.cvtColor(image_bgr, cv2.COLOR_BGR2GRAY)\n",
        "\n",
        "# Display the images\n",
        "cv2.imshow('BGR Image', image_bgr)\n",
        "cv2.imshow('Gray Image', image_gray)\n",
        "cv2.waitKey(0)"
      ]
    },
    {
      "attachments": {},
      "cell_type": "markdown",
      "metadata": {},
      "source": [
        "### Color Thresholding\n",
        "\n",
        "Color thresholding is a technique used to separate regions of an image based on color. In OpenCV, we can use the cv2.inRange() function to perform color thresholding. This function takes two arguments: the input image and the color range to threshold.\n",
        "\n",
        "Here is an example of using color thresholding to detect red regions in an image:\n",
        "\n",
        "In this code, we first load an image and convert it to HSV color space using the cv2.cvtColor() function. We then define the lower and upper range of red color in HSV. We create two masks using the cv2.inRange() function for each range of red color. We then combine the masks using the bitwise OR operator. Finally, we apply the mask to the input image using the cv2.bitwise_and() function to obtain the result."
      ]
    },
    {
      "cell_type": "code",
      "execution_count": 24,
      "metadata": {},
      "outputs": [
        {
          "data": {
            "text/plain": [
              "-1"
            ]
          },
          "execution_count": 24,
          "metadata": {},
          "output_type": "execute_result"
        }
      ],
      "source": [
        "import cv2\n",
        "import numpy as np\n",
        "\n",
        "# Load the image\n",
        "image = cv2.imread('Images/image.jpg')\n",
        "\n",
        "# Convert BGR to HSV\n",
        "hsv = cv2.cvtColor(image, cv2.COLOR_BGR2HSV)\n",
        "\n",
        "# Define the range of red color in HSV\n",
        "lower_red = np.array([0,50,50])\n",
        "upper_red = np.array([10,255,255])\n",
        "mask1 = cv2.inRange(hsv, lower_red, upper_red)\n",
        "\n",
        "lower_red = np.array([170,50,50])\n",
        "upper_red = np.array([180,255,255])\n",
        "mask2 = cv2.inRange(hsv, lower_red, upper_red)\n",
        "\n",
        "# Combine the masks\n",
        "mask = mask1 + mask2\n",
        "\n",
        "# Apply the mask to the image\n",
        "result = cv2.bitwise_and(image, image, mask=mask)\n",
        "\n",
        "# Display the images\n",
        "cv2.imshow('Original Image', image)\n",
        "cv2.imshow('Mask', mask)\n",
        "cv2.imshow('Result', result)\n",
        "cv2.waitKey(0)"
      ]
    },
    {
      "attachments": {},
      "cell_type": "markdown",
      "metadata": {},
      "source": [
        "### Color Correction\n",
        "\n",
        "Color correction is a technique used to adjust the colors in an image to improve its overall appearance. OpenCV provides various functions to perform color correction on images. In this section, we will discuss how to use OpenCV to perform color correction on an image.\n",
        "\n",
        "First, let's import the necessary libraries and load an image:"
      ]
    },
    {
      "cell_type": "code",
      "execution_count": 25,
      "metadata": {},
      "outputs": [],
      "source": [
        "import cv2\n",
        "import numpy as np\n",
        "\n",
        "# Load the image\n",
        "img = cv2.imread('Images/image.jpg')"
      ]
    },
    {
      "attachments": {},
      "cell_type": "markdown",
      "metadata": {},
      "source": [
        "Now, let's convert the color space of the image to LAB color space. The LAB color space is a color-opponent space with dimension L for lightness and a and b for the color-opponent dimensions. This color space is used for color correction because it separates the luminance (brightness) and color information in an image."
      ]
    },
    {
      "cell_type": "code",
      "execution_count": 26,
      "metadata": {},
      "outputs": [],
      "source": [
        "# Convert the image to LAB color space\n",
        "lab = cv2.cvtColor(img, cv2.COLOR_BGR2LAB)\n",
        "\n",
        "# Split the LAB color space into its 3 channels: L, a, and b\n",
        "l, a, b = cv2.split(lab)"
      ]
    },
    {
      "attachments": {},
      "cell_type": "markdown",
      "metadata": {},
      "source": [
        "Next, let's normalize the L channel of the LAB color space to improve the contrast of the image. We will use the CLAHE (Contrast Limited Adaptive Histogram Equalization) algorithm to do this."
      ]
    },
    {
      "cell_type": "code",
      "execution_count": 27,
      "metadata": {},
      "outputs": [],
      "source": [
        "# Apply CLAHE to the L channel of the LAB color space\n",
        "clahe = cv2.createCLAHE(clipLimit=3.0, tileGridSize=(8,8))\n",
        "l_clahe = clahe.apply(l)"
      ]
    },
    {
      "attachments": {},
      "cell_type": "markdown",
      "metadata": {},
      "source": [
        "Now, let's merge the L, a, and b channels back into a single image and convert it back to the original color space."
      ]
    },
    {
      "cell_type": "code",
      "execution_count": 28,
      "metadata": {},
      "outputs": [],
      "source": [
        "# Merge the L, a, and b channels back into a single image\n",
        "lab_clahe = cv2.merge((l_clahe, a, b))\n",
        "\n",
        "# Convert the image back to the original color space\n",
        "color_corrected_img = cv2.cvtColor(lab_clahe, cv2.COLOR_LAB2BGR)"
      ]
    },
    {
      "attachments": {},
      "cell_type": "markdown",
      "metadata": {},
      "source": [
        "Finally, let's display the original image and the color-corrected image side by side for comparison."
      ]
    },
    {
      "cell_type": "code",
      "execution_count": 29,
      "metadata": {},
      "outputs": [],
      "source": [
        "# Display the original image and the color-corrected image side by side\n",
        "cv2.imshow('Original Image', img)\n",
        "cv2.imshow('Color-Corrected Image', color_corrected_img)\n",
        "cv2.waitKey(0)\n",
        "cv2.destroyAllWindows()"
      ]
    },
    {
      "attachments": {},
      "cell_type": "markdown",
      "metadata": {},
      "source": [
        "This code will display two windows showing the original image and the color-corrected image side by side. The color-corrected image will have improved contrast and overall appearance."
      ]
    },
    {
      "attachments": {},
      "cell_type": "markdown",
      "metadata": {},
      "source": [
        "<hr>"
      ]
    },
    {
      "attachments": {},
      "cell_type": "markdown",
      "metadata": {},
      "source": [
        "### Text and Font Handling with OpenCV\n",
        "\n",
        "Text and font handling with OpenCV involves adding text to an image or video stream using various fonts and styles. The following Python code provides an example of how to do this:"
      ]
    },
    {
      "cell_type": "code",
      "execution_count": 30,
      "metadata": {},
      "outputs": [],
      "source": [
        "import numpy as np\n",
        "import cv2\n",
        "\n",
        "# Load image\n",
        "img = cv2.imread('Images/image.jpg')\n",
        "\n",
        "# Define font and text to add\n",
        "font = cv2.FONT_HERSHEY_SIMPLEX\n",
        "text = 'Hello, World!'\n",
        "\n",
        "# Get text size\n",
        "text_size, _ = cv2.getTextSize(text, font, 1, 2)\n",
        "\n",
        "# Calculate text position\n",
        "text_x = int((img.shape[1] - text_size[0]) / 2)\n",
        "text_y = int((img.shape[0] + text_size[1]) / 2)\n",
        "\n",
        "# Add text to image\n",
        "cv2.putText(img, text, (text_x, text_y), font, 1, (255, 255, 255), 2, cv2.LINE_AA)\n",
        "\n",
        "# Display image\n",
        "cv2.imshow('Image', img)\n",
        "cv2.waitKey(0)\n",
        "cv2.destroyAllWindows()"
      ]
    },
    {
      "attachments": {},
      "cell_type": "markdown",
      "metadata": {},
      "source": [
        "In this example, we first load an image using cv2.imread(). We then define the font and text that we want to add. Next, we use cv2.getTextSize() to get the size of the text and calculate the position of the text in the image. Finally, we use cv2.putText() to add the text to the image and display the image using cv2.imshow()."
      ]
    },
    {
      "attachments": {},
      "cell_type": "markdown",
      "metadata": {},
      "source": [
        "<hr>"
      ]
    }
  ],
  "metadata": {
    "accelerator": "GPU",
    "colab": {
      "provenance": [],
      "toc_visible": true
    },
    "kernelspec": {
      "display_name": "Python 3",
      "name": "python3"
    },
    "language_info": {
      "codemirror_mode": {
        "name": "ipython",
        "version": 3
      },
      "file_extension": ".py",
      "mimetype": "text/x-python",
      "name": "python",
      "nbconvert_exporter": "python",
      "pygments_lexer": "ipython3",
      "version": "3.9.2rc1"
    }
  },
  "nbformat": 4,
  "nbformat_minor": 0
}
