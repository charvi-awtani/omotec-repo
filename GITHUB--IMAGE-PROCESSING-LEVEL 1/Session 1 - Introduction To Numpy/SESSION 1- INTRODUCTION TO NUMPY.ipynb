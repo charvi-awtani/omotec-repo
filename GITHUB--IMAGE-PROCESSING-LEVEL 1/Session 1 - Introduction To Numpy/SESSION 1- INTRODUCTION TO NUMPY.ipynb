{
 "cells": [
  {
   "cell_type": "markdown",
   "metadata": {},
   "source": [
    "<img src=\"data/omotec.png\" alt=\"Drawing\" style=\"width: 130px;\" align=\"center\"/>\n",
    "\n",
    "---\n",
    "\n",
    "# 1. Setting up Jupyter notebook\n",
    "### We will be using jupyter notebook throughou the course as it is very easy to use.\n",
    "\n",
    "We will be installing jupyter notebook inside the python installation itself. \n",
    "\n",
    "\n",
    "---\n",
    "\n",
    "**For Windows**\n",
    "\n",
    " - open command prompt and type\n",
    "\n",
    "`pip install jupyter`\n",
    "\n",
    "---\n",
    "\n",
    "**For Mac**\n",
    "\n",
    " - open Terminal and type\n",
    "\n",
    "`pip3 install jupyter`\n",
    "\n",
    "<img src=\"data/jupyter.jpg\" alt=\"Drawing\" style=\"width: 600px;\" align=\"center\"/>"
   ]
  },
  {
   "cell_type": "markdown",
   "metadata": {},
   "source": [
    "#### Once the installation process is over open command prompt or terminal and type `jupyter notebook`\n",
    "<img src=\"data/jupyter_1.jpg\" alt=\"Drawing\" style=\"width: 600px;\" align=\"center\"/>\n",
    "\n",
    "#### This should open a new browser window which is the Jupyter notebook\n",
    "**NOTE : Don't close the terminal/command prompt while you are using jupyter notebook**"
   ]
  },
  {
   "cell_type": "markdown",
   "metadata": {},
   "source": [
    "## NumPy:\n",
    "<p>NumPy is a Python library used for working with arrays.</p>\n",
    "\n",
    "## Use of NumPy:\n",
    "In Python we have lists that serve the purpose of arrays, but they are slow to process.\n",
    "NumPy aims to provide an array object that is up to 50x faster than traditional Python lists.\n",
    "\n",
    "### The array object in NumPy is called ndarray, it provides a lot of supporting functions that make working with ndarray very easy.`"
   ]
  },
  {
   "cell_type": "code",
   "execution_count": 3,
   "metadata": {},
   "outputs": [],
   "source": [
    "#Creating array : we can create numpy array using array() function "
   ]
  },
  {
   "cell_type": "code",
   "execution_count": 4,
   "metadata": {},
   "outputs": [
    {
     "name": "stdout",
     "output_type": "stream",
     "text": [
      "[1 2 6]\n"
     ]
    }
   ],
   "source": [
    "import numpy as np\n",
    "\n",
    "a=np.array([1,2,6])\n",
    "\n",
    "print(a)"
   ]
  },
  {
   "cell_type": "code",
   "execution_count": 5,
   "metadata": {},
   "outputs": [],
   "source": [
    "#checking type"
   ]
  },
  {
   "cell_type": "code",
   "execution_count": 6,
   "metadata": {},
   "outputs": [
    {
     "name": "stdout",
     "output_type": "stream",
     "text": [
      "[1 2 6]\n",
      "<class 'numpy.ndarray'>\n"
     ]
    }
   ],
   "source": [
    "import numpy as np\n",
    "\n",
    "a=np.array([1,2,6])\n",
    "\n",
    "print(a)\n",
    "print(type(a))"
   ]
  },
  {
   "cell_type": "code",
   "execution_count": 7,
   "metadata": {},
   "outputs": [],
   "source": [
    "#creating array with tuple "
   ]
  },
  {
   "cell_type": "code",
   "execution_count": 8,
   "metadata": {},
   "outputs": [
    {
     "name": "stdout",
     "output_type": "stream",
     "text": [
      "[1 2 6]\n",
      "<class 'numpy.ndarray'>\n"
     ]
    }
   ],
   "source": [
    "import numpy as np\n",
    "\n",
    "a=np.array((1,2,6))\n",
    "\n",
    "print(a)\n",
    "print(type(a))"
   ]
  },
  {
   "cell_type": "code",
   "execution_count": 9,
   "metadata": {},
   "outputs": [
    {
     "name": "stdout",
     "output_type": "stream",
     "text": [
      "<class 'tuple'>\n",
      "<class 'numpy.ndarray'>\n"
     ]
    }
   ],
   "source": [
    "import numpy as np\n",
    "\n",
    "a=(12,23,45)\n",
    "print(type(a))\n",
    "\n",
    "b= np.array(a)\n",
    "print(type(b))\n"
   ]
  },
  {
   "cell_type": "markdown",
   "metadata": {},
   "source": [
    "## HOMEWORK"
   ]
  },
  {
   "cell_type": "markdown",
   "metadata": {},
   "source": [
    "1. write a program to create numpy array using list"
   ]
  },
  {
   "cell_type": "markdown",
   "metadata": {},
   "source": [
    "## HOMEWORK SOLUTION "
   ]
  },
  {
   "cell_type": "code",
   "execution_count": 12,
   "metadata": {},
   "outputs": [
    {
     "name": "stdout",
     "output_type": "stream",
     "text": [
      "<class 'list'>\n",
      "<class 'numpy.ndarray'>\n"
     ]
    }
   ],
   "source": [
    "#TASK 1\n",
    "\n",
    "import numpy as np\n",
    "\n",
    "a=[12,23,45]\n",
    "print(type(a))\n",
    "\n",
    "b= np.array(a)\n",
    "print(type(b))\n"
   ]
  },
  {
   "cell_type": "code",
   "execution_count": null,
   "metadata": {},
   "outputs": [],
   "source": []
  }
 ],
 "metadata": {
  "kernelspec": {
   "display_name": "Python 3",
   "language": "python",
   "name": "python3"
  },
  "language_info": {
   "codemirror_mode": {
    "name": "ipython",
    "version": 3
   },
   "file_extension": ".py",
   "mimetype": "text/x-python",
   "name": "python",
   "nbconvert_exporter": "python",
   "pygments_lexer": "ipython3",
   "version": "3.9.10"
  }
 },
 "nbformat": 4,
 "nbformat_minor": 4
}
