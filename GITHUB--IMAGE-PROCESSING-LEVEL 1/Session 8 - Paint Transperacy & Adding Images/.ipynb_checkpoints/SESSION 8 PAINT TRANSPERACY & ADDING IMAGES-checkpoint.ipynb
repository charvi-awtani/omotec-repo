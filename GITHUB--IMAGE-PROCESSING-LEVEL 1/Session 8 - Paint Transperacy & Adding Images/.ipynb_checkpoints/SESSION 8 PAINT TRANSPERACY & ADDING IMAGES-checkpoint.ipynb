{
 "cells": [
  {
   "cell_type": "markdown",
   "metadata": {},
   "source": [
    "<img src=\"data/omotec.png\" alt=\"Drawing\" style=\"width: 130px;\" align=\"center\"/>"
   ]
  },
  {
   "cell_type": "markdown",
   "metadata": {},
   "source": [
    "# Painting Transperacy"
   ]
  },
  {
   "cell_type": "markdown",
   "metadata": {},
   "source": [
    "### Using mouse as paint brush to paint transperacy\n",
    "\n",
    "We will be creating PNG images with transperacy. Wherever we draw with brush we will see it being painted with black color as opencv window doenot support transperacy. But when we save the image and open it we will se that all the painted regions have become see through."
   ]
  },
  {
   "cell_type": "code",
   "execution_count": 1,
   "metadata": {},
   "outputs": [],
   "source": [
    "import cv2\n",
    "import numpy as np\n",
    "\n",
    "img = cv2.imread(\"images\\\\butter.png\",-1)  # Reading the image with the fourth alpha channel. \n",
    "                                           # This just makes the task easier\n",
    "\n",
    "drawing = False\n",
    "cv2.namedWindow('image')\n",
    "\n",
    "def nothing(x):\n",
    "    pass\n",
    "\n",
    "def mouse_call(event,x,y,flag,s):\n",
    "    global drawing,rad\n",
    "    \n",
    "    if event == cv2.EVENT_LBUTTONDOWN:\n",
    "        drawing = True\n",
    "    \n",
    "    if event == cv2.EVENT_MOUSEMOVE:\n",
    "        if drawing:\n",
    "            cv2.circle(img,(x,y),rad,(0,0,0,0),-1)\n",
    "            \n",
    "    if event == cv2.EVENT_LBUTTONUP:\n",
    "        drawing = False\n",
    "\n",
    "cv2.setMouseCallback('image',mouse_call)\n",
    "cv2.createTrackbar('Radius','image',5,50,nothing)\n",
    "\n",
    "while(1):\n",
    "    cv2.imshow('image',img)\n",
    "    k = cv2.waitKey(1) & 0xFF\n",
    "    if k == 27:\n",
    "        break\n",
    "\n",
    "    if k == ord('s'):\n",
    "        cv2.imwrite(\"images\\\\butter_copy.png\",img)\n",
    "    rad = cv2.getTrackbarPos('Radius','image')\n",
    "\n",
    "cv2.destroyAllWindows()"
   ]
  },
  {
   "cell_type": "markdown",
   "metadata": {},
   "source": [
    "####  If we do not have a imgae with fourth channel we can convert it to a four channel image using the below code"
   ]
  },
  {
   "cell_type": "code",
   "execution_count": 11,
   "metadata": {},
   "outputs": [
    {
     "name": "stdout",
     "output_type": "stream",
     "text": [
      "(512, 512, 4)\n"
     ]
    }
   ],
   "source": [
    "img = cv2.imread(\"images\\\\lena.jpg\")\n",
    "img2 = cv2.cvtColor(img,cv2.COLOR_BGR2BGRA) # convert 3 channels to 4 channels images\n",
    "print(img2.shape)"
   ]
  },
  {
   "cell_type": "markdown",
   "metadata": {},
   "source": [
    "# Adding Images"
   ]
  },
  {
   "cell_type": "markdown",
   "metadata": {},
   "source": [
    "## cv2.add() method\n",
    "\n",
    "Since the image is a numpy array we can uss the '+' operator to add the images. But this does not work porperly as the numpy addition is an overflow operation. So we can use the cv2.add() method which is a saturated addition operation."
   ]
  },
  {
   "cell_type": "code",
   "execution_count": 1,
   "metadata": {
    "scrolled": false
   },
   "outputs": [
    {
     "ename": "NameError",
     "evalue": "name 'cv2' is not defined",
     "output_type": "error",
     "traceback": [
      "\u001b[1;31m---------------------------------------------------------------------------\u001b[0m",
      "\u001b[1;31mNameError\u001b[0m                                 Traceback (most recent call last)",
      "\u001b[1;32m<ipython-input-1-2145367d36e3>\u001b[0m in \u001b[0;36m<module>\u001b[1;34m\u001b[0m\n\u001b[1;32m----> 1\u001b[1;33m \u001b[0mimg1\u001b[0m \u001b[1;33m=\u001b[0m \u001b[0mcv2\u001b[0m\u001b[1;33m.\u001b[0m\u001b[0mimread\u001b[0m\u001b[1;33m(\u001b[0m\u001b[1;34m\"images\\\\scene.jpg\"\u001b[0m\u001b[1;33m)\u001b[0m\u001b[1;33m\u001b[0m\u001b[1;33m\u001b[0m\u001b[0m\n\u001b[0m\u001b[0;32m      2\u001b[0m \u001b[0mimg2\u001b[0m \u001b[1;33m=\u001b[0m \u001b[0mcv2\u001b[0m\u001b[1;33m.\u001b[0m\u001b[0mimread\u001b[0m\u001b[1;33m(\u001b[0m\u001b[1;34m\"images\\\\opencv.png\"\u001b[0m\u001b[1;33m)\u001b[0m\u001b[1;33m\u001b[0m\u001b[1;33m\u001b[0m\u001b[0m\n\u001b[0;32m      3\u001b[0m \u001b[1;33m\u001b[0m\u001b[0m\n\u001b[0;32m      4\u001b[0m \u001b[0mimg1\u001b[0m \u001b[1;33m=\u001b[0m \u001b[0mcv2\u001b[0m\u001b[1;33m.\u001b[0m\u001b[0mresize\u001b[0m\u001b[1;33m(\u001b[0m\u001b[0mimg1\u001b[0m\u001b[1;33m,\u001b[0m\u001b[1;33m(\u001b[0m\u001b[1;36m180\u001b[0m\u001b[1;33m,\u001b[0m\u001b[1;36m222\u001b[0m\u001b[1;33m)\u001b[0m\u001b[1;33m)\u001b[0m\u001b[1;33m\u001b[0m\u001b[1;33m\u001b[0m\u001b[0m\n\u001b[0;32m      5\u001b[0m \u001b[1;33m\u001b[0m\u001b[0m\n",
      "\u001b[1;31mNameError\u001b[0m: name 'cv2' is not defined"
     ]
    }
   ],
   "source": [
    "img1 = cv2.imread(\"images\\\\scene.jpg\")\n",
    "img2 = cv2.imread(\"images\\\\opencv.png\")\n",
    "\n",
    "img1 = cv2.resize(img1,(180,222))\n",
    "\n",
    "img_np = img1+img2\n",
    "img_cv = cv2.add(img1,img2)\n",
    "\n",
    "cv2.imshow(\"image1\",img_np)\n",
    "cv2.imshow(\"image2\",img_cv)\n",
    "\n",
    "cv2.waitKey(0)\n",
    "cv2.destroyAllWindows()"
   ]
  },
  {
   "cell_type": "markdown",
   "metadata": {},
   "source": [
    "## Merging images using `cv2.addWeighted` method\n",
    "\n",
    "`cv2.addWeighted(image_1, alpha, image_2, beta, Gamma)`\n",
    "\n",
    "- image_1 : first input array.\n",
    "- alpha : weight of the first array elements.\n",
    "- image_2 : second input array of the same size and channel number as src1.\n",
    "- beta : weight of the second array elements.\n",
    "- gamma : scalar added to each sum."
   ]
  },
  {
   "cell_type": "code",
   "execution_count": 1,
   "metadata": {},
   "outputs": [],
   "source": [
    "import cv2\n",
    "img1 = cv2.imread(\"images\\\\scene.jpg\")\n",
    "img2 = cv2.imread(\"images\\\\opencv.png\")\n",
    "\n",
    "img1 = cv2.resize(img1,(180,222))\n",
    "\n",
    "dst = cv2.addWeighted(img1,0.9,img2,0.1,0)\n",
    "\n",
    "cv2.imshow(\"image1\",dst)\n",
    "\n",
    "cv2.waitKey(0)\n",
    "cv2.destroyAllWindows()"
   ]
  },
  {
   "cell_type": "markdown",
   "metadata": {},
   "source": [
    "### Reading directory"
   ]
  },
  {
   "cell_type": "code",
   "execution_count": 14,
   "metadata": {},
   "outputs": [
    {
     "name": "stdout",
     "output_type": "stream",
     "text": [
      "butter.png\n",
      "butter_copy.png\n",
      "chess.png\n",
      "lena.jpg\n",
      "opencv.png\n",
      "scene.jpg\n"
     ]
    }
   ],
   "source": [
    "# This code will come in handy to read all the images in a folder.\n",
    "\n",
    "import os\n",
    "x = os.scandir('images')\n",
    "for i in x:\n",
    "    print(i.name)"
   ]
  },
  {
   "cell_type": "markdown",
   "metadata": {},
   "source": [
    "## HOMEWORK"
   ]
  },
  {
   "cell_type": "markdown",
   "metadata": {},
   "source": [
    "## Slideshow of images\n",
    "\n",
    "Create a slide show off all images in a folder using the `addWeighted() method`"
   ]
  },
  {
   "cell_type": "markdown",
   "metadata": {},
   "source": [
    "1. Using the above concept of reading directory files create a slideshow of images."
   ]
  },
  {
   "cell_type": "code",
   "execution_count": null,
   "metadata": {},
   "outputs": [],
   "source": []
  }
 ],
 "metadata": {
  "kernelspec": {
   "display_name": "Python 3",
   "language": "python",
   "name": "python3"
  },
  "language_info": {
   "codemirror_mode": {
    "name": "ipython",
    "version": 3
   },
   "file_extension": ".py",
   "mimetype": "text/x-python",
   "name": "python",
   "nbconvert_exporter": "python",
   "pygments_lexer": "ipython3",
   "version": "3.9.1"
  }
 },
 "nbformat": 4,
 "nbformat_minor": 4
}
