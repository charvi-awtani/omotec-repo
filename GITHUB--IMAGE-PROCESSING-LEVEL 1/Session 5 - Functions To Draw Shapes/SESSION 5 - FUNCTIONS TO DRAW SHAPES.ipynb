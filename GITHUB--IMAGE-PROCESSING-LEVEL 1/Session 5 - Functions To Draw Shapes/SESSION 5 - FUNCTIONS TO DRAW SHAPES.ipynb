{
 "cells": [
  {
   "cell_type": "markdown",
   "metadata": {},
   "source": [
    "<img src=\"data/omotec.png\" alt=\"Drawing\" style=\"width: 130px;\" align=\"center\"/>\n",
    "\n",
    "# DRAWING FUNCTION"
   ]
  },
  {
   "cell_type": "markdown",
   "metadata": {},
   "source": [
    "# Creating Images using numpy functions"
   ]
  },
  {
   "cell_type": "markdown",
   "metadata": {},
   "source": [
    "Since image object is just an numpy array we can create an image directly from a numpy array usig few numpy fucntions."
   ]
  },
  {
   "cell_type": "code",
   "execution_count": null,
   "metadata": {},
   "outputs": [],
   "source": [
    "import numpy as np\n",
    "import cv2\n",
    "\n",
    "# Create a black image\n",
    "img = np.zeros((512,512,3), np.uint8)\n",
    "cv2.imshow(\"image\",img)\n",
    "cv2.waitKey(0)test\n",
    "cv2.destroyAllWindows()"
   ]
  },
  {
   "cell_type": "markdown",
   "metadata": {},
   "source": [
    "The above creates a black image."
   ]
  },
  {
   "cell_type": "markdown",
   "metadata": {},
   "source": [
    "We can also change the color of the Image by using array slicing."
   ]
  },
  {
   "cell_type": "code",
   "execution_count": null,
   "metadata": {},
   "outputs": [],
   "source": [
    "from cv2 import cv2\n",
    "import numpy as np\n",
    "\n",
    "arr = np.zeros((500,500,3),dtype = 'uint8')\n",
    "\n",
    "# changing the B channel value of the numpy array to 255\n",
    "# this causes the image to be blue in color\n",
    "arr[:,:] = [255,0,0]\n",
    "\n",
    "cv2.imshow('image',arr)\n",
    "cv2.waitKey(0)\n",
    "cv2.destroyAllWindows()"
   ]
  },
  {
   "cell_type": "markdown",
   "metadata": {},
   "source": [
    "The above code creates an Blue colored Image"
   ]
  },
  {
   "cell_type": "markdown",
   "metadata": {},
   "source": [
    "# Drawing Shapes"
   ]
  },
  {
   "cell_type": "markdown",
   "metadata": {},
   "source": [
    "**To draw shapes we will be using the image which we just created using an numpy array as a Canvas.**"
   ]
  },
  {
   "cell_type": "markdown",
   "metadata": {},
   "source": [
    "`cv2.line(), cv2.circle() , cv2.rectangle(), cv2.ellipse(), cv2.putText()` <br>\n",
    "we can use the above function to create the respective shapes or to put text on the image"
   ]
  },
  {
   "cell_type": "markdown",
   "metadata": {},
   "source": [
    "In all the above functions, you will see some common arguments as given below:\n",
    "\n",
    "- **img** : The image where you want to draw the shapes\n",
    "- **color** : Color of the shape. for BGR, pass it as a tuple, eg: (255,0,0) for blue. For grayscale, just pass the scalar value.\n",
    "- **thickness** : Thickness of the line or circle etc. If -1 is passed for closed figures like circles, it will fill the shape. default thickness = 1\n",
    "- **lineType** : Type of line, whether 8-connected, anti-aliased line etc. By default, it is 8-connected. cv2.LINE_AA gives anti-aliased line which looks great for curves."
   ]
  },
  {
   "cell_type": "markdown",
   "metadata": {},
   "source": [
    "## Drwaing a line\n",
    "\n",
    "To draw a line, you need to pass starting and ending coordinates of line. We will create a black image and draw a blue line on it from top-left to bottom-right corners."
   ]
  },
  {
   "cell_type": "code",
   "execution_count": null,
   "metadata": {},
   "outputs": [],
   "source": [
    "import numpy as np\n",
    "from cv2 import cv2\n",
    "\n",
    "# Create a black image\n",
    "img = np.zeros((512,512,3), np.uint8)\n",
    "\n",
    "# Draw a diagonal blue line with thickness of 5 px\n",
    "img = cv2.line(img,(0,0),(511,511),(255,0,0),5)\n",
    "cv2.imshow(\"image\",img)\n",
    "cv2.waitKey(0)\n",
    "cv2.destroyAllWindows()"
   ]
  },
  {
   "cell_type": "markdown",
   "metadata": {},
   "source": [
    "## Drwaing a Rectangle\n",
    "\n",
    "To draw a rectangle, you need top-left corner and bottom-right corner of rectangle. This time we will draw a green rectangle at the top-right corner of image."
   ]
  },
  {
   "cell_type": "code",
   "execution_count": null,
   "metadata": {},
   "outputs": [],
   "source": [
    "import numpy as np\n",
    "import cv2\n",
    "\n",
    "# Create a black image\n",
    "img = np.zeros((512,512,3), np.uint8)\n",
    "\n",
    "# Draw a diagonal blue line with thickness of 5 px\n",
    "img = cv2.rectangle(img,(384,0),(510,128),(0,255,0),3)\n",
    "cv2.imshow(\"image\",img)\n",
    "cv2.waitKey(0)\n",
    "cv2.destroyAllWindows()"
   ]
  },
  {
   "cell_type": "markdown",
   "metadata": {},
   "source": [
    "## Drwaing a Circle\n",
    "\n",
    "To draw a circle, you need its center coordinates and radius."
   ]
  },
  {
   "cell_type": "code",
   "execution_count": null,
   "metadata": {},
   "outputs": [],
   "source": [
    "import numpy as np\n",
    "import cv2\n",
    "\n",
    "# Create a black image\n",
    "img = np.zeros((512,512,3), np.uint8)\n",
    "\n",
    "center = int(512/2)\n",
    "\n",
    "# Draw a diagonal blue line with thickness of 5 px\n",
    "img = cv2.circle(img,(center,center),250,(0,255,0),3)\n",
    "cv2.imshow(\"image\",img)\n",
    "cv2.waitKey(0)\n",
    "cv2.destroyAllWindows()"
   ]
  },
  {
   "cell_type": "markdown",
   "metadata": {},
   "source": [
    "## Drwaing a Ellipse\n",
    "\n",
    "TTo draw the ellipse, we need to pass several arguments. One argument is the center location (x,y). Next argument is axes lengths (major axis length, minor axis length). angle is the angle of rotation of ellipse in anti-clockwise direction. startAngle and endAngle denotes the starting and ending of ellipse arc measured in clockwise direction from major axis. i.e. giving values 0 and 360 gives the full ellipse. For more details, check the documentation of cv2.ellipse(). Below example draws a half ellipse at the center of the image.\n",
    "\n",
    "- img (image on which to draw)\n",
    "- center point\n",
    "- major and minor axis length\n",
    "- angle in terms of rotation of the elipse\n",
    "- start angle\n",
    "- stop angle\n",
    "- color\n",
    "- thickness"
   ]
  },
  {
   "cell_type": "code",
   "execution_count": null,
   "metadata": {},
   "outputs": [],
   "source": [
    "import numpy as np\n",
    "import cv2\n",
    "\n",
    "# Create a black image\n",
    "img = np.zeros((512,512,3), np.uint8)\n",
    "\n",
    "center = int(512/2)\n",
    "\n",
    "# Draw a diagonal blue line with thickness of 5 px\n",
    "img = cv2.ellipse(img,(256,256),(100,50),90,0,360,(255,0,0),-1)\n",
    "cv2.imshow(\"image\",img)\n",
    "cv2.waitKey(0)\n",
    "cv2.destroyAllWindows()"
   ]
  },
  {
   "cell_type": "markdown",
   "metadata": {},
   "source": [
    "## Drwaing a Polygon\n",
    "\n",
    "To draw a polygon, first you need coordinates of vertices. Make those points into an array of shape ROWSx1x2 where ROWS are number of vertices and it should be of type int32. Here we draw a small polygon of with four vertices in yellow color."
   ]
  },
  {
   "cell_type": "code",
   "execution_count": null,
   "metadata": {
    "scrolled": true
   },
   "outputs": [],
   "source": [
    "import numpy as np\n",
    "import cv2\n",
    "\n",
    "# Create a black image\n",
    "img = np.zeros((512,512,3), np.uint8)\n",
    "\n",
    "pts = np.array([[10,5],[20,30],[70,20],[50,10]], np.int32)\n",
    "print(pts.shape)\n",
    "print(pts)\n",
    "\n",
    "print()\n",
    "\n",
    "pts = pts.reshape((4,1,2))\n",
    "print(pts.shape)\n",
    "print(pts)\n",
    "\n",
    "img = cv2.polylines(img,[pts],False,(0,255,255))\n",
    "\n",
    "cv2.imshow(\"image\",img)\n",
    "cv2.waitKey(0)\n",
    "cv2.destroyAllWindows()"
   ]
  },
  {
   "cell_type": "markdown",
   "metadata": {},
   "source": [
    "## Drwaing a text on images\n",
    "\n",
    "- To put texts in images, you need specify following things.\n",
    "- Text data that you want to write\n",
    "- Position coordinates of where you want put it (i.e. bottom-left corner where data starts).\n",
    "- Font type (Check cv2.putText() docs for supported fonts)\n",
    "- Font Scale (specifies the size of font)\n",
    "- regular things like color, thickness, lineType etc. For better look, lineType = cv2.LINE_AA is recommended."
   ]
  },
  {
   "cell_type": "code",
   "execution_count": null,
   "metadata": {},
   "outputs": [],
   "source": [
    "import numpy as np\n",
    "import cv2\n",
    "\n",
    "# Create a black image\n",
    "img = np.zeros((512,512,3), np.uint8)\n",
    "\n",
    "font = cv2.FONT_HERSHEY_SIMPLEX\n",
    "cv2.putText(img,'OpenCV',(10,400), font, 1,(255,255,255),2)\n",
    "\n",
    "cv2.imshow(\"image\",img)\n",
    "cv2.waitKey(0)\n",
    "cv2.destroyAllWindows()"
   ]
  },
  {
   "cell_type": "markdown",
   "metadata": {},
   "source": [
    "## Creating simple animation with OpenCV and Numpy"
   ]
  },
  {
   "cell_type": "code",
   "execution_count": null,
   "metadata": {},
   "outputs": [],
   "source": [
    "from cv2 import cv2\n",
    "import numpy as np\n",
    "\n",
    "img = np.zeros((500,500,3), np.uint8)\n",
    "\n",
    "squ = np.full((50,50,3),127,np.uint8)\n",
    "\n",
    "rep = np.zeros((50,1,3),np.uint8)\n",
    "\n",
    "# img[450:,i:i+50,::] = squ\n",
    "\n",
    "for i in range(1,450):\n",
    "    \n",
    "    img[450:,i-1:i,::] = rep\n",
    "    #img[450:,i:i+50,::] = squ\n",
    "    cv2.imshow('image',img)\n",
    "\n",
    "    k = cv2.waitKey(50) & 0xFF\n",
    "    if k == ord('m'):\n",
    "        mode = not mode\n",
    "    elif k == 27:\n",
    "        break\n",
    "\n",
    "cv2.destroyAllWindows()"
   ]
  },
  {
   "cell_type": "code",
   "execution_count": null,
   "metadata": {},
   "outputs": [],
   "source": [
    "from cv2 import cv2\n",
    "import numpy as np\n",
    "\n",
    "img = np.zeros((500,500,3), np.uint8)\n",
    "\n",
    "\n",
    "squ = np.full((50,50,3),127,np.uint8)\n",
    "\n",
    "rep = np.zeros((50,1,3),np.uint8)\n",
    "\n",
    "# img[450:,i:i+50,::] = squ\n",
    "\n",
    "for i in range(1,450):\n",
    "    \n",
    "    img[450:,i-1:i,::] = rep\n",
    "    img[450:,i:i+50,::] = squ\n",
    "    cv2.imshow('image',img)\n",
    "\n",
    "    k = cv2.waitKey(50) & 0xFF\n",
    "    if k == ord('m'):\n",
    "        mode = not mode\n",
    "    elif k == 27:\n",
    "        break\n",
    "\n",
    "cv2.destroyAllWindows()"
   ]
  },
  {
   "cell_type": "markdown",
   "metadata": {},
   "source": [
    "## HOMEWORK"
   ]
  },
  {
   "cell_type": "markdown",
   "metadata": {},
   "source": [
    "1. make a pattern with circles on the screen \n",
    "2. Generate random circles on screen\n",
    "3. make checkboxes on screen \n"
   ]
  },
  {
   "cell_type": "markdown",
   "metadata": {},
   "source": [
    "## HOMEWORK SOLUTION "
   ]
  },
  {
   "cell_type": "code",
   "execution_count": 28,
   "metadata": {},
   "outputs": [],
   "source": [
    "#TASK 1\n",
    "# TASk 2\n",
    "import numpy as np\n",
    "import cv2\n",
    "\n",
    "# Create a black image\n",
    "img = np.zeros((512,512,3), np.uint8)\n",
    "# Draw a diagonal blue line with thickness of 5 px\n",
    "for i in range(0,512,50):\n",
    "    img = cv2.circle(img,(i,i),50,(0,255,0),3)\n",
    "cv2.imshow(\"image\",img)\n",
    "cv2.waitKey(0)\n",
    "cv2.destroyAllWindows()"
   ]
  },
  {
   "cell_type": "code",
   "execution_count": 26,
   "metadata": {},
   "outputs": [],
   "source": [
    "# TASk 2\n",
    "import numpy as np\n",
    "import random\n",
    "import cv2\n",
    "\n",
    "# Create a black image\n",
    "img = np.zeros((512,512,3), np.uint8)\n",
    "\n",
    "center = int(512/2)\n",
    "\n",
    "# Draw a diagonal blue line with thickness of 5 px\n",
    "for i in range(0,100):\n",
    "    x=random.randint(0,500)\n",
    "    y=random.randint(0,500)\n",
    "    r=random.randint(0,255)\n",
    "    g=random.randint(0,255)\n",
    "    b=random.randint(0,255)\n",
    "    size=random.randint(0,50)\n",
    "\n",
    "    img = cv2.circle(img,(x,y),size,(r,g,b),3)\n",
    "cv2.imshow(\"image\",img)\n",
    "cv2.waitKey(0)\n",
    "cv2.destroyAllWindows()"
   ]
  },
  {
   "cell_type": "code",
   "execution_count": 34,
   "metadata": {},
   "outputs": [],
   "source": [
    "#TASK 3\n",
    "\n",
    "import numpy as np\n",
    "from cv2 import cv2\n",
    "\n",
    "# Create a black image\n",
    "img = np.zeros((512,512,3), np.uint8)\n",
    "\n",
    "# Draw a diagonal blue line with thickness of 5 px\n",
    "for i in range(0,512,50):\n",
    "    img = cv2.line(img,(i,0),(i,512),(255,0,0),3)\n",
    "    img2 = cv2.line(img,(0,i),(512,i),(255,0,0),3)\n",
    "cv2.imshow(\"image\",img)\n",
    "cv2.imshow(\"image\",img2)\n",
    "cv2.waitKey(0)\n",
    "cv2.destroyAllWindows()"
   ]
  },
  {
   "cell_type": "code",
   "execution_count": null,
   "metadata": {},
   "outputs": [],
   "source": []
  }
 ],
 "metadata": {
  "kernelspec": {
   "display_name": "Python 3",
   "language": "python",
   "name": "python3"
  },
  "language_info": {
   "codemirror_mode": {
    "name": "ipython",
    "version": 3
   },
   "file_extension": ".py",
   "mimetype": "text/x-python",
   "name": "python",
   "nbconvert_exporter": "python",
   "pygments_lexer": "ipython3",
   "version": "3.9.1"
  }
 },
 "nbformat": 4,
 "nbformat_minor": 4
}
