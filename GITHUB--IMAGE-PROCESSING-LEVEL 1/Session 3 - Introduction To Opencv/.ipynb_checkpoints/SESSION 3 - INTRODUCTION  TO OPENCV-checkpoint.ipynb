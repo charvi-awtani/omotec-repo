{
 "cells": [
  {
   "cell_type": "markdown",
   "metadata": {},
   "source": [
    "<img src=\"data/omotec.png\" alt=\"Drawing\" style=\"width: 130px;\" align=\"center\"/>\n",
    "\n",
    "# Introduction to openCV-Python"
   ]
  },
  {
   "cell_type": "markdown",
   "metadata": {},
   "source": [
    "openCV was initailly developed in c++ a very fast compiled language as compared to the slow nature of python. But due to the simplicity of python and the ease of use a wrapper was developed for python around the original openCV c++ code. Which allowed the users to make the best of both world. A wrapper in simple terms means that the user will be writing the code in python but in the backend the code will be executed in c++ which made the code execution faster."
   ]
  },
  {
   "cell_type": "markdown",
   "metadata": {},
   "source": [
    "## Installing openCV"
   ]
  },
  {
   "cell_type": "markdown",
   "metadata": {},
   "source": [
    "- for windows users <br>\n",
    "**`pip install opencv-python`**\n",
    "\n",
    "<br>\n",
    "\n",
    "- for mac users <br>\n",
    "**`pip3 install opencv-python`**"
   ]
  },
  {
   "cell_type": "markdown",
   "metadata": {},
   "source": [
    "## Understanding Images\n",
    "Before we start with image processing we must understand what an image is.<br><br>\n",
    "#### Below Image shows a zoomed in image of a mouse pointer with white edges on the screen.\n",
    "\n",
    "<div>\n",
    "<img src=\"data/mouse_zoom.jpg\" width=\"800\" align=\"center\"/>\n",
    "</div>\n",
    "\n",
    "Wait but the edges of the mouse is not white!!<br>\n",
    "The white color is the result of the RGB sub-pixel colors mixing together as they are close to each other. Red Green and Blue being the primary colors we can create any color on the screen by manipulaing the brightness of each sub-pixel."
   ]
  },
  {
   "cell_type": "markdown",
   "metadata": {},
   "source": [
    "- A standard monitor supports 256 levels of brightness for every sub-pixel pixel. So by manipulating the RGB sub-pixels we can create a total number of $256^{3}$ colors\n",
    "- A subpixel brightness of 0 denotes that the subpixel is entierly turned off while a value off 255 denotes the subpixel is completely turned on.\n",
    "\n",
    "You can use the below link to check out a RGB color picker which allows you to chose the RGB brightness to create a new color.\n",
    "https://programmingdesignsystems.com/color/color-models-and-color-spaces/index.html"
   ]
  },
  {
   "cell_type": "markdown",
   "metadata": {},
   "source": [
    "**An image on the screen can be represented using a 3D numpy array having the number of rows and columns equal to the height and the width of the image and the third dimension representing the RGB subpixel values**\n",
    "<div>\n",
    "<img src=\"data/img_numpy.jpg\" width=\"400\" align=\"center\"/>\n",
    "</div>"
   ]
  },
  {
   "cell_type": "markdown",
   "metadata": {},
   "source": [
    "---"
   ]
  },
  {
   "cell_type": "markdown",
   "metadata": {},
   "source": [
    "### NOTE : OpenCV uses the BGR color model to stroe the image data. The BGR color model is converted to RGB just before it is rendered on the screen as the screen does not understang any other color model.\n",
    "\n",
    "Color models are just the way in which image data is stored in memory. BGR and RGB are few of the most used color models. but not the most convenient ones. From a users point of view it is really hard to select and use a color in RGB color model as you would have noticed from the above color picker link. This lead to emergence of newer eaiser to use color models and one of the most used one is the **HSV color model.** <br><br>\n",
    "\n",
    "- **H - Hue**\n",
    "- **S - Saturation**\n",
    "- **V - Value**\n"
   ]
  },
  {
   "cell_type": "markdown",
   "metadata": {},
   "source": [
    "### Below image shows the RGB and the HSV color model\n",
    "<div>\n",
    "<img src=\"data/rgb_model.jpg\" width=\"300\" align=\"center\"/>\n",
    "</div>\n",
    "<div>\n",
    "<img src=\"data/hsv_model.jpg\" width=\"300\" align=\"center\"/>\n",
    "</div>"
   ]
  },
  {
   "cell_type": "markdown",
   "metadata": {},
   "source": [
    "- **Biggest advantage of using the HSV color model us that we can select a color by chosing the Hue(H) and then get all the shades of the same color by manipulating the Saturation(S) and the Valeu(v).**<br>\n",
    "- **To acheive the same result with BGR model we will have to simultaneously manipulate all the R, G and the B values which is very difficult**"
   ]
  },
  {
   "cell_type": "markdown",
   "metadata": {},
   "source": [
    "## Image Formats\n",
    "\n",
    "Images comes in all types of format two of the most famous ones are JPEG and PNG. Format decides a lot of properties of the image but one of the most important property decided by the format is the **number of channels**.\n",
    "\n",
    "- JPEG images support only 3 channels (RGB)\n",
    "- PNG images has an optional additional Alpha channel (RGBA)\n",
    "\n",
    "The Alpha channel decides the Trasperancy of a pixel. The Alpha channel has to do nothing with how images are actually represented on the instead they are something that are simulated by software.\n",
    "\n",
    "#### Below Image shows how power point uses alpha channel to show transperancy\n",
    "\n",
    "<div>\n",
    "<img src=\"data/trans.jpg\" width=\"500\" align=\"center\"/>\n",
    "</div>"
   ]
  },
  {
   "cell_type": "markdown",
   "metadata": {},
   "source": [
    "**NOTE : It is not mandatory for PNG images to have a fourth alpha channel**\n",
    "\n",
    "But if the images has an aplha channel the numpy array created as a result of reading the image will a 3D array with 4 channels.\n",
    "\n",
    "<div>\n",
    "<img src=\"data/alpha.jpg\" width=\"400\" align=\"center\"/>\n",
    "</div>"
   ]
  },
  {
   "cell_type": "markdown",
   "metadata": {},
   "source": [
    "# Image Reading "
   ]
  },
  {
   "cell_type": "markdown",
   "metadata": {},
   "source": [
    "The image methods in cv2 starts with `im` most of the times<br>\n",
    "we use the `imread` method to read images. this takes in 2 parameters the first the file name the second parameter is the channles to read from the image"
   ]
  },
  {
   "cell_type": "code",
   "execution_count": null,
   "metadata": {},
   "outputs": [],
   "source": [
    "from cv2 import cv2\n",
    "import numpy \n",
    "\n",
    "image = cv2.imread(\"images\\\\lena.jpg\",1)"
   ]
  },
  {
   "cell_type": "markdown",
   "metadata": {},
   "source": [
    "Second argument is a flag which specifies the way image should be read.\n",
    "\n",
    "- cv2.IMREAD_COLOR : Loads a color image. Any transparency of image will be neglected. It is the default flag.\n",
    "- cv2.IMREAD_GRAYSCALE : Loads image in grayscale mode\n",
    "- cv2.IMREAD_UNCHANGED : Loads image as such including alpha channel"
   ]
  },
  {
   "cell_type": "markdown",
   "metadata": {},
   "source": [
    "The cv2 imread wont complain if the image file is not rpesent instead the image object which is infact a numpy array return NONE. else it would return the actual numpy array."
   ]
  },
  {
   "cell_type": "code",
   "execution_count": null,
   "metadata": {},
   "outputs": [],
   "source": [
    "from cv2 import cv2\n",
    "import numpy \n",
    "\n",
    "image = cv2.imread(\"images\\\\lenasa.jpg\",1)\n",
    "print(image)"
   ]
  },
  {
   "cell_type": "markdown",
   "metadata": {},
   "source": [
    "We use the `imshow` a to show images"
   ]
  },
  {
   "cell_type": "code",
   "execution_count": null,
   "metadata": {},
   "outputs": [],
   "source": [
    "from cv2 import cv2\n",
    "import numpy as np \n",
    "\n",
    "image = cv2.imread(\"images\\\\lena.jpg\",1)\n",
    "cv2.imshow('image',image)"
   ]
  },
  {
   "cell_type": "markdown",
   "metadata": {},
   "source": [
    "The below code will only show the image for a split second. \n",
    "The reason being the program ends after showing the image.\n",
    "TO show the image longer we need to make the program execution to pasue. We can do this by adding a keyboard interrupt."
   ]
  },
  {
   "cell_type": "markdown",
   "metadata": {},
   "source": [
    "We add the `waitKey()` function to wait for a keyboard interrupt or a timeout event. The timeout has to be provided in milliseconds. If the timeout is `0` then the function waits forever unless a keyboard stroke is recorded"
   ]
  },
  {
   "cell_type": "code",
   "execution_count": null,
   "metadata": {},
   "outputs": [],
   "source": [
    "from cv2 import cv2\n",
    "import numpy as np \n",
    "\n",
    "image = cv2.imread(\"images\\\\lena.jpg\",1)\n",
    "cv2.imshow('image',image)\n",
    "cv2.waitKey(5000)"
   ]
  },
  {
   "cell_type": "markdown",
   "metadata": {},
   "source": [
    "The reason why `waitkey()` works is because of the fact that it is a blocking function which means it stops the execution of the program until an event occurs.<br>"
   ]
  },
  {
   "cell_type": "markdown",
   "metadata": {},
   "source": [
    "It is always recomended to destroy a window object explicitly once its use is over."
   ]
  },
  {
   "cell_type": "code",
   "execution_count": null,
   "metadata": {},
   "outputs": [],
   "source": [
    "\n",
    "from cv2 import cv2\n",
    "import numpy as np \n",
    "\n",
    "image = cv2.imread(\"images\\\\lena.jpg\",1)\n",
    "cv2.imshow('image',image)\n",
    "cv2.waitKey(0)\n",
    "cv2.destroyAllWindows()"
   ]
  },
  {
   "cell_type": "markdown",
   "metadata": {},
   "source": [
    "## Writing Images\n",
    "\n",
    "we can write/create images using the `imwrite()` method"
   ]
  },
  {
   "cell_type": "code",
   "execution_count": null,
   "metadata": {},
   "outputs": [],
   "source": [
    "import numpy as np\n",
    "import cv2\n",
    "\n",
    "image = cv2.imread('images\\\\lena.jpg',0)\n",
    "cv2.imshow('image',image)\n",
    "k = cv2.waitKey(0)\n",
    "if k == 27:         # wait for ESC key to exit\n",
    "    cv2.destroyAllWindows()\n",
    "elif k == ord('s'): # wait for 's' key to save and exit\n",
    "    cv2.imwrite('images\\\\lena_copy.png',image)\n",
    "    cv2.destroyAllWindows()"
   ]
  },
  {
   "cell_type": "markdown",
   "metadata": {},
   "source": [
    "The problem with the above code is that even if we press any other key (apart from escape) the program exits which is not desirable. so we can solve the above problem by using a while loop."
   ]
  },
  {
   "cell_type": "code",
   "execution_count": null,
   "metadata": {},
   "outputs": [],
   "source": [
    "import numpy as np\n",
    "import cv2\n",
    "\n",
    "image = cv2.imread('images\\\\lena.jpg',0)\n",
    "cv2.imshow('image',image)\n",
    "\n",
    "while True:\n",
    "    k = cv2.waitKey(0)\n",
    "    if k == 27:         # wait for ESC key to exit\n",
    "        break\n",
    "    elif k == ord('s'): # wait for 's' key to save and exit\n",
    "        cv2.imwrite('images\\\\lena_copy.png',image)\n",
    "        break\n",
    "    else:\n",
    "        pass\n",
    "cv2.destroyAllWindows()"
   ]
  },
  {
   "cell_type": "markdown",
   "metadata": {},
   "source": [
    "## Getting the sequence correct"
   ]
  },
  {
   "cell_type": "code",
   "execution_count": null,
   "metadata": {},
   "outputs": [],
   "source": [
    "%matplotlib qt       \n",
    "#just to make matplotlib to make a separate window for showing image\n",
    "import numpy as np\n",
    "import cv2\n",
    "from matplotlib import pyplot as plt\n",
    "\n",
    "img = cv2.imread('images\\\\lena.jpg',0)\n",
    "plt.imshow(img)\n",
    "plt.xticks([]), plt.yticks([])  # to hide tick values on X and Y axis\n",
    "plt.show()"
   ]
  },
  {
   "cell_type": "markdown",
   "metadata": {},
   "source": [
    "The problem is that the matplotlib uses RGB format while opencv uses GRB format  to solve the above problem"
   ]
  },
  {
   "cell_type": "markdown",
   "metadata": {},
   "source": [
    "Since `img` object created using cv2 is a numpy array we can solve this problem with numpy indexing and slicing."
   ]
  },
  {
   "cell_type": "code",
   "execution_count": null,
   "metadata": {},
   "outputs": [],
   "source": [
    "#just to make matplotlib to make a separate window for showing image\n",
    "import numpy as np\n",
    "import cv2\n",
    "from matplotlib import pyplot as plt\n",
    "\n",
    "img = cv2.imread('images\\\\lena.jpg',0)\n",
    "# cv2.imshow('image',img)\n",
    "\n",
    "img = img[:,:,::-1]\n",
    "\n",
    "plt.imshow(img)\n",
    "# plt.xticks([]), plt.yticks([])  # to hide tick values on X and Y axis\n",
    "plt.show()"
   ]
  },
  {
   "cell_type": "code",
   "execution_count": null,
   "metadata": {},
   "outputs": [],
   "source": [
    "#just to make matplotlib to make a separate window for showing image\n",
    "#Images consist of X,Y and BGR values. By slicing the last index you only inverteded the BGR to RGB.\n",
    "import numpy as np\n",
    "import cv2\n",
    "from matplotlib import pyplot as plt\n",
    "\n",
    "img = cv2.imread('images\\\\lena.jpg',1)\n",
    "# cv2.imshow('image',img)\n",
    "\n",
    "img = img[:,::-1,::-1]\n",
    "\n",
    "plt.imshow(img)\n",
    "#plt.xticks([]), plt.yticks([])  # to hide tick values on X and Y axis\n",
    "plt.show()\n"
   ]
  },
  {
   "cell_type": "markdown",
   "metadata": {},
   "source": [
    "##  HOMEWORK"
   ]
  },
  {
   "cell_type": "markdown",
   "metadata": {},
   "source": [
    "1. Read any image and show on the screen for unlimited time \n",
    "2. Save image after changing color of image "
   ]
  },
  {
   "cell_type": "markdown",
   "metadata": {},
   "source": [
    "## HOMEWORK SOLUTION "
   ]
  },
  {
   "cell_type": "code",
   "execution_count": null,
   "metadata": {},
   "outputs": [],
   "source": [
    "# TASK 1\n",
    "\n",
    "from cv2 import cv2\n",
    "import numpy as np \n",
    "\n",
    "image = cv2.imread(\"images\\\\lena.jpg\",1)\n",
    "cv2.imshow('image',image)\n",
    "cv2.waitKey(0)\n",
    "cv2.destroyAllWindows()"
   ]
  },
  {
   "cell_type": "code",
   "execution_count": null,
   "metadata": {},
   "outputs": [],
   "source": [
    "#TASK 2\n",
    "\n",
    "import numpy as np\n",
    "import cv2\n",
    "\n",
    "\n",
    "img = cv2.imread('images\\\\lena.jpg',1)\n",
    "cv2.imshow('image',img)\n",
    "while True:\n",
    "    k = cv2.waitKey(0)\n",
    "    if k == 27:        \n",
    "        break\n",
    "    elif k == ord('s'): \n",
    "        img = img[:,:,::-1]\n",
    "        \n",
    "        cv2.imwrite('images\\\\lena_copy.png',img)\n",
    "        break\n",
    "    else:\n",
    "        pass\n",
    "cv2.destroyAllWindows()"
   ]
  },
  {
   "cell_type": "code",
   "execution_count": null,
   "metadata": {},
   "outputs": [],
   "source": []
  }
 ],
 "metadata": {
  "kernelspec": {
   "display_name": "Python 3",
   "language": "python",
   "name": "python3"
  },
  "language_info": {
   "codemirror_mode": {
    "name": "ipython",
    "version": 3
   },
   "file_extension": ".py",
   "mimetype": "text/x-python",
   "name": "python",
   "nbconvert_exporter": "python",
   "pygments_lexer": "ipython3",
   "version": "3.9.1"
  }
 },
 "nbformat": 4,
 "nbformat_minor": 4
}
