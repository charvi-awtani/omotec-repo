{
 "cells": [
  {
   "cell_type": "markdown",
   "id": "f6608592",
   "metadata": {},
   "source": [
    "# SESSION 9"
   ]
  },
  {
   "attachments": {},
   "cell_type": "markdown",
   "id": "4e148b9b",
   "metadata": {},
   "source": [
    "1. Machine Learning - Introduction\n",
    "2. Types of Machine Learning\n",
    "3. Types of Supervised Learning:\n",
    "4. Linear Regression - Introduction\n",
    "5. Simple Linear Regression<br>\n",
    "5.1  Linear Regression using ```sklearn``` - Python Example<br>\n",
    "5.2  Linear Regression – Prediction Algorithm for Forecasting Stock Price<br>\n",
    "6. Multiple Linear Regression\n",
    "7. Assumptions in Linear Regression Model"
   ]
  },
  {
   "attachments": {},
   "cell_type": "markdown",
   "id": "c409b37f",
   "metadata": {},
   "source": [
    "# 1. Machine Learning - Introduction\n",
    "\n",
    "- Machine Learning is a fascinating field that helps computers learn how to perform tasks without being explicitly programmed.\n",
    "\n",
    "- Machine learning is a subset of artificial intelligence that involves training algorithms to make predictions or decisions based on data. \n",
    "- The goal of machine learning is to develop algorithms that can learn and improve from experience without being explicitly programmed. \n",
    "- It involves the use of statistical and mathematical techniques to create models that can recognize patterns in data and make predictions or decisions based on those patterns."
   ]
  },
  {
   "attachments": {},
   "cell_type": "markdown",
   "id": "98c9f92c",
   "metadata": {},
   "source": [
    "**```Machine Learning Example```** <br>\n",
    "*Imagine you are teaching a robot how to play a game. In traditional programming, you would have to write out every single step the robot needs to take in order to play the game. But with machine learning, the robot can learn on its own by playing the game over and over again and getting better with each try.*"
   ]
  },
  {
   "attachments": {},
   "cell_type": "markdown",
   "id": "435339cd",
   "metadata": {},
   "source": [
    "<br>\n",
    "<img align = \"middle\" src=\"images/ML-1.png\" alt=\"Drawing\" style=\"width: 500px;\">\n",
    "<br>\n",
    "<p style=\"color:green\">Image Credits: AISSMS Poly</p>\n",
    "<br>"
   ]
  },
  {
   "attachments": {},
   "cell_type": "markdown",
   "id": "7d948f25",
   "metadata": {},
   "source": [
    "# 2. Types of Machine Learning\n",
    "\n",
    "There are four main types of machine learning: **Supervised learning, Unsupervised learning, Semi-supervised learning, Reinforcement learning**\n",
    "\n",
    "**Supervised learning**<br>\n",
    "- In supervised learning, the computer is given a set of inputs (like pictures of animals) and a set of corresponding outputs (like what animal each picture shows). \n",
    "- The computer then tries to learn the relationship between the inputs and outputs so that it can correctly identify animals in new pictures it has never seen before.\n",
    "- The goal is for the algorithm to learn to predict the correct output for new inputs that it has not seen before.<br>\n",
    "*There are two main types of supervised learning:*<br>\n",
    "*```1) Classification  2)Regression```*<br>\n",
    "\n",
    "**UnSupervised learning**<br>\n",
    "- The computer is given a set of inputs but no corresponding outputs. The computer then tries to find patterns or similarities within the inputs on its own.\n",
    "- Unlike supervised learning, there are no known output values provided to the algorithm. The goal of unsupervised learning is to find patterns, structure, or relationships in the data on its own.\n",
    "- The goal is for the algorithm to discover hidden relationships and structure in the data.<br>"
   ]
  },
  {
   "attachments": {},
   "cell_type": "markdown",
   "id": "161da335",
   "metadata": {},
   "source": [
    "<br>\n",
    "<img align = \"middle\" src=\"images/ML-4.png\" alt=\"Drawing\" style=\"width: 500px;\">\n",
    "<br>\n",
    "<p style=\"color:green\">Image Credits: AISSMS Poly</p>\n",
    "<br>"
   ]
  },
  {
   "attachments": {},
   "cell_type": "markdown",
   "id": "a45a0924",
   "metadata": {},
   "source": [
    "# 3. Types of Supervised Learning:"
   ]
  },
  {
   "attachments": {},
   "cell_type": "markdown",
   "id": "45a76cc8",
   "metadata": {},
   "source": [
    "**Classification:**<br>\n",
    "- The computer program is trained to sort things into different categories. ```For example,``` imagine you wanted to teach a computer program to tell the difference between pictures of dogs and pictures of cats. You would give the program lots of pictures of dogs and cats and label each one as either a dog or a cat. The program would then use this labeled data to learn how to recognize the difference between a dog and a cat.\n",
    "\n"
   ]
  },
  {
   "attachments": {},
   "cell_type": "markdown",
   "id": "987c11b9",
   "metadata": {},
   "source": [
    "<br>\n",
    "<img align = \"middle\" src=\"images/ML-2.png\" alt=\"Drawing\" style=\"width: 1000px;\">\n",
    "<br>\n",
    "<p style=\"color:green\">Image Credits: AISSMS Poly</p>\n",
    "<br>"
   ]
  },
  {
   "attachments": {},
   "cell_type": "markdown",
   "id": "b7da6fde",
   "metadata": {},
   "source": [
    "**Regression:**<br> \n",
    "- In regression, a computer program is trained to make predictions based on patterns in data. ```For example,``` imagine you wanted to teach a computer program to predict the temperature outside based on the time of day. You would give the program lots of data about what the temperature was at different times of day and let it learn the patterns. The program would then use these patterns to make predictions about what the temperature might be at a specific time in the future."
   ]
  },
  {
   "attachments": {},
   "cell_type": "markdown",
   "id": "0f07f191",
   "metadata": {},
   "source": [
    "<br>\n",
    "<img align = \"middle\" src=\"images/ML-3.png\" alt=\"Drawing\" style=\"width: 1000px;\">\n",
    "<br>\n",
    "<p style=\"color:green\">Image Credits: AISSMS Poly</p>\n",
    "<br>"
   ]
  },
  {
   "attachments": {},
   "cell_type": "markdown",
   "id": "8dd2c1ef",
   "metadata": {},
   "source": [
    "# 4. Linear Regression - Introduction\n",
    "\n",
    "*Linear regression is a way to find a straight line that best fits a set of data points. For example, if you were given a bunch of data points that showed the relationship between a person's age and their height, you could use linear regression to find a straight line that best describes this relationship. Once you have this line, you can use it to make predictions about a person's height based on their age.*<br>\n",
    "- One of the most straightforward and well-liked Machine Learning methods is linear regression. It is a statistical technique for performing predictive analysis. Predictions are made using linear regression for continuous/real/numeric variables like sales, salary, age, and product price, among others.\n",
    "- Linear regression is a statistical method used to model the relationship between two variables, where one variable (called the dependent variable) is predicted based on the values of one or more independent variables. \n",
    "- It assumes that there is a linear relationship between the independent variables and the dependent variable.\n",
    "- The linear regression model represents this relationship as a straight line, which is defined by an equation in the form of ```y = mx + b```. Here, y is the dependent variable, x is the independent variable, m is the slope of the line, and b is the intercept.\n",
    "- The goal of linear regression is to find the values of m and b that best fit the data. This is typically done by minimizing the sum of the squared differences between the predicted values of y and the actual values of y, which is called the residual sum of squares (RSS).\n",
    "- Linear regression can be used for both ```Simple regression```, where there is only one independent variable and ```Multiple regression```, where there are multiple independent variables. "
   ]
  },
  {
   "attachments": {},
   "cell_type": "markdown",
   "id": "2169376c",
   "metadata": {},
   "source": [
    "### Applications of Linear Regression:\n",
    "1. Finance:\n",
    "- The capital price asset model uses linear regression to analyze and quantify the systematic risks of an investment.\n",
    "2. Trend lines:\n",
    "- A trend line represents the variation in quantitative data with the passage of time (like GDP, oil prices, etc.). \n",
    "- These trends usually follow a linear relationship. Hence, linear regression can be applied to predict future values.\n",
    "3. Economics:\n",
    "- Linear regression is the predominant empirical tool in economics. \n",
    "- For example, it is used to predict consumer spending, fixed investment spending, inventory investment, purchases of a country’s exports, spending on imports, the demand to hold liquid assets, labor demand, and labor supply."
   ]
  },
  {
   "attachments": {},
   "cell_type": "markdown",
   "id": "8749f864",
   "metadata": {},
   "source": [
    "# 5. Simple Linear Regression"
   ]
  },
  {
   "attachments": {},
   "cell_type": "markdown",
   "id": "b5d60d4a",
   "metadata": {},
   "source": [
    "In order to provide a basic understanding of linear regression, we start with the most basic version of linear regression, i.e. Simple linear regression.\n",
    "- Simple linear regression is an approach for predicting a response using a single feature.\n",
    "- It is assumed that the two variables are linearly related. Hence, we try to find a linear function that predicts the response value(y) as accurately as possible as a function of the feature or independent variable(x)."
   ]
  },
  {
   "attachments": {},
   "cell_type": "markdown",
   "id": "dbab8f18",
   "metadata": {},
   "source": [
    "> Let us consider a dataset where we have a value of response y for every feature x"
   ]
  },
  {
   "attachments": {},
   "cell_type": "markdown",
   "id": "0fd3ef34",
   "metadata": {},
   "source": [
    "<br>\n",
    "<img align = \"middle\" src=\"images/Image-1.png\" alt=\"Drawing\" style=\"width: 500px;\">\n",
    "<br>"
   ]
  },
  {
   "attachments": {},
   "cell_type": "markdown",
   "id": "a0bb012c",
   "metadata": {},
   "source": [
    "For generality, we define:\n",
    "- x as feature vector, i.e ```x = [x_1, x_2, …., x_n],```\n",
    "- y as response vector, i.e ```y = [y_1, y_2, …., y_n]```\n",
    "- for n observations (in above example, ```n=10```).\n",
    "<br>\n",
    "**A scatter plot of the above dataset looks like:**"
   ]
  },
  {
   "attachments": {},
   "cell_type": "markdown",
   "id": "396e03cc",
   "metadata": {},
   "source": [
    "<br>\n",
    "<img align = \"middle\" src=\"images/Image-2.png\" alt=\"Drawing\" style=\"width: 500px;\">\n",
    "<br>"
   ]
  },
  {
   "attachments": {},
   "cell_type": "markdown",
   "id": "209f50b5",
   "metadata": {},
   "source": [
    "Now, the task is to find a line that fits best in the above scatter plot so that we can predict the response for any new feature values. (i.e a value of x not present in a dataset)\n",
    "<br>\n",
    "```This line is called a regression line.```"
   ]
  },
  {
   "attachments": {},
   "cell_type": "markdown",
   "id": "9a78a455",
   "metadata": {},
   "source": [
    "<br>\n",
    "<img align = \"middle\" src=\"images/Image-2b.png\" alt=\"Drawing\" style=\"width: 500px;\">\n",
    "<br>"
   ]
  },
  {
   "attachments": {},
   "cell_type": "markdown",
   "id": "b3d7de74",
   "metadata": {},
   "source": [
    "# 5.1 Linear Regression using ```sklearn``` - Python Example"
   ]
  },
  {
   "attachments": {},
   "cell_type": "markdown",
   "id": "7f00d17d",
   "metadata": {},
   "source": [
    "Let us see how to use the various Python libraries to implement linear regression on a given dataset. \n",
    "- We will demonstrate a binary linear model as this will be easier to visualize. \n",
    "- In this demonstration, the model will use Gradient Descent to learn.<br>\n",
    "**```Step 1:``` Importing all the required libraries**<br>\n",
    "**```Step 2:``` Reading the dataset**<br>\n",
    "**```Step 3:``` Exploring the data scatter**<br>\n",
    "**```Step 4:```  Data cleaning**<br>\n",
    "**```Step 5:```  Training our model**<br>\n",
    "**```Step 6:```  Exploring our results**<br>"
   ]
  },
  {
   "attachments": {},
   "cell_type": "markdown",
   "id": "05b5e8e0",
   "metadata": {},
   "source": [
    "**```Step 1:``` Importing all the required libraries**"
   ]
  },
  {
   "cell_type": "code",
   "execution_count": 10,
   "id": "71b05edd",
   "metadata": {},
   "outputs": [],
   "source": [
    "import numpy as np\n",
    "import pandas as pd\n",
    "import seaborn as sns\n",
    "import matplotlib.pyplot as plt\n",
    "from sklearn import preprocessing, svm\n",
    "from sklearn.model_selection import train_test_split\n",
    "from sklearn.linear_model import LinearRegression"
   ]
  },
  {
   "attachments": {},
   "cell_type": "markdown",
   "id": "836a2996",
   "metadata": {},
   "source": [
    "**```Step 2:``` Reading the dataset**"
   ]
  },
  {
   "cell_type": "code",
   "execution_count": 34,
   "id": "53e2c66d",
   "metadata": {},
   "outputs": [
    {
     "data": {
      "text/html": [
       "<div>\n",
       "<style scoped>\n",
       "    .dataframe tbody tr th:only-of-type {\n",
       "        vertical-align: middle;\n",
       "    }\n",
       "\n",
       "    .dataframe tbody tr th {\n",
       "        vertical-align: top;\n",
       "    }\n",
       "\n",
       "    .dataframe thead th {\n",
       "        text-align: right;\n",
       "    }\n",
       "</style>\n",
       "<table border=\"1\" class=\"dataframe\">\n",
       "  <thead>\n",
       "    <tr style=\"text-align: right;\">\n",
       "      <th></th>\n",
       "      <th>Sal</th>\n",
       "      <th>Temp</th>\n",
       "    </tr>\n",
       "  </thead>\n",
       "  <tbody>\n",
       "    <tr>\n",
       "      <th>0</th>\n",
       "      <td>33.440</td>\n",
       "      <td>10.50</td>\n",
       "    </tr>\n",
       "    <tr>\n",
       "      <th>1</th>\n",
       "      <td>33.440</td>\n",
       "      <td>10.46</td>\n",
       "    </tr>\n",
       "    <tr>\n",
       "      <th>2</th>\n",
       "      <td>33.437</td>\n",
       "      <td>10.46</td>\n",
       "    </tr>\n",
       "    <tr>\n",
       "      <th>3</th>\n",
       "      <td>33.420</td>\n",
       "      <td>10.45</td>\n",
       "    </tr>\n",
       "    <tr>\n",
       "      <th>4</th>\n",
       "      <td>33.421</td>\n",
       "      <td>10.45</td>\n",
       "    </tr>\n",
       "  </tbody>\n",
       "</table>\n",
       "</div>"
      ],
      "text/plain": [
       "      Sal   Temp\n",
       "0  33.440  10.50\n",
       "1  33.440  10.46\n",
       "2  33.437  10.46\n",
       "3  33.420  10.45\n",
       "4  33.421  10.45"
      ]
     },
     "execution_count": 34,
     "metadata": {},
     "output_type": "execute_result"
    }
   ],
   "source": [
    "import numpy as np\n",
    "import pandas as pd\n",
    "import seaborn as sns\n",
    "import matplotlib.pyplot as plt\n",
    "from sklearn import preprocessing, svm\n",
    "from sklearn.model_selection import train_test_split\n",
    "from sklearn.linear_model import LinearRegression\n",
    "\n",
    "df = pd.read_csv(\"Images\\\\bottles1.csv\")\n",
    "\n",
    "df_binary = df[['Salnty', 'T_degC']]\n",
    " \n",
    "# Taking only the selected two attributes from the dataset\n",
    "df_binary.columns = ['Sal', 'Temp']\n",
    "#display the first 5 rows\n",
    "df_binary.head()\n",
    "\n"
   ]
  },
  {
   "attachments": {},
   "cell_type": "markdown",
   "id": "b3a53b9f",
   "metadata": {},
   "source": [
    "**```Step 3:``` Exploring the data scatter**"
   ]
  },
  {
   "cell_type": "code",
   "execution_count": 33,
   "id": "000c6cd4",
   "metadata": {},
   "outputs": [
    {
     "data": {
      "image/png": "[encoded data removed]",
      "text/plain": [
       "<Figure size 360x360 with 1 Axes>"
      ]
     },
     "metadata": {
      "needs_background": "light"
     },
     "output_type": "display_data"
    }
   ],
   "source": [
    "import numpy as np\n",
    "import pandas as pd\n",
    "import seaborn as sns\n",
    "import matplotlib.pyplot as plt\n",
    "from sklearn import preprocessing, svm\n",
    "from sklearn.model_selection import train_test_split\n",
    "from sklearn.linear_model import LinearRegression\n",
    "\n",
    "df = pd.read_csv(\"Images\\\\bottles1.csv\")\n",
    "\n",
    "df_binary = df[['Salnty', 'T_degC']]\n",
    " \n",
    "# Taking only the selected two attributes from the dataset\n",
    "df_binary.columns = ['Sal', 'Temp']\n",
    "#display the first 5 rows\n",
    "df_binary.head()\n",
    "\n",
    "#plotting the Scatter plot to check relationship between Sal and Temp\n",
    "sns.lmplot(x =\"Sal\", y =\"Temp\", data = df_binary, order = 2, ci = None)\n",
    "plt.show()"
   ]
  },
  {
   "attachments": {},
   "cell_type": "markdown",
   "id": "5be490a4",
   "metadata": {},
   "source": [
    "**```Step 4:```  Data cleaning**"
   ]
  },
  {
   "cell_type": "code",
   "execution_count": null,
   "id": "05bb1b58",
   "metadata": {},
   "outputs": [],
   "source": [
    "# Eliminating NaN or missing input numbers\n",
    "df_binary.fillna(method ='ffill', inplace = True)"
   ]
  },
  {
   "attachments": {},
   "cell_type": "markdown",
   "id": "801b9be3",
   "metadata": {},
   "source": [
    "**```Step 5:```  Training our model**"
   ]
  },
  {
   "cell_type": "code",
   "execution_count": 28,
   "id": "7814d4ae",
   "metadata": {},
   "outputs": [
    {
     "name": "stdout",
     "output_type": "stream",
     "text": [
      "Regresssion Score =  0.7104275483992597\n"
     ]
    },
    {
     "data": {
      "image/png": "[encoded data removed]",
      "text/plain": [
       "<Figure size 360x360 with 1 Axes>"
      ]
     },
     "metadata": {
      "needs_background": "light"
     },
     "output_type": "display_data"
    }
   ],
   "source": [
    "import numpy as np\n",
    "import pandas as pd\n",
    "import seaborn as sns\n",
    "import matplotlib.pyplot as plt\n",
    "from sklearn import preprocessing, svm\n",
    "from sklearn.model_selection import train_test_split\n",
    "from sklearn.linear_model import LinearRegression\n",
    "\n",
    "df = pd.read_csv(\"Images\\\\bottles1.csv\")\n",
    "\n",
    "df_binary = df[['Salnty', 'T_degC']]\n",
    " \n",
    "# Taking only the selected two attributes from the dataset\n",
    "df_binary.columns = ['Sal', 'Temp']\n",
    "#display the first 5 rows\n",
    "df_binary.head()\n",
    "\n",
    "#plotting the Scatter plot to check relationship between Sal and Temp\n",
    "sns.lmplot(x =\"Sal\", y =\"Temp\", data = df_binary, order = 2, ci = None)\n",
    "\n",
    "X = np.array(df_binary['Sal']).reshape(-1, 1)\n",
    "y = np.array(df_binary['Temp']).reshape(-1, 1)\n",
    " \n",
    "# Separating the data into independent and dependent variables\n",
    "# Converting each dataframe into a numpy array\n",
    "# since each dataframe contains only one column\n",
    "## df_binary.dropna(inplace = True)\n",
    " \n",
    "# Dropping any rows with Nan values\n",
    "X_train, X_test, y_train, y_test = train_test_split(X, y, test_size = 0.25)\n",
    " \n",
    "# Splitting the data into training and testing data\n",
    "regr = LinearRegression()\n",
    " \n",
    "regr.fit(X_train, y_train)\n",
    "print(\"Regresssion Score = \",regr.score(X_test, y_test))"
   ]
  },
  {
   "attachments": {},
   "cell_type": "markdown",
   "id": "ab163f96",
   "metadata": {},
   "source": [
    "**```Step 6:```  Exploring our results**"
   ]
  },
  {
   "cell_type": "code",
   "execution_count": 30,
   "id": "c37185ec",
   "metadata": {},
   "outputs": [
    {
     "name": "stdout",
     "output_type": "stream",
     "text": [
      "Regression Score =  0.7243484524695263\n"
     ]
    },
    {
     "data": {
      "image/png": "[encoded data removed]",
      "text/plain": [
       "<Figure size 360x360 with 1 Axes>"
      ]
     },
     "metadata": {
      "needs_background": "light"
     },
     "output_type": "display_data"
    }
   ],
   "source": [
    "import numpy as np\n",
    "import pandas as pd\n",
    "import seaborn as sns\n",
    "import matplotlib.pyplot as plt\n",
    "from sklearn import preprocessing, svm\n",
    "from sklearn.model_selection import train_test_split\n",
    "from sklearn.linear_model import LinearRegression\n",
    "\n",
    "df = pd.read_csv(\"Images\\\\bottles1.csv\")\n",
    "\n",
    "df_binary = df[['Salnty', 'T_degC']]\n",
    " \n",
    "# Taking only the selected two attributes from the dataset\n",
    "df_binary.columns = ['Sal', 'Temp']\n",
    "#display the first 5 rows\n",
    "df_binary.head()\n",
    "\n",
    "#plotting the Scatter plot to check relationship between Sal and Temp\n",
    "sns.lmplot(x =\"Sal\", y =\"Temp\", data = df_binary, order = 2, ci = None)\n",
    "\n",
    "X = np.array(df_binary['Sal']).reshape(-1, 1)\n",
    "y = np.array(df_binary['Temp']).reshape(-1, 1)\n",
    " \n",
    "# Separating the data into independent and dependent variables\n",
    "# Converting each dataframe into a numpy array\n",
    "# since each dataframe contains only one column\n",
    "## df_binary.dropna(inplace = True)\n",
    " \n",
    "# Dropping any rows with Nan values\n",
    "X_train, X_test, y_train, y_test = train_test_split(X, y, test_size = 0.25)\n",
    " \n",
    "# Splitting the data into training and testing data\n",
    "regr = LinearRegression()\n",
    " \n",
    "regr.fit(X_train, y_train)\n",
    "print(\"Regression Score = \",regr.score(X_test, y_test))\n",
    "\n",
    "y_pred = regr.predict(X_test)\n",
    "plt.scatter(X_test, y_test, color ='b')\n",
    "plt.plot(X_test, y_pred, color ='k')\n",
    " \n",
    "plt.show()\n",
    "# Data scatter of predicted values"
   ]
  },
  {
   "attachments": {},
   "cell_type": "markdown",
   "id": "87041391",
   "metadata": {},
   "source": [
    "## 5.2  Realtime Linear Regression: Prediction Algorithm for Forecasting Stock Price\n",
    "- Linear Regression is a widely used algorithm for predicting stock prices. "
   ]
  },
  {
   "attachments": {},
   "cell_type": "markdown",
   "id": "5653a94b",
   "metadata": {},
   "source": [
    "<br>\n",
    "<img align = \"middle\" src=\"images/Image-8.png\" alt=\"Drawing\" style=\"width: 900px;\">\n",
    "<br>"
   ]
  },
  {
   "cell_type": "code",
   "execution_count": 32,
   "id": "de8f59d4",
   "metadata": {},
   "outputs": [
    {
     "name": "stdout",
     "output_type": "stream",
     "text": [
      "PRINT ACCURACY METRICS:\n",
      "Mean squared error:  16.089511432445214\n",
      "Mean absolute percentage error (MAPE):  0.060458737637536446\n",
      "R-squared:  0.9999992659810478\n",
      "Explained variance:  0.9999992660030701\n",
      "Mean squared error:  16.089511432445214\n",
      "Root mean squared error (RMSE):  4.011173323660449\n",
      "Mean absolute error (MAE):  2.268988947333654\n",
      "Predicted close price for the next day:  17360.236586417002\n"
     ]
    }
   ],
   "source": [
    "import pandas as pd\n",
    "from sklearn.linear_model import LinearRegression\n",
    "from sklearn.model_selection import train_test_split\n",
    "from sklearn.preprocessing import StandardScaler\n",
    "from sklearn.metrics import mean_squared_error, r2_score, explained_variance_score\n",
    "import numpy as np\n",
    "\n",
    "# Load the data\n",
    "df = pd.read_csv('Images\\\\NIFTY_EOD.csv')\n",
    "\n",
    "# Prepare the data\n",
    "X = df[['Open', 'High', 'Low', 'Volume', 'prevclose', 'rsi', 'ema5', 'ema10', 'hma5','hma7','hma9','adx','pdi','mdi','atr']]\n",
    "y = df['Close']\n",
    "X_train, X_test, y_train, y_test = train_test_split(X, y, test_size=0.2, random_state=42)\n",
    "scaler = StandardScaler()\n",
    "X_train_scaled = scaler.fit_transform(X_train)\n",
    "X_test_scaled = scaler.transform(X_test)\n",
    "\n",
    "# Train the model\n",
    "model = LinearRegression()\n",
    "model.fit(X_train_scaled, y_train)\n",
    "\n",
    "# Make predictions\n",
    "y_pred = model.predict(X_test_scaled)\n",
    "\n",
    "# Compute accuracy metrics\n",
    "mse = mean_squared_error(y_test, y_pred)\n",
    "##print(\"Mean squared error: \", mse)\n",
    "\n",
    "# Save predicted vs actual values to CSV\n",
    "df_pred = pd.DataFrame({'Actual': y_test, 'Predicted': y_pred})\n",
    "df_pred.to_csv('NIFTY_EOD_pred.csv', index=False)\n",
    "\n",
    "\n",
    "\n",
    "# Compute accuracy metrics\n",
    "mape = np.mean(np.abs((y_test - y_pred) / y_test)) * 100\n",
    "r2 = r2_score(y_test, y_pred)\n",
    "ev = explained_variance_score(y_test, y_pred)\n",
    "mse = mean_squared_error(y_test, y_pred)\n",
    "rmse = np.sqrt(mse)\n",
    "mae = np.mean(np.abs(y_test - y_pred))\n",
    "\n",
    "# Print accuracy metrics\n",
    "print(\"PRINT ACCURACY METRICS:\")\n",
    "print(\"Mean squared error: \", mse)\n",
    "print(\"Mean absolute percentage error (MAPE): \", mape)\n",
    "print(\"R-squared: \", r2)\n",
    "print(\"Explained variance: \", ev)\n",
    "print(\"Mean squared error: \", mse)\n",
    "print(\"Root mean squared error (RMSE): \", rmse)\n",
    "print(\"Mean absolute error (MAE): \", mae)\n",
    "\n",
    "# Make a prediction for the next day's close price\n",
    "last_row = df.tail(1)\n",
    "last_row_scaled = scaler.transform(last_row[['Open', 'High', 'Low', 'Volume', 'prevclose', 'rsi', 'ema5', 'ema10', 'hma5','hma7','hma9','adx','pdi','mdi','atr']])\n",
    "next_day_pred = model.predict(last_row_scaled)[0]\n",
    "print(\"Predicted close price for the next day: \", next_day_pred)"
   ]
  },
  {
   "attachments": {},
   "cell_type": "markdown",
   "id": "6d3e09fb",
   "metadata": {},
   "source": [
    "<hr>"
   ]
  },
  {
   "attachments": {},
   "cell_type": "markdown",
   "id": "b6ab9ee2",
   "metadata": {},
   "source": [
    "# 6. Multiple Linear Regression"
   ]
  },
  {
   "attachments": {},
   "cell_type": "markdown",
   "id": "2639267e",
   "metadata": {},
   "source": [
    "- Multiple linear regression attempts to model the relationship between two or more features and a response by fitting a linear equation to the observed data.\n",
    "- Clearly, it is nothing but an extension of simple linear regression.\n",
    "- Consider a dataset with p features(or independent variables) and one response(or dependent variable). \n",
    "- Also, the dataset contains n rows/observations."
   ]
  },
  {
   "attachments": {},
   "cell_type": "markdown",
   "id": "2b72efc0",
   "metadata": {},
   "source": [
    "**Python implementation of multiple linear regression techniques on the Boston house pricing dataset using Scikit-learn.**"
   ]
  },
  {
   "cell_type": "code",
   "execution_count": 42,
   "id": "5c5c10fb",
   "metadata": {},
   "outputs": [
    {
     "name": "stdout",
     "output_type": "stream",
     "text": [
      "Coefficients:  [ 4.36676927e-01  9.58588561e-03 -9.61859974e-02  5.77800722e-01\n",
      " -4.33084487e-06 -3.13805195e-03 -4.22347516e-01 -4.34869554e-01]\n",
      "Variance score: 0.6068373239208641\n"
     ]
    },
    {
     "data": {
      "image/png": "[encoded data removed]",
      "text/plain": [
       "<Figure size 432x288 with 1 Axes>"
      ]
     },
     "metadata": {},
     "output_type": "display_data"
    }
   ],
   "source": [
    "import matplotlib.pyplot as plt\n",
    "import numpy as np\n",
    "from sklearn import datasets, linear_model, metrics\n",
    "from sklearn.datasets import fetch_california_housing\n",
    "        \n",
    "  \n",
    "# load the california dataset\n",
    "california = fetch_california_housing()\n",
    "  \n",
    "# defining feature matrix(X) and response vector(y)\n",
    "X = california.data\n",
    "y = california.target\n",
    "  \n",
    "# splitting X and y into training and testing sets\n",
    "from sklearn.model_selection import train_test_split\n",
    "X_train, X_test, y_train, y_test = train_test_split(X, y, test_size=0.4,\n",
    "                                                    random_state=1)\n",
    "  \n",
    "# create linear regression object\n",
    "reg = linear_model.LinearRegression()\n",
    "  \n",
    "# train the model using the training sets\n",
    "reg.fit(X_train, y_train)\n",
    "  \n",
    "# regression coefficients\n",
    "print('Coefficients: ', reg.coef_)\n",
    "  \n",
    "# variance score: 1 means perfect prediction\n",
    "print('Variance score: {}'.format(reg.score(X_test, y_test)))\n",
    "  \n",
    "# plot for residual error\n",
    "  \n",
    "## setting plot style\n",
    "plt.style.use('fivethirtyeight')\n",
    "  \n",
    "## plotting residual errors in training data\n",
    "plt.scatter(reg.predict(X_train), reg.predict(X_train) - y_train,\n",
    "            color = \"green\", s = 10, label = 'Train data')\n",
    "  \n",
    "## plotting residual errors in test data\n",
    "plt.scatter(reg.predict(X_test), reg.predict(X_test) - y_test,\n",
    "            color = \"blue\", s = 10, label = 'Test data')\n",
    "  \n",
    "## plotting line for zero residual error\n",
    "plt.hlines(y = 0, xmin = 0, xmax = 10, linewidth = 2)\n",
    "  \n",
    "## plotting legend\n",
    "plt.legend(loc = 'upper right')\n",
    "  \n",
    "## plot title\n",
    "plt.title(\"Residual errors\")\n",
    "  \n",
    "## method call for showing the plot\n",
    "plt.show()"
   ]
  },
  {
   "attachments": {},
   "cell_type": "markdown",
   "id": "4802345c",
   "metadata": {},
   "source": [
    "## 7. Assumptions in Linear Regression Model\n",
    "- Given below are the basic assumptions that a linear regression model makes regarding a dataset on which it is applied:  <br>\n",
    "\n",
    "**Linear relationship:** \n",
    "- Relationship between response and feature variables should be linear. \n",
    "- The linearity assumption can be tested using scatter plots. \n",
    "- As shown below, 1st figure represents linearly related variables whereas variables in the 2nd and 3rd figures are most likely non-linear. \n",
    "- So, 1st figure will give better predictions using linear regression. "
   ]
  },
  {
   "attachments": {},
   "cell_type": "markdown",
   "id": "36d5bdfa",
   "metadata": {},
   "source": [
    "<br>\n",
    "<img align = \"middle\" src=\"images/Image-5.png\" alt=\"Drawing\" style=\"width: 500px;\">\n",
    "<br>"
   ]
  },
  {
   "attachments": {},
   "cell_type": "markdown",
   "id": "2306e738",
   "metadata": {},
   "source": [
    "**Little or no multi-collinearity:**\n",
    "- It is assumed that there is little or no multicollinearity in the data. Multicollinearity occurs when the features (or independent variables) are not independent of each other."
   ]
  },
  {
   "attachments": {},
   "cell_type": "markdown",
   "id": "00e4a4dc",
   "metadata": {},
   "source": [
    "**Little or no auto-correlation:**\n",
    "- Another assumption is that there is little or no autocorrelation in the data. Autocorrelation occurs when the residual errors are not independent of each other. "
   ]
  },
  {
   "attachments": {},
   "cell_type": "markdown",
   "id": "0252f4e3",
   "metadata": {},
   "source": [
    "**Homoscedasticity:**\n",
    "- Homoscedasticity describes a situation in which the error term (that is, the “noise” or random disturbance in the relationship between the independent variables and the dependent variable) is the same across all values of the independent variables. \n",
    "- As shown below, figure 1 has homoscedasticity while figure 2 has heteroscedasticity. "
   ]
  },
  {
   "attachments": {},
   "cell_type": "markdown",
   "id": "e9b72eba",
   "metadata": {},
   "source": [
    "<br>\n",
    "<img align = \"middle\" src=\"images/Image-6.png\" alt=\"Drawing\" style=\"width: 500px;\">\n",
    "<br>"
   ]
  },
  {
   "attachments": {},
   "cell_type": "markdown",
   "id": "89d2d709",
   "metadata": {},
   "source": [
    "<hr>"
   ]
  },
  {
   "attachments": {},
   "cell_type": "markdown",
   "id": "1688fcba",
   "metadata": {},
   "source": [
    "## Homework Questions"
   ]
  },
  {
   "attachments": {},
   "cell_type": "markdown",
   "id": "2b098342",
   "metadata": {},
   "source": [
    "1) Create a code on How do you plot a regression line in Python?"
   ]
  },
  {
   "attachments": {},
   "cell_type": "markdown",
   "id": "45295be0",
   "metadata": {},
   "source": [
    "2) Create a code on How do you evaluate the performance of a linear regression model in Python?\n",
    "To evaluate the performance of a linear regression model in Python, you can use metrics such as mean squared error (MSE), mean absolute error (MAE), and R-squared. "
   ]
  },
  {
   "attachments": {},
   "cell_type": "markdown",
   "id": "74b18f8d",
   "metadata": {},
   "source": [
    "3) How do you perform regularized linear regression in Python?\n",
    "To perform regularized linear regression in Python, you can use the Ridge or Lasso regression models from the sklearn.linear_model library.\n",
    "\n",
    "    In regularized linear regression, the alpha parameter controls the strength of the regularization. A higher value of alpha results in stronger regularization and a simpler model."
   ]
  },
  {
   "attachments": {},
   "cell_type": "markdown",
   "id": "96d746d4",
   "metadata": {},
   "source": [
    "4) Create a sample dataset of 5 input-output pairs, where the input is a single feature (represented by a 1D array) and the output is a single value. We create a LinearRegression object, train it using the sample data, and then use it to make a prediction for a new input value (6). The predicted output value is printed to the console."
   ]
  },
  {
   "attachments": {},
   "cell_type": "markdown",
   "id": "b9f9864f",
   "metadata": {},
   "source": [
    "5) Multiple Linear Regression - Create a sample dataset of 5 input-output pairs, where the input is a 2D array representing two features and the output is a single value. We create a LinearRegression object, train it using the sample data, and then use it to make a prediction for a new input value (6 and 12 for the two features). The predicted output value is printed to the console. "
   ]
  },
  {
   "attachments": {},
   "cell_type": "markdown",
   "id": "65a4fbb3",
   "metadata": {},
   "source": [
    "6) **Simple Linear Regression - Prediction Creation.**<br>\n",
    "First generate some sample data x and y using numpy's rand function. We then create a LinearRegression object and fit it to the data using the ```fit()``` method.<br>\n",
    "<br>\n",
    "Next, we use the ```predict()``` method to predict the response for a new value of x, in this case ```x=1.``` <br>\n",
    "Finally, we use matplotlib to visualize the fit of the model by plotting the original data points and the predicted values."
   ]
  },
  {
   "attachments": {},
   "cell_type": "markdown",
   "id": "e20e546a",
   "metadata": {},
   "source": [
    "7) **Perform multiple linear regression in Python using the scikit-learn library**<br>\n",
    "- Create a sample dataset with 2 predictor variables (X) and 1 response variable (y). \n",
    "- We then create a LinearRegression object, fit it to the data, and use it to predict the response for new values of X. \n",
    "- We also print the coefficients and intercept of the model, and visualize the fit of the model by plotting the true values of y against the predicted values of y using matplotlib."
   ]
  },
  {
   "attachments": {},
   "cell_type": "markdown",
   "id": "6b5107ae",
   "metadata": {},
   "source": [
    "<hr>"
   ]
  },
  {
   "attachments": {},
   "cell_type": "markdown",
   "id": "73a39484",
   "metadata": {},
   "source": [
    "For solutions of Homework questions, please refer to the ```HomeworkSolution.ipynb``` file."
   ]
  }
 ],
 "metadata": {
  "kernelspec": {
   "display_name": "Python 3 (ipykernel)",
   "language": "python",
   "name": "python3"
  },
  "language_info": {
   "codemirror_mode": {
    "name": "ipython",
    "version": 3
   },
   "file_extension": ".py",
   "mimetype": "text/x-python",
   "name": "python",
   "nbconvert_exporter": "python",
   "pygments_lexer": "ipython3",
   "version": "3.9.2rc1"
  }
 },
 "nbformat": 4,
 "nbformat_minor": 5
}
