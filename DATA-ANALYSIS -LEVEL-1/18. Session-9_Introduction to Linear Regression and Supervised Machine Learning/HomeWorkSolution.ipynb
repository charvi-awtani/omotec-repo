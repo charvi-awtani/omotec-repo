{
 "cells": [
  {
   "attachments": {},
   "cell_type": "markdown",
   "id": "b391655e",
   "metadata": {},
   "source": [
    "# Homework Solutions"
   ]
  },
  {
   "attachments": {},
   "cell_type": "markdown",
   "id": "100924d9",
   "metadata": {},
   "source": [
    "1) Create a code on How do you plot a regression line in Python?"
   ]
  },
  {
   "cell_type": "code",
   "execution_count": null,
   "id": "5a854940",
   "metadata": {},
   "outputs": [],
   "source": [
    "import pandas as pd\n",
    "import numpy as np\n",
    "from sklearn.linear_model import LinearRegression\n",
    "import matplotlib.pyplot as plt\n",
    "\n",
    "# Load the data\n",
    "data = pd.read_csv(\"Images\\data.csv\")\n",
    "\n",
    "# Split the data into input and output variables\n",
    "X = data.iloc[:, :-1].values\n",
    "y = data.iloc[:, -1].values\n",
    "\n",
    "# Create a linear regression model\n",
    "model = LinearRegression()\n",
    "\n",
    "# Train the model\n",
    "model.fit(X, y)\n",
    "\n",
    "# Make predictions on the data\n",
    "y_pred = model.predict(X)\n",
    "\n",
    "# Plot the data and the regression line\n",
    "plt.scatter(X, y, color='blue')\n",
    "plt.plot(X, y_pred, color='red')\n",
    "plt.show()"
   ]
  },
  {
   "attachments": {},
   "cell_type": "markdown",
   "id": "fd8c3b52",
   "metadata": {},
   "source": [
    "2) Create a code on How do you evaluate the performance of a linear regression model in Python?\n",
    "To evaluate the performance of a linear regression model in Python, you can use metrics such as mean squared error (MSE), mean absolute error (MAE), and R-squared. "
   ]
  },
  {
   "cell_type": "code",
   "execution_count": null,
   "id": "89e7970e",
   "metadata": {},
   "outputs": [],
   "source": [
    "import pandas as pd\n",
    "import numpy as np\n",
    "from sklearn.linear_model import LinearRegression\n",
    "from sklearn.metrics import mean_squared_error, mean_absolute_error, r2_score\n",
    "\n",
    "# Load the data\n",
    "data = pd.read_csv(\"Images\\data.csv\")\n",
    "\n",
    "# Split the data into input and output variables\n",
    "X = data.iloc[:, :-1].values\n",
    "y = data.iloc[:, -1].values\n",
    "\n",
    "# Create a linear regression model\n",
    "model = LinearRegression()\n",
    "\n",
    "# Train the model\n",
    "model.fit(X, y)\n",
    "\n",
    "# Make predictions on the data\n",
    "y_pred = model.predict(X)\n",
    "\n",
    "# Evaluate the performance of the model\n",
    "mse = mean_squared_error(y, y_pred)\n",
    "mae = mean_absolute_error(y, y_pred)\n",
    "r2 = r2_score(y, y_pred)\n",
    "\n",
    "# Print the metrics\n",
    "print(\"Mean Squared Error:\", mse)\n",
    "print(\"Mean Absolute Error:\", mae)\n",
    "print(\"R-squared:\", r2)"
   ]
  },
  {
   "attachments": {},
   "cell_type": "markdown",
   "id": "2c9c39f9",
   "metadata": {},
   "source": [
    "3) How do you perform regularized linear regression in Python?\n",
    "To perform regularized linear regression in Python, you can use the Ridge or Lasso regression models from the sklearn.linear_model library.\n",
    "\n",
    "    In regularized linear regression, the alpha parameter controls the strength of the regularization. A higher value of alpha results in stronger regularization and a simpler model."
   ]
  },
  {
   "cell_type": "code",
   "execution_count": null,
   "id": "bce859fe",
   "metadata": {},
   "outputs": [],
   "source": [
    "import pandas as pd\n",
    "import numpy as np\n",
    "from sklearn.linear_model import Ridge, Lasso\n",
    "\n",
    "# Load the data\n",
    "data = pd.read_csv(\"Images\\data.csv\")\n",
    "\n",
    "# Split the data into input and output variables\n",
    "X = data.iloc[:, :-1].values\n",
    "y = data.iloc[:, -1].values\n",
    "\n",
    "# Create a Ridge regression model\n",
    "ridge = Ridge(alpha=0.1)\n",
    "ridge.fit(X, y)\n",
    "\n",
    "# Create a Lasso regression model\n",
    "lasso = Lasso(alpha=0.1)\n",
    "lasso.fit(X, y)"
   ]
  },
  {
   "attachments": {},
   "cell_type": "markdown",
   "id": "6e28dec9",
   "metadata": {},
   "source": [
    "4) Create a sample dataset of 5 input-output pairs, where the input is a single feature (represented by a 1D array) and the output is a single value. We create a LinearRegression object, train it using the sample data, and then use it to make a prediction for a new input value (6). The predicted output value is printed to the console."
   ]
  },
  {
   "cell_type": "code",
   "execution_count": 3,
   "id": "2093a099",
   "metadata": {},
   "outputs": [
    {
     "name": "stdout",
     "output_type": "stream",
     "text": [
      "[6.6]\n"
     ]
    }
   ],
   "source": [
    "import numpy as np\n",
    "from sklearn.linear_model import LinearRegression\n",
    "\n",
    "# create a sample dataset\n",
    "X = np.array([[1], [2], [3], [4], [5]])\n",
    "y = np.array([2, 4, 5, 4, 6])\n",
    "\n",
    "# create a linear regression object\n",
    "reg = LinearRegression()\n",
    "\n",
    "# train the model using the sample data\n",
    "reg.fit(X, y)\n",
    "\n",
    "# make a prediction for a new input\n",
    "new_X = np.array([[6]])\n",
    "predicted_y = reg.predict(new_X)\n",
    "\n",
    "# print the predicted value\n",
    "print(predicted_y)"
   ]
  },
  {
   "attachments": {},
   "cell_type": "markdown",
   "id": "26115b40",
   "metadata": {},
   "source": [
    "5) Multiple Linear Regression - Create a sample dataset of 5 input-output pairs, where the input is a 2D array representing two features and the output is a single value. We create a LinearRegression object, train it using the sample data, and then use it to make a prediction for a new input value (6 and 12 for the two features). The predicted output value is printed to the console. "
   ]
  },
  {
   "cell_type": "code",
   "execution_count": 4,
   "id": "b7ff5427",
   "metadata": {},
   "outputs": [
    {
     "name": "stdout",
     "output_type": "stream",
     "text": [
      "[12.4]\n"
     ]
    }
   ],
   "source": [
    "import numpy as np\n",
    "from sklearn.linear_model import LinearRegression\n",
    "\n",
    "# create a sample dataset\n",
    "X = np.array([[1, 2], [2, 4], [3, 6], [4, 8], [5, 10]])\n",
    "y = np.array([3, 6, 7, 8, 11])\n",
    "\n",
    "# create a linear regression object\n",
    "reg = LinearRegression()\n",
    "\n",
    "# train the model using the sample data\n",
    "reg.fit(X, y)\n",
    "\n",
    "# make a prediction for a new input\n",
    "new_X = np.array([[6, 12]])\n",
    "predicted_y = reg.predict(new_X)\n",
    "\n",
    "# print the predicted value\n",
    "print(predicted_y)"
   ]
  },
  {
   "attachments": {},
   "cell_type": "markdown",
   "id": "55788891",
   "metadata": {},
   "source": [
    "6) **Simple Linear Regression - Prediction Creation.**<br>\n",
    "First generate some sample data x and y using numpy's rand function. We then create a LinearRegression object and fit it to the data using the ```fit()``` method.<br>\n",
    "<br>\n",
    "Next, we use the ```predict()``` method to predict the response for a new value of x, in this case ```x=1.``` <br>\n",
    "Finally, we use matplotlib to visualize the fit of the model by plotting the original data points and the predicted values."
   ]
  },
  {
   "cell_type": "code",
   "execution_count": 2,
   "id": "5a05c97a",
   "metadata": {},
   "outputs": [
    {
     "data": {
      "image/png": "[encoded data removed]",
      "text/plain": [
       "<Figure size 432x288 with 1 Axes>"
      ]
     },
     "metadata": {
      "needs_background": "light"
     },
     "output_type": "display_data"
    }
   ],
   "source": [
    "import numpy as np\n",
    "import matplotlib.pyplot as plt\n",
    "from sklearn.linear_model import LinearRegression\n",
    "\n",
    "# Generate sample data\n",
    "np.random.seed(0)\n",
    "x = np.random.rand(50)\n",
    "y = 2*x + 1 + np.random.rand(50)\n",
    "\n",
    "# Create linear regression object\n",
    "model = LinearRegression()\n",
    "\n",
    "# Fit the model to the data\n",
    "model.fit(x.reshape(-1, 1), y)\n",
    "\n",
    "# Predict the response for x=1\n",
    "x_new = np.array([[1]])\n",
    "y_new = model.predict(x_new)\n",
    "\n",
    "# Visualize the fit of the model\n",
    "plt.scatter(x, y)\n",
    "plt.plot(x, model.predict(x.reshape(-1, 1)), color='red')\n",
    "plt.scatter(x_new, y_new, color='green')\n",
    "plt.show()"
   ]
  },
  {
   "attachments": {},
   "cell_type": "markdown",
   "id": "cff02216",
   "metadata": {},
   "source": [
    "7) **Perform multiple linear regression in Python using the scikit-learn library**<br>\n",
    "- Create a sample dataset with 2 predictor variables (X) and 1 response variable (y). \n",
    "- We then create a LinearRegression object, fit it to the data, and use it to predict the response for new values of X. \n",
    "- We also print the coefficients and intercept of the model, and visualize the fit of the model by plotting the true values of y against the predicted values of y using matplotlib."
   ]
  },
  {
   "cell_type": "code",
   "execution_count": 3,
   "id": "e945b6bd",
   "metadata": {},
   "outputs": [
    {
     "name": "stdout",
     "output_type": "stream",
     "text": [
      "Predicted y value: [30.]\n",
      "Coefficients: [1. 2.]\n",
      "Intercept: 5.329070518200751e-15\n"
     ]
    },
    {
     "data": {
      "image/png": "[encoded data removed]",
      "text/plain": [
       "<Figure size 432x288 with 1 Axes>"
      ]
     },
     "metadata": {
      "needs_background": "light"
     },
     "output_type": "display_data"
    }
   ],
   "source": [
    "import numpy as np\n",
    "from sklearn.linear_model import LinearRegression\n",
    "import matplotlib.pyplot as plt\n",
    "\n",
    "# Create sample data\n",
    "X = np.array([[1, 2], [2, 4], [3, 6], [4, 8], [5, 10]])\n",
    "y = np.array([5, 10, 15, 20, 25])\n",
    "\n",
    "# Create linear regression object\n",
    "model = LinearRegression()\n",
    "\n",
    "# Fit the model to the data\n",
    "model.fit(X, y)\n",
    "\n",
    "# Predict the response for new values of X\n",
    "X_new = np.array([[6, 12]])\n",
    "y_pred = model.predict(X_new)\n",
    "print(\"Predicted y value:\", y_pred)\n",
    "\n",
    "# Print the coefficients and intercept of the model\n",
    "print(\"Coefficients:\", model.coef_)\n",
    "print(\"Intercept:\", model.intercept_)\n",
    "\n",
    "# Visualize the fit of the model\n",
    "y_pred_all = model.predict(X)\n",
    "plt.scatter(y, y_pred_all)\n",
    "plt.plot([y.min(), y.max()], [y.min(), y.max()], 'k--', lw=2)\n",
    "plt.xlabel('True values of y')\n",
    "plt.ylabel('Predicted values of y')\n",
    "plt.show()"
   ]
  },
  {
   "attachments": {},
   "cell_type": "markdown",
   "id": "bdce0315",
   "metadata": {},
   "source": [
    "<hr>"
   ]
  },
  {
   "attachments": {},
   "cell_type": "markdown",
   "id": "29b0f924",
   "metadata": {},
   "source": [
    "For solutions of Homework questions, please refer to the ```HomeworkSolution.ipynb``` file"
   ]
  }
 ],
 "metadata": {
  "kernelspec": {
   "display_name": "Python 3",
   "language": "python",
   "name": "python3"
  },
  "language_info": {
   "codemirror_mode": {
    "name": "ipython",
    "version": 3
   },
   "file_extension": ".py",
   "mimetype": "text/x-python",
   "name": "python",
   "nbconvert_exporter": "python",
   "pygments_lexer": "ipython3",
   "version": "3.9.2rc1"
  },
  "vscode": {
   "interpreter": {
    "hash": "f1a104daade7a70772ad630bf0568980f4e260449ff540bcd2b6baf0ecd3487d"
   }
  }
 },
 "nbformat": 4,
 "nbformat_minor": 5
}
