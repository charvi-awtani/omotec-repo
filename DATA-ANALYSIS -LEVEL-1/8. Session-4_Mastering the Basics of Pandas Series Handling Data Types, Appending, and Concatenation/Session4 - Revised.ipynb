{
 "cells": [
  {
   "cell_type": "markdown",
   "id": "222f6650",
   "metadata": {},
   "source": [
    "# SESSION 4"
   ]
  },
  {
   "cell_type": "markdown",
   "id": "96bb09d7",
   "metadata": {},
   "source": [
    "## Pandas"
   ]
  },
  {
   "cell_type": "markdown",
   "id": "f6a536f5",
   "metadata": {},
   "source": [
    "1. What is Pandas?\n",
    "2. Pandas Series\n",
    "3. Datatype handling in Panda Series\n",
    "4. Appending in Panda Series\n",
    "5. Concatenation in Panda Series"
   ]
  },
  {
   "cell_type": "markdown",
   "id": "6f1364f2",
   "metadata": {},
   "source": [
    "## 1. What is Pandas?"
   ]
  },
  {
   "attachments": {},
   "cell_type": "markdown",
   "id": "d12ac818",
   "metadata": {},
   "source": [
    "- **Pandas is a Python library used for working with data sets.**\n",
    "\n",
    "- **It has functions for analyzing, cleaning, exploring, and manipulating data.**\n",
    "\n",
    "Basically Pandas will store your array data into something that looks like excel sheets."
   ]
  },
  {
   "cell_type": "markdown",
   "id": "eefdf3af",
   "metadata": {},
   "source": [
    "## Why Use Pandas?"
   ]
  },
  {
   "cell_type": "markdown",
   "id": "64363949",
   "metadata": {},
   "source": [
    "- **Pandas allows us to analyze big data and make conclusions based on statistical theories.**\n",
    "\n",
    "- **Pandas can clean messy data sets, and make them readable and relevant.**\n",
    "\n",
    "- **Relevant data is very important in data science.**"
   ]
  },
  {
   "cell_type": "markdown",
   "id": "73859874",
   "metadata": {},
   "source": [
    "## Installation of Pandas\n",
    "\n",
    "For installing any module in python we can use python installation package i.e pip\n",
    "we can use the following command any module in python.\n",
    "\n",
    "```pip install module_name```\n",
    "\n",
    "Now we will install pandas \n",
    "- pip install pandas\n",
    "\n"
   ]
  },
  {
   "cell_type": "markdown",
   "id": "4d80b2ee",
   "metadata": {},
   "source": [
    "<img align = 'middle' src = \"images/Screenshot.png\" width = 600, height = auto>"
   ]
  },
  {
   "cell_type": "markdown",
   "id": "b20836d8",
   "metadata": {},
   "source": [
    "## Import Pandas"
   ]
  },
  {
   "cell_type": "code",
   "execution_count": 8,
   "id": "b4be569f",
   "metadata": {},
   "outputs": [],
   "source": [
    "import pandas"
   ]
  },
  {
   "cell_type": "markdown",
   "id": "deeced6a",
   "metadata": {},
   "source": [
    "## Pandas as pd\n",
    "Pandas is usually imported under the pd alias."
   ]
  },
  {
   "cell_type": "code",
   "execution_count": 9,
   "id": "5a2bfbc6",
   "metadata": {},
   "outputs": [
    {
     "name": "stdout",
     "output_type": "stream",
     "text": [
      "0    P\n",
      "1    a\n",
      "2    n\n",
      "3    d\n",
      "4    a\n",
      "5    s\n",
      "dtype: object\n"
     ]
    }
   ],
   "source": [
    "import pandas as pd  \n",
    "import numpy as np  \n",
    "info = np.array(['P','a','n','d','a','s'])  \n",
    "a = pd.Series(info)  \n",
    "print(a)  "
   ]
  },
  {
   "cell_type": "markdown",
   "id": "1e7047df",
   "metadata": {},
   "source": [
    "<img align = 'middle' src = \"images/Series1.png\" width = 400, height = auto>"
   ]
  },
  {
   "cell_type": "markdown",
   "id": "fe9e8381",
   "metadata": {},
   "source": [
    "<hr>"
   ]
  },
  {
   "attachments": {},
   "cell_type": "markdown",
   "id": "aed65583",
   "metadata": {},
   "source": [
    "## Data type Object (dtype) in NumPy Python\n",
    "\n",
    "Every ndarray has an associated data type (dtype) object. This data type object (dtype) informs us about the layout of the array. This means it gives us information about: \n",
    "\n",
    "- Type of the data (integer, float, Python object, etc.)\n",
    "- Size of the data (number of bytes)\n",
    "- If the data type is a sub-array, what is its shape and data type?\n",
    "- The byte order of the data (little-endian or big-endian) \n",
    "\n",
    "**Define little-endian & big-endian:**<br>\n",
    "We define endianness as the order of bytes inside a word of data stored in computer memory. Big-endian and little-endian are the two main ways to represent endianness. Big-endian keeps the most significant byte of a word at the smallest memory location and the least significant byte at the largest. On the other hand, little-endian keeps the least significant address at the smallest memory location.\n",
    "\n",
    "<img align = 'middle' src = \"images/Image-big-little-endian.png\" width = 600, height = auto>"
   ]
  },
  {
   "cell_type": "markdown",
   "id": "b2615ea8",
   "metadata": {},
   "source": [
    "## 2. Pandas Series"
   ]
  },
  {
   "cell_type": "markdown",
   "id": "f28b9084",
   "metadata": {},
   "source": [
    "## What is a Series?\n",
    "- **A Pandas Series is like a column in a table.**\n",
    "\n",
    "- **It is a one-dimensional array holding data of any type.**"
   ]
  },
  {
   "cell_type": "code",
   "execution_count": 1,
   "id": "cd16088d",
   "metadata": {},
   "outputs": [
    {
     "name": "stdout",
     "output_type": "stream",
     "text": [
      "0    1\n",
      "1    7\n",
      "2    2\n",
      "dtype: int64\n"
     ]
    }
   ],
   "source": [
    "# Create a simple Pandas Series from a list:\n",
    "\n",
    "import pandas as pd\n",
    "\n",
    "a = [1, 7, 2]\n",
    "\n",
    "myvar = pd.Series(a)\n",
    "\n",
    "print(myvar)\n"
   ]
  },
  {
   "cell_type": "markdown",
   "id": "1d4c7c42",
   "metadata": {},
   "source": [
    "<img align = 'middle' src = \"images/Series2.png\" width = 600, height = auto>"
   ]
  },
  {
   "cell_type": "code",
   "execution_count": 2,
   "id": "d7c3c0c7",
   "metadata": {},
   "outputs": [
    {
     "name": "stdout",
     "output_type": "stream",
     "text": [
      "1\n"
     ]
    }
   ],
   "source": [
    "import pandas as pd\n",
    "\n",
    "a = [1, 7, 2]\n",
    "\n",
    "myvar = pd.Series(a)\n",
    "\n",
    "print(myvar[0]) \n"
   ]
  },
  {
   "cell_type": "markdown",
   "id": "a61d33e7",
   "metadata": {},
   "source": [
    "## Labels Creation\n",
    "**With the index argument, you can name your own labels.**"
   ]
  },
  {
   "cell_type": "code",
   "execution_count": 7,
   "id": "28bfd110",
   "metadata": {},
   "outputs": [
    {
     "name": "stdout",
     "output_type": "stream",
     "text": [
      "x    1\n",
      "y    7\n",
      "z    2\n",
      "dtype: int64\n"
     ]
    }
   ],
   "source": [
    "# Create your own labels:\n",
    "\n",
    "import pandas as pd\n",
    "\n",
    "a = [1, 7, 2]\n",
    "\n",
    "myvar = pd.Series(a, index = [\"x\", \"y\", \"z\"])\n",
    "\n",
    "print(myvar)\n"
   ]
  },
  {
   "cell_type": "markdown",
   "id": "0c38a41d",
   "metadata": {},
   "source": [
    "<img align = 'middle' src = \"images/Series3.png\" width = 700, height = auto>"
   ]
  },
  {
   "cell_type": "code",
   "execution_count": 3,
   "id": "e05b3c95",
   "metadata": {},
   "outputs": [
    {
     "name": "stdout",
     "output_type": "stream",
     "text": [
      "7\n"
     ]
    }
   ],
   "source": [
    "import pandas as pd\n",
    "\n",
    "a = [1, 7, 2]\n",
    "\n",
    "myvar = pd.Series(a, index = [\"x\", \"y\", \"z\"])\n",
    "\n",
    "print(myvar[\"y\"])\n"
   ]
  },
  {
   "cell_type": "markdown",
   "id": "5b56da29",
   "metadata": {},
   "source": [
    "## 3.  Datatype handling in Panda Series"
   ]
  },
  {
   "cell_type": "markdown",
   "id": "f1b59803",
   "metadata": {},
   "source": [
    "**Key/Value Objects as Series**\n",
    "- **You can also use a key/value object, like a dictionary, when creating a Series.**"
   ]
  },
  {
   "cell_type": "code",
   "execution_count": 4,
   "id": "8f966d1a",
   "metadata": {},
   "outputs": [
    {
     "name": "stdout",
     "output_type": "stream",
     "text": [
      "day1    420\n",
      "day2    380\n",
      "day3    390\n",
      "dtype: int64\n"
     ]
    }
   ],
   "source": [
    "import pandas as pd\n",
    "\n",
    "calories = {\"day1\": 420, \"day2\": 380, \"day3\": 320}\n",
    "\n",
    "myvar = pd.Series(calories)\n",
    "  \n",
    "print(myvar)\n"
   ]
  },
  {
   "cell_type": "markdown",
   "id": "93ee0557",
   "metadata": {},
   "source": [
    "<img align = 'middle' src = \"images/Series4.png\" width = 700, height = auto>"
   ]
  },
  {
   "cell_type": "markdown",
   "id": "e9cef255",
   "metadata": {},
   "source": [
    "- **To select only some of the items in the dictionary, use the index argument and specify only the items you want to include in the Series.**\n",
    "\n",
    "\n",
    "\n",
    "**Example**\n",
    "<br>\n",
    "- Create a Series using only data from \"day1\" and \"day2\":\n",
    "\n",
    "\n"
   ]
  },
  {
   "cell_type": "code",
   "execution_count": 5,
   "id": "e545af18",
   "metadata": {},
   "outputs": [
    {
     "name": "stdout",
     "output_type": "stream",
     "text": [
      "day1    420\n",
      "day2    380\n",
      "dtype: int64\n"
     ]
    }
   ],
   "source": [
    "import pandas as pd\n",
    "\n",
    "calories = {\"day1\": 420, \"day2\": 380, \"day3\": 320}\n",
    "\n",
    "myvar = pd.Series(calories, index = [\"day1\", \"day2\"])\n",
    "\n",
    "print(myvar)"
   ]
  },
  {
   "cell_type": "markdown",
   "id": "93bb5f75",
   "metadata": {},
   "source": [
    "<img align = 'middle' src = \"images/Series5.png\" width = 800, height = auto>"
   ]
  },
  {
   "attachments": {},
   "cell_type": "markdown",
   "id": "c28869ca",
   "metadata": {},
   "source": [
    "## Create a Series from dict\n",
    "- *A dict can be passed as input and if no index is specified, then the dictionary keys are taken in a sorted order to construct index.*"
   ]
  },
  {
   "cell_type": "code",
   "execution_count": 11,
   "id": "26937372",
   "metadata": {},
   "outputs": [
    {
     "name": "stdout",
     "output_type": "stream",
     "text": [
      "a    0.0\n",
      "b    1.0\n",
      "c    2.0\n",
      "dtype: float64\n"
     ]
    }
   ],
   "source": [
    "import pandas as pd\n",
    "import numpy as np\n",
    "data = {'a' : 0., 'b' : 1., 'c' : 2.}\n",
    "data = pd.Series(data)\n",
    "print(data)"
   ]
  },
  {
   "attachments": {},
   "cell_type": "markdown",
   "id": "daac5dcc",
   "metadata": {},
   "source": [
    "### Indexing on Series:\n",
    "- *If index is passed, the values in data corresponding to the labels in the index will be pulled out.*"
   ]
  },
  {
   "cell_type": "code",
   "execution_count": 6,
   "id": "ea3b4856",
   "metadata": {},
   "outputs": [
    {
     "name": "stdout",
     "output_type": "stream",
     "text": [
      "c    3\n",
      "d    4\n",
      "e    5\n",
      "dtype: int64\n"
     ]
    }
   ],
   "source": [
    "# Retrieve the last three elements.\n",
    "import pandas as pd\n",
    "s = pd.Series([1,2,3,4,5],index = ['a','b','c','d','e'])\n",
    "\n",
    "#retrieve the last three element\n",
    "print (s[-3:])"
   ]
  },
  {
   "attachments": {},
   "cell_type": "markdown",
   "id": "228bfe26",
   "metadata": {},
   "source": [
    "<img align = 'middle' src = \"images/Series6.png\" width = 700, height = auto>"
   ]
  },
  {
   "cell_type": "markdown",
   "id": "7959cee8",
   "metadata": {},
   "source": [
    "## 4. Appending in Panda Series"
   ]
  },
  {
   "cell_type": "markdown",
   "id": "44b25f6a",
   "metadata": {},
   "source": [
    "**Add a panda series to another series using ```append()```**\n",
    "- *It appends one series object at the end of another series object and returns an appended series.*\n",
    "- *The attribute, ignore_index=True is used when we do not use index values on appending, i.e the resulting index will be 0 to n-1. By default, the value of the ignore_index attribute is False*"
   ]
  },
  {
   "cell_type": "code",
   "execution_count": null,
   "id": "ccf186f4",
   "metadata": {},
   "outputs": [],
   "source": [
    "# importing the module\n",
    "import pandas as pd\n",
    "\n",
    "# create 2 series objects\n",
    "series_1 = pd.Series([2, 4, 6, 8])\n",
    "series_2 = pd.Series([10, 12, 14, 16])\n",
    "\n",
    "# adding series_2 to series_1 using the append() function\n",
    "series_1 = series_1.append(series_2, ignore_index=True)\n",
    "\n",
    "# displaying series_1\n",
    "print(series_1)\n"
   ]
  },
  {
   "cell_type": "markdown",
   "id": "954f0a35",
   "metadata": {},
   "source": [
    "<img align = 'middle' src = \"images/Series7.png\" width = 800, height = auto>"
   ]
  },
  {
   "cell_type": "markdown",
   "id": "002acec0",
   "metadata": {},
   "source": [
    "## 5. Concatenation in Panda Series"
   ]
  },
  {
   "cell_type": "markdown",
   "id": "19113a34",
   "metadata": {},
   "source": [
    "# Using the ```concat()``` function\n",
    "\n",
    "*It takes a list of series objects that are to be concatenated as an argument and returns a concatenated series along an axis, i.e., if axis=0, it will concatenate row-wise and if axis=1,  the resulting Series will be concatenated column-wise.*"
   ]
  },
  {
   "cell_type": "code",
   "execution_count": 1,
   "id": "f1210c5f",
   "metadata": {},
   "outputs": [
    {
     "name": "stdout",
     "output_type": "stream",
     "text": [
      "0     2\n",
      "1     4\n",
      "2     6\n",
      "3     8\n",
      "0    10\n",
      "1    12\n",
      "2    14\n",
      "3    16\n",
      "dtype: int64\n"
     ]
    }
   ],
   "source": [
    "# importing the module\n",
    "import pandas as pd\n",
    "\n",
    "# create 2 series objects\n",
    "series_1 = pd.Series([2, 4, 6, 8])\n",
    "series_2 = pd.Series([10, 12, 14, 16])\n",
    "\n",
    "# adding series_2 to series_1 using the concat() function\n",
    "series_1 = pd.concat([series_1, series_2], axis=0)\n",
    "\n",
    "# displaying series_1\n",
    "print(series_1)\n"
   ]
  },
  {
   "cell_type": "markdown",
   "id": "7745e952",
   "metadata": {},
   "source": [
    "<img align = 'middle' src = \"images/Series8.png\" width = 800, height = auto>"
   ]
  },
  {
   "cell_type": "code",
   "execution_count": 2,
   "id": "abaac670",
   "metadata": {},
   "outputs": [
    {
     "name": "stdout",
     "output_type": "stream",
     "text": [
      "   0   1\n",
      "0  2  10\n",
      "1  4  12\n",
      "2  6  14\n",
      "3  8  16\n"
     ]
    }
   ],
   "source": [
    "# importing the module\n",
    "import pandas as pd\n",
    "\n",
    "# create 2 series objects\n",
    "series_1 = pd.Series([2, 4, 6, 8])\n",
    "series_2 = pd.Series([10, 12, 14, 16])\n",
    "\n",
    "# adding series_2 to series_1 using the concat() function\n",
    "series_1 = pd.concat([series_1, series_2], axis=1)\n",
    "\n",
    "# displaying series_1\n",
    "print(series_1)"
   ]
  },
  {
   "attachments": {},
   "cell_type": "markdown",
   "id": "16fabdb0",
   "metadata": {},
   "source": [
    "<img align = 'middle' src = \"images/Series9.png\" width = 900 height = auto>"
   ]
  },
  {
   "cell_type": "markdown",
   "id": "6552e429",
   "metadata": {},
   "source": [
    "# Homework Questions"
   ]
  },
  {
   "cell_type": "markdown",
   "id": "60a868f9",
   "metadata": {},
   "source": [
    "1. Write a Python program to create a simple DataFrame with two columns (‘Name’ and ‘Age’) and populate it with data. Then print the entire DataFrame."
   ]
  },
  {
   "cell_type": "markdown",
   "id": "81866622",
   "metadata": {},
   "source": [
    "2. Create a pandas dataframe with the following data:\n",
    "\n",
    "    ``` Name  Age  Gender\n",
    "    0  John   25    Male\n",
    "    1  Jane   30  Female\n",
    "    2  Mark   20    Male\n",
    "    ```"
   ]
  },
  {
   "cell_type": "markdown",
   "id": "3c354003",
   "metadata": {},
   "source": [
    "3. To select only some of the items in the dictionary, use the index argument and specify only the items you want to include in the Series.\n",
    "    ```\n",
    "    vitamin = {\"day1\": 420, \"day2\": 380, \"day3\": 390}\n",
    "    ```"
   ]
  },
  {
   "cell_type": "markdown",
   "id": "ca44beb4",
   "metadata": {},
   "source": [
    "4. Add a panda series to another series using append()\n",
    "    ```\n",
    "    a=[12,23,65,87] \n",
    "    b=[78,52,33,61]\n",
    "    ```"
   ]
  },
  {
   "cell_type": "markdown",
   "id": "4fbea7b5",
   "metadata": {},
   "source": [
    "5. use the concat() to combine the following arrays\n",
    "    ```python\n",
    "    series_1 = pd.Series([2, 4, 6, 8])\n",
    "    series_2 = pd.Series([10, 12, 14, 16])\n",
    "    ```"
   ]
  },
  {
   "cell_type": "markdown",
   "id": "8c9d05ec",
   "metadata": {},
   "source": [
    "6. Create a pandas series with the following data:\n",
    "\n",
    "    ```0    10\n",
    "    1    20\n",
    "    2    30\n",
    "    3    40\n",
    "    dtype: int64\n",
    "    ```"
   ]
  },
  {
   "cell_type": "markdown",
   "id": "6c576097",
   "metadata": {},
   "source": [
    "7. Create a pandas series with the following data and index labels:\n",
    "\n",
    "    ```a    10\n",
    "    b    20\n",
    "    c    30\n",
    "    d    40\n",
    "    dtype: int64\n",
    "    ```"
   ]
  },
  {
   "cell_type": "markdown",
   "id": "2b53bb8e",
   "metadata": {},
   "source": [
    "8. Create a pandas series from a dictionary with the following data:\n",
    "\n",
    "    ```{'a': 10, 'b': 20, 'c': 30, 'd': 40}```"
   ]
  },
  {
   "cell_type": "markdown",
   "id": "cd2bfd81",
   "metadata": {},
   "source": [
    "<hr>"
   ]
  },
  {
   "cell_type": "markdown",
   "id": "4b2c7885",
   "metadata": {},
   "source": [
    "For solutions of Homework questions, please refer to the ```HomeworkSolution.ipynb``` file"
   ]
  }
 ],
 "metadata": {
  "kernelspec": {
   "display_name": "Python 3 (ipykernel)",
   "language": "python",
   "name": "python3"
  },
  "language_info": {
   "codemirror_mode": {
    "name": "ipython",
    "version": 3
   },
   "file_extension": ".py",
   "mimetype": "text/x-python",
   "name": "python",
   "nbconvert_exporter": "python",
   "pygments_lexer": "ipython3",
   "version": "3.11.1"
  }
 },
 "nbformat": 4,
 "nbformat_minor": 5
}
