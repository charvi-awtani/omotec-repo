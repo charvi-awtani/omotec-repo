{
 "cells": [
  {
   "attachments": {},
   "cell_type": "markdown",
   "metadata": {},
   "source": [
    "## Homework Solutions"
   ]
  },
  {
   "attachments": {},
   "cell_type": "markdown",
   "metadata": {},
   "source": [
    "1) Create a 0D array"
   ]
  },
  {
   "cell_type": "code",
   "execution_count": 1,
   "metadata": {},
   "outputs": [
    {
     "name": "stdout",
     "output_type": "stream",
     "text": [
      "2\n",
      "0\n"
     ]
    }
   ],
   "source": [
    "import numpy as np\n",
    "\n",
    "arr = np.array(2)\n",
    "\n",
    "print(arr)\n",
    "print(arr.ndim)"
   ]
  },
  {
   "attachments": {},
   "cell_type": "markdown",
   "metadata": {},
   "source": [
    "2) Create a 1D array"
   ]
  },
  {
   "cell_type": "code",
   "execution_count": 2,
   "metadata": {},
   "outputs": [
    {
     "name": "stdout",
     "output_type": "stream",
     "text": [
      "[1 2 3 4 5]\n"
     ]
    }
   ],
   "source": [
    "import numpy as np\n",
    "\n",
    "arr = np.array([1, 2, 3, 4, 5])\n",
    "\n",
    "print(arr)"
   ]
  },
  {
   "attachments": {},
   "cell_type": "markdown",
   "metadata": {},
   "source": [
    "3) Create a 2D array"
   ]
  },
  {
   "cell_type": "code",
   "execution_count": 3,
   "metadata": {},
   "outputs": [
    {
     "name": "stdout",
     "output_type": "stream",
     "text": [
      "[[75 93 83]\n",
      " [22 14 36]]\n"
     ]
    }
   ],
   "source": [
    "import numpy as np\n",
    "\n",
    "arr = np.array([[75, 93, 83], [22, 14, 36]])\n",
    "\n",
    "print(arr)"
   ]
  },
  {
   "attachments": {},
   "cell_type": "markdown",
   "metadata": {},
   "source": [
    "4) Print the last element from the 2nd dimension"
   ]
  },
  {
   "cell_type": "code",
   "execution_count": 4,
   "metadata": {},
   "outputs": [
    {
     "name": "stdout",
     "output_type": "stream",
     "text": [
      "36\n"
     ]
    }
   ],
   "source": [
    "import numpy as np\n",
    "\n",
    "arr = np.array([[75, 93, 83], [22, 14, 36]])\n",
    "\n",
    "print(arr[1,2])"
   ]
  },
  {
   "attachments": {},
   "cell_type": "markdown",
   "metadata": {},
   "source": [
    "5) Access the third element of the second array of the first array"
   ]
  },
  {
   "cell_type": "code",
   "execution_count": 5,
   "metadata": {},
   "outputs": [
    {
     "name": "stdout",
     "output_type": "stream",
     "text": [
      "7\n"
     ]
    }
   ],
   "source": [
    "import numpy as np\n",
    "\n",
    "arr = np.array([[[22, 32, 43], [54, 6, 7]], [[7, 68, 49], [1, 11, 32]]])\n",
    "\n",
    "print(arr[0, 1, 2])"
   ]
  },
  {
   "attachments": {},
   "cell_type": "markdown",
   "metadata": {},
   "source": [
    "6) Get third and fourth elements from the following array and add them."
   ]
  },
  {
   "cell_type": "code",
   "execution_count": 6,
   "metadata": {},
   "outputs": [
    {
     "name": "stdout",
     "output_type": "stream",
     "text": [
      "87\n"
     ]
    }
   ],
   "source": [
    "import numpy as np\n",
    "\n",
    "arr = np.array([11, 22, 33, 54])\n",
    "\n",
    "print(arr[2] + arr[3])"
   ]
  },
  {
   "attachments": {},
   "cell_type": "markdown",
   "metadata": {},
   "source": [
    "7. Create a numpy array of shape (3, 5) with integers from 1 to 10. Slice the array to obtain the first row."
   ]
  },
  {
   "cell_type": "code",
   "execution_count": 7,
   "metadata": {},
   "outputs": [
    {
     "name": "stdout",
     "output_type": "stream",
     "text": [
      "Original array:\n",
      " [[ 5  6  5  4 10]\n",
      " [ 1  6  4  4  4]\n",
      " [ 3  7  6  5  1]]\n",
      "First row:\n",
      " [ 5  6  5  4 10]\n"
     ]
    }
   ],
   "source": [
    "import numpy as np\n",
    "\n",
    "# Create a numpy array of shape (3, 5) with integers from 1 to 10\n",
    "arr = np.array([[5, 6, 5, 4, 10], [1, 6, 4, 4, 4], [3, 7, 6, 5, 1]])\n",
    "\n",
    "# Slice the array to obtain the first row\n",
    "first_row = arr[0,0:5] # you can even use indexing here : arr[0]\n",
    "\n",
    "# Print the original array and the first row\n",
    "print(\"Original array:\\n\", arr)\n",
    "print(\"First row:\\n\", first_row)\n",
    "\n"
   ]
  },
  {
   "attachments": {},
   "cell_type": "markdown",
   "metadata": {},
   "source": [
    "8. Create a numpy array of shape (5, 5) with integers from 1 to 20. Slice the array to obtain the second column, but only the first three elements.\n",
    "\n"
   ]
  },
  {
   "cell_type": "code",
   "execution_count": 8,
   "metadata": {},
   "outputs": [
    {
     "name": "stdout",
     "output_type": "stream",
     "text": [
      "Original array:\n",
      " [[ 5 16 15  4 10]\n",
      " [ 1  6 14  4  4]\n",
      " [13  7  6  5 11]\n",
      " [ 1 16  4  4 14]\n",
      " [ 3 17  6  5 12]]\n",
      "Second column (first three elements):\n",
      " [16  6  7]\n"
     ]
    }
   ],
   "source": [
    "import numpy as np\n",
    "\n",
    "# Create a numpy array of shape (5, 5) with integers from 1 and 20\n",
    "arr = np.array([[5, 16, 15, 4, 10], [1, 6, 14, 4, 4], [13, 7, 6, 5, 11], [1, 16, 4, 4, 14], [3, 17, 6, 5, 12]])\n",
    "\n",
    "\n",
    "# Slice the array to obtain the second column, but only the first three elements\n",
    "second_col = arr[:3, 1]\n",
    "\n",
    "# Print the original array and the sliced array\n",
    "print(\"Original array:\\n\", arr)\n",
    "print(\"Second column (first three elements):\\n\", second_col)"
   ]
  },
  {
   "attachments": {},
   "cell_type": "markdown",
   "metadata": {},
   "source": [
    "<hr>"
   ]
  }
 ],
 "metadata": {
  "kernelspec": {
   "display_name": "Python 3",
   "language": "python",
   "name": "python3"
  },
  "language_info": {
   "codemirror_mode": {
    "name": "ipython",
    "version": 3
   },
   "file_extension": ".py",
   "mimetype": "text/x-python",
   "name": "python",
   "nbconvert_exporter": "python",
   "pygments_lexer": "ipython3",
   "version": "3.9.13"
  },
  "orig_nbformat": 4
 },
 "nbformat": 4,
 "nbformat_minor": 2
}
