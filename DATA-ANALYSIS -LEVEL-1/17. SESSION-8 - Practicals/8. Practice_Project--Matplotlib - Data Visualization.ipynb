{
 "cells": [
  {
   "attachments": {},
   "cell_type": "markdown",
   "id": "54d5942e",
   "metadata": {},
   "source": [
    "## Practice Project - Matplotlib based Data Visualization in Python\n",
    "- #### Heat Maps using Matplotlib \n",
    "- #### Confusion Matrix using Matplotlib"
   ]
  },
  {
   "attachments": {},
   "cell_type": "markdown",
   "id": "21dcd122",
   "metadata": {},
   "source": [
    "### Table of Contents<br>\n",
    "    Problem statement\n",
    "    1. Heat Maps using Matplotlib\n",
    "    2. Confusion Matrix using Matplotlib"
   ]
  },
  {
   "cell_type": "markdown",
   "id": "53cc0025",
   "metadata": {},
   "source": [
    "### Problem Statement:\n",
    "``` Using Matplotlib generate Heat Map & Confusion Matrix```<br>"
   ]
  },
  {
   "attachments": {},
   "cell_type": "markdown",
   "id": "baa2c692",
   "metadata": {},
   "source": [
    "## 1. Heat Maps using Matplotlib"
   ]
  },
  {
   "cell_type": "code",
   "execution_count": 1,
   "id": "bff6dbab",
   "metadata": {},
   "outputs": [
    {
     "name": "stdout",
     "output_type": "stream",
     "text": [
      "Populating the interactive namespace from numpy and matplotlib\n"
     ]
    }
   ],
   "source": [
    "%pylab inline\n",
    "import matplotlib.pyplot as plt\n",
    "import pandas as pd\n",
    "import numpy as np"
   ]
  },
  {
   "attachments": {},
   "cell_type": "markdown",
   "id": "6aadea66",
   "metadata": {},
   "source": [
    "Populating the interactive namespace from numpy and matplotlib"
   ]
  },
  {
   "cell_type": "code",
   "execution_count": 2,
   "id": "eb4e6f8c",
   "metadata": {},
   "outputs": [
    {
     "data": {
      "text/html": [
       "<div>\n",
       "<style scoped>\n",
       "    .dataframe tbody tr th:only-of-type {\n",
       "        vertical-align: middle;\n",
       "    }\n",
       "\n",
       "    .dataframe tbody tr th {\n",
       "        vertical-align: top;\n",
       "    }\n",
       "\n",
       "    .dataframe thead th {\n",
       "        text-align: right;\n",
       "    }\n",
       "</style>\n",
       "<table border=\"1\" class=\"dataframe\">\n",
       "  <thead>\n",
       "    <tr style=\"text-align: right;\">\n",
       "      <th></th>\n",
       "      <th>job_n</th>\n",
       "      <th>Energy</th>\n",
       "      <th>n_helices</th>\n",
       "      <th>r0_A</th>\n",
       "      <th>r0_B</th>\n",
       "      <th>r0_C</th>\n",
       "      <th>omega0</th>\n",
       "      <th>delta_omega0_A</th>\n",
       "      <th>delta_omega0_B</th>\n",
       "      <th>delta_omega0_C</th>\n",
       "      <th>...</th>\n",
       "      <th>invert_B</th>\n",
       "      <th>invert_C</th>\n",
       "      <th>z1_offset_A</th>\n",
       "      <th>z1_offset_B</th>\n",
       "      <th>z1_offset_C</th>\n",
       "      <th>delta_t_A</th>\n",
       "      <th>delta_t_B</th>\n",
       "      <th>delta_t_C</th>\n",
       "      <th>omega1</th>\n",
       "      <th>z1</th>\n",
       "    </tr>\n",
       "  </thead>\n",
       "  <tbody>\n",
       "    <tr>\n",
       "      <th>0</th>\n",
       "      <td>36019</td>\n",
       "      <td>-387.167</td>\n",
       "      <td>3</td>\n",
       "      <td>6.0</td>\n",
       "      <td>6.0</td>\n",
       "      <td>6.0</td>\n",
       "      <td>0</td>\n",
       "      <td>0</td>\n",
       "      <td>120</td>\n",
       "      <td>240</td>\n",
       "      <td>...</td>\n",
       "      <td>1</td>\n",
       "      <td>0</td>\n",
       "      <td>0</td>\n",
       "      <td>0.6</td>\n",
       "      <td>-3.0</td>\n",
       "      <td>0</td>\n",
       "      <td>0</td>\n",
       "      <td>0</td>\n",
       "      <td>99.999268</td>\n",
       "      <td>1.51</td>\n",
       "    </tr>\n",
       "    <tr>\n",
       "      <th>1</th>\n",
       "      <td>36022</td>\n",
       "      <td>-402.606</td>\n",
       "      <td>3</td>\n",
       "      <td>6.0</td>\n",
       "      <td>6.0</td>\n",
       "      <td>6.0</td>\n",
       "      <td>0</td>\n",
       "      <td>0</td>\n",
       "      <td>120</td>\n",
       "      <td>240</td>\n",
       "      <td>...</td>\n",
       "      <td>1</td>\n",
       "      <td>0</td>\n",
       "      <td>0</td>\n",
       "      <td>0.6</td>\n",
       "      <td>0.6</td>\n",
       "      <td>0</td>\n",
       "      <td>0</td>\n",
       "      <td>0</td>\n",
       "      <td>99.999268</td>\n",
       "      <td>1.51</td>\n",
       "    </tr>\n",
       "    <tr>\n",
       "      <th>2</th>\n",
       "      <td>36020</td>\n",
       "      <td>-395.944</td>\n",
       "      <td>3</td>\n",
       "      <td>6.0</td>\n",
       "      <td>6.0</td>\n",
       "      <td>6.0</td>\n",
       "      <td>0</td>\n",
       "      <td>0</td>\n",
       "      <td>120</td>\n",
       "      <td>240</td>\n",
       "      <td>...</td>\n",
       "      <td>1</td>\n",
       "      <td>0</td>\n",
       "      <td>0</td>\n",
       "      <td>0.6</td>\n",
       "      <td>-1.8</td>\n",
       "      <td>0</td>\n",
       "      <td>0</td>\n",
       "      <td>0</td>\n",
       "      <td>99.999268</td>\n",
       "      <td>1.51</td>\n",
       "    </tr>\n",
       "    <tr>\n",
       "      <th>3</th>\n",
       "      <td>36002</td>\n",
       "      <td>-389.788</td>\n",
       "      <td>3</td>\n",
       "      <td>6.0</td>\n",
       "      <td>6.0</td>\n",
       "      <td>6.0</td>\n",
       "      <td>0</td>\n",
       "      <td>0</td>\n",
       "      <td>120</td>\n",
       "      <td>240</td>\n",
       "      <td>...</td>\n",
       "      <td>1</td>\n",
       "      <td>0</td>\n",
       "      <td>0</td>\n",
       "      <td>-3.0</td>\n",
       "      <td>-1.8</td>\n",
       "      <td>0</td>\n",
       "      <td>0</td>\n",
       "      <td>0</td>\n",
       "      <td>99.999268</td>\n",
       "      <td>1.51</td>\n",
       "    </tr>\n",
       "    <tr>\n",
       "      <th>4</th>\n",
       "      <td>36005</td>\n",
       "      <td>-388.016</td>\n",
       "      <td>3</td>\n",
       "      <td>6.0</td>\n",
       "      <td>6.0</td>\n",
       "      <td>6.0</td>\n",
       "      <td>0</td>\n",
       "      <td>0</td>\n",
       "      <td>120</td>\n",
       "      <td>240</td>\n",
       "      <td>...</td>\n",
       "      <td>1</td>\n",
       "      <td>0</td>\n",
       "      <td>0</td>\n",
       "      <td>-3.0</td>\n",
       "      <td>1.8</td>\n",
       "      <td>0</td>\n",
       "      <td>0</td>\n",
       "      <td>0</td>\n",
       "      <td>99.999268</td>\n",
       "      <td>1.51</td>\n",
       "    </tr>\n",
       "  </tbody>\n",
       "</table>\n",
       "<p>5 rows × 27 columns</p>\n",
       "</div>"
      ],
      "text/plain": [
       "   job_n   Energy  n_helices  r0_A  r0_B  r0_C  omega0  delta_omega0_A  \\\n",
       "0  36019 -387.167          3   6.0   6.0   6.0       0               0   \n",
       "1  36022 -402.606          3   6.0   6.0   6.0       0               0   \n",
       "2  36020 -395.944          3   6.0   6.0   6.0       0               0   \n",
       "3  36002 -389.788          3   6.0   6.0   6.0       0               0   \n",
       "4  36005 -388.016          3   6.0   6.0   6.0       0               0   \n",
       "\n",
       "   delta_omega0_B  delta_omega0_C  ...  invert_B  invert_C  z1_offset_A  \\\n",
       "0             120             240  ...         1         0            0   \n",
       "1             120             240  ...         1         0            0   \n",
       "2             120             240  ...         1         0            0   \n",
       "3             120             240  ...         1         0            0   \n",
       "4             120             240  ...         1         0            0   \n",
       "\n",
       "   z1_offset_B  z1_offset_C  delta_t_A  delta_t_B  delta_t_C     omega1    z1  \n",
       "0          0.6         -3.0          0          0          0  99.999268  1.51  \n",
       "1          0.6          0.6          0          0          0  99.999268  1.51  \n",
       "2          0.6         -1.8          0          0          0  99.999268  1.51  \n",
       "3         -3.0         -1.8          0          0          0  99.999268  1.51  \n",
       "4         -3.0          1.8          0          0          0  99.999268  1.51  \n",
       "\n",
       "[5 rows x 27 columns]"
      ]
     },
     "execution_count": 2,
     "metadata": {},
     "output_type": "execute_result"
    }
   ],
   "source": [
    "helix = pd.read_csv('data/helix_parameters.csv')\n",
    "helix.head() # just seeing that data was imported properly by outputing first 5 cells"
   ]
  },
  {
   "cell_type": "code",
   "execution_count": 3,
   "id": "75d3d1bf",
   "metadata": {},
   "outputs": [
    {
     "data": {
      "text/plain": [
       "(47475, 27)"
      ]
     },
     "execution_count": 3,
     "metadata": {},
     "output_type": "execute_result"
    }
   ],
   "source": [
    "# shape of the dataframe\n",
    "helix.shape"
   ]
  },
  {
   "cell_type": "code",
   "execution_count": 4,
   "id": "a8c017cc",
   "metadata": {},
   "outputs": [
    {
     "data": {
      "text/plain": [
       "Index(['job_n', 'Energy', 'n_helices', 'r0_A', 'r0_B', 'r0_C', 'omega0',\n",
       "       'delta_omega0_A', 'delta_omega0_B', 'delta_omega0_C', 'z0_offset_A',\n",
       "       'z0_offset_B', 'z0_offset_C', 'helix1 phase', 'helix 2 phase',\n",
       "       'helix3 phase', 'invert_A', 'invert_B', 'invert_C', 'z1_offset_A',\n",
       "       'z1_offset_B', 'z1_offset_C', 'delta_t_A', 'delta_t_B', 'delta_t_C',\n",
       "       'omega1', 'z1'],\n",
       "      dtype='object')"
      ]
     },
     "execution_count": 4,
     "metadata": {},
     "output_type": "execute_result"
    }
   ],
   "source": [
    "# checking what the columns are\n",
    "helix.columns"
   ]
  },
  {
   "cell_type": "markdown",
   "id": "7cc90273",
   "metadata": {},
   "source": [
    "Selecting Columns (by different methods)"
   ]
  },
  {
   "cell_type": "code",
   "execution_count": 5,
   "id": "88b70541",
   "metadata": {},
   "outputs": [
    {
     "data": {
      "text/html": [
       "<div>\n",
       "<style scoped>\n",
       "    .dataframe tbody tr th:only-of-type {\n",
       "        vertical-align: middle;\n",
       "    }\n",
       "\n",
       "    .dataframe tbody tr th {\n",
       "        vertical-align: top;\n",
       "    }\n",
       "\n",
       "    .dataframe thead th {\n",
       "        text-align: right;\n",
       "    }\n",
       "</style>\n",
       "<table border=\"1\" class=\"dataframe\">\n",
       "  <thead>\n",
       "    <tr style=\"text-align: right;\">\n",
       "      <th></th>\n",
       "      <th>Energy</th>\n",
       "      <th>helix 2 phase</th>\n",
       "      <th>helix1 phase</th>\n",
       "    </tr>\n",
       "  </thead>\n",
       "  <tbody>\n",
       "    <tr>\n",
       "      <th>0</th>\n",
       "      <td>-387.167</td>\n",
       "      <td>0</td>\n",
       "      <td>0</td>\n",
       "    </tr>\n",
       "    <tr>\n",
       "      <th>1</th>\n",
       "      <td>-402.606</td>\n",
       "      <td>0</td>\n",
       "      <td>0</td>\n",
       "    </tr>\n",
       "    <tr>\n",
       "      <th>2</th>\n",
       "      <td>-395.944</td>\n",
       "      <td>0</td>\n",
       "      <td>0</td>\n",
       "    </tr>\n",
       "    <tr>\n",
       "      <th>3</th>\n",
       "      <td>-389.788</td>\n",
       "      <td>0</td>\n",
       "      <td>0</td>\n",
       "    </tr>\n",
       "    <tr>\n",
       "      <th>4</th>\n",
       "      <td>-388.016</td>\n",
       "      <td>0</td>\n",
       "      <td>0</td>\n",
       "    </tr>\n",
       "  </tbody>\n",
       "</table>\n",
       "</div>"
      ],
      "text/plain": [
       "    Energy  helix 2 phase  helix1 phase\n",
       "0 -387.167              0             0\n",
       "1 -402.606              0             0\n",
       "2 -395.944              0             0\n",
       "3 -389.788              0             0\n",
       "4 -388.016              0             0"
      ]
     },
     "execution_count": 5,
     "metadata": {},
     "output_type": "execute_result"
    }
   ],
   "source": [
    "# selecting a couple columns\n",
    "couple_columns = helix[['Energy','helix 2 phase', 'helix1 phase']]\n",
    "couple_columns.head()"
   ]
  },
  {
   "attachments": {},
   "cell_type": "markdown",
   "id": "c15a4f83",
   "metadata": {},
   "source": [
    "## Heat Map Generation"
   ]
  },
  {
   "cell_type": "code",
   "execution_count": 8,
   "id": "1efb79a9",
   "metadata": {},
   "outputs": [
    {
     "name": "stdout",
     "output_type": "stream",
     "text": [
      "(100, 1)\n"
     ]
    },
    {
     "data": {
      "text/html": [
       "<div>\n",
       "<style scoped>\n",
       "    .dataframe tbody tr th:only-of-type {\n",
       "        vertical-align: middle;\n",
       "    }\n",
       "\n",
       "    .dataframe tbody tr th {\n",
       "        vertical-align: top;\n",
       "    }\n",
       "\n",
       "    .dataframe thead th {\n",
       "        text-align: right;\n",
       "    }\n",
       "</style>\n",
       "<table border=\"1\" class=\"dataframe\">\n",
       "  <thead>\n",
       "    <tr style=\"text-align: right;\">\n",
       "      <th></th>\n",
       "      <th></th>\n",
       "      <th>Energy</th>\n",
       "    </tr>\n",
       "    <tr>\n",
       "      <th>helix1 phase</th>\n",
       "      <th>helix 2 phase</th>\n",
       "      <th></th>\n",
       "    </tr>\n",
       "  </thead>\n",
       "  <tbody>\n",
       "    <tr>\n",
       "      <th rowspan=\"10\" valign=\"top\">0</th>\n",
       "      <th>0</th>\n",
       "      <td>-392.419841</td>\n",
       "    </tr>\n",
       "    <tr>\n",
       "      <th>20</th>\n",
       "      <td>-389.622691</td>\n",
       "    </tr>\n",
       "    <tr>\n",
       "      <th>40</th>\n",
       "      <td>-390.318620</td>\n",
       "    </tr>\n",
       "    <tr>\n",
       "      <th>60</th>\n",
       "      <td>-392.198537</td>\n",
       "    </tr>\n",
       "    <tr>\n",
       "      <th>80</th>\n",
       "      <td>-393.661624</td>\n",
       "    </tr>\n",
       "    <tr>\n",
       "      <th>100</th>\n",
       "      <td>-392.226253</td>\n",
       "    </tr>\n",
       "    <tr>\n",
       "      <th>120</th>\n",
       "      <td>-390.955112</td>\n",
       "    </tr>\n",
       "    <tr>\n",
       "      <th>140</th>\n",
       "      <td>-394.319969</td>\n",
       "    </tr>\n",
       "    <tr>\n",
       "      <th>160</th>\n",
       "      <td>-392.594862</td>\n",
       "    </tr>\n",
       "    <tr>\n",
       "      <th>180</th>\n",
       "      <td>-389.254009</td>\n",
       "    </tr>\n",
       "  </tbody>\n",
       "</table>\n",
       "</div>"
      ],
      "text/plain": [
       "                                Energy\n",
       "helix1 phase helix 2 phase            \n",
       "0            0             -392.419841\n",
       "             20            -389.622691\n",
       "             40            -390.318620\n",
       "             60            -392.198537\n",
       "             80            -393.661624\n",
       "             100           -392.226253\n",
       "             120           -390.955112\n",
       "             140           -394.319969\n",
       "             160           -392.594862\n",
       "             180           -389.254009"
      ]
     },
     "execution_count": 8,
     "metadata": {},
     "output_type": "execute_result"
    }
   ],
   "source": [
    "# this is essentially would be taking the average of each unique combination. \n",
    "# one important mention is notice how little the data varies from eachother.\n",
    "phase_1_2 = couple_columns.groupby(['helix1 phase', 'helix 2 phase']).mean()\n",
    "print (phase_1_2.shape)\n",
    "phase_1_2.head(10)"
   ]
  },
  {
   "cell_type": "code",
   "execution_count": 9,
   "id": "9a82abee",
   "metadata": {},
   "outputs": [
    {
     "data": {
      "text/html": [
       "<div>\n",
       "<style scoped>\n",
       "    .dataframe tbody tr th:only-of-type {\n",
       "        vertical-align: middle;\n",
       "    }\n",
       "\n",
       "    .dataframe tbody tr th {\n",
       "        vertical-align: top;\n",
       "    }\n",
       "\n",
       "    .dataframe thead th {\n",
       "        text-align: right;\n",
       "    }\n",
       "</style>\n",
       "<table border=\"1\" class=\"dataframe\">\n",
       "  <thead>\n",
       "    <tr style=\"text-align: right;\">\n",
       "      <th></th>\n",
       "      <th>helix1 phase</th>\n",
       "      <th>helix 2 phase</th>\n",
       "      <th>Energy</th>\n",
       "    </tr>\n",
       "  </thead>\n",
       "  <tbody>\n",
       "    <tr>\n",
       "      <th>0</th>\n",
       "      <td>0</td>\n",
       "      <td>0</td>\n",
       "      <td>-392.419841</td>\n",
       "    </tr>\n",
       "    <tr>\n",
       "      <th>1</th>\n",
       "      <td>0</td>\n",
       "      <td>20</td>\n",
       "      <td>-389.622691</td>\n",
       "    </tr>\n",
       "    <tr>\n",
       "      <th>2</th>\n",
       "      <td>0</td>\n",
       "      <td>40</td>\n",
       "      <td>-390.318620</td>\n",
       "    </tr>\n",
       "    <tr>\n",
       "      <th>3</th>\n",
       "      <td>0</td>\n",
       "      <td>60</td>\n",
       "      <td>-392.198537</td>\n",
       "    </tr>\n",
       "    <tr>\n",
       "      <th>4</th>\n",
       "      <td>0</td>\n",
       "      <td>80</td>\n",
       "      <td>-393.661624</td>\n",
       "    </tr>\n",
       "  </tbody>\n",
       "</table>\n",
       "</div>"
      ],
      "text/plain": [
       "   helix1 phase  helix 2 phase      Energy\n",
       "0             0              0 -392.419841\n",
       "1             0             20 -389.622691\n",
       "2             0             40 -390.318620\n",
       "3             0             60 -392.198537\n",
       "4             0             80 -393.661624"
      ]
     },
     "execution_count": 9,
     "metadata": {},
     "output_type": "execute_result"
    }
   ],
   "source": [
    "phase_1_2 = phase_1_2.reset_index()\n",
    "phase_1_2.head()"
   ]
  },
  {
   "cell_type": "code",
   "execution_count": 10,
   "id": "5e6d8f3f",
   "metadata": {},
   "outputs": [
    {
     "data": {
      "image/png": "[encoded data removed]",
      "text/plain": [
       "<Figure size 432x360 with 2 Axes>"
      ]
     },
     "metadata": {
      "needs_background": "light"
     },
     "output_type": "display_data"
    }
   ],
   "source": [
    "major_ticks = np.arange(0, 200, 20)                                              \n",
    "minor_ticks = np.arange(0, 180, 5)  \n",
    "\n",
    "fig = plt.figure(figsize = (6,5))  \n",
    "ax = fig.add_subplot(1,1,1) \n",
    "s = ax.scatter('helix1 phase', 'helix 2 phase', c = 'Energy',data = phase_1_2, cmap = 'Blues_r', marker = 's',s = 190)\n",
    "ax.axis([phase_1_2['helix1 phase'].min()-10, phase_1_2['helix1 phase'].max()+10, phase_1_2['helix 2 phase'].min()-10, phase_1_2['helix 2 phase'].max()+10])\n",
    "ax.set_xticks(major_ticks)                                                       \n",
    "ax.set_xticks(minor_ticks, minor=True)                                           \n",
    "ax.set_yticks(major_ticks)                                                                                                                                                      \n",
    "ax.grid(which='both', alpha = 0.3)                                                                                                           \n",
    "ax.grid(which='major', alpha=0.3) \n",
    "ax.set_xlabel('helix1 phase', fontsize=10);\n",
    "ax.set_ylabel('helix 2 phase', fontsize=10);\n",
    "\n",
    "# http://stackoverflow.com/questions/13943217/how-to-add-colorbars-to-scatterplots-created-like-this\n",
    "cbar = plt.colorbar(mappable = s,ax = ax)\n",
    "\n",
    "plt.show()"
   ]
  },
  {
   "attachments": {},
   "cell_type": "markdown",
   "id": "db04f259",
   "metadata": {},
   "source": [
    "<hr>"
   ]
  },
  {
   "attachments": {},
   "cell_type": "markdown",
   "id": "2a7d83ac",
   "metadata": {},
   "source": [
    "## 2. Confusion Matrix using Matplotlib"
   ]
  },
  {
   "attachments": {},
   "cell_type": "markdown",
   "id": "fed1fa47",
   "metadata": {},
   "source": [
    "Let's import all the dependencies first."
   ]
  },
  {
   "cell_type": "code",
   "execution_count": 11,
   "id": "67ea1f79",
   "metadata": {},
   "outputs": [],
   "source": [
    "# primary data structure library\n",
    "import pandas as pd\n",
    "\n",
    "# primary plotting libraries\n",
    "import matplotlib.pyplot as plt\n",
    "import seaborn as sns\n",
    "\n",
    "# using the inline backend\n",
    "%matplotlib inline "
   ]
  },
  {
   "attachments": {},
   "cell_type": "markdown",
   "id": "6597c615",
   "metadata": {},
   "source": [
    "Now we'll create the DataFrame."
   ]
  },
  {
   "cell_type": "code",
   "execution_count": 12,
   "id": "b314c4a9",
   "metadata": {},
   "outputs": [],
   "source": [
    "data = {'Actual':    [1, 0, 0, 1, 0, 1, 0, 0, 1, 0, 1, 0],\n",
    "        'Predicted': [1, 1, 0, 1, 0, 1, 0, 0, 1, 0, 1, 0]\n",
    "        }\n",
    "df = pd.DataFrame(data, columns=['Actual','Predicted'])"
   ]
  },
  {
   "attachments": {},
   "cell_type": "markdown",
   "id": "9dd5170e",
   "metadata": {},
   "source": [
    "Let's plot the confusion matrix."
   ]
  },
  {
   "cell_type": "code",
   "execution_count": 13,
   "id": "799203a0",
   "metadata": {},
   "outputs": [],
   "source": [
    "confusion_matrix = pd.crosstab(df['Actual'], df['Predicted'], rownames=['Actual'], colnames=['Predicted'])"
   ]
  },
  {
   "cell_type": "code",
   "execution_count": 14,
   "id": "8fade437",
   "metadata": {},
   "outputs": [
    {
     "data": {
      "image/png": "[encoded data removed]",
      "text/plain": [
       "<Figure size 432x360 with 2 Axes>"
      ]
     },
     "metadata": {
      "needs_background": "light"
     },
     "output_type": "display_data"
    }
   ],
   "source": [
    "plt.figure(figsize=(6,5))\n",
    "sns.heatmap(confusion_matrix, annot=True)\n",
    "plt.title(\"Confusion Matrix\", fontsize=16)\n",
    "plt.show()"
   ]
  },
  {
   "attachments": {},
   "cell_type": "markdown",
   "id": "77f75ded",
   "metadata": {},
   "source": [
    "Didn't like the color theme? you can change it as shown below."
   ]
  },
  {
   "cell_type": "code",
   "execution_count": 15,
   "id": "34a2cc11",
   "metadata": {},
   "outputs": [
    {
     "data": {
      "image/png": "[encoded data removed]",
      "text/plain": [
       "<Figure size 936x360 with 4 Axes>"
      ]
     },
     "metadata": {
      "needs_background": "light"
     },
     "output_type": "display_data"
    }
   ],
   "source": [
    "fig, axes = plt.subplots(1, 2, figsize=(13, 5), sharey=True)\n",
    "fig.suptitle(\"Color Variants\", fontsize=18)\n",
    "sns.heatmap(confusion_matrix, annot=True, ax=axes[0], cmap=\"Blues\")\n",
    "sns.heatmap(confusion_matrix, annot=True, ax=axes[1], cmap=\"Greens\")\n",
    "plt.show()"
   ]
  },
  {
   "attachments": {},
   "cell_type": "markdown",
   "id": "7da61415",
   "metadata": {},
   "source": [
    "<hr>"
   ]
  }
 ],
 "metadata": {
  "kernelspec": {
   "display_name": "Python 3 (ipykernel)",
   "language": "python",
   "name": "python3"
  },
  "language_info": {
   "codemirror_mode": {
    "name": "ipython",
    "version": 3
   },
   "file_extension": ".py",
   "mimetype": "text/x-python",
   "name": "python",
   "nbconvert_exporter": "python",
   "pygments_lexer": "ipython3",
   "version": "3.9.2rc1"
  }
 },
 "nbformat": 4,
 "nbformat_minor": 5
}
