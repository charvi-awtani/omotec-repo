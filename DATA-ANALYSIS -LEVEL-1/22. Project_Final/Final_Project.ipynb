{
 "cells": [
  {
   "attachments": {},
   "cell_type": "markdown",
   "id": "c900fbd8",
   "metadata": {},
   "source": [
    "# Project : Greenhouse gas forecasting \n",
    "### **CO2 Emission Forecast with Python (Seasonal ARIMA)**\n",
    "```Predict future levels of greenhouse gases using NUMPY, SCIKIT LEARN libraries```"
   ]
  },
  {
   "attachments": {},
   "cell_type": "markdown",
   "id": "2432ff3d",
   "metadata": {},
   "source": [
    "### Table of Contents<br>\n",
    "    Problem statement\n",
    "    1 Introduction\n",
    "    2 Time series dataset\n",
    "    3 Import libraries\n",
    "    4 Time series dataset retrieving and visualization\n",
    "    5 Natural gas CO2 emission analysis\n",
    "        5.1 Test stationary\n",
    "            5.1.1 Graphically test stationary  \n",
    "            5.1.2 Test stationarity using Dickey-Fuller test\n",
    "            5.1.3 Transform the dataset to stationary\n",
    "    6 Find optimal parameters and build SARIMA model\n",
    "    7 Validating prediction\n",
    "    8 Forecasting\n",
    "    9 Conclusion"
   ]
  },
  {
   "attachments": {},
   "cell_type": "markdown",
   "id": "77bee8d8",
   "metadata": {},
   "source": [
    "### Problem Statement:\n",
    "\n",
    "- This Python project is to develop a greenhouse gas forecasting model using data from previous years, leveraging the power of numerical computing with NumPy and machine learning with Scikit-learn. \n",
    "\n",
    "- The goal is to accurately predict the amount of greenhouse gas emissions in the future based on historical data, allowing for better planning and mitigation strategies to combat climate change. \n",
    "\n",
    "- The project will involve data preprocessing, exploratory data analysis, feature engineering, model selection and tuning, and evaluation of the model's performance. \n",
    "\n",
    "- The end result will be a robust and accurate model that can help stakeholders make informed decisions about reducing greenhouse gas emissions."
   ]
  },
  {
   "attachments": {},
   "cell_type": "markdown",
   "id": "30d9a76e",
   "metadata": {},
   "source": [
    "<hr>"
   ]
  },
  {
   "attachments": {},
   "cell_type": "markdown",
   "id": "f8fea9e2",
   "metadata": {},
   "source": [
    "### 1. Introduction<br>\n",
    "\n",
    "Time series is a collection of data points that are collected at constant time intervals. It is a dynamic or time dependent problem with or without increasing or decreasing trend, seasonality. Time series modeling is a powerful method to describe and extract information from time-based data and help to make informed decisions about future outcomes.\n",
    "\n",
    "This notebook explores how to retrieve csv times series dataset, visualizing time series dataset, how to transform dataset into times series, testing if the time series is stationary or not using graphical and Dickey-Fuller test statistic methods, how to transform time series to stationary, how to find optimal parameters to build seasonal Autoregressive Integrated Moving Average (SARIMA) model using grid search method, diagnosing time series prediction, validating the predictive power, forecasting 10 year future CO2 emission from power generation using natural gas.,"
   ]
  },
  {
   "attachments": {},
   "cell_type": "markdown",
   "id": "aed72479",
   "metadata": {},
   "source": [
    "\n",
    "### 2. Time series dataset <br>\n",
    "\n",
    "Use a public dataset of monthly carbon dioxide emissions from electricity generation available at the Energy Information Administration and Jason McNeill. The dataset includes CO2 emissions from each energy resource starting January 1973 to July 2016 for reference <a href = \"https://www.kaggle.com/txtrouble/carbon-emissions/data\"> click here. </a>\n"
   ]
  },
  {
   "attachments": {},
   "cell_type": "markdown",
   "id": "04b6aab4",
   "metadata": {},
   "source": [
    "### 3.Importing Libraries"
   ]
  },
  {
   "cell_type": "code",
   "execution_count": 2,
   "id": "d1bfea0a",
   "metadata": {},
   "outputs": [],
   "source": [
    "%matplotlib inline\n",
    "import numpy as np\n",
    "import pandas as pd\n",
    "import matplotlib.pylab\n",
    "import matplotlib.pyplot as plt\n",
    "from matplotlib.pylab import rcParams\n",
    "rcParams['figure.figsize'] = 20, 16"
   ]
  },
  {
   "cell_type": "code",
   "execution_count": 3,
   "id": "b5bad8fe",
   "metadata": {},
   "outputs": [],
   "source": [
    "import warnings\n",
    "import itertools\n",
    "warnings.filterwarnings(\"ignore\") # specify to ignore warning messages"
   ]
  },
  {
   "attachments": {},
   "cell_type": "markdown",
   "id": "2caf715c",
   "metadata": {},
   "source": [
    "### 4.Time series dataset retrieving and visualization<br>\n",
    "\n",
    "First, in the following cells, we will retrive the monthly CO2 emissions dataset then we will visualize the dataset to decide the type of model we will use to model and analyse our time series (ts)."
   ]
  },
  {
   "attachments": {},
   "cell_type": "markdown",
   "id": "e6c84e5a",
   "metadata": {},
   "source": [
    "##### 4.1 Time series dataset retrieving"
   ]
  },
  {
   "cell_type": "code",
   "execution_count": 4,
   "id": "87c767d8",
   "metadata": {},
   "outputs": [
    {
     "data": {
      "text/html": [
       "<div>\n",
       "<style scoped>\n",
       "    .dataframe tbody tr th:only-of-type {\n",
       "        vertical-align: middle;\n",
       "    }\n",
       "\n",
       "    .dataframe tbody tr th {\n",
       "        vertical-align: top;\n",
       "    }\n",
       "\n",
       "    .dataframe thead th {\n",
       "        text-align: right;\n",
       "    }\n",
       "</style>\n",
       "<table border=\"1\" class=\"dataframe\">\n",
       "  <thead>\n",
       "    <tr style=\"text-align: right;\">\n",
       "      <th></th>\n",
       "      <th>MSN</th>\n",
       "      <th>YYYYMM</th>\n",
       "      <th>Value</th>\n",
       "      <th>Column_Order</th>\n",
       "      <th>Description</th>\n",
       "      <th>Unit</th>\n",
       "    </tr>\n",
       "  </thead>\n",
       "  <tbody>\n",
       "    <tr>\n",
       "      <th>0</th>\n",
       "      <td>CLEIEUS</td>\n",
       "      <td>197301</td>\n",
       "      <td>72.076</td>\n",
       "      <td>1</td>\n",
       "      <td>Coal Electric Power Sector CO2 Emissions</td>\n",
       "      <td>Million Metric Tons of Carbon Dioxide</td>\n",
       "    </tr>\n",
       "    <tr>\n",
       "      <th>1</th>\n",
       "      <td>CLEIEUS</td>\n",
       "      <td>197302</td>\n",
       "      <td>64.442</td>\n",
       "      <td>1</td>\n",
       "      <td>Coal Electric Power Sector CO2 Emissions</td>\n",
       "      <td>Million Metric Tons of Carbon Dioxide</td>\n",
       "    </tr>\n",
       "    <tr>\n",
       "      <th>2</th>\n",
       "      <td>CLEIEUS</td>\n",
       "      <td>197303</td>\n",
       "      <td>64.084</td>\n",
       "      <td>1</td>\n",
       "      <td>Coal Electric Power Sector CO2 Emissions</td>\n",
       "      <td>Million Metric Tons of Carbon Dioxide</td>\n",
       "    </tr>\n",
       "    <tr>\n",
       "      <th>3</th>\n",
       "      <td>CLEIEUS</td>\n",
       "      <td>197304</td>\n",
       "      <td>60.842</td>\n",
       "      <td>1</td>\n",
       "      <td>Coal Electric Power Sector CO2 Emissions</td>\n",
       "      <td>Million Metric Tons of Carbon Dioxide</td>\n",
       "    </tr>\n",
       "    <tr>\n",
       "      <th>4</th>\n",
       "      <td>CLEIEUS</td>\n",
       "      <td>197305</td>\n",
       "      <td>61.798</td>\n",
       "      <td>1</td>\n",
       "      <td>Coal Electric Power Sector CO2 Emissions</td>\n",
       "      <td>Million Metric Tons of Carbon Dioxide</td>\n",
       "    </tr>\n",
       "  </tbody>\n",
       "</table>\n",
       "</div>"
      ],
      "text/plain": [
       "       MSN  YYYYMM   Value  Column_Order  \\\n",
       "0  CLEIEUS  197301  72.076             1   \n",
       "1  CLEIEUS  197302  64.442             1   \n",
       "2  CLEIEUS  197303  64.084             1   \n",
       "3  CLEIEUS  197304  60.842             1   \n",
       "4  CLEIEUS  197305  61.798             1   \n",
       "\n",
       "                                Description  \\\n",
       "0  Coal Electric Power Sector CO2 Emissions   \n",
       "1  Coal Electric Power Sector CO2 Emissions   \n",
       "2  Coal Electric Power Sector CO2 Emissions   \n",
       "3  Coal Electric Power Sector CO2 Emissions   \n",
       "4  Coal Electric Power Sector CO2 Emissions   \n",
       "\n",
       "                                    Unit  \n",
       "0  Million Metric Tons of Carbon Dioxide  \n",
       "1  Million Metric Tons of Carbon Dioxide  \n",
       "2  Million Metric Tons of Carbon Dioxide  \n",
       "3  Million Metric Tons of Carbon Dioxide  \n",
       "4  Million Metric Tons of Carbon Dioxide  "
      ]
     },
     "execution_count": 4,
     "metadata": {},
     "output_type": "execute_result"
    }
   ],
   "source": [
    "df = pd.read_csv(\"input/MER_T12_06.csv\")\n",
    "df.head()"
   ]
  },
  {
   "cell_type": "code",
   "execution_count": 5,
   "id": "ca1ba506",
   "metadata": {},
   "outputs": [
    {
     "name": "stdout",
     "output_type": "stream",
     "text": [
      "<class 'pandas.core.frame.DataFrame'>\n",
      "RangeIndex: 5094 entries, 0 to 5093\n",
      "Data columns (total 6 columns):\n",
      " #   Column        Non-Null Count  Dtype \n",
      "---  ------        --------------  ----- \n",
      " 0   MSN           5094 non-null   object\n",
      " 1   YYYYMM        5094 non-null   int64 \n",
      " 2   Value         5094 non-null   object\n",
      " 3   Column_Order  5094 non-null   int64 \n",
      " 4   Description   5094 non-null   object\n",
      " 5   Unit          5094 non-null   object\n",
      "dtypes: int64(2), object(4)\n",
      "memory usage: 238.9+ KB\n"
     ]
    }
   ],
   "source": [
    "df.info()"
   ]
  },
  {
   "attachments": {},
   "cell_type": "markdown",
   "id": "b78f1c9b",
   "metadata": {},
   "source": [
    "The dataset has 6 columns where 2 of them are integer data type and 4 objects and 5096 observations. The above dataset retriving method only retrives the dataset as a dataframe that is not as a time series dataset. To read the dataset as a time series, we have to pass special arguments to the read_csv command as given below."
   ]
  },
  {
   "cell_type": "code",
   "execution_count": 6,
   "id": "4cdb0c34",
   "metadata": {},
   "outputs": [
    {
     "data": {
      "text/html": [
       "<div>\n",
       "<style scoped>\n",
       "    .dataframe tbody tr th:only-of-type {\n",
       "        vertical-align: middle;\n",
       "    }\n",
       "\n",
       "    .dataframe tbody tr th {\n",
       "        vertical-align: top;\n",
       "    }\n",
       "\n",
       "    .dataframe thead th {\n",
       "        text-align: right;\n",
       "    }\n",
       "</style>\n",
       "<table border=\"1\" class=\"dataframe\">\n",
       "  <thead>\n",
       "    <tr style=\"text-align: right;\">\n",
       "      <th></th>\n",
       "      <th>MSN</th>\n",
       "      <th>Value</th>\n",
       "      <th>Column_Order</th>\n",
       "      <th>Description</th>\n",
       "      <th>Unit</th>\n",
       "    </tr>\n",
       "    <tr>\n",
       "      <th>YYYYMM</th>\n",
       "      <th></th>\n",
       "      <th></th>\n",
       "      <th></th>\n",
       "      <th></th>\n",
       "      <th></th>\n",
       "    </tr>\n",
       "  </thead>\n",
       "  <tbody>\n",
       "    <tr>\n",
       "      <th>1973-01-01</th>\n",
       "      <td>CLEIEUS</td>\n",
       "      <td>72.076</td>\n",
       "      <td>1</td>\n",
       "      <td>Coal Electric Power Sector CO2 Emissions</td>\n",
       "      <td>Million Metric Tons of Carbon Dioxide</td>\n",
       "    </tr>\n",
       "    <tr>\n",
       "      <th>1973-02-01</th>\n",
       "      <td>CLEIEUS</td>\n",
       "      <td>64.442</td>\n",
       "      <td>1</td>\n",
       "      <td>Coal Electric Power Sector CO2 Emissions</td>\n",
       "      <td>Million Metric Tons of Carbon Dioxide</td>\n",
       "    </tr>\n",
       "    <tr>\n",
       "      <th>1973-03-01</th>\n",
       "      <td>CLEIEUS</td>\n",
       "      <td>64.084</td>\n",
       "      <td>1</td>\n",
       "      <td>Coal Electric Power Sector CO2 Emissions</td>\n",
       "      <td>Million Metric Tons of Carbon Dioxide</td>\n",
       "    </tr>\n",
       "    <tr>\n",
       "      <th>1973-04-01</th>\n",
       "      <td>CLEIEUS</td>\n",
       "      <td>60.842</td>\n",
       "      <td>1</td>\n",
       "      <td>Coal Electric Power Sector CO2 Emissions</td>\n",
       "      <td>Million Metric Tons of Carbon Dioxide</td>\n",
       "    </tr>\n",
       "    <tr>\n",
       "      <th>1973-05-01</th>\n",
       "      <td>CLEIEUS</td>\n",
       "      <td>61.798</td>\n",
       "      <td>1</td>\n",
       "      <td>Coal Electric Power Sector CO2 Emissions</td>\n",
       "      <td>Million Metric Tons of Carbon Dioxide</td>\n",
       "    </tr>\n",
       "  </tbody>\n",
       "</table>\n",
       "</div>"
      ],
      "text/plain": [
       "                MSN   Value  Column_Order  \\\n",
       "YYYYMM                                      \n",
       "1973-01-01  CLEIEUS  72.076             1   \n",
       "1973-02-01  CLEIEUS  64.442             1   \n",
       "1973-03-01  CLEIEUS  64.084             1   \n",
       "1973-04-01  CLEIEUS  60.842             1   \n",
       "1973-05-01  CLEIEUS  61.798             1   \n",
       "\n",
       "                                         Description  \\\n",
       "YYYYMM                                                 \n",
       "1973-01-01  Coal Electric Power Sector CO2 Emissions   \n",
       "1973-02-01  Coal Electric Power Sector CO2 Emissions   \n",
       "1973-03-01  Coal Electric Power Sector CO2 Emissions   \n",
       "1973-04-01  Coal Electric Power Sector CO2 Emissions   \n",
       "1973-05-01  Coal Electric Power Sector CO2 Emissions   \n",
       "\n",
       "                                             Unit  \n",
       "YYYYMM                                             \n",
       "1973-01-01  Million Metric Tons of Carbon Dioxide  \n",
       "1973-02-01  Million Metric Tons of Carbon Dioxide  \n",
       "1973-03-01  Million Metric Tons of Carbon Dioxide  \n",
       "1973-04-01  Million Metric Tons of Carbon Dioxide  \n",
       "1973-05-01  Million Metric Tons of Carbon Dioxide  "
      ]
     },
     "execution_count": 6,
     "metadata": {},
     "output_type": "execute_result"
    }
   ],
   "source": [
    "dateparse = lambda x: pd.to_datetime(x, format='%Y%m', errors = 'coerce')\n",
    "df = pd.read_csv(\"input/MER_T12_06.csv\", parse_dates=['YYYYMM'], index_col='YYYYMM', date_parser=dateparse) \n",
    "df.head()"
   ]
  },
  {
   "attachments": {},
   "cell_type": "markdown",
   "id": "09858c0f",
   "metadata": {},
   "source": [
    "\n",
    "\n",
    "#### The arguments can be explained:<br>\n",
    "\n",
    "- parse_dates: This is a key to identify the date time column. Example, the column name is ‘YYYYMM’.\n",
    "- index_col: This is a key that forces pandas to use the date time column as index.\n",
    "- date_parser: Converts an input string into datetime variable.\n",
    "\n"
   ]
  },
  {
   "cell_type": "code",
   "execution_count": 8,
   "id": "afa50276",
   "metadata": {},
   "outputs": [
    {
     "data": {
      "text/html": [
       "<div>\n",
       "<style scoped>\n",
       "    .dataframe tbody tr th:only-of-type {\n",
       "        vertical-align: middle;\n",
       "    }\n",
       "\n",
       "    .dataframe tbody tr th {\n",
       "        vertical-align: top;\n",
       "    }\n",
       "\n",
       "    .dataframe thead th {\n",
       "        text-align: right;\n",
       "    }\n",
       "</style>\n",
       "<table border=\"1\" class=\"dataframe\">\n",
       "  <thead>\n",
       "    <tr style=\"text-align: right;\">\n",
       "      <th></th>\n",
       "      <th>MSN</th>\n",
       "      <th>Value</th>\n",
       "      <th>Column_Order</th>\n",
       "      <th>Description</th>\n",
       "      <th>Unit</th>\n",
       "    </tr>\n",
       "    <tr>\n",
       "      <th>YYYYMM</th>\n",
       "      <th></th>\n",
       "      <th></th>\n",
       "      <th></th>\n",
       "      <th></th>\n",
       "      <th></th>\n",
       "    </tr>\n",
       "  </thead>\n",
       "  <tbody>\n",
       "    <tr>\n",
       "      <th>2016-03-01</th>\n",
       "      <td>TXEIEUS</td>\n",
       "      <td>115.997</td>\n",
       "      <td>9</td>\n",
       "      <td>Total Energy Electric Power Sector CO2 Emissions</td>\n",
       "      <td>Million Metric Tons of Carbon Dioxide</td>\n",
       "    </tr>\n",
       "    <tr>\n",
       "      <th>2016-04-01</th>\n",
       "      <td>TXEIEUS</td>\n",
       "      <td>113.815</td>\n",
       "      <td>9</td>\n",
       "      <td>Total Energy Electric Power Sector CO2 Emissions</td>\n",
       "      <td>Million Metric Tons of Carbon Dioxide</td>\n",
       "    </tr>\n",
       "    <tr>\n",
       "      <th>2016-05-01</th>\n",
       "      <td>TXEIEUS</td>\n",
       "      <td>129.44</td>\n",
       "      <td>9</td>\n",
       "      <td>Total Energy Electric Power Sector CO2 Emissions</td>\n",
       "      <td>Million Metric Tons of Carbon Dioxide</td>\n",
       "    </tr>\n",
       "    <tr>\n",
       "      <th>2016-06-01</th>\n",
       "      <td>TXEIEUS</td>\n",
       "      <td>172.074</td>\n",
       "      <td>9</td>\n",
       "      <td>Total Energy Electric Power Sector CO2 Emissions</td>\n",
       "      <td>Million Metric Tons of Carbon Dioxide</td>\n",
       "    </tr>\n",
       "    <tr>\n",
       "      <th>2016-07-01</th>\n",
       "      <td>TXEIEUS</td>\n",
       "      <td>201.958</td>\n",
       "      <td>9</td>\n",
       "      <td>Total Energy Electric Power Sector CO2 Emissions</td>\n",
       "      <td>Million Metric Tons of Carbon Dioxide</td>\n",
       "    </tr>\n",
       "  </tbody>\n",
       "</table>\n",
       "</div>"
      ],
      "text/plain": [
       "                MSN    Value  Column_Order  \\\n",
       "YYYYMM                                       \n",
       "2016-03-01  TXEIEUS  115.997             9   \n",
       "2016-04-01  TXEIEUS  113.815             9   \n",
       "2016-05-01  TXEIEUS   129.44             9   \n",
       "2016-06-01  TXEIEUS  172.074             9   \n",
       "2016-07-01  TXEIEUS  201.958             9   \n",
       "\n",
       "                                                 Description  \\\n",
       "YYYYMM                                                         \n",
       "2016-03-01  Total Energy Electric Power Sector CO2 Emissions   \n",
       "2016-04-01  Total Energy Electric Power Sector CO2 Emissions   \n",
       "2016-05-01  Total Energy Electric Power Sector CO2 Emissions   \n",
       "2016-06-01  Total Energy Electric Power Sector CO2 Emissions   \n",
       "2016-07-01  Total Energy Electric Power Sector CO2 Emissions   \n",
       "\n",
       "                                             Unit  \n",
       "YYYYMM                                             \n",
       "2016-03-01  Million Metric Tons of Carbon Dioxide  \n",
       "2016-04-01  Million Metric Tons of Carbon Dioxide  \n",
       "2016-05-01  Million Metric Tons of Carbon Dioxide  \n",
       "2016-06-01  Million Metric Tons of Carbon Dioxide  \n",
       "2016-07-01  Million Metric Tons of Carbon Dioxide  "
      ]
     },
     "execution_count": 8,
     "metadata": {},
     "output_type": "execute_result"
    }
   ],
   "source": [
    "df.tail(5)"
   ]
  },
  {
   "cell_type": "code",
   "execution_count": 9,
   "id": "ce04eb68",
   "metadata": {},
   "outputs": [
    {
     "data": {
      "text/plain": [
       "4    566\n",
       "8    566\n",
       "1    566\n",
       "5    566\n",
       "9    566\n",
       "2    566\n",
       "6    566\n",
       "3    566\n",
       "7    566\n",
       "Name: Column_Order, dtype: int64"
      ]
     },
     "execution_count": 9,
     "metadata": {},
     "output_type": "execute_result"
    }
   ],
   "source": [
    "df.Column_Order.value_counts()"
   ]
  },
  {
   "cell_type": "code",
   "execution_count": 10,
   "id": "a71f739a",
   "metadata": {},
   "outputs": [
    {
     "data": {
      "text/plain": [
       "NWEIEUS    566\n",
       "NNEIEUS    566\n",
       "PCEIEUS    566\n",
       "RFEIEUS    566\n",
       "TXEIEUS    566\n",
       "PAEIEUS    566\n",
       "DKEIEUS    566\n",
       "CLEIEUS    566\n",
       "GEEIEUS    566\n",
       "Name: MSN, dtype: int64"
      ]
     },
     "execution_count": 10,
     "metadata": {},
     "output_type": "execute_result"
    }
   ],
   "source": [
    "df.Unit.value_counts()         # Million Metric Tons of Carbon Dioxide    5094\n",
    "df.Description.value_counts()  # 9values\n",
    "df.MSN.value_counts()          # 9value"
   ]
  },
  {
   "attachments": {},
   "cell_type": "markdown",
   "id": "aeb29b7a",
   "metadata": {},
   "source": [
    "Total sum of CO2 emission from each energy group for every year is given as an observation that can be viewed in the NaT row. So, let us first identify and drop the non datetimeindex rows and also use ts to refere the time series dataset instead of the dataframe df. First, let us convert the index to datetime, coerce errors, and filter NaT"
   ]
  },
  {
   "cell_type": "code",
   "execution_count": 12,
   "id": "9689f88d",
   "metadata": {},
   "outputs": [
    {
     "data": {
      "text/html": [
       "<div>\n",
       "<style scoped>\n",
       "    .dataframe tbody tr th:only-of-type {\n",
       "        vertical-align: middle;\n",
       "    }\n",
       "\n",
       "    .dataframe tbody tr th {\n",
       "        vertical-align: top;\n",
       "    }\n",
       "\n",
       "    .dataframe thead th {\n",
       "        text-align: right;\n",
       "    }\n",
       "</style>\n",
       "<table border=\"1\" class=\"dataframe\">\n",
       "  <thead>\n",
       "    <tr style=\"text-align: right;\">\n",
       "      <th></th>\n",
       "      <th>MSN</th>\n",
       "      <th>Value</th>\n",
       "      <th>Column_Order</th>\n",
       "      <th>Description</th>\n",
       "      <th>Unit</th>\n",
       "    </tr>\n",
       "    <tr>\n",
       "      <th>YYYYMM</th>\n",
       "      <th></th>\n",
       "      <th></th>\n",
       "      <th></th>\n",
       "      <th></th>\n",
       "      <th></th>\n",
       "    </tr>\n",
       "  </thead>\n",
       "  <tbody>\n",
       "    <tr>\n",
       "      <th>1973-01-01</th>\n",
       "      <td>CLEIEUS</td>\n",
       "      <td>72.076</td>\n",
       "      <td>1</td>\n",
       "      <td>Coal Electric Power Sector CO2 Emissions</td>\n",
       "      <td>Million Metric Tons of Carbon Dioxide</td>\n",
       "    </tr>\n",
       "    <tr>\n",
       "      <th>1973-02-01</th>\n",
       "      <td>CLEIEUS</td>\n",
       "      <td>64.442</td>\n",
       "      <td>1</td>\n",
       "      <td>Coal Electric Power Sector CO2 Emissions</td>\n",
       "      <td>Million Metric Tons of Carbon Dioxide</td>\n",
       "    </tr>\n",
       "    <tr>\n",
       "      <th>1973-03-01</th>\n",
       "      <td>CLEIEUS</td>\n",
       "      <td>64.084</td>\n",
       "      <td>1</td>\n",
       "      <td>Coal Electric Power Sector CO2 Emissions</td>\n",
       "      <td>Million Metric Tons of Carbon Dioxide</td>\n",
       "    </tr>\n",
       "    <tr>\n",
       "      <th>1973-04-01</th>\n",
       "      <td>CLEIEUS</td>\n",
       "      <td>60.842</td>\n",
       "      <td>1</td>\n",
       "      <td>Coal Electric Power Sector CO2 Emissions</td>\n",
       "      <td>Million Metric Tons of Carbon Dioxide</td>\n",
       "    </tr>\n",
       "    <tr>\n",
       "      <th>1973-05-01</th>\n",
       "      <td>CLEIEUS</td>\n",
       "      <td>61.798</td>\n",
       "      <td>1</td>\n",
       "      <td>Coal Electric Power Sector CO2 Emissions</td>\n",
       "      <td>Million Metric Tons of Carbon Dioxide</td>\n",
       "    </tr>\n",
       "  </tbody>\n",
       "</table>\n",
       "</div>"
      ],
      "text/plain": [
       "                MSN   Value  Column_Order  \\\n",
       "YYYYMM                                      \n",
       "1973-01-01  CLEIEUS  72.076             1   \n",
       "1973-02-01  CLEIEUS  64.442             1   \n",
       "1973-03-01  CLEIEUS  64.084             1   \n",
       "1973-04-01  CLEIEUS  60.842             1   \n",
       "1973-05-01  CLEIEUS  61.798             1   \n",
       "\n",
       "                                         Description  \\\n",
       "YYYYMM                                                 \n",
       "1973-01-01  Coal Electric Power Sector CO2 Emissions   \n",
       "1973-02-01  Coal Electric Power Sector CO2 Emissions   \n",
       "1973-03-01  Coal Electric Power Sector CO2 Emissions   \n",
       "1973-04-01  Coal Electric Power Sector CO2 Emissions   \n",
       "1973-05-01  Coal Electric Power Sector CO2 Emissions   \n",
       "\n",
       "                                             Unit  \n",
       "YYYYMM                                             \n",
       "1973-01-01  Million Metric Tons of Carbon Dioxide  \n",
       "1973-02-01  Million Metric Tons of Carbon Dioxide  \n",
       "1973-03-01  Million Metric Tons of Carbon Dioxide  \n",
       "1973-04-01  Million Metric Tons of Carbon Dioxide  \n",
       "1973-05-01  Million Metric Tons of Carbon Dioxide  "
      ]
     },
     "execution_count": 12,
     "metadata": {},
     "output_type": "execute_result"
    }
   ],
   "source": [
    "ts = df[pd.Series(pd.to_datetime(df.index, errors='coerce')).notnull().values]\n",
    "ts.head(5)"
   ]
  },
  {
   "cell_type": "code",
   "execution_count": 13,
   "id": "794823cb",
   "metadata": {},
   "outputs": [
    {
     "data": {
      "text/plain": [
       "MSN             object\n",
       "Value           object\n",
       "Column_Order     int64\n",
       "Description     object\n",
       "Unit            object\n",
       "dtype: object"
      ]
     },
     "execution_count": 13,
     "metadata": {},
     "output_type": "execute_result"
    }
   ],
   "source": [
    "ts.dtypes"
   ]
  },
  {
   "attachments": {},
   "cell_type": "markdown",
   "id": "b8e9a10d",
   "metadata": {},
   "source": [
    "As we can see from the ts data type, the emission value is represented as an object. Let us first convert the emision value into numeric value as follows"
   ]
  },
  {
   "cell_type": "code",
   "execution_count": 14,
   "id": "132561db",
   "metadata": {},
   "outputs": [
    {
     "data": {
      "text/html": [
       "<div>\n",
       "<style scoped>\n",
       "    .dataframe tbody tr th:only-of-type {\n",
       "        vertical-align: middle;\n",
       "    }\n",
       "\n",
       "    .dataframe tbody tr th {\n",
       "        vertical-align: top;\n",
       "    }\n",
       "\n",
       "    .dataframe thead th {\n",
       "        text-align: right;\n",
       "    }\n",
       "</style>\n",
       "<table border=\"1\" class=\"dataframe\">\n",
       "  <thead>\n",
       "    <tr style=\"text-align: right;\">\n",
       "      <th></th>\n",
       "      <th>MSN</th>\n",
       "      <th>Value</th>\n",
       "      <th>Column_Order</th>\n",
       "      <th>Description</th>\n",
       "      <th>Unit</th>\n",
       "    </tr>\n",
       "    <tr>\n",
       "      <th>YYYYMM</th>\n",
       "      <th></th>\n",
       "      <th></th>\n",
       "      <th></th>\n",
       "      <th></th>\n",
       "      <th></th>\n",
       "    </tr>\n",
       "  </thead>\n",
       "  <tbody>\n",
       "    <tr>\n",
       "      <th>1973-01-01</th>\n",
       "      <td>CLEIEUS</td>\n",
       "      <td>72.076</td>\n",
       "      <td>1</td>\n",
       "      <td>Coal Electric Power Sector CO2 Emissions</td>\n",
       "      <td>Million Metric Tons of Carbon Dioxide</td>\n",
       "    </tr>\n",
       "    <tr>\n",
       "      <th>1973-02-01</th>\n",
       "      <td>CLEIEUS</td>\n",
       "      <td>64.442</td>\n",
       "      <td>1</td>\n",
       "      <td>Coal Electric Power Sector CO2 Emissions</td>\n",
       "      <td>Million Metric Tons of Carbon Dioxide</td>\n",
       "    </tr>\n",
       "    <tr>\n",
       "      <th>1973-03-01</th>\n",
       "      <td>CLEIEUS</td>\n",
       "      <td>64.084</td>\n",
       "      <td>1</td>\n",
       "      <td>Coal Electric Power Sector CO2 Emissions</td>\n",
       "      <td>Million Metric Tons of Carbon Dioxide</td>\n",
       "    </tr>\n",
       "    <tr>\n",
       "      <th>1973-04-01</th>\n",
       "      <td>CLEIEUS</td>\n",
       "      <td>60.842</td>\n",
       "      <td>1</td>\n",
       "      <td>Coal Electric Power Sector CO2 Emissions</td>\n",
       "      <td>Million Metric Tons of Carbon Dioxide</td>\n",
       "    </tr>\n",
       "    <tr>\n",
       "      <th>1973-05-01</th>\n",
       "      <td>CLEIEUS</td>\n",
       "      <td>61.798</td>\n",
       "      <td>1</td>\n",
       "      <td>Coal Electric Power Sector CO2 Emissions</td>\n",
       "      <td>Million Metric Tons of Carbon Dioxide</td>\n",
       "    </tr>\n",
       "  </tbody>\n",
       "</table>\n",
       "</div>"
      ],
      "text/plain": [
       "                MSN   Value  Column_Order  \\\n",
       "YYYYMM                                      \n",
       "1973-01-01  CLEIEUS  72.076             1   \n",
       "1973-02-01  CLEIEUS  64.442             1   \n",
       "1973-03-01  CLEIEUS  64.084             1   \n",
       "1973-04-01  CLEIEUS  60.842             1   \n",
       "1973-05-01  CLEIEUS  61.798             1   \n",
       "\n",
       "                                         Description  \\\n",
       "YYYYMM                                                 \n",
       "1973-01-01  Coal Electric Power Sector CO2 Emissions   \n",
       "1973-02-01  Coal Electric Power Sector CO2 Emissions   \n",
       "1973-03-01  Coal Electric Power Sector CO2 Emissions   \n",
       "1973-04-01  Coal Electric Power Sector CO2 Emissions   \n",
       "1973-05-01  Coal Electric Power Sector CO2 Emissions   \n",
       "\n",
       "                                             Unit  \n",
       "YYYYMM                                             \n",
       "1973-01-01  Million Metric Tons of Carbon Dioxide  \n",
       "1973-02-01  Million Metric Tons of Carbon Dioxide  \n",
       "1973-03-01  Million Metric Tons of Carbon Dioxide  \n",
       "1973-04-01  Million Metric Tons of Carbon Dioxide  \n",
       "1973-05-01  Million Metric Tons of Carbon Dioxide  "
      ]
     },
     "execution_count": 14,
     "metadata": {},
     "output_type": "execute_result"
    }
   ],
   "source": [
    "#ss = ts.copy(deep=True)\n",
    "ts['Value'] = pd.to_numeric(ts['Value'] , errors='coerce')\n",
    "ts.head()"
   ]
  },
  {
   "cell_type": "code",
   "execution_count": 15,
   "id": "7e08426e",
   "metadata": {},
   "outputs": [
    {
     "name": "stdout",
     "output_type": "stream",
     "text": [
      "<class 'pandas.core.frame.DataFrame'>\n",
      "DatetimeIndex: 4707 entries, 1973-01-01 to 2016-07-01\n",
      "Data columns (total 5 columns):\n",
      " #   Column        Non-Null Count  Dtype  \n",
      "---  ------        --------------  -----  \n",
      " 0   MSN           4707 non-null   object \n",
      " 1   Value         4323 non-null   float64\n",
      " 2   Column_Order  4707 non-null   int64  \n",
      " 3   Description   4707 non-null   object \n",
      " 4   Unit          4707 non-null   object \n",
      "dtypes: float64(1), int64(1), object(3)\n",
      "memory usage: 220.6+ KB\n"
     ]
    }
   ],
   "source": [
    "ts.info()"
   ]
  },
  {
   "attachments": {},
   "cell_type": "markdown",
   "id": "a02f053f",
   "metadata": {},
   "source": [
    "**```4323 observations```** have emissions value and therefore, we need to drop the empty rows emissions value."
   ]
  },
  {
   "cell_type": "code",
   "execution_count": 16,
   "id": "a87354e1",
   "metadata": {},
   "outputs": [],
   "source": [
    "ts.dropna(inplace = True)"
   ]
  },
  {
   "attachments": {},
   "cell_type": "markdown",
   "id": "ea8554b8",
   "metadata": {},
   "source": [
    "##### 4.2 Time series dataset visualization"
   ]
  },
  {
   "cell_type": "markdown",
   "id": "95e61274",
   "metadata": {},
   "source": [
    "The dataset has 8 energy sources of CO2 emission. In the following cell, we will group the CO2 Emission dataset based on the type of energy source."
   ]
  },
  {
   "cell_type": "code",
   "execution_count": 18,
   "id": "4e701b2b",
   "metadata": {},
   "outputs": [
    {
     "data": {
      "text/html": [
       "<div>\n",
       "<style scoped>\n",
       "    .dataframe tbody tr th:only-of-type {\n",
       "        vertical-align: middle;\n",
       "    }\n",
       "\n",
       "    .dataframe tbody tr th {\n",
       "        vertical-align: top;\n",
       "    }\n",
       "\n",
       "    .dataframe thead th {\n",
       "        text-align: right;\n",
       "    }\n",
       "</style>\n",
       "<table border=\"1\" class=\"dataframe\">\n",
       "  <thead>\n",
       "    <tr style=\"text-align: right;\">\n",
       "      <th></th>\n",
       "      <th>MSN</th>\n",
       "      <th>Value</th>\n",
       "      <th>Column_Order</th>\n",
       "      <th>Description</th>\n",
       "      <th>Unit</th>\n",
       "    </tr>\n",
       "    <tr>\n",
       "      <th>YYYYMM</th>\n",
       "      <th></th>\n",
       "      <th></th>\n",
       "      <th></th>\n",
       "      <th></th>\n",
       "      <th></th>\n",
       "    </tr>\n",
       "  </thead>\n",
       "  <tbody>\n",
       "    <tr>\n",
       "      <th>1973-01-01</th>\n",
       "      <td>CLEIEUS</td>\n",
       "      <td>72.076</td>\n",
       "      <td>1</td>\n",
       "      <td>Coal Electric Power Sector CO2 Emissions</td>\n",
       "      <td>Million Metric Tons of Carbon Dioxide</td>\n",
       "    </tr>\n",
       "    <tr>\n",
       "      <th>1973-02-01</th>\n",
       "      <td>CLEIEUS</td>\n",
       "      <td>64.442</td>\n",
       "      <td>1</td>\n",
       "      <td>Coal Electric Power Sector CO2 Emissions</td>\n",
       "      <td>Million Metric Tons of Carbon Dioxide</td>\n",
       "    </tr>\n",
       "    <tr>\n",
       "      <th>1973-03-01</th>\n",
       "      <td>CLEIEUS</td>\n",
       "      <td>64.084</td>\n",
       "      <td>1</td>\n",
       "      <td>Coal Electric Power Sector CO2 Emissions</td>\n",
       "      <td>Million Metric Tons of Carbon Dioxide</td>\n",
       "    </tr>\n",
       "    <tr>\n",
       "      <th>1973-04-01</th>\n",
       "      <td>CLEIEUS</td>\n",
       "      <td>60.842</td>\n",
       "      <td>1</td>\n",
       "      <td>Coal Electric Power Sector CO2 Emissions</td>\n",
       "      <td>Million Metric Tons of Carbon Dioxide</td>\n",
       "    </tr>\n",
       "    <tr>\n",
       "      <th>1973-05-01</th>\n",
       "      <td>CLEIEUS</td>\n",
       "      <td>61.798</td>\n",
       "      <td>1</td>\n",
       "      <td>Coal Electric Power Sector CO2 Emissions</td>\n",
       "      <td>Million Metric Tons of Carbon Dioxide</td>\n",
       "    </tr>\n",
       "    <tr>\n",
       "      <th>1973-01-01</th>\n",
       "      <td>NNEIEUS</td>\n",
       "      <td>12.175</td>\n",
       "      <td>2</td>\n",
       "      <td>Natural Gas Electric Power Sector CO2 Emissions</td>\n",
       "      <td>Million Metric Tons of Carbon Dioxide</td>\n",
       "    </tr>\n",
       "    <tr>\n",
       "      <th>1973-02-01</th>\n",
       "      <td>NNEIEUS</td>\n",
       "      <td>11.708</td>\n",
       "      <td>2</td>\n",
       "      <td>Natural Gas Electric Power Sector CO2 Emissions</td>\n",
       "      <td>Million Metric Tons of Carbon Dioxide</td>\n",
       "    </tr>\n",
       "    <tr>\n",
       "      <th>1973-03-01</th>\n",
       "      <td>NNEIEUS</td>\n",
       "      <td>13.994</td>\n",
       "      <td>2</td>\n",
       "      <td>Natural Gas Electric Power Sector CO2 Emissions</td>\n",
       "      <td>Million Metric Tons of Carbon Dioxide</td>\n",
       "    </tr>\n",
       "    <tr>\n",
       "      <th>1973-04-01</th>\n",
       "      <td>NNEIEUS</td>\n",
       "      <td>14.627</td>\n",
       "      <td>2</td>\n",
       "      <td>Natural Gas Electric Power Sector CO2 Emissions</td>\n",
       "      <td>Million Metric Tons of Carbon Dioxide</td>\n",
       "    </tr>\n",
       "    <tr>\n",
       "      <th>1973-05-01</th>\n",
       "      <td>NNEIEUS</td>\n",
       "      <td>17.344</td>\n",
       "      <td>2</td>\n",
       "      <td>Natural Gas Electric Power Sector CO2 Emissions</td>\n",
       "      <td>Million Metric Tons of Carbon Dioxide</td>\n",
       "    </tr>\n",
       "    <tr>\n",
       "      <th>1973-01-01</th>\n",
       "      <td>DKEIEUS</td>\n",
       "      <td>2.375</td>\n",
       "      <td>3</td>\n",
       "      <td>Distillate Fuel, Including Kerosene-Type Jet F...</td>\n",
       "      <td>Million Metric Tons of Carbon Dioxide</td>\n",
       "    </tr>\n",
       "    <tr>\n",
       "      <th>1973-02-01</th>\n",
       "      <td>DKEIEUS</td>\n",
       "      <td>2.061</td>\n",
       "      <td>3</td>\n",
       "      <td>Distillate Fuel, Including Kerosene-Type Jet F...</td>\n",
       "      <td>Million Metric Tons of Carbon Dioxide</td>\n",
       "    </tr>\n",
       "    <tr>\n",
       "      <th>1973-03-01</th>\n",
       "      <td>DKEIEUS</td>\n",
       "      <td>1.171</td>\n",
       "      <td>3</td>\n",
       "      <td>Distillate Fuel, Including Kerosene-Type Jet F...</td>\n",
       "      <td>Million Metric Tons of Carbon Dioxide</td>\n",
       "    </tr>\n",
       "    <tr>\n",
       "      <th>1973-04-01</th>\n",
       "      <td>DKEIEUS</td>\n",
       "      <td>1.022</td>\n",
       "      <td>3</td>\n",
       "      <td>Distillate Fuel, Including Kerosene-Type Jet F...</td>\n",
       "      <td>Million Metric Tons of Carbon Dioxide</td>\n",
       "    </tr>\n",
       "    <tr>\n",
       "      <th>1973-05-01</th>\n",
       "      <td>DKEIEUS</td>\n",
       "      <td>0.949</td>\n",
       "      <td>3</td>\n",
       "      <td>Distillate Fuel, Including Kerosene-Type Jet F...</td>\n",
       "      <td>Million Metric Tons of Carbon Dioxide</td>\n",
       "    </tr>\n",
       "    <tr>\n",
       "      <th>1973-01-01</th>\n",
       "      <td>PCEIEUS</td>\n",
       "      <td>0.128</td>\n",
       "      <td>4</td>\n",
       "      <td>Petroleum Coke Electric Power Sector CO2 Emiss...</td>\n",
       "      <td>Million Metric Tons of Carbon Dioxide</td>\n",
       "    </tr>\n",
       "    <tr>\n",
       "      <th>1973-02-01</th>\n",
       "      <td>PCEIEUS</td>\n",
       "      <td>0.106</td>\n",
       "      <td>4</td>\n",
       "      <td>Petroleum Coke Electric Power Sector CO2 Emiss...</td>\n",
       "      <td>Million Metric Tons of Carbon Dioxide</td>\n",
       "    </tr>\n",
       "    <tr>\n",
       "      <th>1973-03-01</th>\n",
       "      <td>PCEIEUS</td>\n",
       "      <td>0.083</td>\n",
       "      <td>4</td>\n",
       "      <td>Petroleum Coke Electric Power Sector CO2 Emiss...</td>\n",
       "      <td>Million Metric Tons of Carbon Dioxide</td>\n",
       "    </tr>\n",
       "    <tr>\n",
       "      <th>1973-04-01</th>\n",
       "      <td>PCEIEUS</td>\n",
       "      <td>0.130</td>\n",
       "      <td>4</td>\n",
       "      <td>Petroleum Coke Electric Power Sector CO2 Emiss...</td>\n",
       "      <td>Million Metric Tons of Carbon Dioxide</td>\n",
       "    </tr>\n",
       "    <tr>\n",
       "      <th>1973-05-01</th>\n",
       "      <td>PCEIEUS</td>\n",
       "      <td>0.167</td>\n",
       "      <td>4</td>\n",
       "      <td>Petroleum Coke Electric Power Sector CO2 Emiss...</td>\n",
       "      <td>Million Metric Tons of Carbon Dioxide</td>\n",
       "    </tr>\n",
       "    <tr>\n",
       "      <th>1973-01-01</th>\n",
       "      <td>RFEIEUS</td>\n",
       "      <td>24.867</td>\n",
       "      <td>5</td>\n",
       "      <td>Residual Fuel Oil Electric Power Sector CO2 Em...</td>\n",
       "      <td>Million Metric Tons of Carbon Dioxide</td>\n",
       "    </tr>\n",
       "    <tr>\n",
       "      <th>1973-02-01</th>\n",
       "      <td>RFEIEUS</td>\n",
       "      <td>20.867</td>\n",
       "      <td>5</td>\n",
       "      <td>Residual Fuel Oil Electric Power Sector CO2 Em...</td>\n",
       "      <td>Million Metric Tons of Carbon Dioxide</td>\n",
       "    </tr>\n",
       "    <tr>\n",
       "      <th>1973-03-01</th>\n",
       "      <td>RFEIEUS</td>\n",
       "      <td>19.780</td>\n",
       "      <td>5</td>\n",
       "      <td>Residual Fuel Oil Electric Power Sector CO2 Em...</td>\n",
       "      <td>Million Metric Tons of Carbon Dioxide</td>\n",
       "    </tr>\n",
       "    <tr>\n",
       "      <th>1973-04-01</th>\n",
       "      <td>RFEIEUS</td>\n",
       "      <td>16.562</td>\n",
       "      <td>5</td>\n",
       "      <td>Residual Fuel Oil Electric Power Sector CO2 Em...</td>\n",
       "      <td>Million Metric Tons of Carbon Dioxide</td>\n",
       "    </tr>\n",
       "    <tr>\n",
       "      <th>1973-05-01</th>\n",
       "      <td>RFEIEUS</td>\n",
       "      <td>17.754</td>\n",
       "      <td>5</td>\n",
       "      <td>Residual Fuel Oil Electric Power Sector CO2 Em...</td>\n",
       "      <td>Million Metric Tons of Carbon Dioxide</td>\n",
       "    </tr>\n",
       "    <tr>\n",
       "      <th>1973-01-01</th>\n",
       "      <td>PAEIEUS</td>\n",
       "      <td>27.369</td>\n",
       "      <td>6</td>\n",
       "      <td>Petroleum Electric Power Sector CO2 Emissions</td>\n",
       "      <td>Million Metric Tons of Carbon Dioxide</td>\n",
       "    </tr>\n",
       "    <tr>\n",
       "      <th>1973-02-01</th>\n",
       "      <td>PAEIEUS</td>\n",
       "      <td>23.034</td>\n",
       "      <td>6</td>\n",
       "      <td>Petroleum Electric Power Sector CO2 Emissions</td>\n",
       "      <td>Million Metric Tons of Carbon Dioxide</td>\n",
       "    </tr>\n",
       "    <tr>\n",
       "      <th>1973-03-01</th>\n",
       "      <td>PAEIEUS</td>\n",
       "      <td>21.034</td>\n",
       "      <td>6</td>\n",
       "      <td>Petroleum Electric Power Sector CO2 Emissions</td>\n",
       "      <td>Million Metric Tons of Carbon Dioxide</td>\n",
       "    </tr>\n",
       "    <tr>\n",
       "      <th>1973-04-01</th>\n",
       "      <td>PAEIEUS</td>\n",
       "      <td>17.714</td>\n",
       "      <td>6</td>\n",
       "      <td>Petroleum Electric Power Sector CO2 Emissions</td>\n",
       "      <td>Million Metric Tons of Carbon Dioxide</td>\n",
       "    </tr>\n",
       "    <tr>\n",
       "      <th>1973-05-01</th>\n",
       "      <td>PAEIEUS</td>\n",
       "      <td>18.870</td>\n",
       "      <td>6</td>\n",
       "      <td>Petroleum Electric Power Sector CO2 Emissions</td>\n",
       "      <td>Million Metric Tons of Carbon Dioxide</td>\n",
       "    </tr>\n",
       "    <tr>\n",
       "      <th>1989-01-01</th>\n",
       "      <td>GEEIEUS</td>\n",
       "      <td>0.031</td>\n",
       "      <td>7</td>\n",
       "      <td>Geothermal Energy Electric Power Sector CO2 Em...</td>\n",
       "      <td>Million Metric Tons of Carbon Dioxide</td>\n",
       "    </tr>\n",
       "    <tr>\n",
       "      <th>1989-02-01</th>\n",
       "      <td>GEEIEUS</td>\n",
       "      <td>0.028</td>\n",
       "      <td>7</td>\n",
       "      <td>Geothermal Energy Electric Power Sector CO2 Em...</td>\n",
       "      <td>Million Metric Tons of Carbon Dioxide</td>\n",
       "    </tr>\n",
       "    <tr>\n",
       "      <th>1989-03-01</th>\n",
       "      <td>GEEIEUS</td>\n",
       "      <td>0.031</td>\n",
       "      <td>7</td>\n",
       "      <td>Geothermal Energy Electric Power Sector CO2 Em...</td>\n",
       "      <td>Million Metric Tons of Carbon Dioxide</td>\n",
       "    </tr>\n",
       "    <tr>\n",
       "      <th>1989-04-01</th>\n",
       "      <td>GEEIEUS</td>\n",
       "      <td>0.030</td>\n",
       "      <td>7</td>\n",
       "      <td>Geothermal Energy Electric Power Sector CO2 Em...</td>\n",
       "      <td>Million Metric Tons of Carbon Dioxide</td>\n",
       "    </tr>\n",
       "    <tr>\n",
       "      <th>1989-05-01</th>\n",
       "      <td>GEEIEUS</td>\n",
       "      <td>0.031</td>\n",
       "      <td>7</td>\n",
       "      <td>Geothermal Energy Electric Power Sector CO2 Em...</td>\n",
       "      <td>Million Metric Tons of Carbon Dioxide</td>\n",
       "    </tr>\n",
       "    <tr>\n",
       "      <th>1989-01-01</th>\n",
       "      <td>NWEIEUS</td>\n",
       "      <td>0.371</td>\n",
       "      <td>8</td>\n",
       "      <td>Non-Biomass Waste Electric Power Sector CO2 Em...</td>\n",
       "      <td>Million Metric Tons of Carbon Dioxide</td>\n",
       "    </tr>\n",
       "    <tr>\n",
       "      <th>1989-02-01</th>\n",
       "      <td>NWEIEUS</td>\n",
       "      <td>0.335</td>\n",
       "      <td>8</td>\n",
       "      <td>Non-Biomass Waste Electric Power Sector CO2 Em...</td>\n",
       "      <td>Million Metric Tons of Carbon Dioxide</td>\n",
       "    </tr>\n",
       "    <tr>\n",
       "      <th>1989-03-01</th>\n",
       "      <td>NWEIEUS</td>\n",
       "      <td>0.371</td>\n",
       "      <td>8</td>\n",
       "      <td>Non-Biomass Waste Electric Power Sector CO2 Em...</td>\n",
       "      <td>Million Metric Tons of Carbon Dioxide</td>\n",
       "    </tr>\n",
       "    <tr>\n",
       "      <th>1989-04-01</th>\n",
       "      <td>NWEIEUS</td>\n",
       "      <td>0.359</td>\n",
       "      <td>8</td>\n",
       "      <td>Non-Biomass Waste Electric Power Sector CO2 Em...</td>\n",
       "      <td>Million Metric Tons of Carbon Dioxide</td>\n",
       "    </tr>\n",
       "    <tr>\n",
       "      <th>1989-05-01</th>\n",
       "      <td>NWEIEUS</td>\n",
       "      <td>0.371</td>\n",
       "      <td>8</td>\n",
       "      <td>Non-Biomass Waste Electric Power Sector CO2 Em...</td>\n",
       "      <td>Million Metric Tons of Carbon Dioxide</td>\n",
       "    </tr>\n",
       "    <tr>\n",
       "      <th>1973-01-01</th>\n",
       "      <td>TXEIEUS</td>\n",
       "      <td>111.621</td>\n",
       "      <td>9</td>\n",
       "      <td>Total Energy Electric Power Sector CO2 Emissions</td>\n",
       "      <td>Million Metric Tons of Carbon Dioxide</td>\n",
       "    </tr>\n",
       "    <tr>\n",
       "      <th>1973-02-01</th>\n",
       "      <td>TXEIEUS</td>\n",
       "      <td>99.185</td>\n",
       "      <td>9</td>\n",
       "      <td>Total Energy Electric Power Sector CO2 Emissions</td>\n",
       "      <td>Million Metric Tons of Carbon Dioxide</td>\n",
       "    </tr>\n",
       "    <tr>\n",
       "      <th>1973-03-01</th>\n",
       "      <td>TXEIEUS</td>\n",
       "      <td>99.112</td>\n",
       "      <td>9</td>\n",
       "      <td>Total Energy Electric Power Sector CO2 Emissions</td>\n",
       "      <td>Million Metric Tons of Carbon Dioxide</td>\n",
       "    </tr>\n",
       "    <tr>\n",
       "      <th>1973-04-01</th>\n",
       "      <td>TXEIEUS</td>\n",
       "      <td>93.183</td>\n",
       "      <td>9</td>\n",
       "      <td>Total Energy Electric Power Sector CO2 Emissions</td>\n",
       "      <td>Million Metric Tons of Carbon Dioxide</td>\n",
       "    </tr>\n",
       "    <tr>\n",
       "      <th>1973-05-01</th>\n",
       "      <td>TXEIEUS</td>\n",
       "      <td>98.012</td>\n",
       "      <td>9</td>\n",
       "      <td>Total Energy Electric Power Sector CO2 Emissions</td>\n",
       "      <td>Million Metric Tons of Carbon Dioxide</td>\n",
       "    </tr>\n",
       "  </tbody>\n",
       "</table>\n",
       "</div>"
      ],
      "text/plain": [
       "                MSN    Value  Column_Order  \\\n",
       "YYYYMM                                       \n",
       "1973-01-01  CLEIEUS   72.076             1   \n",
       "1973-02-01  CLEIEUS   64.442             1   \n",
       "1973-03-01  CLEIEUS   64.084             1   \n",
       "1973-04-01  CLEIEUS   60.842             1   \n",
       "1973-05-01  CLEIEUS   61.798             1   \n",
       "1973-01-01  NNEIEUS   12.175             2   \n",
       "1973-02-01  NNEIEUS   11.708             2   \n",
       "1973-03-01  NNEIEUS   13.994             2   \n",
       "1973-04-01  NNEIEUS   14.627             2   \n",
       "1973-05-01  NNEIEUS   17.344             2   \n",
       "1973-01-01  DKEIEUS    2.375             3   \n",
       "1973-02-01  DKEIEUS    2.061             3   \n",
       "1973-03-01  DKEIEUS    1.171             3   \n",
       "1973-04-01  DKEIEUS    1.022             3   \n",
       "1973-05-01  DKEIEUS    0.949             3   \n",
       "1973-01-01  PCEIEUS    0.128             4   \n",
       "1973-02-01  PCEIEUS    0.106             4   \n",
       "1973-03-01  PCEIEUS    0.083             4   \n",
       "1973-04-01  PCEIEUS    0.130             4   \n",
       "1973-05-01  PCEIEUS    0.167             4   \n",
       "1973-01-01  RFEIEUS   24.867             5   \n",
       "1973-02-01  RFEIEUS   20.867             5   \n",
       "1973-03-01  RFEIEUS   19.780             5   \n",
       "1973-04-01  RFEIEUS   16.562             5   \n",
       "1973-05-01  RFEIEUS   17.754             5   \n",
       "1973-01-01  PAEIEUS   27.369             6   \n",
       "1973-02-01  PAEIEUS   23.034             6   \n",
       "1973-03-01  PAEIEUS   21.034             6   \n",
       "1973-04-01  PAEIEUS   17.714             6   \n",
       "1973-05-01  PAEIEUS   18.870             6   \n",
       "1989-01-01  GEEIEUS    0.031             7   \n",
       "1989-02-01  GEEIEUS    0.028             7   \n",
       "1989-03-01  GEEIEUS    0.031             7   \n",
       "1989-04-01  GEEIEUS    0.030             7   \n",
       "1989-05-01  GEEIEUS    0.031             7   \n",
       "1989-01-01  NWEIEUS    0.371             8   \n",
       "1989-02-01  NWEIEUS    0.335             8   \n",
       "1989-03-01  NWEIEUS    0.371             8   \n",
       "1989-04-01  NWEIEUS    0.359             8   \n",
       "1989-05-01  NWEIEUS    0.371             8   \n",
       "1973-01-01  TXEIEUS  111.621             9   \n",
       "1973-02-01  TXEIEUS   99.185             9   \n",
       "1973-03-01  TXEIEUS   99.112             9   \n",
       "1973-04-01  TXEIEUS   93.183             9   \n",
       "1973-05-01  TXEIEUS   98.012             9   \n",
       "\n",
       "                                                  Description  \\\n",
       "YYYYMM                                                          \n",
       "1973-01-01           Coal Electric Power Sector CO2 Emissions   \n",
       "1973-02-01           Coal Electric Power Sector CO2 Emissions   \n",
       "1973-03-01           Coal Electric Power Sector CO2 Emissions   \n",
       "1973-04-01           Coal Electric Power Sector CO2 Emissions   \n",
       "1973-05-01           Coal Electric Power Sector CO2 Emissions   \n",
       "1973-01-01    Natural Gas Electric Power Sector CO2 Emissions   \n",
       "1973-02-01    Natural Gas Electric Power Sector CO2 Emissions   \n",
       "1973-03-01    Natural Gas Electric Power Sector CO2 Emissions   \n",
       "1973-04-01    Natural Gas Electric Power Sector CO2 Emissions   \n",
       "1973-05-01    Natural Gas Electric Power Sector CO2 Emissions   \n",
       "1973-01-01  Distillate Fuel, Including Kerosene-Type Jet F...   \n",
       "1973-02-01  Distillate Fuel, Including Kerosene-Type Jet F...   \n",
       "1973-03-01  Distillate Fuel, Including Kerosene-Type Jet F...   \n",
       "1973-04-01  Distillate Fuel, Including Kerosene-Type Jet F...   \n",
       "1973-05-01  Distillate Fuel, Including Kerosene-Type Jet F...   \n",
       "1973-01-01  Petroleum Coke Electric Power Sector CO2 Emiss...   \n",
       "1973-02-01  Petroleum Coke Electric Power Sector CO2 Emiss...   \n",
       "1973-03-01  Petroleum Coke Electric Power Sector CO2 Emiss...   \n",
       "1973-04-01  Petroleum Coke Electric Power Sector CO2 Emiss...   \n",
       "1973-05-01  Petroleum Coke Electric Power Sector CO2 Emiss...   \n",
       "1973-01-01  Residual Fuel Oil Electric Power Sector CO2 Em...   \n",
       "1973-02-01  Residual Fuel Oil Electric Power Sector CO2 Em...   \n",
       "1973-03-01  Residual Fuel Oil Electric Power Sector CO2 Em...   \n",
       "1973-04-01  Residual Fuel Oil Electric Power Sector CO2 Em...   \n",
       "1973-05-01  Residual Fuel Oil Electric Power Sector CO2 Em...   \n",
       "1973-01-01      Petroleum Electric Power Sector CO2 Emissions   \n",
       "1973-02-01      Petroleum Electric Power Sector CO2 Emissions   \n",
       "1973-03-01      Petroleum Electric Power Sector CO2 Emissions   \n",
       "1973-04-01      Petroleum Electric Power Sector CO2 Emissions   \n",
       "1973-05-01      Petroleum Electric Power Sector CO2 Emissions   \n",
       "1989-01-01  Geothermal Energy Electric Power Sector CO2 Em...   \n",
       "1989-02-01  Geothermal Energy Electric Power Sector CO2 Em...   \n",
       "1989-03-01  Geothermal Energy Electric Power Sector CO2 Em...   \n",
       "1989-04-01  Geothermal Energy Electric Power Sector CO2 Em...   \n",
       "1989-05-01  Geothermal Energy Electric Power Sector CO2 Em...   \n",
       "1989-01-01  Non-Biomass Waste Electric Power Sector CO2 Em...   \n",
       "1989-02-01  Non-Biomass Waste Electric Power Sector CO2 Em...   \n",
       "1989-03-01  Non-Biomass Waste Electric Power Sector CO2 Em...   \n",
       "1989-04-01  Non-Biomass Waste Electric Power Sector CO2 Em...   \n",
       "1989-05-01  Non-Biomass Waste Electric Power Sector CO2 Em...   \n",
       "1973-01-01   Total Energy Electric Power Sector CO2 Emissions   \n",
       "1973-02-01   Total Energy Electric Power Sector CO2 Emissions   \n",
       "1973-03-01   Total Energy Electric Power Sector CO2 Emissions   \n",
       "1973-04-01   Total Energy Electric Power Sector CO2 Emissions   \n",
       "1973-05-01   Total Energy Electric Power Sector CO2 Emissions   \n",
       "\n",
       "                                             Unit  \n",
       "YYYYMM                                             \n",
       "1973-01-01  Million Metric Tons of Carbon Dioxide  \n",
       "1973-02-01  Million Metric Tons of Carbon Dioxide  \n",
       "1973-03-01  Million Metric Tons of Carbon Dioxide  \n",
       "1973-04-01  Million Metric Tons of Carbon Dioxide  \n",
       "1973-05-01  Million Metric Tons of Carbon Dioxide  \n",
       "1973-01-01  Million Metric Tons of Carbon Dioxide  \n",
       "1973-02-01  Million Metric Tons of Carbon Dioxide  \n",
       "1973-03-01  Million Metric Tons of Carbon Dioxide  \n",
       "1973-04-01  Million Metric Tons of Carbon Dioxide  \n",
       "1973-05-01  Million Metric Tons of Carbon Dioxide  \n",
       "1973-01-01  Million Metric Tons of Carbon Dioxide  \n",
       "1973-02-01  Million Metric Tons of Carbon Dioxide  \n",
       "1973-03-01  Million Metric Tons of Carbon Dioxide  \n",
       "1973-04-01  Million Metric Tons of Carbon Dioxide  \n",
       "1973-05-01  Million Metric Tons of Carbon Dioxide  \n",
       "1973-01-01  Million Metric Tons of Carbon Dioxide  \n",
       "1973-02-01  Million Metric Tons of Carbon Dioxide  \n",
       "1973-03-01  Million Metric Tons of Carbon Dioxide  \n",
       "1973-04-01  Million Metric Tons of Carbon Dioxide  \n",
       "1973-05-01  Million Metric Tons of Carbon Dioxide  \n",
       "1973-01-01  Million Metric Tons of Carbon Dioxide  \n",
       "1973-02-01  Million Metric Tons of Carbon Dioxide  \n",
       "1973-03-01  Million Metric Tons of Carbon Dioxide  \n",
       "1973-04-01  Million Metric Tons of Carbon Dioxide  \n",
       "1973-05-01  Million Metric Tons of Carbon Dioxide  \n",
       "1973-01-01  Million Metric Tons of Carbon Dioxide  \n",
       "1973-02-01  Million Metric Tons of Carbon Dioxide  \n",
       "1973-03-01  Million Metric Tons of Carbon Dioxide  \n",
       "1973-04-01  Million Metric Tons of Carbon Dioxide  \n",
       "1973-05-01  Million Metric Tons of Carbon Dioxide  \n",
       "1989-01-01  Million Metric Tons of Carbon Dioxide  \n",
       "1989-02-01  Million Metric Tons of Carbon Dioxide  \n",
       "1989-03-01  Million Metric Tons of Carbon Dioxide  \n",
       "1989-04-01  Million Metric Tons of Carbon Dioxide  \n",
       "1989-05-01  Million Metric Tons of Carbon Dioxide  \n",
       "1989-01-01  Million Metric Tons of Carbon Dioxide  \n",
       "1989-02-01  Million Metric Tons of Carbon Dioxide  \n",
       "1989-03-01  Million Metric Tons of Carbon Dioxide  \n",
       "1989-04-01  Million Metric Tons of Carbon Dioxide  \n",
       "1989-05-01  Million Metric Tons of Carbon Dioxide  \n",
       "1973-01-01  Million Metric Tons of Carbon Dioxide  \n",
       "1973-02-01  Million Metric Tons of Carbon Dioxide  \n",
       "1973-03-01  Million Metric Tons of Carbon Dioxide  \n",
       "1973-04-01  Million Metric Tons of Carbon Dioxide  \n",
       "1973-05-01  Million Metric Tons of Carbon Dioxide  "
      ]
     },
     "execution_count": 18,
     "metadata": {},
     "output_type": "execute_result"
    }
   ],
   "source": [
    "#group by products same products changing date(month)\n",
    "Energy_sources = ts.groupby('Description')\n",
    "Energy_sources.head()"
   ]
  },
  {
   "attachments": {},
   "cell_type": "markdown",
   "id": "5c6cdee3",
   "metadata": {},
   "source": [
    "The CO2 emission time series dataset is ploted to visualize the dependency of the emission in the power generation with time."
   ]
  },
  {
   "cell_type": "code",
   "execution_count": null,
   "id": "427b86ee",
   "metadata": {},
   "outputs": [],
   "source": [
    "fig, ax = plt.subplots()\n",
    "for desc, group in Energy_sources:\n",
    "    group.plot(x = group.index, y='Value', label=desc,ax = ax, title='Carbon Emissions per Energy Source', fontsize = 20)\n",
    "    ax.set_xlabel('Time(Monthly)')\n",
    "    ax.set_ylabel('Carbon Emissions in MMT')\n",
    "    ax.xaxis.label.set_size(20)\n",
    "    ax.yaxis.label.set_size(20)\n",
    "    ax.legend(fontsize = 11)"
   ]
  },
  {
   "attachments": {},
   "cell_type": "markdown",
   "id": "a4afa81c",
   "metadata": {},
   "source": [
    "Individually, we can visualize the trend and seasonality effect on CO2 emission from each energy source. For example, the CO2 emission from coal shows a trend of increment from 1973 to 2006 and then declines till 2016."
   ]
  },
  {
   "cell_type": "code",
   "execution_count": null,
   "id": "6ddd61dd",
   "metadata": {},
   "outputs": [],
   "source": [
    "fig, axes = plt.subplots(3,3, figsize = (30, 20))\n",
    "for (desc, group), ax in zip(Energy_sources, axes.flatten()):\n",
    "    group.plot(x = group.index, y='Value',ax = ax, title=desc, fontsize = 18)\n",
    "    ax.set_xlabel('Time(Monthly)')\n",
    "    ax.set_ylabel('Carbon Emissions in MMT')\n",
    "    ax.xaxis.label.set_size(18)\n",
    "    ax.yaxis.label.set_size(18)"
   ]
  },
  {
   "attachments": {},
   "cell_type": "markdown",
   "id": "5b48b683",
   "metadata": {},
   "source": [
    "In recent years, the natural gas consumption has been increasing. However, the use of coal for power generation has been declining. The plots of CO2 emissions from coal and natural gas show this trend, while declining the CO2 contribution from coal, there is an increment in the contribution of CO2 emission from natural gas."
   ]
  },
  {
   "attachments": {},
   "cell_type": "markdown",
   "id": "105ba13a",
   "metadata": {},
   "source": [
    "##### 4.3 Bar chart of CO2 Emissions per energy source"
   ]
  },
  {
   "cell_type": "code",
   "execution_count": 23,
   "id": "1e49a61e",
   "metadata": {},
   "outputs": [],
   "source": [
    "CO2_per_source = ts.groupby('Description')['Value'].sum().sort_values()"
   ]
  },
  {
   "cell_type": "code",
   "execution_count": 24,
   "id": "7b3ac5e9",
   "metadata": {},
   "outputs": [
    {
     "data": {
      "text/plain": [
       "Index(['Geothermal Energy Electric Power Sector CO2 Emissions',\n",
       "       'Non-Biomass Waste Electric Power Sector CO2 Emissions',\n",
       "       'Petroleum Coke Electric Power Sector CO2 Emissions',\n",
       "       'Distillate Fuel, Including Kerosene-Type Jet Fuel, Oil Electric Power Sector CO2 Emissions',\n",
       "       'Residual Fuel Oil Electric Power Sector CO2 Emissions',\n",
       "       'Petroleum Electric Power Sector CO2 Emissions',\n",
       "       'Natural Gas Electric Power Sector CO2 Emissions',\n",
       "       'Coal Electric Power Sector CO2 Emissions',\n",
       "       'Total Energy Electric Power Sector CO2 Emissions'],\n",
       "      dtype='object', name='Description')"
      ]
     },
     "execution_count": 24,
     "metadata": {},
     "output_type": "execute_result"
    }
   ],
   "source": [
    "# I want to use shorter descriptions for the energy sources\n",
    "CO2_per_source.index"
   ]
  },
  {
   "cell_type": "code",
   "execution_count": 25,
   "id": "0c6357cb",
   "metadata": {},
   "outputs": [],
   "source": [
    "cols = ['Geothermal Energy', 'Non-Biomass Waste', 'Petroleum Coke','Distillate Fuel ',\n",
    "        'Residual Fuel Oil', 'Petroleum', 'Natural Gas', 'Coal', 'Total Emissions']"
   ]
  },
  {
   "cell_type": "code",
   "execution_count": 26,
   "id": "0f773fef",
   "metadata": {},
   "outputs": [
    {
     "data": {
      "image/png": "[encoded data removed]",
      "text/plain": [
       "<Figure size 1152x648 with 1 Axes>"
      ]
     },
     "metadata": {
      "needs_background": "light"
     },
     "output_type": "display_data"
    }
   ],
   "source": [
    "fig = plt.figure(figsize = (16,9))\n",
    "x_label = cols\n",
    "x_tick = np.arange(len(cols))\n",
    "plt.bar(x_tick, CO2_per_source, align = 'center', alpha = 0.5)\n",
    "fig.suptitle(\"CO2 Emissions by Electric Power Sector\", fontsize= 25)\n",
    "plt.xticks(x_tick, x_label, rotation = 70, fontsize = 20)\n",
    "plt.yticks(fontsize = 20)\n",
    "plt.xlabel('Carbon Emissions in MMT', fontsize = 20)\n",
    "plt.show()\n",
    "\n"
   ]
  },
  {
   "attachments": {},
   "cell_type": "markdown",
   "id": "47116a8e",
   "metadata": {},
   "source": [
    "From the bar chart, we can see that the contribution of coal to the total CO2 emission is significant followed by natural gas. "
   ]
  },
  {
   "attachments": {},
   "cell_type": "markdown",
   "id": "153f9d2a",
   "metadata": {},
   "source": [
    "<hr>"
   ]
  },
  {
   "attachments": {},
   "cell_type": "markdown",
   "id": "83c86b0b",
   "metadata": {},
   "source": [
    "### 5.Natural gas CO2 emission analysis <br>\n",
    "\n",
    "For developing the time series model and make forcasting, I will use the natural gas CO2 emission from the electirical power generetion. First, let us slice this data from the ts as follows:\n"
   ]
  },
  {
   "cell_type": "code",
   "execution_count": 27,
   "id": "829239bf",
   "metadata": {},
   "outputs": [
    {
     "data": {
      "text/html": [
       "<div>\n",
       "<style scoped>\n",
       "    .dataframe tbody tr th:only-of-type {\n",
       "        vertical-align: middle;\n",
       "    }\n",
       "\n",
       "    .dataframe tbody tr th {\n",
       "        vertical-align: top;\n",
       "    }\n",
       "\n",
       "    .dataframe thead th {\n",
       "        text-align: right;\n",
       "    }\n",
       "</style>\n",
       "<table border=\"1\" class=\"dataframe\">\n",
       "  <thead>\n",
       "    <tr style=\"text-align: right;\">\n",
       "      <th></th>\n",
       "      <th>MSN</th>\n",
       "      <th>Value</th>\n",
       "      <th>Column_Order</th>\n",
       "      <th>Description</th>\n",
       "      <th>Unit</th>\n",
       "    </tr>\n",
       "    <tr>\n",
       "      <th>YYYYMM</th>\n",
       "      <th></th>\n",
       "      <th></th>\n",
       "      <th></th>\n",
       "      <th></th>\n",
       "      <th></th>\n",
       "    </tr>\n",
       "  </thead>\n",
       "  <tbody>\n",
       "    <tr>\n",
       "      <th>1973-01-01</th>\n",
       "      <td>CLEIEUS</td>\n",
       "      <td>72.076</td>\n",
       "      <td>1</td>\n",
       "      <td>Coal Electric Power Sector CO2 Emissions</td>\n",
       "      <td>Million Metric Tons of Carbon Dioxide</td>\n",
       "    </tr>\n",
       "    <tr>\n",
       "      <th>1973-02-01</th>\n",
       "      <td>CLEIEUS</td>\n",
       "      <td>64.442</td>\n",
       "      <td>1</td>\n",
       "      <td>Coal Electric Power Sector CO2 Emissions</td>\n",
       "      <td>Million Metric Tons of Carbon Dioxide</td>\n",
       "    </tr>\n",
       "    <tr>\n",
       "      <th>1973-03-01</th>\n",
       "      <td>CLEIEUS</td>\n",
       "      <td>64.084</td>\n",
       "      <td>1</td>\n",
       "      <td>Coal Electric Power Sector CO2 Emissions</td>\n",
       "      <td>Million Metric Tons of Carbon Dioxide</td>\n",
       "    </tr>\n",
       "    <tr>\n",
       "      <th>1973-04-01</th>\n",
       "      <td>CLEIEUS</td>\n",
       "      <td>60.842</td>\n",
       "      <td>1</td>\n",
       "      <td>Coal Electric Power Sector CO2 Emissions</td>\n",
       "      <td>Million Metric Tons of Carbon Dioxide</td>\n",
       "    </tr>\n",
       "    <tr>\n",
       "      <th>1973-05-01</th>\n",
       "      <td>CLEIEUS</td>\n",
       "      <td>61.798</td>\n",
       "      <td>1</td>\n",
       "      <td>Coal Electric Power Sector CO2 Emissions</td>\n",
       "      <td>Million Metric Tons of Carbon Dioxide</td>\n",
       "    </tr>\n",
       "  </tbody>\n",
       "</table>\n",
       "</div>"
      ],
      "text/plain": [
       "                MSN   Value  Column_Order  \\\n",
       "YYYYMM                                      \n",
       "1973-01-01  CLEIEUS  72.076             1   \n",
       "1973-02-01  CLEIEUS  64.442             1   \n",
       "1973-03-01  CLEIEUS  64.084             1   \n",
       "1973-04-01  CLEIEUS  60.842             1   \n",
       "1973-05-01  CLEIEUS  61.798             1   \n",
       "\n",
       "                                         Description  \\\n",
       "YYYYMM                                                 \n",
       "1973-01-01  Coal Electric Power Sector CO2 Emissions   \n",
       "1973-02-01  Coal Electric Power Sector CO2 Emissions   \n",
       "1973-03-01  Coal Electric Power Sector CO2 Emissions   \n",
       "1973-04-01  Coal Electric Power Sector CO2 Emissions   \n",
       "1973-05-01  Coal Electric Power Sector CO2 Emissions   \n",
       "\n",
       "                                             Unit  \n",
       "YYYYMM                                             \n",
       "1973-01-01  Million Metric Tons of Carbon Dioxide  \n",
       "1973-02-01  Million Metric Tons of Carbon Dioxide  \n",
       "1973-03-01  Million Metric Tons of Carbon Dioxide  \n",
       "1973-04-01  Million Metric Tons of Carbon Dioxide  \n",
       "1973-05-01  Million Metric Tons of Carbon Dioxide  "
      ]
     },
     "execution_count": 27,
     "metadata": {},
     "output_type": "execute_result"
    }
   ],
   "source": [
    "ts.head()"
   ]
  },
  {
   "cell_type": "code",
   "execution_count": null,
   "id": "f77189ab",
   "metadata": {},
   "outputs": [],
   "source": [
    "Emissions = ts.iloc[:,1:]   # Monthly total emissions (mte)\n",
    "Emissions= Emissions.groupby(['Description', pd.TimeGrouper('M')])['Value'].sum().unstack(level = 0)\n",
    "# mte = Emissions['Natural Gas Electric Power Sector CO2 Emissions'] # monthly total emissions (mte)\n",
    "# mte.head()"
   ]
  },
  {
   "cell_type": "code",
   "execution_count": null,
   "id": "42641b46",
   "metadata": {},
   "outputs": [],
   "source": [
    "YYYYMM\n",
    "1973-01-31    12.175\n",
    "1973-02-28    11.708\n",
    "1973-03-31    13.994\n",
    "1973-04-30    14.627\n",
    "1973-05-31    17.344\n",
    "Freq: M, Name: Natural Gas Electric Power Sector CO2 Emissions, dtype: float64"
   ]
  },
  {
   "cell_type": "code",
   "execution_count": null,
   "id": "1d23c6ba",
   "metadata": {},
   "outputs": [],
   "source": [
    "mte.tail()"
   ]
  },
  {
   "cell_type": "code",
   "execution_count": null,
   "id": "4b973c53",
   "metadata": {},
   "outputs": [],
   "source": [
    "YYYYMM\n",
    "2016-03-31    40.525\n",
    "2016-04-30    39.763\n",
    "2016-05-31    44.210\n",
    "2016-06-30    53.567\n",
    "2016-07-31    62.881\n",
    "Freq: M, Name: Natural Gas Electric Power Sector CO2 Emissions, dtype: float64"
   ]
  },
  {
   "attachments": {},
   "cell_type": "markdown",
   "id": "dd665b74",
   "metadata": {},
   "source": [
    "##### 5.1 Test Stationary"
   ]
  },
  {
   "attachments": {},
   "cell_type": "markdown",
   "id": "458c57f1",
   "metadata": {},
   "source": [
    "\n",
    "\n",
    "The first thing we need to do is producing a plot of our time series dataset. From the plot, we will get an idea about the overall trend and seasonality of the series. Then, we will use a statistical method to assess the trend and seasonality of the dataset. After trend and seasonality are assessed if they are present in the dataset, they will be removed from the series to transform the nonstationary dataset into stationary and the residuals are further analyzed.\n",
    "\n",
    "A short summary about stationarity from Wikipedia: A stationary process is a stochastic process whose unconditional joint probability distribution does not change when shifted in time. Consequently, parameters such as mean and variance, if they are present, also do not change over time.\n",
    "\n",
    "Stationarity is an assumption underlying many statistical procedures used in time series analysis, non-stationary data is often transformed to become stationary. The most common cause of violation of stationarity is a trend in the mean, which can be due to either the presence of a unit root or of a deterministic trend. If the nonstationarity is caused by the presence of unit root, stochastic shocks have permanent effects and the process is not mean-reverting. However, if it is caused by a deterministic trend, the process is called a trend stationary process, and stochastic shocks have only transitory effects after which the variable tends toward a deterministically evolving mean.\n",
    "\n",
    "A trend stationary process is not strictly stationary, but can easily be transformed into a stationary process by removing the underlying trend, which is solely a function of time. Similarly, processes with one or more unit roots can be made stationary through differencing. An important type of non-stationary process that does not include a trend-like behavior is a cyclostationary process, which is a stochastic process that varies cyclically with time.\n",
    "\n",
    "Note: Given two jointly distributed random variables X and Y, the conditional probability distribution of Y given X is the probability distribution of Y when X is known to be a particular value.\n"
   ]
  },
  {
   "cell_type": "code",
   "execution_count": null,
   "id": "95d77479",
   "metadata": {},
   "outputs": [],
   "source": [
    "import statsmodels\n",
    "import statsmodels.api as sm\n",
    "from statsmodels.tsa.stattools import coint, adfuller"
   ]
  },
  {
   "attachments": {},
   "cell_type": "markdown",
   "id": "29e85fb2",
   "metadata": {},
   "source": [
    "##### 5.1.1 Graphycally test stationary"
   ]
  },
  {
   "cell_type": "code",
   "execution_count": null,
   "id": "7bf91c9e",
   "metadata": {},
   "outputs": [],
   "source": [
    "plt.plot(mte)"
   ]
  },
  {
   "attachments": {},
   "cell_type": "markdown",
   "id": "f5f470ae",
   "metadata": {},
   "source": [
    "<br>\n",
    "<img align = \"middle\" src=\"../images/project_Final_Image_4.png\" alt=\"Drawing\" style=\"width: 500px;\">\n",
    "<br>"
   ]
  },
  {
   "attachments": {},
   "cell_type": "markdown",
   "id": "5cef577d",
   "metadata": {},
   "source": [
    "\n",
    "\n",
    "From the figures, it is evident that there is a trend in the CO2 emission dataset with seasonal variation. So, we can infer a concluding remark that the dataset is not stationary.\n"
   ]
  },
  {
   "attachments": {},
   "cell_type": "markdown",
   "id": "9061522b",
   "metadata": {},
   "source": [
    "##### 5.1.2 Test stationary using Dickey-Fuller<br>\n",
    "A formal way of testing stationarity of a dataset is using plotting the moving average or moving variance and see if the series mean and variance varies with time. This approach will be handled by the TestStationaryPlot() method. The second way to test stationarity is to use the statistical test (the Dickey-Fuller Test). The null hypothesis for the test is that the time series is non-stationary. The test results compare a Test Statistic and Critical Values (cutoff value) at different confidence levels. If the ‘Test Statistic’ is less than the ‘Critical Value’, we can reject the null hypothesis and say that the series is stationary. This technique will be handled by the TestStationaryAdfuller( ) method given below."
   ]
  },
  {
   "cell_type": "code",
   "execution_count": 35,
   "id": "4212c0a1",
   "metadata": {},
   "outputs": [],
   "source": [
    "def TestStationaryPlot(ts):\n",
    "    rol_mean = ts.rolling(window = 12, center = False).mean()\n",
    "    rol_std = ts.rolling(window = 12, center = False).std()\n",
    "    \n",
    "    plt.plot(ts, color = 'blue',label = 'Original Data')\n",
    "    plt.plot(rol_mean, color = 'red', label = 'Rolling Mean')\n",
    "    plt.plot(rol_std, color ='black', label = 'Rolling Std')\n",
    "    plt.xticks(fontsize = 25)\n",
    "    plt.yticks(fontsize = 25)\n",
    "    \n",
    "    plt.xlabel('Time in Years', fontsize = 25)\n",
    "    plt.ylabel('Total Emissions', fontsize = 25)\n",
    "    plt.legend(loc='best', fontsize = 25)\n",
    "    plt.title('Rolling Mean & Standard Deviation', fontsize = 25)\n",
    "    plt.show(block= True)"
   ]
  },
  {
   "cell_type": "code",
   "execution_count": 36,
   "id": "93aebb4f",
   "metadata": {},
   "outputs": [],
   "source": [
    "def TestStationaryAdfuller(ts, cutoff = 0.01):\n",
    "    ts_test = adfuller(ts, autolag = 'AIC')\n",
    "    ts_test_output = pd.Series(ts_test[0:4], index=['Test Statistic','p-value','#Lags Used','Number of Observations Used'])\n",
    "    \n",
    "    for key,value in ts_test[4].items():\n",
    "        ts_test_output['Critical Value (%s)'%key] = value\n",
    "    print(ts_test_output)\n",
    "    \n",
    "    if ts_test[1] <= cutoff:\n",
    "        print(\"Strong evidence against the null hypothesis, reject the null hypothesis. Data has no unit root, hence it is stationary\")\n",
    "    else:\n",
    "        print(\"Weak evidence against null hypothesis, time series has a unit root, indicating it is non-stationary \")"
   ]
  },
  {
   "attachments": {},
   "cell_type": "markdown",
   "id": "acc4d8ce",
   "metadata": {},
   "source": [
    "Testing the monthly emissions time series"
   ]
  },
  {
   "cell_type": "code",
   "execution_count": null,
   "id": "05fce179",
   "metadata": {},
   "outputs": [],
   "source": [
    "TestStationaryPlot(mte)"
   ]
  },
  {
   "attachments": {},
   "cell_type": "markdown",
   "id": "ee2f34f2",
   "metadata": {},
   "source": [
    "<br>\n",
    "<img align = \"middle\" src=\"../images/project_Final_Image_5.png\" alt=\"Drawing\" style=\"width: 500px;\">\n",
    "<br>"
   ]
  },
  {
   "cell_type": "code",
   "execution_count": null,
   "id": "7cd6680f",
   "metadata": {},
   "outputs": [],
   "source": [
    "TestStationaryAdfuller(mte)"
   ]
  },
  {
   "cell_type": "code",
   "execution_count": null,
   "id": "5b8048fb",
   "metadata": {},
   "outputs": [],
   "source": [
    "Test Statistic                   1.831215\n",
    "p-value                          0.998409\n",
    "#Lags Used                      19.000000\n",
    "Number of Observations Used    503.000000\n",
    "Critical Value (1%)             -3.443418\n",
    "Critical Value (5%)             -2.867303\n",
    "Critical Value (10%)            -2.569840\n",
    "dtype: float64\n",
    "Weak evidence against null hypothesis, time series has a unit root, indicating it is non-stationary "
   ]
  },
  {
   "attachments": {},
   "cell_type": "markdown",
   "id": "362813c2",
   "metadata": {},
   "source": [
    "The emissions mean and the variation in standard deviation (black line) clearly vary with time. This shows that the series has a trend. So, it is not a stationary. Also, the Test Statistic is greater than the critical values with 90%, 95% and 99% confidence levels. Hence, no evidence to reject the null hypothesis. Therefore the series is nonstationary."
   ]
  },
  {
   "attachments": {},
   "cell_type": "markdown",
   "id": "aa0cdab4",
   "metadata": {},
   "source": [
    "##### 5.1.3 Transform the dataset to stationary <br>\n",
    "\n",
    "The most common techniques used to estimate or model trend and then remove it from the time series are\n",
    "\n",
    "- Aggregation – taking average for a time period like monthly/weekly average\n",
    "- Smoothing – taking rolling averages\n",
    "- Polynomial Fitting – fit a regression model\n",
    "\n"
   ]
  },
  {
   "attachments": {},
   "cell_type": "markdown",
   "id": "5b8a2463",
   "metadata": {},
   "source": [
    "##### A) Moving average<br>\n",
    "In this technique, we take average of ‘k’ consecutive values depending on the frequency of time series (in this case 12 monthes per year). Here, we will take the average over the past 1 year.\n"
   ]
  },
  {
   "cell_type": "code",
   "execution_count": null,
   "id": "588f7827",
   "metadata": {},
   "outputs": [],
   "source": [
    "moving_avg = mte.rolling(12).mean()\n",
    "plt.plot(mte)\n",
    "plt.plot(moving_avg, color='red')\n",
    "plt.xticks(fontsize = 25)\n",
    "plt.yticks(fontsize = 25)\n",
    "plt.xlabel('Time (years)', fontsize = 25)\n",
    "plt.ylabel('CO2 Emission (MMT)', fontsize = 25)\n",
    "plt.title('CO2 emission from electric power generation', fontsize = 25)\n",
    "plt.show()"
   ]
  },
  {
   "attachments": {},
   "cell_type": "markdown",
   "id": "4003f216",
   "metadata": {},
   "source": [
    "<br>\n",
    "<img align = \"middle\" src=\"../images/project_Final_Image_6.png\" alt=\"Drawing\" style=\"width: 500px;\">\n",
    "<br>"
   ]
  },
  {
   "attachments": {},
   "cell_type": "markdown",
   "id": "0bdf0d5d",
   "metadata": {},
   "source": [
    "The red line shows the rolling mean. Subtract the moving average from the original series. Note that since we are taking average of last 12 values, rolling mean is not defined for first 11 values.\n"
   ]
  },
  {
   "cell_type": "code",
   "execution_count": null,
   "id": "6a32ce56",
   "metadata": {},
   "outputs": [],
   "source": [
    "mte_moving_avg_diff = mte - moving_avg\n",
    "mte_moving_avg_diff.head(13)"
   ]
  },
  {
   "cell_type": "code",
   "execution_count": null,
   "id": "43c03396",
   "metadata": {},
   "outputs": [],
   "source": [
    "YYYYMM\n",
    "1973-01-31         NaN\n",
    "1973-02-28         NaN\n",
    "1973-03-31         NaN\n",
    "1973-04-30         NaN\n",
    "1973-05-31         NaN\n",
    "1973-06-30         NaN\n",
    "1973-07-31         NaN\n",
    "1973-08-31         NaN\n",
    "1973-09-30         NaN\n",
    "1973-10-31         NaN\n",
    "1973-11-30         NaN\n",
    "1973-12-31   -4.705333\n",
    "1974-01-31   -4.594333\n",
    "Freq: M, Name: Natural Gas Electric Power Sector CO2 Emissions, dtype: float64"
   ]
  },
  {
   "cell_type": "code",
   "execution_count": null,
   "id": "490c458b",
   "metadata": {},
   "outputs": [],
   "source": [
    "mte_moving_avg_diff.dropna(inplace=True)\n",
    "TestStationaryPlot(mte_moving_avg_diff)"
   ]
  },
  {
   "attachments": {},
   "cell_type": "markdown",
   "id": "b8bfbc62",
   "metadata": {},
   "source": [
    "<br>\n",
    "<img align = \"middle\" src=\"../images/project_Final_Image_7.png\" alt=\"Drawing\" style=\"width: 500px;\">\n",
    "<br>"
   ]
  },
  {
   "cell_type": "code",
   "execution_count": null,
   "id": "ecfc0751",
   "metadata": {},
   "outputs": [],
   "source": [
    "TestStationaryAdfuller(mte_moving_avg_diff)"
   ]
  },
  {
   "cell_type": "code",
   "execution_count": null,
   "id": "f1dc0706",
   "metadata": {},
   "outputs": [],
   "source": [
    "Test Statistic                  -5.138977\n",
    "p-value                          0.000012\n",
    "#Lags Used                      19.000000\n",
    "Number of Observations Used    492.000000\n",
    "Critical Value (1%)             -3.443711\n",
    "Critical Value (5%)             -2.867432\n",
    "Critical Value (10%)            -2.569908\n",
    "dtype: float64\n",
    "Strong evidence against the null hypothesis, reject the null hypothesis. Data has no unit root, hence it is stationary"
   ]
  },
  {
   "attachments": {},
   "cell_type": "markdown",
   "id": "6e1ee359",
   "metadata": {},
   "source": [
    "The rolling mean values appear to be varying slightly. The Test Statistic is smaller than the 10% 5%, and 1% of critical values. So, we can say with 99% confidence level that the dataset is a stationary series."
   ]
  },
  {
   "attachments": {},
   "cell_type": "markdown",
   "id": "69240b97",
   "metadata": {},
   "source": [
    "#### B) Exponentail weighted moving average<br>\n",
    "Another technique is to take the ‘weighted moving average’ where more recent values are given a higher weight. The popular method to assign the waights is using the exponential weighted moving average. Where weights are assigned to all previous values with a decay factor."
   ]
  },
  {
   "cell_type": "code",
   "execution_count": null,
   "id": "0aaa954c",
   "metadata": {},
   "outputs": [],
   "source": [
    "mte_exp_wighted_avg = pd.ewma(mte, halflife=12)\n",
    "plt.plot(mte)\n",
    "plt.plot(mte_exp_wighted_avg, color='red')\n",
    "plt.xticks(fontsize = 25)\n",
    "plt.yticks(fontsize = 25)\n",
    "plt.xlabel('Time (years)', fontsize = 25)\n",
    "plt.ylabel('CO2 Emission (MMT)', fontsize = 25)\n",
    "plt.title('CO2 emission from electric power generation', fontsize = 25)\n",
    "plt.show()"
   ]
  },
  {
   "attachments": {},
   "cell_type": "markdown",
   "id": "8b2877a8",
   "metadata": {},
   "source": [
    "<br>\n",
    "<img align = \"middle\" src=\"../images/project_Final_Image_8.png\" alt=\"Drawing\" style=\"width: 500px;\">\n",
    "<br>"
   ]
  },
  {
   "cell_type": "code",
   "execution_count": null,
   "id": "8916d363",
   "metadata": {},
   "outputs": [],
   "source": [
    "mte_ewma_diff = mte - mte_exp_wighted_avg\n",
    "TestStationaryPlot(mte_ewma_diff)"
   ]
  },
  {
   "attachments": {},
   "cell_type": "markdown",
   "id": "3064c01e",
   "metadata": {},
   "source": [
    "<br>\n",
    "<img align = \"middle\" src=\"../images/project_Final_Image_9.png\" alt=\"Drawing\" style=\"width: 500px;\">\n",
    "<br>"
   ]
  },
  {
   "cell_type": "code",
   "execution_count": null,
   "id": "1e828572",
   "metadata": {},
   "outputs": [],
   "source": [
    "TestStationaryAdfuller(mte_ewma_diff)"
   ]
  },
  {
   "cell_type": "code",
   "execution_count": null,
   "id": "9a270c55",
   "metadata": {},
   "outputs": [],
   "source": [
    "Test Statistic                  -3.423915\n",
    "p-value                          0.010170\n",
    "#Lags Used                      19.000000\n",
    "Number of Observations Used    503.000000\n",
    "Critical Value (1%)             -3.443418\n",
    "Critical Value (5%)             -2.867303\n",
    "Critical Value (10%)            -2.569840\n",
    "dtype: float64\n",
    "Weak evidence against null hypothesis, time series has a unit root, indicating it is non-stationary "
   ]
  },
  {
   "attachments": {},
   "cell_type": "markdown",
   "id": "f1e2f4ec",
   "metadata": {},
   "source": [
    "This time series has lesser variations in mean and standard deviation compared to the orginal ddataset. Also, the Test Statistic is smaller than the 5% and 10% critical value, which is better than the original case. There will be no missing values as all values from starting are given weights. So, it will work even with no previous values. In this case, we can say with 95% confidence level the series is a stationary series."
   ]
  },
  {
   "attachments": {},
   "cell_type": "markdown",
   "id": "679abc4a",
   "metadata": {},
   "source": [
    "#### C) Eliminating trend and seasonality: Differencing<br>\n",
    "One of the most common method of dealing with both trend and seasonality is differencing. In this technique, we take the difference of the original observation at a particular instant with that at the previous instant. This mostly works well to improve stationarity. First order differencing can be done as follows:"
   ]
  },
  {
   "cell_type": "code",
   "execution_count": null,
   "id": "b0a1c6a8",
   "metadata": {},
   "outputs": [],
   "source": [
    "mte_first_difference = mte - mte.shift(1)  \n",
    "TestStationaryPlot(mte_first_difference.dropna(inplace=False))"
   ]
  },
  {
   "attachments": {},
   "cell_type": "markdown",
   "id": "8e8abdae",
   "metadata": {},
   "source": [
    "<br>\n",
    "<img align = \"middle\" src=\"../images/project_Final_Image_10.png\" alt=\"Drawing\" style=\"width: 500px;\">\n",
    "<br>"
   ]
  },
  {
   "cell_type": "code",
   "execution_count": null,
   "id": "cd9a2e3d",
   "metadata": {},
   "outputs": [],
   "source": [
    "TestStationaryAdfuller(mte_first_difference.dropna(inplace=False))"
   ]
  },
  {
   "cell_type": "code",
   "execution_count": null,
   "id": "7afcb5f5",
   "metadata": {},
   "outputs": [],
   "source": [
    "Test Statistic                  -5.435116\n",
    "p-value                          0.000003\n",
    "#Lags Used                      18.000000\n",
    "Number of Observations Used    503.000000\n",
    "Critical Value (1%)             -3.443418\n",
    "Critical Value (5%)             -2.867303\n",
    "Critical Value (10%)            -2.569840\n",
    "dtype: float64\n",
    "Strong evidence against the null hypothesis, reject the null hypothesis. Data has no unit root, hence it is stationary"
   ]
  },
  {
   "attachments": {},
   "cell_type": "markdown",
   "id": "fd652ccf",
   "metadata": {},
   "source": [
    "The first difference improves the stationarity of the series significantly. Let us use also the seasonal difference to remove the seasonality of the data and see how that impacts stationarity of the data."
   ]
  },
  {
   "cell_type": "code",
   "execution_count": null,
   "id": "48d846f8",
   "metadata": {},
   "outputs": [],
   "source": [
    "mte_seasonal_difference = mte - mte.shift(12)  \n",
    "TestStationaryPlot(mte_seasonal_difference.dropna(inplace=False))\n",
    "TestStationaryAdfuller(mte_seasonal_difference.dropna(inplace=False))"
   ]
  },
  {
   "attachments": {},
   "cell_type": "markdown",
   "id": "f9e09405",
   "metadata": {},
   "source": [
    "<br>\n",
    "<img align = \"middle\" src=\"../images/project_Final_Image_11.png\" alt=\"Drawing\" style=\"width: 500px;\">\n",
    "<br>"
   ]
  },
  {
   "cell_type": "code",
   "execution_count": null,
   "id": "ae7fbc06",
   "metadata": {},
   "outputs": [],
   "source": [
    "Test Statistic                  -4.412396\n",
    "p-value                          0.000282\n",
    "#Lags Used                      13.000000\n",
    "Number of Observations Used    497.000000\n",
    "Critical Value (1%)             -3.443576\n",
    "Critical Value (5%)             -2.867373\n",
    "Critical Value (10%)            -2.569877\n",
    "dtype: float64\n",
    "Strong evidence against the null hypothesis, reject the null hypothesis. Data has no unit root, hence it is stationary"
   ]
  },
  {
   "attachments": {},
   "cell_type": "markdown",
   "id": "87cc8199",
   "metadata": {},
   "source": [
    "Compared to the original data the seasonal difference also improves the stationarity of the series. The next step is to take the first difference of the seasonal difference."
   ]
  },
  {
   "cell_type": "code",
   "execution_count": null,
   "id": "a0152f77",
   "metadata": {},
   "outputs": [],
   "source": [
    "mte_seasonal_first_difference = mte_first_difference - mte_first_difference.shift(12)  \n",
    "TestStationaryPlot(mte_seasonal_first_difference.dropna(inplace=False))"
   ]
  },
  {
   "attachments": {},
   "cell_type": "markdown",
   "id": "f6aa4bf5",
   "metadata": {},
   "source": [
    "<br>\n",
    "<img align = \"middle\" src=\"../images/project_Final_Image_12.png\" alt=\"Drawing\" style=\"width: 500px;\">\n",
    "<br>"
   ]
  },
  {
   "cell_type": "code",
   "execution_count": null,
   "id": "d1d7cbf9",
   "metadata": {},
   "outputs": [],
   "source": [
    "TestStationaryAdfuller(mte_seasonal_first_difference.dropna(inplace=False))"
   ]
  },
  {
   "cell_type": "code",
   "execution_count": null,
   "id": "42991d3f",
   "metadata": {},
   "outputs": [],
   "source": [
    "Test Statistic                -1.009743e+01\n",
    "p-value                        1.081539e-17\n",
    "#Lags Used                     1.200000e+01\n",
    "Number of Observations Used    4.970000e+02\n",
    "Critical Value (1%)           -3.443576e+00\n",
    "Critical Value (5%)           -2.867373e+00\n",
    "Critical Value (10%)          -2.569877e+00\n",
    "dtype: float64\n",
    "Strong evidence against the null hypothesis, reject the null hypothesis. Data has no unit root, hence it is stationary"
   ]
  },
  {
   "attachments": {},
   "cell_type": "markdown",
   "id": "84daa5f1",
   "metadata": {},
   "source": [
    "Now, if we look the Test Statistic and the p-value, taking the seasonal first difference has made our the time series dataset stationary. This differencing procedure could be repeated for the log values, but it didn’t make the dataset any more stationary."
   ]
  },
  {
   "attachments": {},
   "cell_type": "markdown",
   "id": "f4d59eee",
   "metadata": {},
   "source": [
    "#### D) Eliminating trend and seasonality: Decomposing<br>\n",
    "In this technique, it statrating by modeling both trend and seasonality and removing them from the model."
   ]
  },
  {
   "cell_type": "code",
   "execution_count": null,
   "id": "6ff6690e",
   "metadata": {},
   "outputs": [],
   "source": [
    "from statsmodels.tsa.seasonal import seasonal_decompose\n",
    "decomposition = seasonal_decompose(mte)\n",
    "\n",
    "trend = decomposition.trend\n",
    "seasonal = decomposition.seasonal\n",
    "residual = decomposition.resid\n",
    "\n",
    "plt.subplot(411)\n",
    "plt.plot(mte, label='Original')\n",
    "plt.legend(loc='best')\n",
    "plt.subplot(412)\n",
    "plt.plot(trend, label='Trend')\n",
    "plt.legend(loc='best')\n",
    "plt.subplot(413)\n",
    "plt.plot(seasonal,label='Seasonality')\n",
    "plt.legend(loc='best')\n",
    "plt.subplot(414)\n",
    "plt.plot(residual, label='Residuals')\n",
    "plt.legend(loc='best')\n",
    "plt.tight_layout()"
   ]
  },
  {
   "attachments": {},
   "cell_type": "markdown",
   "id": "0272b539",
   "metadata": {},
   "source": [
    "<br>\n",
    "<img align = \"middle\" src=\"../images/project_Final_Image_13.png\" alt=\"Drawing\" style=\"width: 500px;\">\n",
    "<br>"
   ]
  },
  {
   "attachments": {},
   "cell_type": "markdown",
   "id": "055873ae",
   "metadata": {},
   "source": [
    "Here we can see that the trend, seasonality are separated out from data and we can model the residuals. Lets check stationarity of residuals:"
   ]
  },
  {
   "cell_type": "code",
   "execution_count": null,
   "id": "5cedc962",
   "metadata": {},
   "outputs": [],
   "source": [
    "mte_decompose = residual\n",
    "mte_decompose.dropna(inplace=True)\n",
    "TestStationaryPlot(mte_decompose)\n",
    "TestStationaryAdfuller(mte_decompose)"
   ]
  },
  {
   "attachments": {},
   "cell_type": "markdown",
   "id": "7f0e1254",
   "metadata": {},
   "source": [
    "<br>\n",
    "<img align = \"middle\" src=\"../images/project_Final_Image_14.png\" alt=\"Drawing\" style=\"width: 500px;\">\n",
    "<br>"
   ]
  },
  {
   "cell_type": "code",
   "execution_count": null,
   "id": "8c77ff17",
   "metadata": {},
   "outputs": [],
   "source": [
    "Test Statistic                -8.547084e+00\n",
    "p-value                        9.439345e-14\n",
    "#Lags Used                     1.900000e+01\n",
    "Number of Observations Used    4.910000e+02\n",
    "Critical Value (1%)           -3.443739e+00\n",
    "Critical Value (5%)           -2.867444e+00\n",
    "Critical Value (10%)          -2.569915e+00\n",
    "dtype: float64\n",
    "Strong evidence against the null hypothesis, reject the null hypothesis. Data has no unit root, hence it is stationary"
   ]
  },
  {
   "attachments": {},
   "cell_type": "markdown",
   "id": "c8d0d12b",
   "metadata": {},
   "source": [
    "<hr>"
   ]
  },
  {
   "attachments": {},
   "cell_type": "markdown",
   "id": "000668d2",
   "metadata": {},
   "source": [
    "### 6. Find optimal parameters and build SARIMA model"
   ]
  },
  {
   "attachments": {},
   "cell_type": "markdown",
   "id": "d62de391",
   "metadata": {},
   "source": [
    "When looking to fit time series dataset with seasonal ARIMA model, our first goal is to find the values of SARIMA(p,d,q)(P,D,Q)s that optimize our metric of interest. Before moving directly how to find the optimal values of the parameters let us see the two situations in stationarities: A strictly stationary series with no dependence among the values. This is the easy case wherein we can model the residuals as ```white noise```. The second case being a series with significant dependence among values and needs statistical models like ARIMA to forecast future oucomes."
   ]
  },
  {
   "attachments": {},
   "cell_type": "markdown",
   "id": "b89f31cf",
   "metadata": {},
   "source": [
    "**Auto-Regressive Integrated Moving Average (ARIMA):** The ARIMA forecasting for a stationary time series is a linear funcion similar to linear regression. The predictors mainly depend on the parameters (p,d,q) of the ARIMA model:\n",
    "\n",
    "- **Number of Auto-Regressive (AR) terms (p):** AR terms are just lags of dependent variable. For instance if p is 4, the predictors for x(t) will depend on x(t-1)….x(t-4). This term allows us to incorporate the effect of past values into our model. This would be similar to stating that the weather is likely to be warm tomorrow if it has been warm the past 4 days.\n",
    "- **Number of Moving Average(MA) terms (q):** MA terms are lagged forecast errors in prediction function. This term allows us to set the error of our model as a linear combination of the error values observed at previous time points in the past. For instance if q is 4, the predictors for x(t) will be e(t-1)….e(t-4) where e(i) is the difference between the moving average at ith instant and actual value.\n",
    "- **Number of Differences (d):** These are the number of nonseasonal differences, i.e., if we took the first order difference. So either we can pass the first order difference variable and put d=0 or pass the original observed variable and put d=1. Both will generate same results. This term explains the number of past time points to subtract from the current value. This would be similar to stating that it is likely to be same temperature tomorrow if the difference in temperature in the last three days has been very small.\n"
   ]
  },
  {
   "attachments": {},
   "cell_type": "markdown",
   "id": "429f0655",
   "metadata": {},
   "source": [
    "#### 6.1 Plot the ACF and PACF charts and find the optimal parameters"
   ]
  },
  {
   "attachments": {},
   "cell_type": "markdown",
   "id": "70978ad2",
   "metadata": {},
   "source": [
    "\n",
    "\n",
    "- **Autocorrelation Function (ACF):** It is a measure of the correlation between the the time series (ts) with a lagged version of itself. For instance at lag 4, ACF would compare series at time instant ‘t1’…’t2’ with series at instant ‘t1-4’…’t2-4’ (t1-4 and t2 being end points of the range).<br>\n",
    "- **Partial Autocorrelation Function (PACF):** This measures the correlation between the ts with a lagged version of itself but after eliminating the variations already explained by the intervening comparisons. Eg at lag 4, it will check the correlation but remove the effects already explained by lags 1 to 3.<br>\n",
    "\n",
    "Therefore, the next step will be determing the tuning parameters (p and q) of the model by looking at the autocorrelation and partial autocorrelation graphs. The chart below provides a brief guide on how to read the autocorrelation and partial autocorrelation graphs inorder to select the parameters.\n"
   ]
  },
  {
   "cell_type": "code",
   "execution_count": null,
   "id": "10ec3fff",
   "metadata": {},
   "outputs": [],
   "source": [
    "fig = plt.figure(figsize=(12,8))\n",
    "ax1 = fig.add_subplot(211)\n",
    "fig = sm.graphics.tsa.plot_acf(mte_seasonal_first_difference.iloc[13:], lags=40, ax=ax1)\n",
    "ax2 = fig.add_subplot(212)\n",
    "fig = sm.graphics.tsa.plot_pacf(mte_seasonal_first_difference.iloc[13:], lags=40, ax=ax2)"
   ]
  },
  {
   "attachments": {},
   "cell_type": "markdown",
   "id": "f2a19e72",
   "metadata": {},
   "source": [
    "<br>\n",
    "<img align = \"middle\" src=\"../images/project_Final_Image_15.png\" alt=\"Drawing\" style=\"width: 500px;\">\n",
    "<br>"
   ]
  },
  {
   "attachments": {},
   "cell_type": "markdown",
   "id": "7551acc8",
   "metadata": {},
   "source": [
    "#### 6.2 Grid search <br>\n",
    "\n",
    "To find the optimal parameters for ARIMA models using the graphical method is not trivial and it is time consuming. We will select the optimal parameter values systematically using the grid search (hyperparameter optimization) method. The grid search iteratively explore different combinations of the parameters. For each combination of parameters, we will fit a new seasonal ARIMA model with the SARIMAX() function from the statsmodels module and assess its overall quality. Once we have explored the entire landscape of parameters, our optimal set of parameters will be the one that yields the best performance for our criteria of interest. Let's begin by generating the various combination of parameters that we wish to assess:\n"
   ]
  },
  {
   "cell_type": "code",
   "execution_count": null,
   "id": "200b0944",
   "metadata": {},
   "outputs": [],
   "source": [
    "p = d = q = range(0, 2) # Define the p, d and q parameters to take any value between 0 and 2\n",
    "pdq = list(itertools.product(p, d, q)) # Generate all different combinations of p, q and q triplets\n",
    "pdq_x_QDQs = [(x[0], x[1], x[2], 12) for x in list(itertools.product(p, d, q))] # Generate all different combinations of seasonal p, q and q triplets\n",
    "print('Examples of Seasonal ARIMA parameter combinations for Seasonal ARIMA...')\n",
    "print('SARIMAX: {} x {}'.format(pdq[1], pdq_x_QDQs[1]))\n",
    "print('SARIMAX: {} x {}'.format(pdq[2], pdq_x_QDQs[2]))\n"
   ]
  },
  {
   "cell_type": "code",
   "execution_count": null,
   "id": "a3087ca1",
   "metadata": {},
   "outputs": [],
   "source": [
    "Examples of Seasonal ARIMA parameter combinations for Seasonal ARIMA...\n",
    "SARIMAX: (0, 0, 1) x (0, 0, 1, 12)\n",
    "SARIMAX: (0, 1, 0) x (0, 1, 0, 12)"
   ]
  },
  {
   "cell_type": "code",
   "execution_count": null,
   "id": "e1a1364e",
   "metadata": {},
   "outputs": [],
   "source": [
    "print(pdq)\n",
    "print(pdq_x_QDQs)"
   ]
  },
  {
   "cell_type": "code",
   "execution_count": null,
   "id": "203ac219",
   "metadata": {},
   "outputs": [],
   "source": [
    "[(0, 0, 0), (0, 0, 1), (0, 1, 0), (0, 1, 1), (1, 0, 0), (1, 0, 1), (1, 1, 0), (1, 1, 1)]\n",
    "[(0, 0, 0, 12), (0, 0, 1, 12), (0, 1, 0, 12), (0, 1, 1, 12), (1, 0, 0, 12), (1, 0, 1, 12), (1, 1, 0, 12), (1, 1, 1, 12)]"
   ]
  },
  {
   "attachments": {},
   "cell_type": "markdown",
   "id": "b7d3bb8a",
   "metadata": {},
   "source": [
    "\n",
    "\n",
    "When evaluating and comparing statistical models fitted with different parameters, each can be ranked against one another based on how well it fits the data or its ability to accurately predict future data points. We will use the AIC (Akaike Information Criterion) value, which is conveniently returned with ARIMA models fitted using statsmodels. The AIC measures how well a model fits the data while taking into account the overall complexity of the model. A model that fits the data very well while using lots of features will be assigned a larger AIC score than a model that uses fewer features to achieve the same goodness-of-fit. The lowest AIC refore, we are interested in finding the model that yields the lowest AIC value.\n",
    "\n",
    "The order argument specifies the (p, d, q) parameters, while the seasonal_order argument specifies the (P, D, Q, S) seasonal component of the Seasonal ARIMA model. After fitting each SARIMAX()model, the code prints out its respective AIC score.\n",
    "\n",
    "Notes on AIC score: AIC will choose the best model from a set(The “best” model will be the one that neither under-fits nor over-fits.),then consider running a hypothesis test to figure out the relationship between the variables in your model and the outcome of interest.\n"
   ]
  },
  {
   "cell_type": "code",
   "execution_count": null,
   "id": "4a71f90a",
   "metadata": {},
   "outputs": [],
   "source": [
    "for param in pdq:\n",
    "    for seasonal_param in pdq_x_QDQs:\n",
    "        try:\n",
    "            mod = sm.tsa.statespace.SARIMAX(mte,\n",
    "                                            order=param,\n",
    "                                            seasonal_order=seasonal_param,\n",
    "                                            enforce_stationarity=False,\n",
    "                                            enforce_invertibility=False)\n",
    "            results = mod.fit()\n",
    "            print('ARIMA{}x{} - AIC:{}'.format(param, param_seasonal, results.aic))\n",
    "        except:\n",
    "            continue"
   ]
  },
  {
   "cell_type": "code",
   "execution_count": null,
   "id": "77c6259c",
   "metadata": {},
   "outputs": [],
   "source": [
    "a=[]\n",
    "b=[]\n",
    "c=[]\n",
    "wf=pd.DataFrame()"
   ]
  },
  {
   "cell_type": "code",
   "execution_count": null,
   "id": "222dc8c9",
   "metadata": {},
   "outputs": [],
   "source": [
    "warnings.filterwarnings(\"ignore\") # specify to ignore warning messages\n",
    "\n",
    "for param in pdq:\n",
    "    for param_seasonal in pdq_x_QDQs:\n",
    "        try:\n",
    "            mod = sm.tsa.statespace.SARIMAX(mte,\n",
    "                                            order=param,\n",
    "                                            seasonal_order=param_seasonal,\n",
    "                                            enforce_stationarity=False,\n",
    "                                            enforce_invertibility=False)\n",
    "\n",
    "            results = mod.fit()\n",
    "\n",
    "            print('ARIMA{}x{}12 - AIC:{}'.format(param, param_seasonal, results.aic))\n",
    "            a.append(param)\n",
    "            b.append(param_seasonal)\n",
    "            c.append(results.aic)\n",
    "        except:\n",
    "            continue\n",
    "wf['pdq']=a\n",
    "wf['pdq_x_QDQs']=b\n",
    "wf['aic']=c\n",
    "print(wf[wf['aic']==wf['aic'].min()])"
   ]
  },
  {
   "cell_type": "code",
   "execution_count": null,
   "id": "db4d9243",
   "metadata": {},
   "outputs": [],
   "source": [
    "ARIMA(0, 0, 0)x(0, 0, 1, 12)12 - AIC:4135.625648186427\n",
    "ARIMA(0, 0, 0)x(0, 1, 1, 12)12 - AIC:2504.209502835857\n",
    "ARIMA(0, 0, 0)x(1, 0, 0, 12)12 - AIC:2544.146426616796\n",
    "ARIMA(0, 0, 0)x(1, 0, 1, 12)12 - AIC:2465.1472629976174\n",
    "ARIMA(0, 0, 0)x(1, 1, 0, 12)12 - AIC:2511.043139693216\n",
    "ARIMA(0, 0, 0)x(1, 1, 1, 12)12 - AIC:2505.8402380709167\n",
    "ARIMA(0, 0, 1)x(0, 0, 0, 12)12 - AIC:4157.561225515802\n",
    "ARIMA(0, 0, 1)x(0, 0, 1, 12)12 - AIC:3572.105901735481\n",
    "ARIMA(0, 0, 1)x(0, 1, 0, 12)12 - AIC:2334.7247254082727\n",
    "ARIMA(0, 0, 1)x(0, 1, 1, 12)12 - AIC:2245.5073864208334\n",
    "ARIMA(0, 0, 1)x(1, 0, 0, 12)12 - AIC:2329.044601381418\n",
    "ARIMA(0, 0, 1)x(1, 0, 1, 12)12 - AIC:2218.680097772308\n",
    "ARIMA(0, 0, 1)x(1, 1, 0, 12)12 - AIC:2262.0627979899486\n",
    "ARIMA(0, 0, 1)x(1, 1, 1, 12)12 - AIC:2247.532772188917\n",
    "ARIMA(0, 1, 0)x(0, 0, 1, 12)12 - AIC:2616.0128108187673\n",
    "ARIMA(0, 1, 0)x(0, 1, 1, 12)12 - AIC:2068.3633517949174\n",
    "ARIMA(0, 1, 0)x(1, 0, 0, 12)12 - AIC:2295.748832483445\n",
    "ARIMA(0, 1, 0)x(1, 0, 1, 12)12 - AIC:2108.9566563047188\n",
    "ARIMA(0, 1, 0)x(1, 1, 0, 12)12 - AIC:2162.692421772843\n",
    "ARIMA(0, 1, 0)x(1, 1, 1, 12)12 - AIC:2074.0481533369575\n",
    "ARIMA(0, 1, 1)x(0, 0, 0, 12)12 - AIC:2842.7367252748636\n",
    "ARIMA(0, 1, 1)x(0, 0, 1, 12)12 - AIC:2581.5410372142046\n",
    "ARIMA(0, 1, 1)x(0, 1, 0, 12)12 - AIC:2281.27481945106\n",
    "ARIMA(0, 1, 1)x(0, 1, 1, 12)12 - AIC:2040.5852777130804\n",
    "ARIMA(0, 1, 1)x(1, 0, 0, 12)12 - AIC:2268.8025053300094\n",
    "ARIMA(0, 1, 1)x(1, 0, 1, 12)12 - AIC:2080.752075480873\n",
    "ARIMA(0, 1, 1)x(1, 1, 0, 12)12 - AIC:2123.29775629481\n",
    "ARIMA(0, 1, 1)x(1, 1, 1, 12)12 - AIC:2044.9914025256194\n",
    "ARIMA(1, 0, 0)x(0, 0, 0, 12)12 - AIC:2937.6528799025127\n",
    "ARIMA(1, 0, 0)x(0, 0, 1, 12)12 - AIC:2620.097060233387\n",
    "ARIMA(1, 0, 0)x(0, 1, 0, 12)12 - AIC:2249.177786858413\n",
    "ARIMA(1, 0, 0)x(0, 1, 1, 12)12 - AIC:2046.0322860767965\n",
    "ARIMA(1, 0, 0)x(1, 0, 0, 12)12 - AIC:2251.161836452999\n",
    "ARIMA(1, 0, 0)x(1, 0, 1, 12)12 - AIC:2067.5906894678365\n",
    "ARIMA(1, 0, 0)x(1, 1, 0, 12)12 - AIC:2107.8230489231664\n",
    "ARIMA(1, 0, 0)x(1, 1, 1, 12)12 - AIC:2050.9250459305513\n",
    "ARIMA(1, 0, 1)x(0, 0, 0, 12)12 - AIC:2846.6852669758932\n",
    "ARIMA(1, 0, 1)x(0, 0, 1, 12)12 - AIC:2584.2753823646403\n",
    "ARIMA(1, 0, 1)x(0, 1, 0, 12)12 - AIC:2243.760530091261\n",
    "ARIMA(1, 0, 1)x(0, 1, 1, 12)12 - AIC:2031.901641695547\n",
    "ARIMA(1, 0, 1)x(1, 0, 0, 12)12 - AIC:2248.6586098118164\n",
    "ARIMA(1, 0, 1)x(1, 0, 1, 12)12 - AIC:2060.3626766462585\n",
    "ARIMA(1, 0, 1)x(1, 1, 0, 12)12 - AIC:2098.6203156368438\n",
    "ARIMA(1, 0, 1)x(1, 1, 1, 12)12 - AIC:2036.29917099281\n",
    "ARIMA(1, 1, 0)x(0, 0, 0, 12)12 - AIC:2853.83098376432\n",
    "ARIMA(1, 1, 0)x(0, 0, 1, 12)12 - AIC:2593.0675116185066\n",
    "ARIMA(1, 1, 0)x(0, 1, 0, 12)12 - AIC:2308.600846786353\n",
    "ARIMA(1, 1, 0)x(0, 1, 1, 12)12 - AIC:2053.719184205286\n",
    "ARIMA(1, 1, 0)x(1, 0, 0, 12)12 - AIC:2280.908596859923\n",
    "ARIMA(1, 1, 0)x(1, 0, 1, 12)12 - AIC:2093.6589890435157\n",
    "ARIMA(1, 1, 0)x(1, 1, 0, 12)12 - AIC:2134.9031516525615\n",
    "ARIMA(1, 1, 0)x(1, 1, 1, 12)12 - AIC:2058.3416689359224\n",
    "ARIMA(1, 1, 1)x(0, 0, 0, 12)12 - AIC:2841.5426637573187\n",
    "ARIMA(1, 1, 1)x(0, 0, 1, 12)12 - AIC:2582.752067342598\n",
    "ARIMA(1, 1, 1)x(0, 1, 0, 12)12 - AIC:2240.141291887341\n",
    "ARIMA(1, 1, 1)x(0, 1, 1, 12)12 - AIC:2003.5534515576674\n",
    "ARIMA(1, 1, 1)x(1, 0, 0, 12)12 - AIC:2219.7289272398034\n",
    "ARIMA(1, 1, 1)x(1, 0, 1, 12)12 - AIC:2043.6020481805979\n",
    "ARIMA(1, 1, 1)x(1, 1, 0, 12)12 - AIC:2096.2412677850516\n",
    "ARIMA(1, 1, 1)x(1, 1, 1, 12)12 - AIC:2005.5002845421022\n",
    "          pdq     pdq_x_QDQs          aic\n",
    "55  (1, 1, 1)  (0, 1, 1, 12)  2003.553452"
   ]
  },
  {
   "attachments": {},
   "cell_type": "markdown",
   "id": "d392cebd",
   "metadata": {},
   "source": [
    "SARIMAX(1, 1, 1)x(0, 1, 1, 12) yields the lowest AIC value of 2003.553. Therefore, we will consider this to be optimal option out of all the parameter combinations.W e have identified the set of parameters that produces the best fitting model to our time series data. We can proceed to analyze this particular model in more depth."
   ]
  },
  {
   "cell_type": "code",
   "execution_count": null,
   "id": "57949dc4",
   "metadata": {},
   "outputs": [],
   "source": [
    "mod = sm.tsa.statespace.SARIMAX(mte, \n",
    "                                order=(1,1,1), \n",
    "                                seasonal_order=(0,1,1,12),   \n",
    "                                enforce_stationarity=False,\n",
    "                                enforce_invertibility=False)\n",
    "results = mod.fit()\n",
    "print(results.summary())"
   ]
  },
  {
   "cell_type": "code",
   "execution_count": null,
   "id": "7ee9a6fe",
   "metadata": {},
   "outputs": [],
   "source": [
    "                                        Statespace Model Results                                         \n",
    "===========================================================================================================\n",
    "Dep. Variable:     Natural Gas Electric Power Sector CO2 Emissions   No. Observations:                  523\n",
    "Model:                              SARIMAX(1, 1, 1)x(0, 1, 1, 12)   Log Likelihood                -997.777\n",
    "Date:                                             Sat, 17 Mar 2018   AIC                           2003.553\n",
    "Time:                                                     12:06:39   BIC                           2020.592\n",
    "Sample:                                                 01-31-1973   HQIC                          2010.226\n",
    "                                                      - 07-31-2016                                         \n",
    "Covariance Type:                                               opg                                         \n",
    "==============================================================================\n",
    "                 coef    std err          z      P>|z|      [0.025      0.975]\n",
    "------------------------------------------------------------------------------\n",
    "ar.L1          0.6684      0.040     16.560      0.000       0.589       0.748\n",
    "ma.L1         -0.9534      0.020    -46.799      0.000      -0.993      -0.914\n",
    "ma.S.L12      -0.7287      0.027    -27.036      0.000      -0.782      -0.676\n",
    "sigma2         3.2378      0.133     24.263      0.000       2.976       3.499\n",
    "===================================================================================\n",
    "Ljung-Box (Q):                       65.99   Jarque-Bera (JB):               183.59\n",
    "Prob(Q):                              0.01   Prob(JB):                         0.00\n",
    "Heteroskedasticity (H):               7.58   Skew:                             0.43\n",
    "Prob(H) (two-sided):                  0.00   Kurtosis:                         5.85\n",
    "===================================================================================\n",
    "\n",
    "Warnings:\n",
    "[1] Covariance matrix calculated using the outer product of gradients (complex-step)."
   ]
  },
  {
   "attachments": {},
   "cell_type": "markdown",
   "id": "31656587",
   "metadata": {},
   "source": [
    "The coef column shows the weight (i.e. importance) of each feature and how each one impacts the time series. The P>|z| column informs us of the significance of each feature weight. Here, each weight has a p-value close to 0, so it is reasonable to include the features in our model.\n",
    "\n",
    "When fitting seasonal ARIMA models, it is important to run model diagnostics to ensure that none of the assumptions made by the model have been violated. First, we get a line plot of the residual errors, suggesting that there may still be some trend information not captured by the model.\n"
   ]
  },
  {
   "cell_type": "code",
   "execution_count": null,
   "id": "1cd19e9b",
   "metadata": {},
   "outputs": [],
   "source": [
    "results.resid.plot(figsize=(12,8))"
   ]
  },
  {
   "attachments": {},
   "cell_type": "markdown",
   "id": "4a945685",
   "metadata": {},
   "source": [
    "<br>\n",
    "<img align = \"middle\" src=\"../images/project_Final_Image_16.png\" alt=\"Drawing\" style=\"width: 500px;\">\n",
    "<br>"
   ]
  },
  {
   "cell_type": "code",
   "execution_count": null,
   "id": "30ffdb31",
   "metadata": {},
   "outputs": [],
   "source": [
    "print(results.resid.describe())"
   ]
  },
  {
   "cell_type": "code",
   "execution_count": null,
   "id": "177b0bd6",
   "metadata": {},
   "outputs": [],
   "source": [
    "count    523.000000\n",
    "mean       0.144267\n",
    "std        1.885626\n",
    "min       -6.528425\n",
    "25%       -0.791260\n",
    "50%        0.126975\n",
    "75%        1.040651\n",
    "max       12.175000\n",
    "dtype: float64"
   ]
  },
  {
   "attachments": {},
   "cell_type": "markdown",
   "id": "1feed7b0",
   "metadata": {},
   "source": [
    "The figure displays the distribution of the residual errors. It shows a little bias in the prediction. Next, we get a density plot of the residual error values, suggesting the errors are Gaussian, but may not be centered on zero."
   ]
  },
  {
   "cell_type": "code",
   "execution_count": null,
   "id": "15ce87ed",
   "metadata": {},
   "outputs": [],
   "source": [
    "results.resid.plot(figsize=(12,8),kind='kde')"
   ]
  },
  {
   "attachments": {},
   "cell_type": "markdown",
   "id": "1f6a75f4",
   "metadata": {},
   "source": [
    "<br>\n",
    "<img align = \"middle\" src=\"../images/project_Final_Image_17.png\" alt=\"Drawing\" style=\"width: 500px;\">\n",
    "<br>"
   ]
  },
  {
   "attachments": {},
   "cell_type": "markdown",
   "id": "af2d5ee8",
   "metadata": {},
   "source": [
    "The plot_diagnostics object allows us to quickly generate model diagnostics and investigate for any unusual behavior."
   ]
  },
  {
   "cell_type": "code",
   "execution_count": null,
   "id": "102cd64d",
   "metadata": {},
   "outputs": [],
   "source": [
    "results.plot_diagnostics(figsize=(15, 12))\n",
    "plt.show()"
   ]
  },
  {
   "attachments": {},
   "cell_type": "markdown",
   "id": "7c6b6bb6",
   "metadata": {},
   "source": [
    "<br>\n",
    "<img align = \"middle\" src=\"../images/project_Final_Image_18.png\" alt=\"Drawing\" style=\"width: 500px;\">\n",
    "<br>"
   ]
  },
  {
   "attachments": {},
   "cell_type": "markdown",
   "id": "6210276e",
   "metadata": {},
   "source": [
    "Our primary concern is to ensure that the residuals of our model are uncorrelated and normally distributed with zero-mean. If the seasonal ARIMA model does not satisfy these properties, it is a good indication that it can be further improved."
   ]
  },
  {
   "attachments": {},
   "cell_type": "markdown",
   "id": "a50cf55c",
   "metadata": {},
   "source": [
    "\n",
    "\n",
    "The model diagnostic suggests that the model residual is normally distributed based on the following:\n",
    "\n",
    "- In the top right plot, the red KDE line follows closely with the N(0,1) line. Where, N(0,1) is the standard notation for a normal distribution with mean 0 and standard deviation of 1. This is a good indication that the residuals are normally distributed. The forecast errors deviate somewhat from the straight line, indicating that the normal distribution is not a perfect model for the distribution of forecast errors, but it is not unreasonable.\n",
    "- The qq-plot on the bottom left shows that the ordered distribution of residuals (blue dots) follows the linear trend of the samples taken from a standard normal distribution. Again, this is a strong indication that the residuals are normally distributed.\n",
    "- The residuals over time (top left plot) don't display any obvious seasonality and appear to be white noise. This is confirmed by the autocorrelation (i.e. correlogram) plot on the bottom right, which shows that the time series residuals have low correlation with lagged versions of itself.\n",
    "\n",
    "Those observations lead us to conclude that our model produces a satisfactory fit that could help us understand our time series data and forecast future values.\n"
   ]
  },
  {
   "attachments": {},
   "cell_type": "markdown",
   "id": "afe1056f",
   "metadata": {},
   "source": [
    "<hr>"
   ]
  },
  {
   "attachments": {},
   "cell_type": "markdown",
   "id": "f9f8c945",
   "metadata": {},
   "source": [
    "### 7. Validating prediction"
   ]
  },
  {
   "attachments": {},
   "cell_type": "markdown",
   "id": "6c0be186",
   "metadata": {},
   "source": [
    "We have obtained a model for our time series that can now be used to produce forecasts. We start by comparing predicted values to real values of the time series, which will help us understand the accuracy of our forecast. The get_prediction() and conf_int() attributes allow us to obtain the values and associated confidence intervals for forecasts of the time series."
   ]
  },
  {
   "cell_type": "code",
   "execution_count": null,
   "id": "c85011a8",
   "metadata": {},
   "outputs": [],
   "source": [
    "pred = results.get_prediction(start = 480, end = 523, dynamic=False)\n",
    "pred_ci = pred.conf_int()\n",
    "pred_ci.head()"
   ]
  },
  {
   "cell_type": "code",
   "execution_count": null,
   "id": "237b73f7",
   "metadata": {},
   "outputs": [],
   "source": [
    " \tlower Natural Gas Electric Power Sector CO2 Emissions \tupper Natural Gas Electric Power Sector CO2 Emissions\n",
    "2013-01-31 \t30.203834 \t37.257324\n",
    "2013-02-28 \t29.088380 \t36.141870\n",
    "2013-03-31 \t28.958984 \t36.012474\n",
    "2013-04-30 \t30.708073 \t37.761563\n",
    "2013-05-31 \t32.104079 \t39.157569"
   ]
  },
  {
   "attachments": {},
   "cell_type": "markdown",
   "id": "1d468549",
   "metadata": {},
   "source": [
    "The dynamic=False argument ensures that we produce one-step ahead forecasts, meaning that forecasts at each point are generated using the full history up to that point.\n",
    "\n",
    "We can plot the real and forecasted values of the CO2 emission time series to assess how well the model fits."
   ]
  },
  {
   "cell_type": "code",
   "execution_count": null,
   "id": "fbae9878",
   "metadata": {},
   "outputs": [],
   "source": [
    "ax = mte['1973':].plot(label='observed')\n",
    "pred.predicted_mean.plot(ax=ax, label='One-step ahead forecast', alpha=.7)\n",
    "\n",
    "ax.fill_between(pred_ci.index,\n",
    "                pred_ci.iloc[:, 0],\n",
    "                pred_ci.iloc[:, 1], color='r', alpha=.5)\n",
    "\n",
    "ax.set_xlabel('Time (years)')\n",
    "ax.set_ylabel('NG CO2 Emissions')\n",
    "plt.legend()\n",
    "\n",
    "plt.show()"
   ]
  },
  {
   "attachments": {},
   "cell_type": "markdown",
   "id": "a68001dd",
   "metadata": {},
   "source": [
    "<br>\n",
    "<img align = \"middle\" src=\"../images/project_Final_Image_19.png\" alt=\"Drawing\" style=\"width: 500px;\">\n",
    "<br>"
   ]
  },
  {
   "attachments": {},
   "cell_type": "markdown",
   "id": "d6726835",
   "metadata": {},
   "source": [
    "\n",
    "\n",
    "Overall, our forecasts align with the true values very well, showing an overall similar behavior.\n",
    "\n",
    "It is also useful to quantify the accuracy of our forecasts. We will use the MSE (Mean Squared Error), which summarizes the average error of our forecasts. For each predicted value, we compute its distance to the true value and square the result. The results need to be squared so that positive/negative differences do not cancel each other out.\n"
   ]
  },
  {
   "cell_type": "code",
   "execution_count": null,
   "id": "7ccfe96a",
   "metadata": {},
   "outputs": [],
   "source": [
    "mte_forecast = pred.predicted_mean\n",
    "mte_truth = mte['2013-01-31':]\n",
    "\n",
    "# Compute the mean square error\n",
    "mse = ((mte_forecast - mte_truth) ** 2).mean()\n",
    "print('The Mean Squared Error (MSE) of the forecast is {}'.format(round(mse, 2)))\n",
    "print('The Root Mean Square Error (RMSE) of the forcast: {:.4f}'\n",
    "      .format(np.sqrt(sum((mte_forecast-mte_truth)**2)/len(mte_forecast))))"
   ]
  },
  {
   "cell_type": "code",
   "execution_count": null,
   "id": "afe3f790",
   "metadata": {},
   "outputs": [],
   "source": [
    "The Mean Squared Error (MSE) of the forecast is 4.09\n",
    "The Root Mean Square Error (RMSE) of the forcast: nan"
   ]
  },
  {
   "cell_type": "code",
   "execution_count": null,
   "id": "ac34c77b",
   "metadata": {},
   "outputs": [],
   "source": [
    "mte_pred_concat = pd.concat([mte_truth, mte_forecast])"
   ]
  },
  {
   "attachments": {},
   "cell_type": "markdown",
   "id": "28fca0f5",
   "metadata": {},
   "source": [
    "The goal of developing the model is to get a good quality predictive power using dynamic forecast. That is, we use information from the time series up to a certain point, and after that, forecasts are generated using values from previous forecasted time points as follows:"
   ]
  },
  {
   "cell_type": "code",
   "execution_count": null,
   "id": "774ab7bf",
   "metadata": {},
   "outputs": [],
   "source": [
    "pred_dynamic = results.get_prediction(start=pd.to_datetime('2013-01-31'), dynamic=True, full_results=True)\n",
    "pred_dynamic_ci = pred_dynamic.conf_int()"
   ]
  },
  {
   "attachments": {},
   "cell_type": "markdown",
   "id": "0ee73382",
   "metadata": {},
   "source": [
    "From, plotting the observed and forecasted values of the time series, we see that the overall forecasts are accurate even when we use the dynamic forecast. All forecasted values (red line) match closely to the orginal observed (blue line) data, and are well within the confidence intervals of our forecast."
   ]
  },
  {
   "cell_type": "code",
   "execution_count": null,
   "id": "bfc2284a",
   "metadata": {},
   "outputs": [],
   "source": [
    "ax = mte['1973':].plot(label='observed', figsize=(20, 15))\n",
    "pred_dynamic.predicted_mean.plot(label='Dynamic Forecast', ax=ax)\n",
    "\n",
    "ax.fill_between(pred_dynamic_ci.index,\n",
    "                pred_dynamic_ci.iloc[:, 0],\n",
    "                pred_dynamic_ci.iloc[:, 1], \n",
    "                color='r', \n",
    "                alpha=.3)\n",
    "\n",
    "ax.fill_betweenx(ax.get_ylim(), \n",
    "                 pd.to_datetime('2013-01-31'), \n",
    "                 mte.index[-1],\n",
    "                 alpha=.1, zorder=-1)\n",
    "\n",
    "ax.set_xlabel('Time (years)')\n",
    "ax.set_ylabel('CO2 Emissions')\n",
    "\n",
    "plt.legend()\n",
    "plt.show()"
   ]
  },
  {
   "attachments": {},
   "cell_type": "markdown",
   "id": "8f78995c",
   "metadata": {},
   "source": [
    "<br>\n",
    "<img align = \"middle\" src=\"../images/project_Final_Image_20.png\" alt=\"Drawing\" style=\"width: 500px;\">\n",
    "<br>"
   ]
  },
  {
   "cell_type": "code",
   "execution_count": null,
   "id": "a87bb2ab",
   "metadata": {},
   "outputs": [],
   "source": [
    "# Extract the predicted and true values of our time series\n",
    "mte_forecast = pred_dynamic.predicted_mean\n",
    "mte_orginal = mte['2013-01-31':]\n",
    "\n",
    "# Compute the mean square error\n",
    "mse = ((mte_forecast - mte_orginal) ** 2).mean()\n",
    "print('The Mean Squared Error (MSE) of the forecast is {}'.format(round(mse, 2)))\n",
    "print('The Root Mean Square Error (RMSE) of the forcast: {:.4f}'\n",
    "      .format(np.sqrt(sum((mte_forecast-mte_orginal)**2)/len(mte_forecast))))"
   ]
  },
  {
   "cell_type": "code",
   "execution_count": null,
   "id": "75d9fcfc",
   "metadata": {},
   "outputs": [],
   "source": [
    "The Mean Squared Error (MSE) of the forecast is 14.39\n",
    "The Root Mean Square Error (RMSE) of the forcast: 3.7936"
   ]
  },
  {
   "attachments": {},
   "cell_type": "markdown",
   "id": "7946eb23",
   "metadata": {},
   "source": [
    "<hr>"
   ]
  },
  {
   "attachments": {},
   "cell_type": "markdown",
   "id": "c00ae748",
   "metadata": {},
   "source": [
    "## 8. Forecasting"
   ]
  },
  {
   "cell_type": "code",
   "execution_count": null,
   "id": "96b14838",
   "metadata": {},
   "outputs": [],
   "source": [
    "# Get forecast of 10 years or 120 months steps ahead in future\n",
    "forecast = results.get_forecast(steps= 120)\n",
    "# Get confidence intervals of forecasts\n",
    "forecast_ci = forecast.conf_int()\n",
    "forecast_ci.head()"
   ]
  },
  {
   "cell_type": "code",
   "execution_count": null,
   "id": "47890ca1",
   "metadata": {},
   "outputs": [],
   "source": [
    " \tlower Natural Gas Electric Power Sector CO2 Emissions \tupper Natural Gas Electric Power Sector CO2 Emissions\n",
    "2016-08-31 \t58.062559 \t65.116049\n",
    "2016-09-30 \t47.316614 \t55.987495\n",
    "2016-10-31 \t40.736071 \t50.163095\n",
    "2016-11-30 \t36.175922 \t46.010287\n",
    "2016-12-31 \t38.095110 \t48.172698"
   ]
  },
  {
   "cell_type": "markdown",
   "id": "9938eeba",
   "metadata": {},
   "source": [
    "We can use the output of this code to plot the time series and forecasts of its future values."
   ]
  },
  {
   "cell_type": "code",
   "execution_count": null,
   "id": "782f90b9",
   "metadata": {},
   "outputs": [],
   "source": [
    "ax = mte.plot(label='observed', figsize=(20, 15))\n",
    "forecast.predicted_mean.plot(ax=ax, label='Forecast')\n",
    "ax.fill_between(forecast_ci.index,\n",
    "                forecast_ci.iloc[:, 0],\n",
    "                forecast_ci.iloc[:, 1], color='g', alpha=.4)\n",
    "ax.set_xlabel('Time (year)')\n",
    "ax.set_ylabel('NG CO2 Emission level')\n",
    "\n",
    "plt.legend()\n",
    "plt.show()"
   ]
  },
  {
   "attachments": {},
   "cell_type": "markdown",
   "id": "b4dc275d",
   "metadata": {},
   "source": [
    "<br>\n",
    "<img align = \"middle\" src=\"../images/project_Final_Image_21.png\" alt=\"Drawing\" style=\"width: 500px;\">\n",
    "<br>"
   ]
  },
  {
   "attachments": {},
   "cell_type": "markdown",
   "id": "eb91982c",
   "metadata": {},
   "source": [
    "Both the forecast and associated confidence interval that we have generated can now be used to further explore and understand the time series. The forecast shows that the CO2 emission from natural gas power generation is expected to continue increasing."
   ]
  },
  {
   "attachments": {},
   "cell_type": "markdown",
   "id": "d1282a37",
   "metadata": {},
   "source": [
    "<hr>"
   ]
  },
  {
   "attachments": {},
   "cell_type": "markdown",
   "id": "7fe2233e",
   "metadata": {},
   "source": [
    "## 9. Conclusion"
   ]
  },
  {
   "attachments": {},
   "cell_type": "markdown",
   "id": "2e83c4e5",
   "metadata": {},
   "source": [
    "In this notebook, I have explored how to retrieve CSV dataset, how to transform the dataset into times series, testing if the time series is stationary or not using graphical and Dickey-Fuller test statistic methods, how to transform time series to stationary, how to find optimal parameters to build SARIMA model using grid search method, diagnosing time series prediction, validating the predictive power, forecasting 10 year future CO2 emission from power generation using natural gas.\n",
    "\n",
    "<hr>"
   ]
  },
  {
   "attachments": {},
   "cell_type": "markdown",
   "id": "76a90e14",
   "metadata": {},
   "source": [
    "**Future work:** developing a time series model of natural gas forecasing"
   ]
  },
  {
   "attachments": {},
   "cell_type": "markdown",
   "id": "75363962",
   "metadata": {},
   "source": [
    "<hr>"
   ]
  },
  {
   "attachments": {},
   "cell_type": "markdown",
   "id": "d1ab3bf1",
   "metadata": {},
   "source": [
    "CO2 Emission Forecast with Python (Seasonal ARIMA)<br>\n",
    "<a href =  https://www.kaggle.com/code/vijaikm/co2-emission-forecast-with-python-seasonal-arima/notebook> Notepad Link "
   ]
  }
 ],
 "metadata": {
  "kernelspec": {
   "display_name": "Python 3 (ipykernel)",
   "language": "python",
   "name": "python3"
  },
  "language_info": {
   "codemirror_mode": {
    "name": "ipython",
    "version": 3
   },
   "file_extension": ".py",
   "mimetype": "text/x-python",
   "name": "python",
   "nbconvert_exporter": "python",
   "pygments_lexer": "ipython3",
   "version": "3.9.2rc1"
  }
 },
 "nbformat": 4,
 "nbformat_minor": 5
}
