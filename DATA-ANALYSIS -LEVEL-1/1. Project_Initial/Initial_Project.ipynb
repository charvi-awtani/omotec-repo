{
 "cells": [
  {
   "attachments": {},
   "cell_type": "markdown",
   "id": "c900fbd8",
   "metadata": {},
   "source": [
    "## Project : Google Dino Game of - Automation\n",
    "#### **Google Chrome Dino Bot using Image Recognition**<br>\n",
    "```Develop a Python-based project with NumPy , Pyautogui and PIL (Python Imaging Library) & Time Libraries for implementation.```<br>\n",
    "```This project is very basic and consists of only few lines of code.```\n"
   ]
  },
  {
   "attachments": {},
   "cell_type": "markdown",
   "id": "125babf3",
   "metadata": {},
   "source": [
    "<br>\n",
    "<img align = \"middle\" src=\"Images/dino-intro.png\" alt=\"Drawing\" style=\"height: 200px; width: 800px;\">\n",
    "<br>\n"
   ]
  },
  {
   "attachments": {},
   "cell_type": "markdown",
   "id": "2432ff3d",
   "metadata": {},
   "source": [
    "### Table of Contents<br>\n",
    "    Problem statement\n",
    "    1. Introduction\n",
    "    2. Algorithm\n",
    "    3. Python implementation\n",
    "    4. Improvements"
   ]
  },
  {
   "attachments": {},
   "cell_type": "markdown",
   "id": "77bee8d8",
   "metadata": {},
   "source": [
    "### Problem Statement:\n",
    "\n",
    "- Click on the restart button using Pyautogui library using “replaybutton” coordinates.\n",
    "- Calculate the sum of all white pixels values present in the box in front of Dinosaur.\n",
    "- If the sum of pixels values present at any time in the box becomes less than the sum of white pixels values, it means either “bush” or “bird” is coming. So either we have to make our Dino jump or bend down.\n",
    "- In order to protect Dino from “Bush”, we make a jump.\n",
    "- In order to protect Dino from “Bird”, we always keep our Dino down."
   ]
  },
  {
   "attachments": {},
   "cell_type": "markdown",
   "id": "30d9a76e",
   "metadata": {},
   "source": [
    "<hr>"
   ]
  },
  {
   "attachments": {},
   "cell_type": "markdown",
   "id": "f8fea9e2",
   "metadata": {},
   "source": [
    "### 1. Introduction<br>\n",
    "\n",
    "```We will work with NumPy , Pyautogui and PIL (Python Imaging Library) for implementation. This project is very basic and consists of only about 50 lines of code but its result will make you surprise.``` <br>\n",
    "**Some libraries used are:**<br>\n",
    "**PIL:** Python Imaging Library (PIL) is a free library for the Python programming language that adds support for opening, manipulating, and saving many different image file formats. <br>\n",
    "**Pyautogui:** PyAutoGUI is a Python module for programmatically controlling the mouse and keyboard without any user interaction.<br>\n",
    "**Time:** Python “Time” Module which allows us to handle various operations regarding time, its conversions and representations, which find its use in various applications in life.<br>\n",
    "**Numpy:** NumPy is a library for the Python programming language, adding support for large, multi-dimensional arrays and matrices, along with a large collection of high-level mathematical functions to operate on these arrays."
   ]
  },
  {
   "attachments": {},
   "cell_type": "markdown",
   "id": "aed72479",
   "metadata": {},
   "source": [
    "\n",
    "### 2. Algorithm <br>\n",
    "\n",
    "1. Click on the restart button using Pyautogui library using “replaybutton” coordinates.\n",
    "2. Calculate the sum of all white pixels values present in the box in front of Dinosaur.\n",
    "3. If the sum of pixels values present at any time in the box becomes less than the sum of white pixels values, it means either “bush” or “bird” is coming. So either we have to make our Dino jump or bend down.\n",
    "4. In order to protect Dino from “Bush”, we make a jump.\n",
    "5. In order to protect Dino from “Bird”, we always keep our Dino down.<br>\n",
    "```Reference ```<a href = \"https://www.geeksforgeeks.org/google-chrome-dino-bot-using-image-recognition-python/\"> ```click here.```\n"
   ]
  },
  {
   "attachments": {},
   "cell_type": "markdown",
   "id": "603c6f1d",
   "metadata": {},
   "source": [
    "### 3. Python implementation:"
   ]
  },
  {
   "attachments": {},
   "cell_type": "markdown",
   "id": "04b6aab4",
   "metadata": {},
   "source": [
    "#### Importing Libraries"
   ]
  },
  {
   "cell_type": "code",
   "execution_count": null,
   "id": "d1bfea0a",
   "metadata": {},
   "outputs": [],
   "source": [
    "# importing above defined libraries to\n",
    "from PIL import ImageGrab, ImageOps\n",
    "import pyautogui\n",
    "import time\n",
    "import numpy as np"
   ]
  },
  {
   "attachments": {},
   "cell_type": "markdown",
   "id": "38d7a789",
   "metadata": {},
   "source": [
    "```Python Class implementation:```"
   ]
  },
  {
   "cell_type": "code",
   "execution_count": null,
   "id": "b5bad8fe",
   "metadata": {},
   "outputs": [],
   "source": [
    "class coordinates():\n",
    "  \n",
    "    # coordinates of replay button to start the game\n",
    "    replaybutton =(360, 214)\n",
    "    # this coordinates represent the top-right coordinates\n",
    "    # that will be used to define the front box\n",
    "    dinasaur = (149, 239 )"
   ]
  },
  {
   "attachments": {},
   "cell_type": "markdown",
   "id": "a4082c41",
   "metadata": {},
   "source": [
    "```Python Functions implementation:```"
   ]
  },
  {
   "cell_type": "code",
   "execution_count": null,
   "id": "683c5f4e",
   "metadata": {},
   "outputs": [],
   "source": [
    "def restartGame():\n",
    "  \n",
    "    # using pyautogui library, we are clicking on the \n",
    "    # replay button without any user interaction \n",
    "    pyautogui.click(coordinates.replaybutton)\n",
    "  \n",
    "    # we will keep our Bot always down that \n",
    "    # will prevent him to get hit by bird \n",
    "    pyautogui.keyDown('down')"
   ]
  },
  {
   "cell_type": "code",
   "execution_count": null,
   "id": "396271e7",
   "metadata": {},
   "outputs": [],
   "source": [
    "def press_space():\n",
    "   \n",
    "    # releasing the Down Key \n",
    "    pyautogui.keyUp('down') \n",
    "  \n",
    "    # pressing Space to overcome Bush\n",
    "    pyautogui.keyDown('space')\n",
    "  \n",
    "    # so that Space Key will be recognized easily\n",
    "    time.sleep(0.05) \n",
    "  \n",
    "    # printing the \"Jump\" statement on the\n",
    "    # terminal to see the current output \n",
    "    print(\"jump\")\n",
    "    time.sleep(0.10)\n",
    "  \n",
    "    # releasing the Space Key \n",
    "    pyautogui.keyUp('space')\n",
    "  \n",
    "    # again pressing the Down Key to keep my Bot always down \n",
    "    pyautogui.keyDown('down')"
   ]
  },
  {
   "cell_type": "code",
   "execution_count": null,
   "id": "f16e850c",
   "metadata": {},
   "outputs": [],
   "source": [
    "def imageGrab(): \n",
    "    # defining the coordinates of box in front of dinosaur \n",
    "    box = (coordinates.dinasaur[0]+30, coordinates.dinasaur[1],\n",
    "           coordinates.dinasaur[0]+120, coordinates.dinasaur[1]+2)\n",
    "  \n",
    "    # grabbing all the pixels values in form of RGB tuples   \n",
    "    image = ImageGrab.grab(box)\n",
    "  \n",
    "    # converting RGB to Grayscale to\n",
    "    # make processing easy and result faster \n",
    "    grayImage = ImageOps.grayscale(image)\n",
    "  \n",
    "    # using numpy to get sum of all grayscale pixels \n",
    "    a = np.array(grayImage.getcolors())\n",
    "  \n",
    "    # returning the sum\n",
    "    print(a.sum()) \n",
    "    return a.sum()"
   ]
  },
  {
   "cell_type": "code",
   "execution_count": null,
   "id": "100ff399",
   "metadata": {},
   "outputs": [],
   "source": [
    "# function to restart the game\n",
    "restartGame()\n",
    "while True: \n",
    "     # 435 is the sum of white pixels values of box. \n",
    "     # You may get different value is you are taking bigger \n",
    "     # or smaller box than the box taken in this article. \n",
    "     # if value returned by \"imageGrab\" function is not equal to 435, \n",
    "     # it means either bird or bush is coming towards dinosaur \n",
    "     if(imageGrab()!= 435):   \n",
    "        press_space()  \n",
    "        # time to recognize the operation performed by above function \n",
    "        time.sleep(0.1)   "
   ]
  },
  {
   "attachments": {},
   "cell_type": "markdown",
   "id": "cc5ce46c",
   "metadata": {},
   "source": [
    "```Below is the Complete Python implementation:```"
   ]
  },
  {
   "cell_type": "code",
   "execution_count": null,
   "id": "d5a6420a",
   "metadata": {},
   "outputs": [],
   "source": [
    "# importing above defined libraries to\n",
    "# implement the functionalities \n",
    "from PIL import ImageGrab, ImageOps\n",
    "import pyautogui\n",
    "import time\n",
    "import numpy as np  \n",
    "    \n",
    "time.sleep(5)\n",
    "\n",
    "class coordinates():\n",
    "  \n",
    "    # coordinates of replay button to start the game\n",
    "    replaybutton =(360, 214)\n",
    "    # this coordinates represent the top-right coordinates\n",
    "    # that will be used to define the front box\n",
    "    dinasaur = (149, 239 )\n",
    "      \n",
    "def restartGame():\n",
    "  \n",
    "    # using pyautogui library, we are clicking on the \n",
    "    # replay button without any user interaction \n",
    "    pyautogui.click(coordinates.replaybutton)\n",
    "  \n",
    "    # we will keep our Bot always down that \n",
    "    # will prevent him to get hit by bird \n",
    "    pyautogui.keyDown('down')\n",
    "  \n",
    "def press_space():\n",
    "   \n",
    "    # releasing the Down Key \n",
    "    pyautogui.keyUp('down') \n",
    "  \n",
    "    # pressing Space to overcome Bush\n",
    "    pyautogui.keyDown('space')\n",
    "  \n",
    "    # so that Space Key will be recognized easily\n",
    "    time.sleep(0.05) \n",
    "  \n",
    "    # printing the \"Jump\" statement on the\n",
    "    # terminal to see the current output \n",
    "    print(\"jump\")\n",
    "    time.sleep(0.10)\n",
    "  \n",
    "    # releasing the Space Key \n",
    "    pyautogui.keyUp('space')\n",
    "  \n",
    "    # again pressing the Down Key to keep my Bot always down \n",
    "    pyautogui.keyDown('down')\n",
    "  \n",
    "def imageGrab(): \n",
    "    # defining the coordinates of box in front of dinosaur \n",
    "    box = (coordinates.dinasaur[0]+30, coordinates.dinasaur[1],\n",
    "           coordinates.dinasaur[0]+120, coordinates.dinasaur[1]+2)\n",
    "  \n",
    "    # grabbing all the pixels values in form of RGB tuples   \n",
    "    image = ImageGrab.grab(box)\n",
    "  \n",
    "    # converting RGB to Grayscale to\n",
    "    # make processing easy and result faster \n",
    "    grayImage = ImageOps.grayscale(image)\n",
    "  \n",
    "    # using numpy to get sum of all grayscale pixels \n",
    "    a = np.array(grayImage.getcolors())\n",
    "  \n",
    "    # returning the sum\n",
    "    print(a.sum()) \n",
    "    return a.sum()\n",
    "    \n",
    "     \n",
    "  \n",
    "# function to restart the game\n",
    "restartGame()\n",
    "while True: \n",
    "     # 435 is the sum of white pixels values of box. \n",
    "     # You may get different value is you are taking bigger \n",
    "     # or smaller box than the box taken in this article. \n",
    "     # if value returned by \"imageGrab\" function is not equal to 435, \n",
    "     # it means either bird or bush is coming towards dinosaur \n",
    "     if(imageGrab()!= 435):   \n",
    "        press_space()  \n",
    "        # time to recognize the operation performed by above function \n",
    "        time.sleep(0.1)   "
   ]
  },
  {
   "attachments": {},
   "cell_type": "markdown",
   "id": "6631c33a",
   "metadata": {},
   "source": [
    "<hr>"
   ]
  },
  {
   "attachments": {},
   "cell_type": "markdown",
   "id": "1d7f4f84",
   "metadata": {},
   "source": [
    "### 4. Improvements : <br>\n",
    "Over a period of time, the Dino Bot Game becomes fast. The Birds and Bushes start coming very fast. So we are not making our Bot to learn all these things, changing its speed based on past learning. So our bot will function for around 2000 score. In order to score more, we have to apply machine learning and artificial intelligence. "
   ]
  },
  {
   "attachments": {},
   "cell_type": "markdown",
   "id": "5eb77b3c",
   "metadata": {},
   "source": [
    "<hr>"
   ]
  },
  {
   "attachments": {},
   "cell_type": "markdown",
   "id": "03eb65b3",
   "metadata": {},
   "source": [
    "Google Chrome Dino Bot using Image Recognition <br>\n",
    "<a href =  https://www.geeksforgeeks.org/google-chrome-dino-bot-using-image-recognition-python/> Notepad Link "
   ]
  }
 ],
 "metadata": {
  "kernelspec": {
   "display_name": "Python 3 (ipykernel)",
   "language": "python",
   "name": "python3"
  },
  "language_info": {
   "codemirror_mode": {
    "name": "ipython",
    "version": 3
   },
   "file_extension": ".py",
   "mimetype": "text/x-python",
   "name": "python",
   "nbconvert_exporter": "python",
   "pygments_lexer": "ipython3",
   "version": "3.9.2rc1"
  }
 },
 "nbformat": 4,
 "nbformat_minor": 5
}
