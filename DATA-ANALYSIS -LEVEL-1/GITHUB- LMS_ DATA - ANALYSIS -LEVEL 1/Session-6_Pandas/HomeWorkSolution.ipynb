{
 "cells": [
  {
   "attachments": {},
   "cell_type": "markdown",
   "metadata": {},
   "source": [
    "## Homework Solutions"
   ]
  },
  {
   "attachments": {},
   "cell_type": "markdown",
   "metadata": {},
   "source": [
    "1) Write a program for DataFrame Filtering using ```Query() ```"
   ]
  },
  {
   "cell_type": "code",
   "execution_count": 2,
   "metadata": {},
   "outputs": [
    {
     "name": "stdout",
     "output_type": "stream",
     "text": [
      "   THE CORE DATAFRAME \n",
      "  Emp_No Employee_Name Employee_dept\n",
      "0   Emp1          Aron           CAD\n",
      "1   Emp2        sharon           CAD\n",
      "2   Emp3        claire           DEV\n",
      "3   Emp4           Sam           CAD\n",
      "\n",
      "   THE QUERIED DATAFRAME \n",
      "  Emp_No Employee_Name Employee_dept\n",
      "0   Emp1          Aron           CAD\n",
      "1   Emp2        sharon           CAD\n",
      "3   Emp4           Sam           CAD\n",
      "\n"
     ]
    }
   ],
   "source": [
    "# dataframe creation\n",
    "import pandas as pd\n",
    "Core_Dataframe = pd.DataFrame({'Emp_No': ['Emp1','Emp2','Emp3','Emp4'],\n",
    "'Employee_Name':  ['Aron', 'sharon', 'claire', 'Sam'],\n",
    "'Employee_dept': ['CAD', 'CAD', 'DEV', 'CAD']})\n",
    "print(\"   THE CORE DATAFRAME \")\n",
    "print(Core_Dataframe)  \n",
    "print(\"\")     \n",
    "# Dataframe query\n",
    "Queried_Dataframe = Core_Dataframe.query('Employee_dept == \"CAD\"')\n",
    "print(\"   THE QUERIED DATAFRAME \")\n",
    "print(Queried_Dataframe)\n",
    "print(\"\")"
   ]
  },
  {
   "attachments": {},
   "cell_type": "markdown",
   "metadata": {},
   "source": [
    "2) Python code to demonstrate how to use ```merge()``` function to perform an outer join on two DataFrames using Pandas library"
   ]
  },
  {
   "cell_type": "code",
   "execution_count": 1,
   "metadata": {},
   "outputs": [
    {
     "name": "stdout",
     "output_type": "stream",
     "text": [
      "   A    B     C\n",
      "0  1  2.0  10.0\n",
      "1  3  4.0  11.0\n",
      "2  5  6.0   NaN\n",
      "3  7  NaN  12.0\n"
     ]
    }
   ],
   "source": [
    "import pandas as pd\n",
    "\n",
    "# Create the first DataFrame\n",
    "df1 = pd.DataFrame({'A': [1, 3, 5], 'B': [2, 4, 6]})\n",
    "\n",
    "# Create the second DataFrame\n",
    "df2 = pd.DataFrame({'A': [1, 3, 7], 'C': [10, 11, 12]})\n",
    "\n",
    "# Perform outer join using merge() function\n",
    "result = pd.merge(df1, df2, on='A', how='outer')\n",
    "\n",
    "# Print the result\n",
    "print(result)"
   ]
  },
  {
   "attachments": {},
   "cell_type": "markdown",
   "metadata": {},
   "source": [
    "3) Add data on the dataset using Left join"
   ]
  },
  {
   "cell_type": "code",
   "execution_count": 2,
   "metadata": {},
   "outputs": [
    {
     "data": {
      "text/html": [
       "<div>\n",
       "<style scoped>\n",
       "    .dataframe tbody tr th:only-of-type {\n",
       "        vertical-align: middle;\n",
       "    }\n",
       "\n",
       "    .dataframe tbody tr th {\n",
       "        vertical-align: top;\n",
       "    }\n",
       "\n",
       "    .dataframe thead th {\n",
       "        text-align: right;\n",
       "    }\n",
       "</style>\n",
       "<table border=\"1\" class=\"dataframe\">\n",
       "  <thead>\n",
       "    <tr style=\"text-align: right;\">\n",
       "      <th></th>\n",
       "      <th>id</th>\n",
       "      <th>val1_x</th>\n",
       "      <th>val1_y</th>\n",
       "    </tr>\n",
       "  </thead>\n",
       "  <tbody>\n",
       "    <tr>\n",
       "      <th>0</th>\n",
       "      <td>11</td>\n",
       "      <td>a</td>\n",
       "      <td>u</td>\n",
       "    </tr>\n",
       "    <tr>\n",
       "      <th>1</th>\n",
       "      <td>22</td>\n",
       "      <td>b</td>\n",
       "      <td>n</td>\n",
       "    </tr>\n",
       "    <tr>\n",
       "      <th>2</th>\n",
       "      <td>10</td>\n",
       "      <td>c</td>\n",
       "      <td>NaN</td>\n",
       "    </tr>\n",
       "    <tr>\n",
       "      <th>3</th>\n",
       "      <td>12</td>\n",
       "      <td>d</td>\n",
       "      <td>NaN</td>\n",
       "    </tr>\n",
       "  </tbody>\n",
       "</table>\n",
       "</div>"
      ],
      "text/plain": [
       "   id val1_x val1_y\n",
       "0  11      a      u\n",
       "1  22      b      n\n",
       "2  10      c    NaN\n",
       "3  12      d    NaN"
      ]
     },
     "execution_count": 2,
     "metadata": {},
     "output_type": "execute_result"
    }
   ],
   "source": [
    "# importing pandas\n",
    "import pandas as pd\n",
    "\n",
    "# Creating dataframe a\n",
    "a = pd.DataFrame()\n",
    "\n",
    "# Creating Dictionary\n",
    "d = {'id': [11, 22, 10, 12],\n",
    "\t'val1': ['a', 'b', 'c', 'd']}\n",
    "\n",
    "a = pd.DataFrame(d)\n",
    "\n",
    "# Creating dataframe b\n",
    "b = pd.DataFrame()\n",
    "\n",
    "# Creating dictionary\n",
    "d = {'id': [11, 22, 9, 8],\n",
    "\t'val1': ['u', 'n', 'r', 's']}\n",
    "b = pd.DataFrame(d)\n",
    "\n",
    "# right outer join\n",
    "df = pd.merge(a, b, on='id', how='left')\n",
    "\n",
    "# display dataframe\n",
    "df\n"
   ]
  },
  {
   "attachments": {},
   "cell_type": "markdown",
   "metadata": {},
   "source": [
    "4) Write a program with input Dictionaries using Right Join"
   ]
  },
  {
   "cell_type": "code",
   "execution_count": 4,
   "metadata": {},
   "outputs": [
    {
     "data": {
      "text/html": [
       "<div>\n",
       "<style scoped>\n",
       "    .dataframe tbody tr th:only-of-type {\n",
       "        vertical-align: middle;\n",
       "    }\n",
       "\n",
       "    .dataframe tbody tr th {\n",
       "        vertical-align: top;\n",
       "    }\n",
       "\n",
       "    .dataframe thead th {\n",
       "        text-align: right;\n",
       "    }\n",
       "</style>\n",
       "<table border=\"1\" class=\"dataframe\">\n",
       "  <thead>\n",
       "    <tr style=\"text-align: right;\">\n",
       "      <th></th>\n",
       "      <th>id</th>\n",
       "      <th>val1_x</th>\n",
       "      <th>val1_y</th>\n",
       "    </tr>\n",
       "  </thead>\n",
       "  <tbody>\n",
       "    <tr>\n",
       "      <th>0</th>\n",
       "      <td>11</td>\n",
       "      <td>a</td>\n",
       "      <td>u</td>\n",
       "    </tr>\n",
       "    <tr>\n",
       "      <th>1</th>\n",
       "      <td>22</td>\n",
       "      <td>b</td>\n",
       "      <td>n</td>\n",
       "    </tr>\n",
       "    <tr>\n",
       "      <th>2</th>\n",
       "      <td>9</td>\n",
       "      <td>NaN</td>\n",
       "      <td>r</td>\n",
       "    </tr>\n",
       "    <tr>\n",
       "      <th>3</th>\n",
       "      <td>8</td>\n",
       "      <td>NaN</td>\n",
       "      <td>s</td>\n",
       "    </tr>\n",
       "  </tbody>\n",
       "</table>\n",
       "</div>"
      ],
      "text/plain": [
       "   id val1_x val1_y\n",
       "0  11      a      u\n",
       "1  22      b      n\n",
       "2   9    NaN      r\n",
       "3   8    NaN      s"
      ]
     },
     "execution_count": 4,
     "metadata": {},
     "output_type": "execute_result"
    }
   ],
   "source": [
    "# importing pandas\n",
    "import pandas as pd\n",
    "\n",
    "# Creating dataframe a\n",
    "a = pd.DataFrame()\n",
    "\n",
    "# Creating Dictionary\n",
    "d = {'id': [11, 22, 10, 12],\n",
    "\t'val1': ['a', 'b', 'c', 'd']}\n",
    "\n",
    "a = pd.DataFrame(d)\n",
    "\n",
    "# Creating dataframe b\n",
    "b = pd.DataFrame()\n",
    "\n",
    "# Creating dictionary\n",
    "d = {'id': [11, 22, 9, 8],\n",
    "\t'val1': ['u', 'n', 'r', 's']}\n",
    "b = pd.DataFrame(d)\n",
    "\n",
    "# right outer join\n",
    "df = pd.merge(a, b, on='id', how='right')\n",
    "\n",
    "# display dataframe\n",
    "df\n"
   ]
  },
  {
   "attachments": {},
   "cell_type": "markdown",
   "metadata": {},
   "source": [
    "5) Write a program with input Dictionaries using Left Join"
   ]
  },
  {
   "cell_type": "code",
   "execution_count": 5,
   "metadata": {},
   "outputs": [
    {
     "data": {
      "text/html": [
       "<div>\n",
       "<style scoped>\n",
       "    .dataframe tbody tr th:only-of-type {\n",
       "        vertical-align: middle;\n",
       "    }\n",
       "\n",
       "    .dataframe tbody tr th {\n",
       "        vertical-align: top;\n",
       "    }\n",
       "\n",
       "    .dataframe thead th {\n",
       "        text-align: right;\n",
       "    }\n",
       "</style>\n",
       "<table border=\"1\" class=\"dataframe\">\n",
       "  <thead>\n",
       "    <tr style=\"text-align: right;\">\n",
       "      <th></th>\n",
       "      <th>id</th>\n",
       "      <th>val1_x</th>\n",
       "      <th>val1_y</th>\n",
       "    </tr>\n",
       "  </thead>\n",
       "  <tbody>\n",
       "    <tr>\n",
       "      <th>0</th>\n",
       "      <td>1</td>\n",
       "      <td>a</td>\n",
       "      <td>NaN</td>\n",
       "    </tr>\n",
       "    <tr>\n",
       "      <th>1</th>\n",
       "      <td>2</td>\n",
       "      <td>b</td>\n",
       "      <td>NaN</td>\n",
       "    </tr>\n",
       "    <tr>\n",
       "      <th>2</th>\n",
       "      <td>10</td>\n",
       "      <td>c</td>\n",
       "      <td>r</td>\n",
       "    </tr>\n",
       "    <tr>\n",
       "      <th>3</th>\n",
       "      <td>12</td>\n",
       "      <td>d</td>\n",
       "      <td>q</td>\n",
       "    </tr>\n",
       "    <tr>\n",
       "      <th>4</th>\n",
       "      <td>12</td>\n",
       "      <td>d</td>\n",
       "      <td>s</td>\n",
       "    </tr>\n",
       "  </tbody>\n",
       "</table>\n",
       "</div>"
      ],
      "text/plain": [
       "   id val1_x val1_y\n",
       "0   1      a    NaN\n",
       "1   2      b    NaN\n",
       "2  10      c      r\n",
       "3  12      d      q\n",
       "4  12      d      s"
      ]
     },
     "execution_count": 5,
     "metadata": {},
     "output_type": "execute_result"
    }
   ],
   "source": [
    "# importing pandas\n",
    "import pandas as pd\n",
    "\n",
    "# Creating dataframe a\n",
    "a = pd.DataFrame()\n",
    "\n",
    "# Creating Dictionary\n",
    "d = {'id': [1, 2, 10, 12],\n",
    "\t'val1': ['a', 'b', 'c', 'd']}\n",
    "\n",
    "a = pd.DataFrame(d)\n",
    "\n",
    "# Creating dataframe b\n",
    "b = pd.DataFrame()\n",
    "\n",
    "# Creating dictionary\n",
    "d = {'id': [11, 12, 10, 12],\n",
    "\t'val1': ['p', 'q', 'r', 's']}\n",
    "b = pd.DataFrame(d)\n",
    "\n",
    "# left outer join\n",
    "df = pd.merge(a, b, on='id', how='left')\n",
    "\n",
    "# display dataframe\n",
    "df\n"
   ]
  },
  {
   "attachments": {},
   "cell_type": "markdown",
   "metadata": {},
   "source": [
    "6) Write a program with the below DataFrame and execute Group by 'continent' and print one of the continents using pandas groupby function\n",
    "```\n",
    "   DataFrame({'continent' : ['Asia','NorthAmerica','NorthAmerica','Europe','Europe', 'Europe','Asia', 'Europe', 'Asia'],\n",
    "               'country' : ['China', 'USA', 'Canada', 'Poland', 'Romania', 'Italy', 'India', 'Germany', 'Russia'],\n",
    "               'Member_G20' : ['Y', 'N', 'Y', 'N', 'Y', 'N', 'Y', 'N', 'Y']})\n",
    "```"
   ]
  },
  {
   "cell_type": "code",
   "execution_count": 10,
   "metadata": {},
   "outputs": [
    {
     "data": {
      "text/html": [
       "<div>\n",
       "<style scoped>\n",
       "    .dataframe tbody tr th:only-of-type {\n",
       "        vertical-align: middle;\n",
       "    }\n",
       "\n",
       "    .dataframe tbody tr th {\n",
       "        vertical-align: top;\n",
       "    }\n",
       "\n",
       "    .dataframe thead th {\n",
       "        text-align: right;\n",
       "    }\n",
       "</style>\n",
       "<table border=\"1\" class=\"dataframe\">\n",
       "  <thead>\n",
       "    <tr style=\"text-align: right;\">\n",
       "      <th></th>\n",
       "      <th>continent</th>\n",
       "      <th>country</th>\n",
       "      <th>Member_G20</th>\n",
       "    </tr>\n",
       "  </thead>\n",
       "  <tbody>\n",
       "    <tr>\n",
       "      <th>3</th>\n",
       "      <td>Europe</td>\n",
       "      <td>Poland</td>\n",
       "      <td>N</td>\n",
       "    </tr>\n",
       "    <tr>\n",
       "      <th>4</th>\n",
       "      <td>Europe</td>\n",
       "      <td>Romania</td>\n",
       "      <td>Y</td>\n",
       "    </tr>\n",
       "    <tr>\n",
       "      <th>5</th>\n",
       "      <td>Europe</td>\n",
       "      <td>Italy</td>\n",
       "      <td>N</td>\n",
       "    </tr>\n",
       "    <tr>\n",
       "      <th>7</th>\n",
       "      <td>Europe</td>\n",
       "      <td>Germany</td>\n",
       "      <td>N</td>\n",
       "    </tr>\n",
       "  </tbody>\n",
       "</table>\n",
       "</div>"
      ],
      "text/plain": [
       "  continent  country Member_G20\n",
       "3    Europe   Poland          N\n",
       "4    Europe  Romania          Y\n",
       "5    Europe    Italy          N\n",
       "7    Europe  Germany          N"
      ]
     },
     "execution_count": 10,
     "metadata": {},
     "output_type": "execute_result"
    }
   ],
   "source": [
    "import numpy as np\n",
    "\n",
    "df = pd.DataFrame({'continent' : ['Asia','NorthAmerica','NorthAmerica','Europe','Europe', 'Europe','Asia', 'Europe', 'Asia'],\n",
    "               'country' : ['China', 'USA', 'Canada', 'Poland', 'Romania', 'Italy', 'India', 'Germany', 'Russia'],\n",
    "               'Member_G20' : ['Y', 'N', 'Y', 'N', 'Y', 'N', 'Y', 'N', 'Y']})\n",
    "\n",
    "grp=df.groupby(['continent'])\n",
    "selected_group = grp.get_group('Europe')\n",
    "selected_group"
   ]
  },
  {
   "attachments": {},
   "cell_type": "markdown",
   "metadata": {},
   "source": [
    "7) Write a program using pandas groupby filter by column values and conditional aggregation on the below DataFrame.\n",
    "```\n",
    "   DataFrame({'continent' : ['Asia','NorthAmerica','NorthAmerica','Europe','Europe', 'Europe','Asia', 'Europe', 'Asia'],\n",
    "               'country' : ['China', 'USA', 'Canada', 'Poland', 'Romania', 'Italy', 'India', 'Germany', 'Russia'],\n",
    "               'Member_G20' : ['Y', 'N', 'Y', 'N', 'Y', 'N', 'Y', 'N', 'Y']})\n",
    "```\n",
    "   - Execute Groupby continent who are G20 Member"
   ]
  },
  {
   "cell_type": "code",
   "execution_count": 6,
   "metadata": {},
   "outputs": [
    {
     "data": {
      "text/html": [
       "<div>\n",
       "<style scoped>\n",
       "    .dataframe tbody tr th:only-of-type {\n",
       "        vertical-align: middle;\n",
       "    }\n",
       "\n",
       "    .dataframe tbody tr th {\n",
       "        vertical-align: top;\n",
       "    }\n",
       "\n",
       "    .dataframe thead th {\n",
       "        text-align: right;\n",
       "    }\n",
       "</style>\n",
       "<table border=\"1\" class=\"dataframe\">\n",
       "  <thead>\n",
       "    <tr style=\"text-align: right;\">\n",
       "      <th></th>\n",
       "      <th></th>\n",
       "      <th>continent</th>\n",
       "      <th>country</th>\n",
       "      <th>Member_G20</th>\n",
       "    </tr>\n",
       "    <tr>\n",
       "      <th>continent</th>\n",
       "      <th></th>\n",
       "      <th></th>\n",
       "      <th></th>\n",
       "      <th></th>\n",
       "    </tr>\n",
       "  </thead>\n",
       "  <tbody>\n",
       "    <tr>\n",
       "      <th rowspan=\"3\" valign=\"top\">Asia</th>\n",
       "      <th>0</th>\n",
       "      <td>Asia</td>\n",
       "      <td>China</td>\n",
       "      <td>Y</td>\n",
       "    </tr>\n",
       "    <tr>\n",
       "      <th>6</th>\n",
       "      <td>Asia</td>\n",
       "      <td>India</td>\n",
       "      <td>Y</td>\n",
       "    </tr>\n",
       "    <tr>\n",
       "      <th>8</th>\n",
       "      <td>Asia</td>\n",
       "      <td>Russia</td>\n",
       "      <td>Y</td>\n",
       "    </tr>\n",
       "    <tr>\n",
       "      <th>Europe</th>\n",
       "      <th>4</th>\n",
       "      <td>Europe</td>\n",
       "      <td>Romania</td>\n",
       "      <td>Y</td>\n",
       "    </tr>\n",
       "    <tr>\n",
       "      <th>NorthAmerica</th>\n",
       "      <th>2</th>\n",
       "      <td>NorthAmerica</td>\n",
       "      <td>Canada</td>\n",
       "      <td>Y</td>\n",
       "    </tr>\n",
       "  </tbody>\n",
       "</table>\n",
       "</div>"
      ],
      "text/plain": [
       "                   continent  country Member_G20\n",
       "continent                                       \n",
       "Asia         0          Asia    China          Y\n",
       "             6          Asia    India          Y\n",
       "             8          Asia   Russia          Y\n",
       "Europe       4        Europe  Romania          Y\n",
       "NorthAmerica 2  NorthAmerica   Canada          Y"
      ]
     },
     "execution_count": 6,
     "metadata": {},
     "output_type": "execute_result"
    }
   ],
   "source": [
    "import numpy as np\n",
    "\n",
    "df = pd.DataFrame({'continent' : ['Asia','NorthAmerica','NorthAmerica','Europe','Europe', 'Europe','Asia', 'Europe', 'Asia'],\n",
    "               'country' : ['China', 'USA', 'Canada', 'Poland', 'Romania', 'Italy', 'India', 'Germany', 'Russia'],\n",
    "               'Member_G20' : ['Y', 'N', 'Y', 'N', 'Y', 'N', 'Y', 'N', 'Y']})\n",
    "\n",
    "df.groupby(['continent']).apply(lambda x: x[x['Member_G20'] == 'Y' ])               "
   ]
  },
  {
   "attachments": {},
   "cell_type": "markdown",
   "metadata": {},
   "source": [
    "8) Create the below DataFrame with four columns ```(name, age, gender, and score)```. Use the ```filter()``` function to select only two columns ```(name and age)``` and the ```loc[]``` function to filter the rows based on the condition that the age column is greater than or equal to 30.\n",
    "```\n",
    "    'name': ['Alice', 'Bob', 'Charlie', 'Dave'],\n",
    "    'age': [25, 32, 30, 45],\n",
    "    'gender': ['F', 'M', 'M', 'M'],\n",
    "    'score': [80, 90, 70, 85]\n",
    "```"
   ]
  },
  {
   "cell_type": "code",
   "execution_count": 13,
   "metadata": {},
   "outputs": [
    {
     "name": "stdout",
     "output_type": "stream",
     "text": [
      "      name  age\n",
      "1      Bob   32\n",
      "2  Charlie   30\n",
      "3     Dave   45\n"
     ]
    }
   ],
   "source": [
    "import pandas as pd\n",
    "\n",
    "# create the DataFrame\n",
    "data = {\n",
    "    'name': ['Alice', 'Bob', 'Charlie', 'Dave'],\n",
    "    'age': [25, 32, 30, 45],\n",
    "    'gender': ['F', 'M', 'M', 'M'],\n",
    "    'score': [80, 90, 70, 85]\n",
    "}\n",
    "df = pd.DataFrame(data)\n",
    "\n",
    "# filter the DataFrame based on a condition\n",
    "filtered_df = df.filter(items=['name', 'age']).loc[df['age'] >= 30]\n",
    "\n",
    "# print the filtered DataFrame\n",
    "print(filtered_df)"
   ]
  },
  {
   "attachments": {},
   "cell_type": "markdown",
   "metadata": {},
   "source": [
    "9) Create two dataframes ```df1 and df2```, each with a ```key and value``` column. Merge the dataframes based on the key column using the ```merge()``` function, and store in merged_df.\n",
    "```\n",
    "        df1         'key': ['A', 'B', 'C', 'D'],\n",
    "                    'value': [1, 2, 3, 4]\n",
    "\n",
    "        df2         'key': ['B', 'D', 'E', 'F'],\n",
    "                    'value': [5, 6, 7, 8]\n",
    "```"
   ]
  },
  {
   "cell_type": "code",
   "execution_count": 15,
   "metadata": {},
   "outputs": [
    {
     "name": "stdout",
     "output_type": "stream",
     "text": [
      "  key  value_x  value_y\n",
      "0   B        2        5\n",
      "1   D        4        6\n"
     ]
    }
   ],
   "source": [
    "import pandas as pd\n",
    "\n",
    "# Create the first dataframe\n",
    "df1 = pd.DataFrame({'key': ['A', 'B', 'C', 'D'],\n",
    "                    'value': [1, 2, 3, 4]})\n",
    "\n",
    "# Create the second dataframe\n",
    "df2 = pd.DataFrame({'key': ['B', 'D', 'E', 'F'],\n",
    "                    'value': [5, 6, 7, 8]})\n",
    "\n",
    "# Merge the dataframes on the 'key' column\n",
    "merged_df = pd.merge(df1, df2, on='key')\n",
    "\n",
    "# Print the merged dataframe\n",
    "print(merged_df)"
   ]
  }
 ],
 "metadata": {
  "kernelspec": {
   "display_name": "Python 3",
   "language": "python",
   "name": "python3"
  },
  "language_info": {
   "codemirror_mode": {
    "name": "ipython",
    "version": 3
   },
   "file_extension": ".py",
   "mimetype": "text/x-python",
   "name": "python",
   "nbconvert_exporter": "python",
   "pygments_lexer": "ipython3",
   "version": "3.9.2rc1"
  },
  "orig_nbformat": 4
 },
 "nbformat": 4,
 "nbformat_minor": 2
}
