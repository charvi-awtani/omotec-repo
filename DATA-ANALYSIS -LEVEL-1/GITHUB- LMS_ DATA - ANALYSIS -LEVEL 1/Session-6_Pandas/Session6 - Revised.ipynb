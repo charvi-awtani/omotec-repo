{
 "cells": [
  {
   "cell_type": "markdown",
   "id": "bcd758bf",
   "metadata": {},
   "source": [
    "# SESSION 6"
   ]
  },
  {
   "attachments": {},
   "cell_type": "markdown",
   "id": "b61dfffc",
   "metadata": {},
   "source": [
    "1. Filtering data in DataFrame<br>\n",
    "2. Combining in DataFrame<br>\n",
    "\t 2.1 Inner Join<br> \n",
    "\t 2.2 Left Outer Join<br>\n",
    "\t 2.3 Right Outer Join<br> \n",
    "\t 2.4 Full Outer Join<br> \n",
    "3. Merging in DataFrame<br>\n",
    "4. Counting in DataFrame<br>\n",
    "5. Functions in DataFrame<br>\n",
    "\t 5.1 Aggregations<br>\n",
    "\t 5.2 View Groups<br>\n",
    "\t 5.3 Select a Group<br>\n",
    "\t 5.4 Filtration<br>\n",
    "\t 5.5 Fill NA on CSV using fillna()<br>\n",
    "\t 5.6 Group and Filter on CSV using groupby() & filter()<br>"
   ]
  },
  {
   "attachments": {},
   "cell_type": "markdown",
   "id": "86f6dd3f",
   "metadata": {},
   "source": [
    "## 1. Filtering data in DataFrame"
   ]
  },
  {
   "attachments": {},
   "cell_type": "markdown",
   "id": "b7f45c15",
   "metadata": {},
   "source": [
    "**For analyzing the data, we need a lot of filtering operations. Pandas provide a ```query()``` method to filter the DataFrame.**"
   ]
  },
  {
   "attachments": {},
   "cell_type": "markdown",
   "id": "032a6811",
   "metadata": {},
   "source": [
    "#### Syntax\n",
    "```DataFrame.query(expr, inplace=False, **kwargs)```\n",
    "\n",
    "- *expr*: Refers to an expression in string form to filter data.\n",
    "- *inplace*: If the value is True, it makes the changes in the original DataFrame.\n",
    "- *kwargs*: Refers to the other keyword arguments."
   ]
  },
  {
   "cell_type": "code",
   "execution_count": 6,
   "id": "4d157c9f",
   "metadata": {},
   "outputs": [
    {
     "name": "stdout",
     "output_type": "stream",
     "text": [
      "   THE CORE DATAFRAME \n",
      "  Emp_No Employee_Name Employee_dept\n",
      "0   Emp1          Arun           CAD\n",
      "1   Emp2         selva           CAD\n",
      "2   Emp3        rakesh           DEV\n",
      "3   Emp4        arjith           CAD\n",
      "\n",
      "   THE QUERIED DATAFRAME \n",
      "  Emp_No Employee_Name Employee_dept\n",
      "2   Emp3        rakesh           DEV\n",
      "\n"
     ]
    }
   ],
   "source": [
    "# dataframe creation\n",
    "import pandas as pd\n",
    "Core_Dataframe = pd.DataFrame({'Emp_No': ['Emp1','Emp2','Emp3','Emp4'],\n",
    "'Employee_Name':  ['Arun', 'selva', 'rakesh', 'arjith'],\n",
    "'Employee_dept': ['CAD', 'CAD', 'DEV', 'CAD']})\n",
    "print(\"   THE CORE DATAFRAME \")\n",
    "print(Core_Dataframe)  \n",
    "print(\"\")    \n",
    " \n",
    "# Dataframe query\n",
    "Queried_Dataframe = Core_Dataframe.query('Employee_dept == \"DEV\"')\n",
    "print(\"   THE QUERIED DATAFRAME \")\n",
    "print(Queried_Dataframe)\n",
    "print(\"\")"
   ]
  },
  {
   "attachments": {},
   "cell_type": "markdown",
   "id": "bed06b5f",
   "metadata": {},
   "source": [
    "<hr>"
   ]
  },
  {
   "attachments": {},
   "cell_type": "markdown",
   "id": "b97f333b",
   "metadata": {},
   "source": [
    "## 2. Combining in DataFrame"
   ]
  },
  {
   "attachments": {},
   "cell_type": "markdown",
   "id": "d93585b6",
   "metadata": {},
   "source": [
    "- The method of combining the DataFrame using common fields is called \"joining\". \n",
    "- The method that we use for combining the DataFrame is a ```join()``` method. The columns that contain common values are called \"join key\"."
   ]
  },
  {
   "attachments": {},
   "cell_type": "markdown",
   "id": "74888acc",
   "metadata": {},
   "source": [
    "#### Inner joins\n",
    "- Inner join can be defined as the most commonly used join. \n",
    "- Basically, its main task is to combine the two DataFrames based on a join key and returns a new DataFrame. \n",
    "- The returned DataFrame consists of only selected rows that have matching values in both of the original DataFrame.\n",
    "\n",
    "**Left Outer Join/Left outer joins:**\n",
    "- With a left outer join, all the records from the first dataframe will be displayed, irrespective of whether the keys in the first dataframe can be found in the second dataframe. \n",
    "- Whereas, for the second dataframe, only the records with the keys in the second dataframe that can be found in the first dataframe will be displayed.\n",
    "<br>\n",
    "\n",
    "**Left join/Left outer joins:**\n",
    "- If we want to add some information into the DataFrame without losing any of the data, we can simply do it through a different type of join called a \"left outer join\" or \"left join\""
   ]
  },
  {
   "attachments": {},
   "cell_type": "markdown",
   "id": "ae319122",
   "metadata": {},
   "source": [
    "<img align = 'middle' src = 'Images/Image-Joins.png' width = 700>"
   ]
  },
  {
   "attachments": {},
   "cell_type": "markdown",
   "id": "e6eb9ad1",
   "metadata": {},
   "source": [
    "#### 2.1 Inner Join: \n",
    "- Inner join is the most common type of join you’ll be working with. \n",
    "- It returns a dataframe with only those rows that have common characteristics. \n",
    "- This is similar to the intersection of two sets."
   ]
  },
  {
   "attachments": {},
   "cell_type": "markdown",
   "id": "706a7f6a",
   "metadata": {},
   "source": [
    "<img align = 'middle' src = 'Images/Image-InnerJoins.png' width = 250>"
   ]
  },
  {
   "cell_type": "code",
   "execution_count": 8,
   "id": "1fe48da4",
   "metadata": {},
   "outputs": [
    {
     "data": {
      "text/html": [
       "<div>\n",
       "<style scoped>\n",
       "    .dataframe tbody tr th:only-of-type {\n",
       "        vertical-align: middle;\n",
       "    }\n",
       "\n",
       "    .dataframe tbody tr th {\n",
       "        vertical-align: top;\n",
       "    }\n",
       "\n",
       "    .dataframe thead th {\n",
       "        text-align: right;\n",
       "    }\n",
       "</style>\n",
       "<table border=\"1\" class=\"dataframe\">\n",
       "  <thead>\n",
       "    <tr style=\"text-align: right;\">\n",
       "      <th></th>\n",
       "      <th>id</th>\n",
       "      <th>val1_x</th>\n",
       "      <th>val1_y</th>\n",
       "    </tr>\n",
       "  </thead>\n",
       "  <tbody>\n",
       "    <tr>\n",
       "      <th>0</th>\n",
       "      <td>1</td>\n",
       "      <td>a</td>\n",
       "      <td>p</td>\n",
       "    </tr>\n",
       "    <tr>\n",
       "      <th>1</th>\n",
       "      <td>2</td>\n",
       "      <td>b</td>\n",
       "      <td>q</td>\n",
       "    </tr>\n",
       "    <tr>\n",
       "      <th>2</th>\n",
       "      <td>17</td>\n",
       "      <td>g</td>\n",
       "      <td>c</td>\n",
       "    </tr>\n",
       "  </tbody>\n",
       "</table>\n",
       "</div>"
      ],
      "text/plain": [
       "   id val1_x val1_y\n",
       "0   1      a      p\n",
       "1   2      b      q\n",
       "2  17      g      c"
      ]
     },
     "execution_count": 8,
     "metadata": {},
     "output_type": "execute_result"
    }
   ],
   "source": [
    "# Inner Join\n",
    "\n",
    "\n",
    "# importing pandas\n",
    "import pandas as pd\n",
    "\n",
    "# Creating dataframe a\n",
    "a = pd.DataFrame()\n",
    "\n",
    "# Creating Dictionary\n",
    "d = {'id': [1, 2, 10, 12,17],\n",
    "\t'val1': ['a', 'b', 'c', 'd','g']}\n",
    "\n",
    "a = pd.DataFrame(d)\n",
    "\n",
    "# Creating dataframe b\n",
    "b = pd.DataFrame()\n",
    "\n",
    "# Creating dictionary\n",
    "d = {'id': [1, 2, 9, 8,17],\n",
    "\t'val1': ['p', 'q', 'r', 's','c']}\n",
    "b = pd.DataFrame(d)\n",
    "\n",
    "# inner join\n",
    "df = pd.merge(a, b, on='id', how='inner')\n",
    "\n",
    "# display dataframe\n",
    "df\n"
   ]
  },
  {
   "attachments": {},
   "cell_type": "markdown",
   "id": "004a6021",
   "metadata": {},
   "source": [
    "#### 2.2 Left Outer Join: \n",
    "- For a left join, all the records from the first dataframe will be displayed. \n",
    "- However, only the records with the keys in the second dataframe that can be found in the first dataframe will be displayed."
   ]
  },
  {
   "attachments": {},
   "cell_type": "markdown",
   "id": "06c0428c",
   "metadata": {},
   "source": [
    "<img align = 'middle' src = 'Images/Image-LeftOuterJoins.png' width = 250>"
   ]
  },
  {
   "cell_type": "code",
   "execution_count": 1,
   "id": "6fa5d6c3",
   "metadata": {},
   "outputs": [
    {
     "data": {
      "text/html": [
       "<div>\n",
       "<style scoped>\n",
       "    .dataframe tbody tr th:only-of-type {\n",
       "        vertical-align: middle;\n",
       "    }\n",
       "\n",
       "    .dataframe tbody tr th {\n",
       "        vertical-align: top;\n",
       "    }\n",
       "\n",
       "    .dataframe thead th {\n",
       "        text-align: right;\n",
       "    }\n",
       "</style>\n",
       "<table border=\"1\" class=\"dataframe\">\n",
       "  <thead>\n",
       "    <tr style=\"text-align: right;\">\n",
       "      <th></th>\n",
       "      <th>id</th>\n",
       "      <th>val1_x</th>\n",
       "      <th>val1_y</th>\n",
       "    </tr>\n",
       "  </thead>\n",
       "  <tbody>\n",
       "    <tr>\n",
       "      <th>0</th>\n",
       "      <td>1</td>\n",
       "      <td>a</td>\n",
       "      <td>p</td>\n",
       "    </tr>\n",
       "    <tr>\n",
       "      <th>1</th>\n",
       "      <td>2</td>\n",
       "      <td>b</td>\n",
       "      <td>q</td>\n",
       "    </tr>\n",
       "    <tr>\n",
       "      <th>2</th>\n",
       "      <td>10</td>\n",
       "      <td>c</td>\n",
       "      <td>NaN</td>\n",
       "    </tr>\n",
       "    <tr>\n",
       "      <th>3</th>\n",
       "      <td>12</td>\n",
       "      <td>d</td>\n",
       "      <td>NaN</td>\n",
       "    </tr>\n",
       "  </tbody>\n",
       "</table>\n",
       "</div>"
      ],
      "text/plain": [
       "   id val1_x val1_y\n",
       "0   1      a      p\n",
       "1   2      b      q\n",
       "2  10      c    NaN\n",
       "3  12      d    NaN"
      ]
     },
     "execution_count": 1,
     "metadata": {},
     "output_type": "execute_result"
    }
   ],
   "source": [
    "# importing pandas\n",
    "import pandas as pd\n",
    "\n",
    "# Creating dataframe a\n",
    "a = pd.DataFrame()\n",
    "\n",
    "# Creating Dictionary\n",
    "d = {'id': [1, 2, 10, 12],\n",
    "\t'val1': ['a', 'b', 'c', 'd']}\n",
    "\n",
    "a = pd.DataFrame(d)\n",
    "\n",
    "# Creating dataframe b\n",
    "b = pd.DataFrame()\n",
    "\n",
    "# Creating dictionary\n",
    "d = {'id': [1, 2, 9, 8],\n",
    "\t'val1': ['p', 'q', 'r', 's']}\n",
    "b = pd.DataFrame(d)\n",
    "\n",
    "# left outer join\n",
    "df = pd.merge(a, b, on='id', how='left')\n",
    "\n",
    "# display dataframe\n",
    "df"
   ]
  },
  {
   "attachments": {},
   "cell_type": "markdown",
   "id": "638c6d08",
   "metadata": {},
   "source": [
    "#### 2.3 Right Outer Join: \n",
    "- For a right join, all the records from the second dataframe will be displayed. \n",
    "- However, only the records with the keys in the first dataframe that can be found in the second dataframe will be displayed."
   ]
  },
  {
   "attachments": {},
   "cell_type": "markdown",
   "id": "7ee40faa",
   "metadata": {},
   "source": [
    "<img align = 'middle' src = 'Images/Image-RightOuterJoins.png' width = 250>"
   ]
  },
  {
   "cell_type": "code",
   "execution_count": 9,
   "id": "0956c97a",
   "metadata": {},
   "outputs": [
    {
     "data": {
      "text/html": [
       "<div>\n",
       "<style scoped>\n",
       "    .dataframe tbody tr th:only-of-type {\n",
       "        vertical-align: middle;\n",
       "    }\n",
       "\n",
       "    .dataframe tbody tr th {\n",
       "        vertical-align: top;\n",
       "    }\n",
       "\n",
       "    .dataframe thead th {\n",
       "        text-align: right;\n",
       "    }\n",
       "</style>\n",
       "<table border=\"1\" class=\"dataframe\">\n",
       "  <thead>\n",
       "    <tr style=\"text-align: right;\">\n",
       "      <th></th>\n",
       "      <th>id</th>\n",
       "      <th>val1_x</th>\n",
       "      <th>val1_y</th>\n",
       "    </tr>\n",
       "  </thead>\n",
       "  <tbody>\n",
       "    <tr>\n",
       "      <th>0</th>\n",
       "      <td>1</td>\n",
       "      <td>a</td>\n",
       "      <td>p</td>\n",
       "    </tr>\n",
       "    <tr>\n",
       "      <th>1</th>\n",
       "      <td>2</td>\n",
       "      <td>b</td>\n",
       "      <td>q</td>\n",
       "    </tr>\n",
       "    <tr>\n",
       "      <th>2</th>\n",
       "      <td>9</td>\n",
       "      <td>NaN</td>\n",
       "      <td>r</td>\n",
       "    </tr>\n",
       "    <tr>\n",
       "      <th>3</th>\n",
       "      <td>8</td>\n",
       "      <td>NaN</td>\n",
       "      <td>s</td>\n",
       "    </tr>\n",
       "  </tbody>\n",
       "</table>\n",
       "</div>"
      ],
      "text/plain": [
       "   id val1_x val1_y\n",
       "0   1      a      p\n",
       "1   2      b      q\n",
       "2   9    NaN      r\n",
       "3   8    NaN      s"
      ]
     },
     "execution_count": 9,
     "metadata": {},
     "output_type": "execute_result"
    }
   ],
   "source": [
    "# importing pandas\n",
    "import pandas as pd\n",
    "\n",
    "# Creating dataframe a\n",
    "a = pd.DataFrame()\n",
    "\n",
    "# Creating Dictionary\n",
    "d = {'id': [1, 2, 10, 12],\n",
    "\t'val1': ['a', 'b', 'c', 'd']}\n",
    "\n",
    "a = pd.DataFrame(d)\n",
    "\n",
    "# Creating dataframe b\n",
    "b = pd.DataFrame()\n",
    "\n",
    "# Creating dictionary\n",
    "d = {'id': [1, 2, 9, 8],\n",
    "\t'val1': ['p', 'q', 'r', 's']}\n",
    "b = pd.DataFrame(d)\n",
    "\n",
    "# right outer join\n",
    "df = pd.merge(a, b, on='id', how='right')\n",
    "\n",
    "# display dataframe\n",
    "df\n"
   ]
  },
  {
   "attachments": {},
   "cell_type": "markdown",
   "id": "0f933ccb",
   "metadata": {},
   "source": [
    "#### 2.4 Full Outer Join: \n",
    "- A full outer join returns all the rows from the left dataframe, all the rows from the right dataframe, and matches up rows where possible, with NaNs elsewhere. \n",
    "- But if the dataframe is complete, then we get the same output."
   ]
  },
  {
   "attachments": {},
   "cell_type": "markdown",
   "id": "d9bfd2b3",
   "metadata": {},
   "source": [
    "<img align = 'middle' src = 'Images/Image-OuterJoins.png' width = 250>"
   ]
  },
  {
   "cell_type": "code",
   "execution_count": 10,
   "id": "17e3dccb",
   "metadata": {},
   "outputs": [
    {
     "data": {
      "text/html": [
       "<div>\n",
       "<style scoped>\n",
       "    .dataframe tbody tr th:only-of-type {\n",
       "        vertical-align: middle;\n",
       "    }\n",
       "\n",
       "    .dataframe tbody tr th {\n",
       "        vertical-align: top;\n",
       "    }\n",
       "\n",
       "    .dataframe thead th {\n",
       "        text-align: right;\n",
       "    }\n",
       "</style>\n",
       "<table border=\"1\" class=\"dataframe\">\n",
       "  <thead>\n",
       "    <tr style=\"text-align: right;\">\n",
       "      <th></th>\n",
       "      <th>id</th>\n",
       "      <th>val1_x</th>\n",
       "      <th>val1_y</th>\n",
       "    </tr>\n",
       "  </thead>\n",
       "  <tbody>\n",
       "    <tr>\n",
       "      <th>0</th>\n",
       "      <td>1</td>\n",
       "      <td>a</td>\n",
       "      <td>p</td>\n",
       "    </tr>\n",
       "    <tr>\n",
       "      <th>1</th>\n",
       "      <td>2</td>\n",
       "      <td>b</td>\n",
       "      <td>q</td>\n",
       "    </tr>\n",
       "    <tr>\n",
       "      <th>2</th>\n",
       "      <td>10</td>\n",
       "      <td>c</td>\n",
       "      <td>NaN</td>\n",
       "    </tr>\n",
       "    <tr>\n",
       "      <th>3</th>\n",
       "      <td>12</td>\n",
       "      <td>d</td>\n",
       "      <td>NaN</td>\n",
       "    </tr>\n",
       "    <tr>\n",
       "      <th>4</th>\n",
       "      <td>9</td>\n",
       "      <td>NaN</td>\n",
       "      <td>r</td>\n",
       "    </tr>\n",
       "    <tr>\n",
       "      <th>5</th>\n",
       "      <td>8</td>\n",
       "      <td>NaN</td>\n",
       "      <td>s</td>\n",
       "    </tr>\n",
       "  </tbody>\n",
       "</table>\n",
       "</div>"
      ],
      "text/plain": [
       "   id val1_x val1_y\n",
       "0   1      a      p\n",
       "1   2      b      q\n",
       "2  10      c    NaN\n",
       "3  12      d    NaN\n",
       "4   9    NaN      r\n",
       "5   8    NaN      s"
      ]
     },
     "execution_count": 10,
     "metadata": {},
     "output_type": "execute_result"
    }
   ],
   "source": [
    "# importing pandas\n",
    "import pandas as pd\n",
    "\n",
    "# Creating dataframe a\n",
    "a = pd.DataFrame()\n",
    "\n",
    "# Creating Dictionary\n",
    "d = {'id': [1, 2, 10, 12],\n",
    "\t'val1': ['a', 'b', 'c', 'd']}\n",
    "\n",
    "a = pd.DataFrame(d)\n",
    "  \n",
    "# Creating dataframe b\n",
    "b = pd.DataFrame()\n",
    "\n",
    "# Creating dictionary\n",
    "d = {'id': [1, 2, 9, 8],\n",
    "\t'val1': ['p', 'q', 'r', 's']}\n",
    "b = pd.DataFrame(d)\n",
    "\n",
    "# full outer join\n",
    "df = pd.merge(a, b, on='id', how='outer')\n",
    "\n",
    "# display dataframe\n",
    "df\n"
   ]
  },
  {
   "attachments": {},
   "cell_type": "markdown",
   "id": "141cd6bf",
   "metadata": {},
   "source": [
    "<hr>"
   ]
  },
  {
   "attachments": {},
   "cell_type": "markdown",
   "id": "eba69c4d",
   "metadata": {},
   "source": [
    "## 3. Merging in DataFrame"
   ]
  },
  {
   "attachments": {},
   "cell_type": "markdown",
   "id": "61c241b5",
   "metadata": {},
   "source": [
    "- Pandas ```merge()``` is defined as the process of bringing the two datasets together into one and aligning the rows based on the common attributes or columns. \n",
    "- It is an entry point for all standard database join operations between DataFrame objects\n",
    "    "
   ]
  },
  {
   "cell_type": "code",
   "execution_count": 41,
   "id": "fde7ac5b",
   "metadata": {},
   "outputs": [
    {
     "name": "stdout",
     "output_type": "stream",
     "text": [
      "   id_x  Name_x subject_id  id_y Name_y\n",
      "0     2     Amy       sub2     1  Billy\n",
      "1     3   Allen       sub4     2  Brian\n",
      "2     4   Alice       sub6     4  Bryce\n",
      "3     5  Ayoung       sub5     5  Betty\n"
     ]
    }
   ],
   "source": [
    "# Merge two DataFrames on multiple keys\n",
    "\n",
    "import pandas as pd  \n",
    "\n",
    "left = pd.DataFrame({  \n",
    "   'id':[1,2,3,4,5],  \n",
    "   'Name': ['Alex', 'Amy', 'Allen', 'Alice', 'Ayoung'],  \n",
    "   'subject_id':['sub1','sub2','sub4','sub6','sub5']})  \n",
    "\n",
    "right = pd.DataFrame({  \n",
    "    'id':[1,2,3,4,5],  \n",
    "   'Name': ['Billy', 'Brian', 'Bran', 'Bryce', 'Betty'],  \n",
    "   'subject_id':['sub2','sub4','sub3','sub6','sub5']})  \n",
    "\n",
    "print (pd.merge(left,right,on='subject_id'))"
   ]
  },
  {
   "attachments": {},
   "cell_type": "markdown",
   "id": "0c14ab9f",
   "metadata": {},
   "source": [
    "<hr>"
   ]
  },
  {
   "attachments": {},
   "cell_type": "markdown",
   "id": "5acf490c",
   "metadata": {},
   "source": [
    "## 4. Counting in DataFrame"
   ]
  },
  {
   "attachments": {},
   "cell_type": "markdown",
   "id": "f13613bb",
   "metadata": {},
   "source": [
    "- The Pandas ```count()``` is defined as a method that is used to count the number of non-NA cells for each column or row. \n",
    "- The ```axis``` parameter in the count() method specifies the axis along which to perform the counting.\n",
    "- By default, ```axis=0```, which means that the counting is performed vertically, i.e., the number of non-null values in each column is counted.\n",
    "- If you set ```axis=1```, the counting is performed horizontally, i.e., the number of non-null values in each row is counted. "
   ]
  },
  {
   "cell_type": "code",
   "execution_count": 45,
   "id": "c78879b7",
   "metadata": {},
   "outputs": [
    {
     "data": {
      "text/plain": [
       "A    5\n",
       "B    4\n",
       "C    6\n",
       "dtype: int64"
      ]
     },
     "execution_count": 45,
     "metadata": {},
     "output_type": "execute_result"
    }
   ],
   "source": [
    "# importing pandas as pd\n",
    "import pandas as pd\n",
    "\n",
    "# Creating a dataframe using dictionary\n",
    "df = pd.DataFrame({\"A\":[-5, 8, 12, None, 5, 3],\n",
    "\t\t\t\t\"B\":[-1, None, 6, 4, None, 3],\n",
    "\t\t\t\t\"C\":[\"sam\", \"haris\", \"alex\", \"samantha\", \"peter\", \"nathan\"]})\n",
    "\n",
    "# Printing the dataframe\n",
    "df\n",
    "# axis = 0 indicates row\n",
    "df.count(axis = 0)\n",
    "\n"
   ]
  },
  {
   "cell_type": "code",
   "execution_count": 46,
   "id": "6564d2e2",
   "metadata": {},
   "outputs": [
    {
     "data": {
      "text/plain": [
       "0    3\n",
       "1    2\n",
       "2    3\n",
       "3    2\n",
       "4    2\n",
       "5    3\n",
       "dtype: int64"
      ]
     },
     "execution_count": 46,
     "metadata": {},
     "output_type": "execute_result"
    }
   ],
   "source": [
    "# importing pandas as pd\n",
    "import pandas as pd\n",
    "\n",
    "# Creating a dataframe using dictionary\n",
    "df = pd.DataFrame({\"A\":[-5, 8, 12, None, 5, 3],\n",
    "\t\t\t\t\"B\":[-1, None, 6, 4, None, 3],\n",
    "\t\t\t\t\"C\":[\"sam\", \"haris\", \"alex\", \"samantha\", \"peter\", \"nathan\"]})\n",
    "\n",
    "# Printing the dataframe\n",
    "df\n",
    "# axis = 1 indicates column\n",
    "df.count(axis = 1)"
   ]
  },
  {
   "attachments": {},
   "cell_type": "markdown",
   "id": "fe82db02",
   "metadata": {},
   "source": [
    "<hr>"
   ]
  },
  {
   "attachments": {},
   "cell_type": "markdown",
   "id": "f6efd725",
   "metadata": {},
   "source": [
    "## 5. Functions in DataFrame"
   ]
  },
  {
   "attachments": {},
   "cell_type": "markdown",
   "id": "1b81ca17",
   "metadata": {},
   "source": [
    "#### 5.1 Aggregations"
   ]
  },
  {
   "attachments": {},
   "cell_type": "markdown",
   "id": "fcdc5b46",
   "metadata": {},
   "source": [
    "- It is defined as a function that returns a single aggregated value for each of the groups.\n",
    "- We can perform several aggregation operations on the grouped data when the groupby object is created.\n",
    "- DataFrame ```groupby()``` function allows us to rearrange the data by utilizing them on real-world data sets. \n",
    "- Its primary task is to split the data into various groups. These groups are categorized based on some criteria."
   ]
  },
  {
   "cell_type": "code",
   "execution_count": 22,
   "id": "93fe5b87",
   "metadata": {},
   "outputs": [
    {
     "name": "stdout",
     "output_type": "stream",
     "text": [
      "         co2\n",
      "car         \n",
      "Ford   100.5\n",
      "Skoda   97.0\n"
     ]
    }
   ],
   "source": [
    "# Find the average co2 consumption for each car brand:\n",
    "import pandas as pd\n",
    "\n",
    "data = {\n",
    "  'co2': [95, 90, 99, 104, 105, 94, 99, 104],\n",
    "  'model': ['Citigo', 'Fabia', 'Fiesta', 'Rapid', 'Focus', 'Mondeo', 'Octavia', 'B-Max'],\n",
    "  'car': ['Skoda', 'Skoda', 'Ford', 'Skoda', 'Ford', 'Ford', 'Skoda', 'Ford']\n",
    "}\n",
    "\n",
    "df = pd.DataFrame(data)\n",
    "\n",
    "print(df.groupby([\"car\"]).mean())\n"
   ]
  },
  {
   "cell_type": "code",
   "execution_count": 24,
   "id": "8ae9b5d8",
   "metadata": {},
   "outputs": [
    {
     "name": "stdout",
     "output_type": "stream",
     "text": [
      "<pandas.core.groupby.generic.DataFrameGroupBy object at 0x0000024C549F8A30>\n"
     ]
    }
   ],
   "source": [
    "# Find the average co2 consumption for each car brand without mean():\n",
    "import pandas as pd\n",
    "\n",
    "data = {\n",
    "  'co2': [95, 90, 99, 104, 105, 94, 99, 104],\n",
    "  'model': ['Citigo', 'Fabia', 'Fiesta', 'Rapid', 'Focus', 'Mondeo', 'Octavia', 'B-Max'],\n",
    "  'car': ['Skoda', 'Skoda', 'Ford', 'Skoda', 'Ford', 'Ford', 'Skoda', 'Ford']\n",
    "}\n",
    "\n",
    "df = pd.DataFrame(data)\n",
    "\n",
    "print(df.groupby([\"car\"]))\n"
   ]
  },
  {
   "attachments": {},
   "cell_type": "markdown",
   "id": "4033c930",
   "metadata": {},
   "source": [
    "#### 5.2 View Groups"
   ]
  },
  {
   "cell_type": "code",
   "execution_count": 25,
   "id": "c4821762",
   "metadata": {},
   "outputs": [
    {
     "data": {
      "text/plain": [
       "{'B-Max': [7], 'Citigo': [0], 'Fabia': [1], 'Fiesta': [2], 'Focus': [4], 'Mondeo': [5], 'Octavia': [6], 'Rapid': [3]}"
      ]
     },
     "execution_count": 25,
     "metadata": {},
     "output_type": "execute_result"
    }
   ],
   "source": [
    "import pandas as pd\n",
    "\n",
    "data = {\n",
    "  'co2': [95, 90, 99, 104, 105, 94, 99, 104],\n",
    "   #           0         1        2         3         4       5         6          7   \n",
    "  'model': ['Citigo', 'Fabia', 'Fiesta', 'Rapid', 'Focus', 'Mondeo', 'Octavia', 'B-Max'],\n",
    "  'car': ['Skoda', 'Skoda', 'Ford', 'Skoda', 'Ford', 'Ford', 'Skoda', 'Ford']\n",
    "}\n",
    "\n",
    "df = pd.DataFrame(data)\n",
    "\n",
    "df.groupby('model').groups\n"
   ]
  },
  {
   "attachments": {},
   "cell_type": "markdown",
   "id": "32ce16a7",
   "metadata": {},
   "source": [
    "#### 5.3 Select a Group\n",
    "- Using the ```get_group()``` method, we can select a single group."
   ]
  },
  {
   "cell_type": "code",
   "execution_count": 27,
   "id": "a21beac9",
   "metadata": {},
   "outputs": [
    {
     "data": {
      "text/html": [
       "<div>\n",
       "<style scoped>\n",
       "    .dataframe tbody tr th:only-of-type {\n",
       "        vertical-align: middle;\n",
       "    }\n",
       "\n",
       "    .dataframe tbody tr th {\n",
       "        vertical-align: top;\n",
       "    }\n",
       "\n",
       "    .dataframe thead th {\n",
       "        text-align: right;\n",
       "    }\n",
       "</style>\n",
       "<table border=\"1\" class=\"dataframe\">\n",
       "  <thead>\n",
       "    <tr style=\"text-align: right;\">\n",
       "      <th></th>\n",
       "      <th>Team</th>\n",
       "      <th>Rank</th>\n",
       "      <th>Year</th>\n",
       "      <th>Points</th>\n",
       "    </tr>\n",
       "  </thead>\n",
       "  <tbody>\n",
       "    <tr>\n",
       "      <th>1</th>\n",
       "      <td>Riders</td>\n",
       "      <td>2</td>\n",
       "      <td>2015</td>\n",
       "      <td>789</td>\n",
       "    </tr>\n",
       "    <tr>\n",
       "      <th>3</th>\n",
       "      <td>Devils</td>\n",
       "      <td>3</td>\n",
       "      <td>2015</td>\n",
       "      <td>673</td>\n",
       "    </tr>\n",
       "    <tr>\n",
       "      <th>5</th>\n",
       "      <td>kings</td>\n",
       "      <td>4</td>\n",
       "      <td>2015</td>\n",
       "      <td>812</td>\n",
       "    </tr>\n",
       "    <tr>\n",
       "      <th>10</th>\n",
       "      <td>Royals</td>\n",
       "      <td>1</td>\n",
       "      <td>2015</td>\n",
       "      <td>804</td>\n",
       "    </tr>\n",
       "  </tbody>\n",
       "</table>\n",
       "</div>"
      ],
      "text/plain": [
       "      Team  Rank  Year  Points\n",
       "1   Riders     2  2015     789\n",
       "3   Devils     3  2015     673\n",
       "5    kings     4  2015     812\n",
       "10  Royals     1  2015     804"
      ]
     },
     "execution_count": 27,
     "metadata": {},
     "output_type": "execute_result"
    }
   ],
   "source": [
    "# select single group from the below data\n",
    "import pandas as pd\n",
    "\n",
    "ipl_data = {'Team': ['Riders', 'Riders', 'Devils', 'Devils', 'Kings',\n",
    "   'kings', 'Kings', 'Kings', 'Riders', 'Royals', 'Royals', 'Riders'],\n",
    "   'Rank': [1, 2, 2, 3, 3,4 ,1 ,1,2 , 4,1,2],\n",
    "   'Year': [2014,2015,2014,2015,2014,2015,2016,2017,2016,2014,2015,2017],\n",
    "   'Points':[876,789,863,673,741,812,756,788,694,701,804,690]}\n",
    "df = pd.DataFrame(ipl_data)\n",
    "\n",
    "grouped = df.groupby('Year')\n",
    "grouped.get_group(2015)"
   ]
  },
  {
   "cell_type": "code",
   "execution_count": 29,
   "id": "092afd1c",
   "metadata": {},
   "outputs": [
    {
     "name": "stdout",
     "output_type": "stream",
     "text": [
      "     Team  Rank  Year  Points\n",
      "0  Riders     1  2014     876\n",
      "2  Devils     2  2014     863\n",
      "4   Kings     3  2014     741\n",
      "9  Royals     4  2014     701\n"
     ]
    }
   ],
   "source": [
    "# select single Year from the below data\n",
    "\n",
    "ipl_data = {'Team': ['Riders', 'Riders', 'Devils', 'Devils', 'Kings',\n",
    "   'kings', 'Kings', 'Kings', 'Riders', 'Royals', 'Royals', 'Riders'],\n",
    "   'Rank': [1, 2, 2, 3, 3,4 ,1 ,1,2 , 4,1,2],\n",
    "   'Year': [2014,2015,2014,2015,2014,2015,2016,2017,2016,2014,2015,2017],\n",
    "   'Points':[876,789,863,673,741,812,756,788,694,701,804,690]}\n",
    "df = pd.DataFrame(ipl_data)\n",
    "\n",
    "grouped = df.groupby('Year')\n",
    "print(grouped.get_group(2014))"
   ]
  },
  {
   "attachments": {},
   "cell_type": "markdown",
   "id": "2387953e",
   "metadata": {},
   "source": [
    "#### 5.4 Filtration\n",
    "- Filtration filters the data on a defined criteria and returns the subset of data. The ```filter()``` function is used to filter the data."
   ]
  },
  {
   "cell_type": "code",
   "execution_count": 47,
   "id": "8db5e572",
   "metadata": {},
   "outputs": [
    {
     "data": {
      "text/html": [
       "<div>\n",
       "<style scoped>\n",
       "    .dataframe tbody tr th:only-of-type {\n",
       "        vertical-align: middle;\n",
       "    }\n",
       "\n",
       "    .dataframe tbody tr th {\n",
       "        vertical-align: top;\n",
       "    }\n",
       "\n",
       "    .dataframe thead th {\n",
       "        text-align: right;\n",
       "    }\n",
       "</style>\n",
       "<table border=\"1\" class=\"dataframe\">\n",
       "  <thead>\n",
       "    <tr style=\"text-align: right;\">\n",
       "      <th></th>\n",
       "      <th>Team</th>\n",
       "      <th>Rank</th>\n",
       "      <th>Year</th>\n",
       "      <th>Points</th>\n",
       "    </tr>\n",
       "  </thead>\n",
       "  <tbody>\n",
       "    <tr>\n",
       "      <th>0</th>\n",
       "      <td>Riders</td>\n",
       "      <td>1</td>\n",
       "      <td>2014</td>\n",
       "      <td>876</td>\n",
       "    </tr>\n",
       "    <tr>\n",
       "      <th>1</th>\n",
       "      <td>Riders</td>\n",
       "      <td>2</td>\n",
       "      <td>2015</td>\n",
       "      <td>789</td>\n",
       "    </tr>\n",
       "    <tr>\n",
       "      <th>4</th>\n",
       "      <td>Kings</td>\n",
       "      <td>3</td>\n",
       "      <td>2014</td>\n",
       "      <td>741</td>\n",
       "    </tr>\n",
       "    <tr>\n",
       "      <th>6</th>\n",
       "      <td>Kings</td>\n",
       "      <td>1</td>\n",
       "      <td>2016</td>\n",
       "      <td>756</td>\n",
       "    </tr>\n",
       "    <tr>\n",
       "      <th>7</th>\n",
       "      <td>Kings</td>\n",
       "      <td>1</td>\n",
       "      <td>2017</td>\n",
       "      <td>788</td>\n",
       "    </tr>\n",
       "    <tr>\n",
       "      <th>8</th>\n",
       "      <td>Riders</td>\n",
       "      <td>2</td>\n",
       "      <td>2016</td>\n",
       "      <td>694</td>\n",
       "    </tr>\n",
       "    <tr>\n",
       "      <th>11</th>\n",
       "      <td>Riders</td>\n",
       "      <td>2</td>\n",
       "      <td>2017</td>\n",
       "      <td>690</td>\n",
       "    </tr>\n",
       "  </tbody>\n",
       "</table>\n",
       "</div>"
      ],
      "text/plain": [
       "      Team  Rank  Year  Points\n",
       "0   Riders     1  2014     876\n",
       "1   Riders     2  2015     789\n",
       "4    Kings     3  2014     741\n",
       "6    Kings     1  2016     756\n",
       "7    Kings     1  2017     788\n",
       "8   Riders     2  2016     694\n",
       "11  Riders     2  2017     690"
      ]
     },
     "execution_count": 47,
     "metadata": {},
     "output_type": "execute_result"
    }
   ],
   "source": [
    "# Filterin data in DataFrame\n",
    "import pandas as pd\n",
    "import numpy as np\n",
    "\n",
    "ipl_data = {'Team': ['Riders', 'Riders', 'Devils', 'Devils', 'Kings',\n",
    "   'kings', 'Kings', 'Kings', 'Riders', 'Royals', 'Royals', 'Riders'],\n",
    "   'Rank': [1, 2, 2, 3, 3,4 ,1 ,1,2 , 4,1,2],\n",
    "   'Year': [2014,2015,2014,2015,2014,2015,2016,2017,2016,2014,2015,2017],\n",
    "   'Points':[876,789,863,673,741,812,756,788,694,701,804,690]}\n",
    "df = pd.DataFrame(ipl_data)\n",
    "\n",
    "# using the filter condition, we are asking to return the teams which have participated three or more times in IPL\n",
    "df.groupby('Team').filter(lambda x: len(x)>=3) "
   ]
  },
  {
   "attachments": {},
   "cell_type": "markdown",
   "id": "1382690b",
   "metadata": {},
   "source": [
    "#### Filtration using CSV\n",
    "- Filtration filters the CSV data on a defined criteria and returns the subset of data. The ```filter()``` function is used to filter the data."
   ]
  },
  {
   "cell_type": "code",
   "execution_count": null,
   "id": "69c8821b",
   "metadata": {},
   "outputs": [],
   "source": [
    "# Import the pandas library\n",
    "import pandas as pd\n",
    "\n",
    "# Load the CSV file into a DataFrame\n",
    "df = pd.read_csv('your_csv_file.csv')\n",
    "\n",
    "# Use the filter() function to select the columns you want to filter. For example, if you want to filter based on the \"age\" and \"gender\" columns:\n",
    "filtered_df = df.filter(['age', 'gender'])\n",
    "\n",
    "# Apply the desired filter to the selected columns using the query() function. For example, if you want to filter the rows where the \"age\" column is greater than or equal to 30\n",
    "filtered_df = filtered_df.query('age >= 30')\n",
    "\n",
    "# Save the filtered DataFrame to a new CSV file\n",
    "# index=False - prevents pandas from writing the row index as a separate column in the CSV file\n",
    "filtered_df.to_csv('filtered_csv_file.csv', index=False)"
   ]
  },
  {
   "attachments": {},
   "cell_type": "markdown",
   "id": "79833533",
   "metadata": {},
   "source": [
    "#### 5.5 Fill NA on CSV using ```fillna()```\n",
    "- To fill missing values in a CSV file using a DataFrame in pandas, you can use the ```fillna()``` function."
   ]
  },
  {
   "cell_type": "code",
   "execution_count": null,
   "id": "4c846a2e",
   "metadata": {},
   "outputs": [],
   "source": [
    "import pandas as pd\n",
    "\n",
    "df = pd.read_csv('your_csv_file.csv')\n",
    "\n",
    "# Use the fillna() function to fill missing values with a specific value or method. For example, to fill missing values with the mean of the column\n",
    "# Here, df.mean() calculates the mean of each column, and inplace=True updates the DataFrame with the filled values\n",
    "df.fillna(df.mean(), inplace=True)\n",
    "\n",
    "df.to_csv('filled_csv_file.csv', index=False)"
   ]
  },
  {
   "attachments": {},
   "cell_type": "markdown",
   "id": "b4f90303",
   "metadata": {},
   "source": [
    "#### 5.6 Group and Filter on CSV using ```groupby() & filter()```\n",
    "- To group and filter a CSV file using a DataFrame in pandas, you can use the ```groupby()``` function to group the rows based on a specific column, and then apply a filter using the ```filter()``` function. "
   ]
  },
  {
   "cell_type": "code",
   "execution_count": null,
   "id": "7f35fb54",
   "metadata": {},
   "outputs": [],
   "source": [
    "import pandas as pd\n",
    "\n",
    "df = pd.read_csv('your_csv_file.csv')\n",
    "\n",
    "# Use the groupby() function to group the rows based on a specific column. For example, if you want to group by the \"gender\" column\n",
    "grouped_df = df.groupby('gender')\n",
    "\n",
    "# Use the filter() function to apply a filter to the grouped DataFrame. For example, if you want to filter the groups where the mean of the \"age\" column is greater than or equal to 30\n",
    "# Here, the lambda function applies the filter to each group by calculating the mean of the \"age\" column for each group\n",
    "filtered_df = grouped_df.filter(lambda x: x['age'].mean() >= 30)\n",
    "\n",
    "\n",
    "filtered_df.to_csv('filtered_csv_file.csv', index=False)"
   ]
  },
  {
   "attachments": {},
   "cell_type": "markdown",
   "id": "64924bf7",
   "metadata": {},
   "source": [
    "<hr>"
   ]
  },
  {
   "attachments": {},
   "cell_type": "markdown",
   "id": "324326dc",
   "metadata": {},
   "source": [
    "## Homework Questions "
   ]
  },
  {
   "attachments": {},
   "cell_type": "markdown",
   "id": "aa98af8b",
   "metadata": {},
   "source": [
    "1) Write a program for DataFrame Filtering using ```Query() ```"
   ]
  },
  {
   "attachments": {},
   "cell_type": "markdown",
   "id": "6ee20cc6",
   "metadata": {},
   "source": [
    "2) Python code to demonstrate how to use ```merge()``` function to perform an outer join on two DataFrames using Pandas library"
   ]
  },
  {
   "attachments": {},
   "cell_type": "markdown",
   "id": "d4aa00d7",
   "metadata": {},
   "source": [
    "3) Add data on the dataset using Left join"
   ]
  },
  {
   "attachments": {},
   "cell_type": "markdown",
   "id": "af815d48",
   "metadata": {},
   "source": [
    "4) Write a program with input Dictionaries using Right Join"
   ]
  },
  {
   "attachments": {},
   "cell_type": "markdown",
   "id": "e24e306c",
   "metadata": {},
   "source": [
    "5) Write a program with input Dictionaries using Left Join"
   ]
  },
  {
   "attachments": {},
   "cell_type": "markdown",
   "id": "354f078a",
   "metadata": {},
   "source": [
    "6) Write a program with the below DataFrame and execute Group by 'continent' and print one of the continents using pandas groupby function\n",
    "```\n",
    "   DataFrame({'continent' : ['Asia','NorthAmerica','NorthAmerica','Europe','Europe', 'Europe','Asia', 'Europe', 'Asia'],\n",
    "               'country' : ['China', 'USA', 'Canada', 'Poland', 'Romania', 'Italy', 'India', 'Germany', 'Russia'],\n",
    "               'Member_G20' : ['Y', 'N', 'Y', 'N', 'Y', 'N', 'Y', 'N', 'Y']})\n",
    "```"
   ]
  },
  {
   "attachments": {},
   "cell_type": "markdown",
   "id": "81214217",
   "metadata": {},
   "source": [
    "7) Write a program using pandas groupby filter by column values and conditional aggregation on the below DataFrame.\n",
    "```\n",
    "   DataFrame({'continent' : ['Asia','NorthAmerica','NorthAmerica','Europe','Europe', 'Europe','Asia', 'Europe', 'Asia'],\n",
    "               'country' : ['China', 'USA', 'Canada', 'Poland', 'Romania', 'Italy', 'India', 'Germany', 'Russia'],\n",
    "               'Member_G20' : ['Y', 'N', 'Y', 'N', 'Y', 'N', 'Y', 'N', 'Y']})\n",
    "```\n",
    "   - Execute Groupby continent who are G20 Member"
   ]
  },
  {
   "attachments": {},
   "cell_type": "markdown",
   "id": "4dc491ea",
   "metadata": {},
   "source": [
    "8) Create the below DataFrame with four columns ```(name, age, gender, and score)```. Use the ```filter()``` function to select only two columns ```(name and age)``` and the ```loc[]``` function to filter the rows based on the condition that the age column is greater than or equal to 30.\n",
    "```\n",
    "    'name': ['Alice', 'Bob', 'Charlie', 'Dave'],\n",
    "    'age': [25, 32, 30, 45],\n",
    "    'gender': ['F', 'M', 'M', 'M'],\n",
    "    'score': [80, 90, 70, 85]\n",
    "```"
   ]
  },
  {
   "attachments": {},
   "cell_type": "markdown",
   "id": "52ef0a8b",
   "metadata": {},
   "source": [
    "9) Create two dataframes ```df1 and df2```, each with a ```key and value``` column. Merge the dataframes based on the key column using the ```merge()``` function, and store in merged_df.\n",
    "```\n",
    "        df1         'key': ['A', 'B', 'C', 'D'],\n",
    "                    'value': [1, 2, 3, 4]\n",
    "\n",
    "        df2         'key': ['B', 'D', 'E', 'F'],\n",
    "                    'value': [5, 6, 7, 8]\n",
    "```"
   ]
  },
  {
   "attachments": {},
   "cell_type": "markdown",
   "id": "f523c42c",
   "metadata": {},
   "source": [
    "<hr>"
   ]
  },
  {
   "attachments": {},
   "cell_type": "markdown",
   "id": "b2e047f5",
   "metadata": {},
   "source": [
    "For solutions of Homework questions, please refer to the ```HomeworkSolution.ipynb``` file"
   ]
  }
 ],
 "metadata": {
  "kernelspec": {
   "display_name": "Python 3 (ipykernel)",
   "language": "python",
   "name": "python3"
  },
  "language_info": {
   "codemirror_mode": {
    "name": "ipython",
    "version": 3
   },
   "file_extension": ".py",
   "mimetype": "text/x-python",
   "name": "python",
   "nbconvert_exporter": "python",
   "pygments_lexer": "ipython3",
   "version": "3.9.2rc1"
  }
 },
 "nbformat": 4,
 "nbformat_minor": 5
}
