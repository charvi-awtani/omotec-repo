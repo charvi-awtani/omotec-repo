{
 "cells": [
  {
   "attachments": {},
   "cell_type": "markdown",
   "id": "e7955f19",
   "metadata": {},
   "source": [
    "# SESSION 2 "
   ]
  },
  {
   "attachments": {},
   "cell_type": "markdown",
   "id": "8fa0d333",
   "metadata": {},
   "source": [
    "1. NumPy Data Types<br>\n",
    "2. Converting datatype of an array<br>\n",
    "3. Array Reshaping<br>\n",
    "4. Joining Arrays<br>\n",
    "5. Array Stacking<br>\n",
    "\t5.1 Horizontal Stack - Stacking Along Rows<br>\n",
    "\t5.2 Vertical Stack - Stacking Along Columns<br>\n",
    "6. Filtering NumPy Array"
   ]
  },
  {
   "attachments": {},
   "cell_type": "markdown",
   "id": "88836804",
   "metadata": {},
   "source": [
    "## 1. NumPy Data Types"
   ]
  },
  {
   "attachments": {},
   "cell_type": "markdown",
   "id": "50faccf0",
   "metadata": {},
   "source": [
    "- i - integer\n",
    "- b - boolean\n",
    "- u - unsigned integer\n",
    "- uint8  - 8-bit unsigned integer (range: 0 through 255 decimal)\n",
    "- uint64 - 64-bit unsigned integer (range: 0 through HEXA 0xFFFFFFFFFFFFFFFF)\n",
    "- O - object\n",
    "- U - unicode string\n",
    "\n"
   ]
  },
  {
   "attachments": {},
   "cell_type": "markdown",
   "id": "9e486eca",
   "metadata": {},
   "source": [
    "**Checking the Data Type of an Array**\n",
    "- The NumPy array object has a property called ```dtype``` that returns the data type of the array."
   ]
  },
  {
   "cell_type": "code",
   "execution_count": 1,
   "id": "0a55490a",
   "metadata": {},
   "outputs": [
    {
     "name": "stdout",
     "output_type": "stream",
     "text": [
      "int32\n"
     ]
    }
   ],
   "source": [
    "# Get the data type of an array containing integers:\n",
    "\n",
    "import numpy as np\n",
    "\n",
    "arr = np.array([11, 21, 31, 14])\n",
    "\n",
    "print(arr.dtype) # Print Data Type of arr"
   ]
  },
  {
   "cell_type": "code",
   "execution_count": 2,
   "id": "8f1efad9",
   "metadata": {},
   "outputs": [
    {
     "name": "stdout",
     "output_type": "stream",
     "text": [
      "<U6\n"
     ]
    }
   ],
   "source": [
    "# Get the data type of an array containing strings:\n",
    "\n",
    "import numpy as np\n",
    "\n",
    "arr = np.array(['c', 'python', 'java'])\n",
    "\n",
    "print(arr.dtype) # Print Data Type of arr"
   ]
  },
  {
   "attachments": {},
   "cell_type": "markdown",
   "id": "a615e53a",
   "metadata": {},
   "source": [
    "**Creating Arrays With a Defined Data Type**\n",
    "- We use the ```array()``` function to create arrays, this function can take an optional argument: ```dtype``` that allows us to define the expected data type of the array elements"
   ]
  },
  {
   "cell_type": "code",
   "execution_count": 4,
   "id": "16b884cb",
   "metadata": {},
   "outputs": [
    {
     "name": "stdout",
     "output_type": "stream",
     "text": [
      "[b'14' b'12' b'63' b'74']\n",
      "|S2\n"
     ]
    }
   ],
   "source": [
    "# Create an array with data type string:\n",
    "\n",
    "import numpy as np\n",
    "\n",
    "arr = np.array([14, 12,63, 74], dtype='S')\n",
    "\n",
    "print(arr)\n",
    "print(arr.dtype)\n",
    "# [b'14' b'12' b'63' b'74'] , Where 'b' stands for bytes. In Python, a byte string is just a sequence of bytes."
   ]
  },
  {
   "cell_type": "code",
   "execution_count": 5,
   "id": "eae1855f",
   "metadata": {},
   "outputs": [
    {
     "name": "stdout",
     "output_type": "stream",
     "text": [
      "[1 2 3 4]\n",
      "int32\n"
     ]
    }
   ],
   "source": [
    "# Create an array with data type 4 bytes integer:\n",
    "\n",
    "import numpy as np\n",
    "\n",
    "arr = np.array([1, 2, 3, 4], dtype='i4')\n",
    "\n",
    "print(arr)\n",
    "print(arr.dtype)\n"
   ]
  },
  {
   "attachments": {},
   "cell_type": "markdown",
   "id": "e57f007b",
   "metadata": {},
   "source": [
    "## 2.Converting datatype of an array\n",
    "**The ```astype()``` function creates a copy of the array, and allows you to specify the data type as a parameter.**\n",
    "\n",
    "**The data type can be specified using a string, like 'f' for float, 'i' for integer etc. or you can use the data type directly like float for float and int for integer.**"
   ]
  },
  {
   "cell_type": "code",
   "execution_count": 10,
   "id": "7f4cf1c3",
   "metadata": {},
   "outputs": [
    {
     "name": "stdout",
     "output_type": "stream",
     "text": [
      "[ True False  True]\n",
      "bool\n"
     ]
    }
   ],
   "source": [
    "# Change data type from integer to boolean:\n",
    "\n",
    "import numpy as np\n",
    "\n",
    "arr = np.array([1, 0, 3])\n",
    "\n",
    "newarr = arr.astype(bool)\n",
    "\n",
    "print(newarr)\n",
    "print(newarr.dtype)\n"
   ]
  },
  {
   "attachments": {},
   "cell_type": "markdown",
   "id": "f6ba9dcc",
   "metadata": {},
   "source": [
    "## 3. Array Reshaping"
   ]
  },
  {
   "attachments": {},
   "cell_type": "markdown",
   "id": "198d05ff",
   "metadata": {},
   "source": [
    "- Reshaping an Array means changing the shape of an array.\n",
    "\n",
    "- The shape of an array is the number of elements in each dimension.\n",
    "\n",
    "- By reshaping we can add or remove dimensions or change number of elements in each dimension."
   ]
  },
  {
   "attachments": {},
   "cell_type": "markdown",
   "id": "f1410d28",
   "metadata": {},
   "source": [
    "**Reshaping an Array From 1-D to 2-D**"
   ]
  },
  {
   "cell_type": "code",
   "execution_count": 12,
   "id": "3255fcbf",
   "metadata": {},
   "outputs": [
    {
     "name": "stdout",
     "output_type": "stream",
     "text": [
      "[[11 22 33 34]\n",
      " [45 56 67 78]\n",
      " [79 10 11 12]]\n"
     ]
    }
   ],
   "source": [
    "# Convert the following 1-D array with 12 elements into a 2-D array.\n",
    "# The outermost dimension will have 3 arrays, each with 4 elements\n",
    "\n",
    "import numpy as np\n",
    "\n",
    "arr = np.array([11, 22, 33, 34, 45, 56, 67, 78, 79, 10, 11, 12])\n",
    "\n",
    "newarr = arr.reshape(3, 4)\n",
    "\n",
    "print(newarr)\n"
   ]
  },
  {
   "attachments": {
    "Untitled%20Diagram%20%285%29.jpg": {
     "image/jpeg": "[encoded data removed]"
    }
   },
   "cell_type": "markdown",
   "id": "ef0c40d3",
   "metadata": {},
   "source": [
    "![Untitled%20Diagram%20%285%29.jpg](attachment:Untitled%20Diagram%20%285%29.jpg)"
   ]
  },
  {
   "attachments": {},
   "cell_type": "markdown",
   "id": "0f1135f8",
   "metadata": {},
   "source": [
    "**Reshaping an Array From 1-D to 3-D**\n"
   ]
  },
  {
   "cell_type": "code",
   "execution_count": 9,
   "id": "6e410260",
   "metadata": {},
   "outputs": [
    {
     "name": "stdout",
     "output_type": "stream",
     "text": [
      "[[[ 1  2]\n",
      "  [ 3  4]\n",
      "  [ 5  6]]\n",
      "\n",
      " [[ 7  8]\n",
      "  [ 9 10]\n",
      "  [11 12]]]\n"
     ]
    }
   ],
   "source": [
    "# Convert the following 1-D array with 12 elements into a 3-D array.\n",
    "\n",
    "# The outermost dimension will have 2 arrays, that contains 3 arrays, each with 2 elements:\n",
    "\n",
    "import numpy as np\n",
    "\n",
    "arr = np.array([1, 2, 3, 4, 5, 6, 7, 8, 9, 10, 11, 12])\n",
    "\n",
    "newarr = arr.reshape(2, 3, 2)\n",
    "\n",
    "print(newarr)\n"
   ]
  },
  {
   "attachments": {},
   "cell_type": "markdown",
   "id": "47db4797",
   "metadata": {},
   "source": [
    "## 4. Joining Arrays"
   ]
  },
  {
   "attachments": {},
   "cell_type": "markdown",
   "id": "4110ed59",
   "metadata": {},
   "source": [
    "- Joining means putting contents of two or more arrays into a single array.\n",
    "\n",
    "- We pass a sequence of arrays that we want to join to the ```concatenate()``` function, along with the axis. \n",
    "If axis is not explicitly passed, it is taken as 0."
   ]
  },
  {
   "cell_type": "code",
   "execution_count": 23,
   "id": "f9b204ea",
   "metadata": {},
   "outputs": [
    {
     "name": "stdout",
     "output_type": "stream",
     "text": [
      "[1 2 3 4 5 6]\n"
     ]
    }
   ],
   "source": [
    "# Join two arrays\n",
    "\n",
    "import numpy as np\n",
    "\n",
    "arr1 = np.array([1, 2, 3])\n",
    "\n",
    "arr2 = np.array([4, 5, 6])\n",
    "\n",
    "arr = np.concatenate((arr1, arr2)) # By Default Axis=0\n",
    "\n",
    "print(arr)"
   ]
  },
  {
   "attachments": {
    "Untitled%20Diagram%20%289%29.jpg": {
     "image/jpeg": "[encoded data removed]"
    }
   },
   "cell_type": "markdown",
   "id": "5113363f",
   "metadata": {},
   "source": [
    "![Untitled%20Diagram%20%289%29.jpg](attachment:Untitled%20Diagram%20%289%29.jpg)"
   ]
  },
  {
   "cell_type": "code",
   "execution_count": 28,
   "id": "b37d7189",
   "metadata": {},
   "outputs": [
    {
     "name": "stdout",
     "output_type": "stream",
     "text": [
      "Array_horizontal\n",
      "[[4 5]\n",
      " [6 8]\n",
      " [3 5]\n",
      " [7 9]]\n",
      "Array_vertical\n",
      "[[4 5 3 5]\n",
      " [6 8 7 9]]\n"
     ]
    }
   ],
   "source": [
    "# Join two arrays with Axis 0 & 1\n",
    "\n",
    "import numpy as np\n",
    "\n",
    "arr1 = np.array([[4, 5], [6, 8]])\n",
    "\n",
    "arr2 = np.array([[3, 5], [7, 9]])\n",
    "\n",
    "arr_horizontal = np.concatenate((arr1, arr2), axis = 0) # Axis Horizontal , Axis=0\n",
    "arr_vertical = np.concatenate((arr1, arr2), axis = 1) # Axis Vertical , Axis=1\n",
    "print(\"Array_horizontal\")\n",
    "print(arr_horizontal)\n",
    "print(\"Array_vertical\")\n",
    "print(arr_vertical)"
   ]
  },
  {
   "attachments": {},
   "cell_type": "markdown",
   "id": "6bcb5d86",
   "metadata": {},
   "source": [
    "##  5. Array Stacking\n",
    "\n",
    "- Stacking is same as concatenation, the only difference is that stacking is done along a new axis.\n",
    "\n",
    "- We can concatenate two 1-D arrays along the second axis which would result in putting them one over the other, ie. stacking.\n",
    "\n",
    "- We pass a sequence of arrays that we want to join to the stack() method along with the axis. If axis is not explicitly passed it is taken as 0 by Default."
   ]
  },
  {
   "cell_type": "code",
   "execution_count": 31,
   "id": "f7589d31",
   "metadata": {},
   "outputs": [
    {
     "name": "stdout",
     "output_type": "stream",
     "text": [
      "[[1 4]\n",
      " [2 5]\n",
      " [3 6]]\n"
     ]
    }
   ],
   "source": [
    "#Array Stacking with Axis 1\n",
    "import numpy as np\n",
    "\n",
    "arr1 = np.array([1, 2, 3])\n",
    "\n",
    "arr2 = np.array([4, 5, 6])\n",
    "\n",
    "arr = np.stack((arr1, arr2), axis=1)\n",
    "\n",
    "print(arr)\n"
   ]
  },
  {
   "attachments": {
    "Untitled%20Diagram%20%2810%29.jpg": {
     "image/jpeg": "[encoded data removed]"
    }
   },
   "cell_type": "markdown",
   "id": "d09bb00e",
   "metadata": {},
   "source": [
    "![Untitled%20Diagram%20%2810%29.jpg](attachment:Untitled%20Diagram%20%2810%29.jpg)"
   ]
  },
  {
   "attachments": {},
   "cell_type": "markdown",
   "id": "0f3d45f9",
   "metadata": {},
   "source": [
    "###  5.1 **Horizontal Stack - Stacking Along Rows**\n",
    "- NumPy provides a helper function: ```hstack()``` to stack along rows."
   ]
  },
  {
   "cell_type": "code",
   "execution_count": 36,
   "id": "679f3fb5",
   "metadata": {},
   "outputs": [
    {
     "name": "stdout",
     "output_type": "stream",
     "text": [
      "[1 2 3 4 5 6]\n"
     ]
    }
   ],
   "source": [
    "# Horizontal Stacking \n",
    "# By Default the Axis value of hstack() is 0\n",
    "import numpy as np\n",
    "\n",
    "arr1 = np.array([1, 2, 3])\n",
    "\n",
    "arr2 = np.array([4, 5, 6])\n",
    "\n",
    "arr = np.hstack((arr1, arr2))\n",
    "\n",
    "print(arr)"
   ]
  },
  {
   "attachments": {
    "Untitled%20Diagram%20%2811%29.jpg": {
     "image/jpeg": "[encoded data removed]"
    }
   },
   "cell_type": "markdown",
   "id": "f405d46f",
   "metadata": {},
   "source": [
    "![Untitled%20Diagram%20%2811%29.jpg](attachment:Untitled%20Diagram%20%2811%29.jpg)"
   ]
  },
  {
   "attachments": {},
   "cell_type": "markdown",
   "id": "d233e0df",
   "metadata": {},
   "source": [
    "###  5.2 **Vertical Stack - Stacking Along Columns**\n",
    "- NumPy provides a helper function: ```vstack()```  to stack along columns."
   ]
  },
  {
   "cell_type": "code",
   "execution_count": 35,
   "id": "e2e767ba",
   "metadata": {},
   "outputs": [
    {
     "name": "stdout",
     "output_type": "stream",
     "text": [
      "[[1 2 3]\n",
      " [4 5 6]]\n"
     ]
    }
   ],
   "source": [
    "# Vertical Stacking \n",
    "# By Default the Axis value of vstack() is 1\n",
    "import numpy as np\n",
    "\n",
    "arr1 = np.array([1, 2, 3])\n",
    "\n",
    "arr2 = np.array([4, 5, 6])\n",
    "\n",
    "arr = np.vstack((arr1, arr2))\n",
    "\n",
    "print(arr)"
   ]
  },
  {
   "attachments": {
    "Untitled%20Diagram%20%2812%29.jpg": {
     "image/jpeg": "[encoded data removed]"
    }
   },
   "cell_type": "markdown",
   "id": "f474963e",
   "metadata": {},
   "source": [
    "![Untitled%20Diagram%20%2812%29.jpg](attachment:Untitled%20Diagram%20%2812%29.jpg)"
   ]
  },
  {
   "attachments": {},
   "cell_type": "markdown",
   "id": "80a301a6",
   "metadata": {},
   "source": [
    "##  6. Filtering NumPy Array\n",
    "\n",
    "- Numpy Array Filtering refers to the process of extracting a subset of elements from a NumPy array based on a certain condition or set of conditions.\n",
    "\n",
    "- In NumPy, filtering is often accomplished using Boolean indexing, where a boolean array of the same shape as the original array is used to select elements that meet a specified condition. For example, if we have an array a and want to select all the elements that are greater than 5, we can create a Boolean array b using the expression ```b = a > 5``` and then use this Boolean array to index into a as follows: ```a[b]```.\n",
    "\n",
    "- We can also use logical operators such as ```& (and), | (or), and ~ (not)``` to combine multiple conditions. For example, to select all the elements that are greater than 5 and less than 10, we can create a Boolean array b using the expression ```b = (a > 5) & (a < 10)``` and then use this Boolean array to index into a as follows: ```a[b]```.\n",
    "\n",
    "- Overall, NumPy Array Filtering is a powerful technique that allows us to extract specific subsets of data from a larger array based on a variety of criteria, making it a valuable tool for data analysis and manipulation."
   ]
  },
  {
   "attachments": {},
   "cell_type": "markdown",
   "id": "1627650b",
   "metadata": {},
   "source": [
    "**Array Filtering Example:**<br>\n",
    "In this example, we create an array 'a' with some integer values. We then create a Boolean array 'b' using the expression ```b = (a > 5) & (a < 10)```, which evaluates to True for all elements in a that are greater than 5 and less than 10.<br>\n",
    "\n",
    "Finally, we use boolean indexing to filter the array a based on the Boolean array b. The resulting filtered array only contains the elements of a that satisfy the condition specified in b."
   ]
  },
  {
   "cell_type": "code",
   "execution_count": 1,
   "id": "0c7cc517",
   "metadata": {},
   "outputs": [
    {
     "name": "stdout",
     "output_type": "stream",
     "text": [
      "[6 7 9]\n"
     ]
    }
   ],
   "source": [
    "# Steps to filter a NumPy array \"a\" based on a Boolean array \"b\" created using the expression b = (a > 5) & (a < 10):\n",
    "import numpy as np\n",
    "\n",
    "# create an array 'a'\n",
    "a = np.array([1, 2, 6, 7, 9, 12])\n",
    "\n",
    "# create a boolean array 'b'\n",
    "b = (a > 5) & (a < 10)\n",
    "\n",
    "# filter the array 'a' using boolean indexing\n",
    "filtered_array = a[b]\n",
    "\n",
    "print(filtered_array)  # output: [6 7 9]"
   ]
  },
  {
   "attachments": {},
   "cell_type": "markdown",
   "id": "17fef423",
   "metadata": {},
   "source": [
    "<hr>"
   ]
  },
  {
   "cell_type": "markdown",
   "id": "4c05216b",
   "metadata": {},
   "source": [
    "# Homework Questions"
   ]
  },
  {
   "attachments": {},
   "cell_type": "markdown",
   "id": "b86cf890",
   "metadata": {},
   "source": [
    "1) Checking the data type of array"
   ]
  },
  {
   "attachments": {},
   "cell_type": "markdown",
   "id": "c2d26cdc",
   "metadata": {},
   "source": [
    "2) Create two Arrays & Stack them vertically"
   ]
  },
  {
   "attachments": {},
   "cell_type": "markdown",
   "id": "5cab1cf9",
   "metadata": {},
   "source": [
    "3) Create two Arrays & Stack them horizontally"
   ]
  },
  {
   "attachments": {},
   "cell_type": "markdown",
   "id": "b34a28ed",
   "metadata": {},
   "source": [
    "4) dtype of the given array object is ‘int32’. Now change this to ‘float64’ type."
   ]
  },
  {
   "attachments": {},
   "cell_type": "markdown",
   "id": "ab215d0f",
   "metadata": {},
   "source": [
    "5) convert int into strings of  arr [1, 2, 3, 8, 7, 5]"
   ]
  },
  {
   "attachments": {},
   "cell_type": "markdown",
   "id": "fd1232f5",
   "metadata": {},
   "source": [
    "6) Stack the given arrays along columns, arr1=[1, 2, 3] &  arr2=[12,13,14]"
   ]
  },
  {
   "attachments": {},
   "cell_type": "markdown",
   "id": "2dddd14c",
   "metadata": {},
   "source": [
    "7) Stack the given arrays along Rows, arr1=[1, 2, 3] & arr2=[12,13,14]"
   ]
  },
  {
   "attachments": {},
   "cell_type": "markdown",
   "id": "d57299ba",
   "metadata": {},
   "source": [
    "8) Join the given arrays arr1=[15,16,17] & arr2=[78,89,45]"
   ]
  },
  {
   "attachments": {},
   "cell_type": "markdown",
   "id": "c8c69a08",
   "metadata": {},
   "source": [
    "9) Create a 1D array & then Convert it into a 2D array of shape 4x2 & 2x4"
   ]
  },
  {
   "attachments": {},
   "cell_type": "markdown",
   "id": "c35d6345",
   "metadata": {},
   "source": [
    "<hr>"
   ]
  },
  {
   "attachments": {},
   "cell_type": "markdown",
   "id": "227479a1",
   "metadata": {},
   "source": [
    "For solutions of Homework questions, please refer to the ```HomeworkSolution.ipynb``` file."
   ]
  }
 ],
 "metadata": {
  "kernelspec": {
   "display_name": "Python 3",
   "language": "python",
   "name": "python3"
  },
  "language_info": {
   "codemirror_mode": {
    "name": "ipython",
    "version": 3
   },
   "file_extension": ".py",
   "mimetype": "text/x-python",
   "name": "python",
   "nbconvert_exporter": "python",
   "pygments_lexer": "ipython3",
   "version": "3.9.2rc1"
  },
  "vscode": {
   "interpreter": {
    "hash": "f1a104daade7a70772ad630bf0568980f4e260449ff540bcd2b6baf0ecd3487d"
   }
  }
 },
 "nbformat": 4,
 "nbformat_minor": 5
}
