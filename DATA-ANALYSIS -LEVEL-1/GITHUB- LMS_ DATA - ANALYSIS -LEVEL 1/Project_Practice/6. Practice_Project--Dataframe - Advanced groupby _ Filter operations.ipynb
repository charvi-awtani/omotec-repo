{
 "cells": [
  {
   "attachments": {},
   "cell_type": "markdown",
   "metadata": {},
   "source": [
    "## Practice Project 6 - Dataframe - Advanced groupby & Filter operations"
   ]
  },
  {
   "attachments": {},
   "cell_type": "markdown",
   "metadata": {},
   "source": [
    "### Table of Contents<br>\n",
    "    Problem statement\n",
    "    1.Groupby operation with aggregation.\n",
    "    2.Groupby operation with multiple aggregation functions.\n",
    "    3.Filter operation using groupby.\n",
    "    4.Filter operation using multiple conditions."
   ]
  },
  {
   "attachments": {},
   "cell_type": "markdown",
   "metadata": {},
   "source": [
    "### 1.Groupby operation with aggregation."
   ]
  },
  {
   "cell_type": "code",
   "execution_count": 1,
   "metadata": {},
   "outputs": [
    {
     "name": "stdout",
     "output_type": "stream",
     "text": [
      "          quantity       price\n",
      "category                      \n",
      "A              248  308.641752\n",
      "B              236  318.870926\n",
      "C              286  321.370045\n"
     ]
    }
   ],
   "source": [
    "import pandas as pd\n",
    "\n",
    "# Read the CSV file into a DataFrame\n",
    "df = pd.read_csv('data/data.csv')\n",
    "\n",
    "# Group by 'category' column and calculate the sum of 'quantity' and 'price'\n",
    "result = df.groupby('category').agg({'quantity': 'sum', 'price': 'sum'})\n",
    "\n",
    "# Print the result\n",
    "print(result)"
   ]
  },
  {
   "attachments": {},
   "cell_type": "markdown",
   "metadata": {},
   "source": [
    "### 2.Groupby operation with multiple aggregation functions."
   ]
  },
  {
   "cell_type": "code",
   "execution_count": 2,
   "metadata": {},
   "outputs": [
    {
     "name": "stdout",
     "output_type": "stream",
     "text": [
      "          sum       mean  count\n",
      "category                       \n",
      "A         248  35.428571      7\n",
      "B         236  33.714286      7\n",
      "C         286  47.666667      6\n"
     ]
    }
   ],
   "source": [
    "import pandas as pd\n",
    "\n",
    "# Read the CSV file into a DataFrame\n",
    "df = pd.read_csv('data/data.csv')\n",
    "\n",
    "# Group by 'category' column and calculate the sum, mean, and count of 'quantity'\n",
    "result = df.groupby('category')['quantity'].agg(['sum', 'mean', 'count'])\n",
    "\n",
    "# Print the result\n",
    "print(result)"
   ]
  },
  {
   "attachments": {},
   "cell_type": "markdown",
   "metadata": {},
   "source": [
    "### 3.Filter operation using groupby."
   ]
  },
  {
   "cell_type": "code",
   "execution_count": 3,
   "metadata": {},
   "outputs": [
    {
     "name": "stdout",
     "output_type": "stream",
     "text": [
      "   category  quantity      price\n",
      "0         B        34  33.971175\n",
      "1         C        47  60.972681\n",
      "2         A         2  14.357632\n",
      "3         B         6  87.066915\n",
      "4         A        68  18.152921\n",
      "5         B        33  13.826712\n",
      "6         A        37  18.313960\n",
      "7         B         3  75.365077\n",
      "8         B        58  45.595639\n",
      "9         B         4  42.892304\n",
      "10        A        48  34.771635\n",
      "11        B        98  20.153104\n",
      "12        A         7  59.936505\n",
      "13        A        17  90.011499\n",
      "14        C        12  62.963619\n",
      "15        C        15  50.981245\n",
      "16        C        61  27.310937\n",
      "17        C        84  69.427472\n",
      "18        A        69  73.097601\n",
      "19        C        67  49.714092\n"
     ]
    }
   ],
   "source": [
    "import pandas as pd\n",
    "\n",
    "# Read the CSV file into a DataFrame\n",
    "df = pd.read_csv('data/data.csv')\n",
    "\n",
    "# Group by 'category' column and filter the groups where the sum of 'quantity' is greater than 100\n",
    "result = df.groupby('category').filter(lambda x: x['quantity'].sum() > 100)\n",
    "\n",
    "# Print the filtered DataFrame\n",
    "print(result)"
   ]
  },
  {
   "attachments": {},
   "cell_type": "markdown",
   "metadata": {},
   "source": [
    "### 4.Filter operation using multiple conditions"
   ]
  },
  {
   "cell_type": "code",
   "execution_count": 4,
   "metadata": {},
   "outputs": [
    {
     "name": "stdout",
     "output_type": "stream",
     "text": [
      "   category  quantity      price\n",
      "12        A         7  59.936505\n",
      "13        A        17  90.011499\n",
      "18        A        69  73.097601\n"
     ]
    }
   ],
   "source": [
    "import pandas as pd\n",
    "\n",
    "# Read the CSV file into a DataFrame\n",
    "df = pd.read_csv('data/data.csv')\n",
    "\n",
    "# Filter the DataFrame based on multiple conditions\n",
    "result = df[(df['category'] == 'A') & (df['price'] > 50)]\n",
    "\n",
    "# Print the filtered DataFrame\n",
    "print(result)"
   ]
  },
  {
   "attachments": {},
   "cell_type": "markdown",
   "metadata": {},
   "source": [
    "<hr>"
   ]
  }
 ],
 "metadata": {
  "kernelspec": {
   "display_name": "Python 3",
   "language": "python",
   "name": "python3"
  },
  "language_info": {
   "codemirror_mode": {
    "name": "ipython",
    "version": 3
   },
   "file_extension": ".py",
   "mimetype": "text/x-python",
   "name": "python",
   "nbconvert_exporter": "python",
   "pygments_lexer": "ipython3",
   "version": "3.9.2rc1"
  },
  "orig_nbformat": 4
 },
 "nbformat": 4,
 "nbformat_minor": 2
}
