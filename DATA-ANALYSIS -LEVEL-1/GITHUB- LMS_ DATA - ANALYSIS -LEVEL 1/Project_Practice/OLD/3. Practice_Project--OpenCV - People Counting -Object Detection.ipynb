{
 "cells": [
  {
   "attachments": {},
   "cell_type": "markdown",
   "id": "54d5942e",
   "metadata": {},
   "source": [
    "## Practice Project - OpenCV based : People Counting -Object Detection\n"
   ]
  },
  {
   "attachments": {},
   "cell_type": "markdown",
   "id": "21dcd122",
   "metadata": {},
   "source": [
    "### Table of Contents<br>\n",
    "    Problem statement\n",
    "    1. OpenCV People Counter\n",
    "    2. Importing Libraries\n",
    "    3. Python implementation"
   ]
  },
  {
   "attachments": {},
   "cell_type": "markdown",
   "id": "1790b20b",
   "metadata": {},
   "source": [
    "### Problem Statement:\n",
    "``` People Counter Based on OpenCV with concept of program counting number of people incomming and outgoing a particular door.```<br>"
   ]
  },
  {
   "attachments": {},
   "cell_type": "markdown",
   "id": "c900fbd8",
   "metadata": {},
   "source": [
    "#### 1.OpenCV People Counter\n",
    "This program counts number of people incomming and outgoing a particular door. The example video is shot with Raspberry Pi Camera. I use OpenCV and Python 2.7. Make sure you install the numpy, cv2, imutils before you run the program.<br>\n",
    "\n",
    "```Steps to execute the program with video source```<br>\n",
    "\n",
    "Make sure you install the above mentioned dependencies.\n",
    "Place your video file and replace people-capture.mp4 in the line video = cv2.VideoCapture(\"people-capture.mp4\") with your video filename\n",
    "Open your Terminal in OpenCV Environment\n",
    "Run python counter.py"
   ]
  },
  {
   "attachments": {},
   "cell_type": "markdown",
   "id": "04b6aab4",
   "metadata": {},
   "source": [
    "#### 2. Importing Libraries"
   ]
  },
  {
   "cell_type": "code",
   "execution_count": 2,
   "id": "d1bfea0a",
   "metadata": {},
   "outputs": [],
   "source": [
    "import numpy as np\n",
    "import time\n",
    "import imutils\n",
    "import cv2"
   ]
  },
  {
   "attachments": {},
   "cell_type": "markdown",
   "id": "2caf715c",
   "metadata": {},
   "source": [
    "#### 3.Python Implementation"
   ]
  },
  {
   "cell_type": "code",
   "execution_count": null,
   "id": "87c767d8",
   "metadata": {},
   "outputs": [],
   "source": [
    "import numpy as np\n",
    "import time\n",
    "import imutils\n",
    "import cv2\n",
    "\n",
    "avg = None\n",
    "video = cv2.VideoCapture(\"data/people-capture.mp4\")\n",
    "xvalues = list()\n",
    "motion = list()\n",
    "count1 = 0\n",
    "count2 = 0\n",
    "def find_majority(k):\n",
    "    myMap = {}\n",
    "    maximum = ( '', 0 ) # (occurring element, occurrences)\n",
    "    for n in k:\n",
    "        if n in myMap: myMap[n] += 1\n",
    "        else: myMap[n] = 1\n",
    "\n",
    "        # Keep track of maximum on the go\n",
    "        if myMap[n] > maximum[1]: maximum = (n,myMap[n])\n",
    "\n",
    "    return maximum\n",
    "\n",
    "while 1:\n",
    "    ret, frame = video.read()\n",
    "    flag = True\n",
    "    text=\"\"\n",
    "\n",
    "    frame = imutils.resize(frame, width=500)\n",
    "    gray = cv2.cvtColor(frame, cv2.COLOR_BGR2GRAY)\n",
    "    gray = cv2.GaussianBlur(gray, (21, 21), 0)\n",
    "\n",
    "    if avg is None:\n",
    "        print (\"[INFO] starting background model...\")\n",
    "        avg = gray.copy().astype(\"float\")\n",
    "        continue\n",
    "\n",
    "    cv2.accumulateWeighted(gray, avg, 0.5)\n",
    "    frameDelta = cv2.absdiff(gray, cv2.convertScaleAbs(avg))\n",
    "    thresh = cv2.threshold(frameDelta, 5, 255, cv2.THRESH_BINARY)[1]\n",
    "    thresh = cv2.dilate(thresh, None, iterations=2)\n",
    "    (_, cnts, _) = cv2.findContours(thresh.copy(), cv2.RETR_EXTERNAL, cv2.CHAIN_APPROX_SIMPLE)\n",
    "    \n",
    "    for c in cnts:\n",
    "        if cv2.contourArea(c) < 5000:\n",
    "            continue\n",
    "        (x, y, w, h) = cv2.boundingRect(c)\n",
    "        xvalues.append(x)\n",
    "        cv2.rectangle(frame, (x, y), (x + w, y + h), (0, 0, 255), 2)\n",
    "        flag = False\n",
    "\t\n",
    "    no_x = len(xvalues)\n",
    "    \n",
    "    if (no_x > 2):\n",
    "        difference = xvalues[no_x - 1] - xvalues[no_x - 2]\n",
    "        if(difference > 0):\n",
    "            motion.append(1)\n",
    "        else:\n",
    "            motion.append(0)\n",
    "\n",
    "    if flag is True:\n",
    "        if (no_x > 5):\n",
    "            val, times = find_majority(motion)\n",
    "            if val == 1 and times >= 15:\n",
    "                count1 += 1\n",
    "            else:\n",
    "                count2 += 1\n",
    "                \n",
    "        xvalues = list()\n",
    "        motion = list()\n",
    "    \n",
    "    cv2.line(frame, (260, 0), (260,480), (0,255,0), 2)\n",
    "    cv2.line(frame, (420, 0), (420,480), (0,255,0), 2)\t\n",
    "    cv2.putText(frame, \"In: {}\".format(count1), (10, 20), cv2.FONT_HERSHEY_SIMPLEX, 0.5, (0, 0, 255), 2)\n",
    "    cv2.putText(frame, \"Out: {}\".format(count2), (10, 40), cv2.FONT_HERSHEY_SIMPLEX, 0.5, (0, 0, 255), 2)\n",
    "    cv2.imshow(\"Frame\",frame)\n",
    "    cv2.imshow(\"Gray\",gray)\n",
    "    cv2.imshow(\"FrameDelta\",frameDelta)\n",
    "    \n",
    "    key = cv2.waitKey(1) & 0xFF\n",
    "    if key == ord('q'):\n",
    "        break\n",
    "    \n",
    "video.release()\n",
    "cv2.destroyAllWindows()"
   ]
  },
  {
   "attachments": {},
   "cell_type": "markdown",
   "id": "f0d62666",
   "metadata": {},
   "source": [
    "<hr>"
   ]
  }
 ],
 "metadata": {
  "kernelspec": {
   "display_name": "Python 3 (ipykernel)",
   "language": "python",
   "name": "python3"
  },
  "language_info": {
   "codemirror_mode": {
    "name": "ipython",
    "version": 3
   },
   "file_extension": ".py",
   "mimetype": "text/x-python",
   "name": "python",
   "nbconvert_exporter": "python",
   "pygments_lexer": "ipython3",
   "version": "3.9.2rc1"
  }
 },
 "nbformat": 4,
 "nbformat_minor": 5
}
