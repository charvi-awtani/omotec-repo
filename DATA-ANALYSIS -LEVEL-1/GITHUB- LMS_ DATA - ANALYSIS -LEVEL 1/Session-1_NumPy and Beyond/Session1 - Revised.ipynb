{
 "cells": [
  {
   "cell_type": "markdown",
   "id": "93dd01e4",
   "metadata": {},
   "source": [
    "# SESSION 1\n"
   ]
  },
  {
   "attachments": {},
   "cell_type": "markdown",
   "id": "6bd8f79a",
   "metadata": {},
   "source": [
    "1. Introduction to Arrays<br>\n",
    "2. Arrays vs Lists<br>\n",
    "3. Creating Arrays using NumPy<br>\n",
    "4. Numpy Array Methods <br>\n",
    "5. Dimensions in Arrays<br>\n",
    "6. Indexing<br>\n",
    "\t\t6.1 Negative Indexing<br> \n",
    "7. Slicing<br>\n",
    "\t\t7.1. Negative Slicing"
   ]
  },
  {
   "cell_type": "markdown",
   "id": "418f2929",
   "metadata": {},
   "source": [
    "## 1. Introduction to Arrays\n"
   ]
  },
  {
   "cell_type": "markdown",
   "id": "d3076b48",
   "metadata": {},
   "source": [
    "- In Python, array is a data structure which is used to store a collection of elements of the same data type. \n",
    "- Unlike lists, which can contain elements of different data types, arrays are homogeneous, which means that all elements in an array must be of the same data type."
   ]
  },
  {
   "cell_type": "markdown",
   "id": "6b50d418",
   "metadata": {},
   "source": [
    "Advantages of Array over a List :\n",
    "\n",
    "- Arrays are generally faster than lists, especially when dealing with large amounts of data. \n",
    "- Arrays use less memory than lists, since they are stored as a contiguous block of memory."
   ]
  },
  {
   "cell_type": "markdown",
   "id": "9a0e75b4",
   "metadata": {},
   "source": [
    "## 2. Arrays vs Lists"
   ]
  },
  {
   "cell_type": "markdown",
   "id": "bf4940e2",
   "metadata": {},
   "source": [
    "<img align = \"middle\" src = 'images/array-list.png' width = '700' height = auto>"
   ]
  },
  {
   "cell_type": "markdown",
   "id": "09c32f04",
   "metadata": {},
   "source": [
    "<br>\n",
    "<img align = \"middle\" src=\"images/array-list.png\" alt=\"Drawing\" style=\"width: 600px;>\n",
    "<br>"
   ]
  },
  {
   "cell_type": "markdown",
   "id": "f673219c",
   "metadata": {},
   "source": [
    "> *Memory Allocation of Lists & Arrays :*\n",
    "<br>\n",
    "<br>\n",
    "<img align = \"middle\" src=\"images/array-list-memory.png\" alt=\"Drawing\" style=\"width: 700px;\">\n",
    "<br>"
   ]
  },
  {
   "cell_type": "markdown",
   "id": "911f7698",
   "metadata": {},
   "source": [
    "## 3. Creating Arrays using NumPy"
   ]
  },
  {
   "cell_type": "markdown",
   "id": "4aed8bb5",
   "metadata": {},
   "source": [
    "**What is NumPy?**"
   ]
  },
  {
   "cell_type": "markdown",
   "id": "1e78b0be",
   "metadata": {},
   "source": [
    "- NumPy is a Python library. \n",
    "- It stands for 'Numerical Python'. \n",
    "- It is a library consisting of array objects and an extensive set of functions for fast operations on arrays."
   ]
  },
  {
   "cell_type": "markdown",
   "id": "7cbe1a13",
   "metadata": {},
   "source": [
    "**Numpy is the foundation of the python scientific stack:**"
   ]
  },
  {
   "cell_type": "markdown",
   "id": "e144b5d3",
   "metadata": {},
   "source": [
    "<br>\n",
    "<img align = \"middle\" src=\"Images/Image-1.png\" alt=\"Drawing\" style=\"width: 500px;\">\n",
    "<br>"
   ]
  },
  {
   "cell_type": "markdown",
   "id": "db530fee",
   "metadata": {},
   "source": [
    "**How to install NumPy?**"
   ]
  },
  {
   "cell_type": "markdown",
   "id": "4d4e415b",
   "metadata": {},
   "source": [
    "```pip install numpy```"
   ]
  },
  {
   "cell_type": "markdown",
   "id": "85cc1aea",
   "metadata": {},
   "source": [
    "**How to import numpy?**"
   ]
  },
  {
   "cell_type": "code",
   "execution_count": null,
   "id": "76c28bbf",
   "metadata": {},
   "outputs": [],
   "source": [
    "import numpy as np\n",
    "# In Python, the as keyword is used to assign a new name to a module / library during import"
   ]
  },
  {
   "cell_type": "markdown",
   "id": "b278faee",
   "metadata": {},
   "source": [
    "- NumPy provides a powerful array computing functionality. \n",
    "- It is widely used in scientific computing, data analysis, machine learning, and many other fields.\n",
    "- A NumPy array is a collection of elements that are all of the same data type.\n",
    "- NumPy arrays can be created using the ```numpy.array()``` function.  This function takes a sequence of elements and converts them into a NumPy array. The array object in NumPy is called as ndarray."
   ]
  },
  {
   "cell_type": "code",
   "execution_count": null,
   "id": "05f719b0",
   "metadata": {},
   "outputs": [
    {
     "name": "stdout",
     "output_type": "stream",
     "text": [
      "[1 2 3 4 5]\n"
     ]
    }
   ],
   "source": [
    "# Creating a NumPy array: \n",
    "\n",
    "import numpy \n",
    "\n",
    "arr = numpy.array([1, 2, 3, 4, 5]) # The passed list gets converted into an array\n",
    "\n",
    "print(arr)"
   ]
  },
  {
   "cell_type": "markdown",
   "id": "c0c50cfc",
   "metadata": {},
   "source": [
    "<img align = \"middle\" src = 'images/Array1D.png' width = 400 height = auto>"
   ]
  },
  {
   "cell_type": "code",
   "execution_count": 1,
   "id": "35603493",
   "metadata": {},
   "outputs": [
    {
     "name": "stdout",
     "output_type": "stream",
     "text": [
      "[11 12 13 14 15]\n",
      "<class 'numpy.ndarray'>\n"
     ]
    }
   ],
   "source": [
    "# Finding the type of the created array:  \n",
    "\n",
    "import numpy as np\n",
    "\n",
    "arr = np.array([11, 12, 13, 14, 15])\n",
    "\n",
    "print(arr)\n",
    "\n",
    "print(type(arr))"
   ]
  },
  {
   "cell_type": "markdown",
   "id": "81e4243c",
   "metadata": {},
   "source": [
    "- To create an ndarray, we can pass a list, tuple or any array-like object into the array() method, and it will be converted into an ndarray"
   ]
  },
  {
   "cell_type": "code",
   "execution_count": 3,
   "id": "8e10300e",
   "metadata": {},
   "outputs": [
    {
     "name": "stdout",
     "output_type": "stream",
     "text": [
      "[15 25 35 45 55]\n"
     ]
    }
   ],
   "source": [
    "# Passing a tuple to the array() function: \n",
    "\n",
    "import numpy as np\n",
    "\n",
    "arr = np.array((15, 25, 35, 45, 55))\n",
    "\n",
    "print(arr)\n"
   ]
  },
  {
   "attachments": {},
   "cell_type": "markdown",
   "id": "0b50a25c",
   "metadata": {},
   "source": [
    "## 4. Numpy Array Methods \n"
   ]
  },
  {
   "attachments": {},
   "cell_type": "markdown",
   "id": "608d0579",
   "metadata": {},
   "source": [
    "`numpy.zeros()` method returns a new array of given shape and type, with zeros."
   ]
  },
  {
   "cell_type": "code",
   "execution_count": 1,
   "id": "867824f7",
   "metadata": {},
   "outputs": [
    {
     "name": "stdout",
     "output_type": "stream",
     "text": [
      "[0 0]\n",
      "\n",
      "[[0 0]\n",
      " [0 0]]\n",
      "\n",
      "[[0. 0. 0.]\n",
      " [0. 0. 0.]\n",
      " [0. 0. 0.]]\n"
     ]
    }
   ],
   "source": [
    "\n",
    " \n",
    "import numpy as np\n",
    " \n",
    "b = np.zeros(2, dtype = int)\n",
    "print(b)\n",
    "print()\n",
    "a = np.zeros([2, 2], dtype = int)\n",
    "print(a)\n",
    "print()\n",
    "c = np.zeros([3, 3])\n",
    "print(c)"
   ]
  },
  {
   "attachments": {},
   "cell_type": "markdown",
   "id": "6ec7dd52",
   "metadata": {},
   "source": [
    "```numpy.ones()``` function returns a new array of given shape and type, with ones."
   ]
  },
  {
   "cell_type": "code",
   "execution_count": 3,
   "id": "37346aab",
   "metadata": {},
   "outputs": [
    {
     "name": "stdout",
     "output_type": "stream",
     "text": [
      "[1 1]\n",
      "\n",
      "[[1 1]\n",
      " [1 1]]\n",
      "\n",
      "[[1. 1. 1.]\n",
      " [1. 1. 1.]\n",
      " [1. 1. 1.]]\n"
     ]
    }
   ],
   "source": [
    " \n",
    "import numpy as np\n",
    " \n",
    "b = np.ones(2, dtype = int)\n",
    "print(b)\n",
    "print()\n",
    "a = np.ones([2, 2], dtype = int)\n",
    "print(a)\n",
    "print()\n",
    "c = np.ones([3, 3])\n",
    "print(c)"
   ]
  },
  {
   "attachments": {},
   "cell_type": "markdown",
   "id": "271b6b66",
   "metadata": {},
   "source": [
    "```numpy.ndarray.fill()``` method is used to fill the numpy array with a scalar value (scalar value: numerical quantity or measurement that represents a single quantity).<br>\n",
    "\n",
    "If we have to initialize a numpy array with an identical value then we use numpy.ndarray.fill(). Suppose we have to create a NumPy array a of length n, each element of which is v. Then we use this function as a.fill(v). We need not use loops to initialize an array if we are using this fill() function."
   ]
  },
  {
   "cell_type": "code",
   "execution_count": null,
   "id": "1b2c3b47",
   "metadata": {},
   "outputs": [],
   "source": [
    "\n",
    "# Python program explaining\n",
    "# numpy.ndarray.fill() function\n",
    "import numpy as np\n",
    "  \n",
    "a = np.empty([3, 3])\n",
    "  \n",
    "# Initializing each element of the array\n",
    "# with 42 by using nested loops \n",
    "for i in range(3):\n",
    "    for j in range(3):\n",
    "        a[i][j] = 42\n",
    "  \n",
    "print(a)    \n",
    "  \n",
    "  \n",
    "# now we are initializing each element\n",
    "# of the array with 42 using fill() function. \n",
    "a.fill(42)\n",
    "  \n",
    "print(a)"
   ]
  },
  {
   "attachments": {},
   "cell_type": "markdown",
   "id": "e0e0f8a5",
   "metadata": {},
   "source": [
    "## 5. Dimensions in Arrays"
   ]
  },
  {
   "cell_type": "markdown",
   "id": "c8d6d3fe",
   "metadata": {},
   "source": [
    "- The dimension of an array can simply be defined as the number of subscripts or indices required to specify a particular element of the array. \n",
    "\n",
    "**Let’s understand the dimensionality of an array by an analogy of a library.**\n",
    "\n",
    "In a Library, Let’s consider books as individual elements. Books are kept on the shelves of the racks in the library where each rack and shelf are indexed. \n",
    "\n",
    "- A single shelf can be viewed as a 1-D (1-Dimensional) array of books.\n",
    "- A single rack with several shelves can be considered to be a 2-D (2-Dimensional) array.\n",
    "- The complete library with several racks can be viewed as a 3-D (3-Dimensional) array. \n",
    "- We require the rack number, shelf number, and the position of the book on the shelf to get a particular book from the library. \n",
    "- Similarly, an institution can have several libraries on its campus and thus the institution can be viewed as a 4-D (4-Dimensional) array with individual libraries as its elements."
   ]
  },
  {
   "attachments": {},
   "cell_type": "markdown",
   "id": "0b2f28af",
   "metadata": {},
   "source": [
    "<img align = 'middle' src = \"Images/Image-Dimensions.png\"  width = 950 height = 250>"
   ]
  },
  {
   "cell_type": "markdown",
   "id": "bfa035ca",
   "metadata": {},
   "source": [
    "**0-D Arrays**\n",
    "\n",
    "- 0-D arrays, or Scalars, are the elements in an array. \n",
    "- Each value in an array is a 0-D array."
   ]
  },
  {
   "cell_type": "code",
   "execution_count": 4,
   "id": "43e5e25e",
   "metadata": {},
   "outputs": [
    {
     "name": "stdout",
     "output_type": "stream",
     "text": [
      "72\n",
      "0\n"
     ]
    }
   ],
   "source": [
    "# Example of 0-D array: \n",
    "\n",
    "import numpy as np\n",
    "\n",
    "arr = np.array(72)\n",
    "\n",
    "print(arr)\n",
    "print(arr.ndim) # ndim attribute will print the number of dimensions of an array"
   ]
  },
  {
   "cell_type": "markdown",
   "id": "266dc992",
   "metadata": {},
   "source": [
    "**1-D Arrays**\n",
    "- An array that has 0-D arrays as its elements is called uni-dimensional or 1-D array."
   ]
  },
  {
   "cell_type": "code",
   "execution_count": 7,
   "id": "21d11532",
   "metadata": {},
   "outputs": [
    {
     "name": "stdout",
     "output_type": "stream",
     "text": [
      "[21 32 73 54 45]\n"
     ]
    }
   ],
   "source": [
    "# Example of 1-D array: \n",
    "import numpy as np\n",
    "\n",
    "arr = np.array([21, 32, 73, 54, 45])\n",
    "\n",
    "print(arr)\n",
    "print(arr.ndim)"
   ]
  },
  {
   "cell_type": "markdown",
   "id": "218b6a36",
   "metadata": {},
   "source": [
    "**2-D Arrays**\n",
    "\n",
    "- An array that has 1-D arrays as its elements is called a 2-D array.\n",
    "- These are often used to represent a matrix."
   ]
  },
  {
   "cell_type": "code",
   "execution_count": 5,
   "id": "a79b57cd",
   "metadata": {},
   "outputs": [
    {
     "name": "stdout",
     "output_type": "stream",
     "text": [
      "[[1 2 3]\n",
      " [4 5 6]]\n"
     ]
    }
   ],
   "source": [
    "# Create a 2-D array containing two arrays with the values 1,2,3 and 4,5,6:\n",
    "\n",
    "import numpy as np\n",
    "\n",
    "arr = np.array([[1, 2, 3], [4, 5, 6]])\n",
    "\n",
    "print(arr)"
   ]
  },
  {
   "cell_type": "markdown",
   "id": "9781e56f",
   "metadata": {},
   "source": [
    "**3-D arrays**\n",
    "\n",
    "- An array that has 2-D arrays (matrices) as its elements is called as 3-D array."
   ]
  },
  {
   "cell_type": "code",
   "execution_count": 10,
   "id": "859aa45f",
   "metadata": {},
   "outputs": [
    {
     "name": "stdout",
     "output_type": "stream",
     "text": [
      "[[[1 2 3]\n",
      "  [4 5 6]]\n",
      "\n",
      " [[1 2 3]\n",
      "  [4 5 6]]]\n",
      "3-D Array Indexing:\n",
      "5\n"
     ]
    }
   ],
   "source": [
    "# Create a 3-D array with two 2-D arrays, both containing two arrays with the values 1,2,3 and 4,5,6:\n",
    "\n",
    "import numpy as np\n",
    "\n",
    "arr = np.array([[[1, 2, 3], [4, 5, 6]], [[1, 2, 3], [4, 5, 6]]])\n",
    "\n",
    "print(arr)\n",
    "print(\"3-D Array Indexing:\")\n",
    "# This would print the element which is at index 1 in the 2nd list that is inside the outer list\n",
    "print(arr[0,1,1]) "
   ]
  },
  {
   "cell_type": "markdown",
   "id": "c49b141d",
   "metadata": {},
   "source": [
    "<img align = 'middle ' src = \"images/DimensionsLakhdeep.png\"  width = 750 height = 400>"
   ]
  },
  {
   "cell_type": "markdown",
   "id": "ad7029bc",
   "metadata": {},
   "source": [
    "**Check Number of Dimensions**\n",
    "\n",
    "- NumPy Arrays provide the ```ndim``` attribute that returns an integer that tells us how many dimensions the array has."
   ]
  },
  {
   "cell_type": "code",
   "execution_count": 10,
   "id": "9ebd50f3",
   "metadata": {},
   "outputs": [
    {
     "name": "stdout",
     "output_type": "stream",
     "text": [
      "0\n",
      "1\n",
      "2\n",
      "3\n"
     ]
    }
   ],
   "source": [
    "# Check how many dimensions these below given arrays have:\n",
    "\n",
    "import numpy as np\n",
    "\n",
    "a = np.array(42) # 0-D\n",
    "b = np.array([17, 28, 30, 42, 51]) # 1-D\n",
    "c = np.array([[71, 22, 73], [14, 85, 61]]) # 2-D\n",
    "d = np.array([[[10, 28, 31], [43, 85, 26]], [[41, 21, 32], [42, 52, 16]]]) # 3-D\n",
    "\n",
    "print(a.ndim)\n",
    "print(b.ndim)\n",
    "print(c.ndim)\n",
    "print(d.ndim)"
   ]
  },
  {
   "cell_type": "markdown",
   "id": "fb5f239d",
   "metadata": {},
   "source": [
    "**Higher Dimensional Arrays**\n",
    "\n",
    "- An array can have any number of dimensions.\n",
    "\n",
    "- When the array is created, you can define the number of dimensions by using the ```ndmin``` argument."
   ]
  },
  {
   "cell_type": "code",
   "execution_count": 4,
   "id": "b07b43a8",
   "metadata": {},
   "outputs": [
    {
     "name": "stdout",
     "output_type": "stream",
     "text": [
      "[[[[[12 32 43 94]]]]]\n",
      "number of dimensions : 5\n"
     ]
    }
   ],
   "source": [
    "# Create an array with 5 dimensions and verify that it has 5 dimensions:\n",
    "\n",
    "import numpy as np\n",
    "\n",
    "arr = np.array([12, 32, 43, 94], ndmin=5) # The provided list would be converted into a 5-D array\n",
    "\n",
    "print(arr)\n",
    "print('number of dimensions :', arr.ndim)\n"
   ]
  },
  {
   "attachments": {},
   "cell_type": "markdown",
   "id": "8d874fd7",
   "metadata": {},
   "source": [
    "## 6. Indexing"
   ]
  },
  {
   "cell_type": "markdown",
   "id": "2925444c",
   "metadata": {},
   "source": [
    "- Indexing in an array refers to accessing a specific element in the array by specifying its position or index. \n",
    "- In most programming languages, arrays are zero-indexed, which means that the first element in the array is at index 0, the second element is at index 1, and so on."
   ]
  },
  {
   "cell_type": "code",
   "execution_count": 2,
   "id": "606dd324",
   "metadata": {},
   "outputs": [
    {
     "name": "stdout",
     "output_type": "stream",
     "text": [
      "2\n",
      "6\n"
     ]
    }
   ],
   "source": [
    "# Indexing in 1-D array: \n",
    "import numpy as np\n",
    "my_array1 = np.array([1, 2, 3])\n",
    "print(my_array1[1])    # Output: 2\n",
    "\n",
    "# Indexing in 2-D array: \n",
    "\n",
    "my_array2 = np.array([[1, 2, 3], [4, 5, 6]])\n",
    "print(my_array2[1,2])    # Output: 6\n",
    "\n"
   ]
  },
  {
   "cell_type": "markdown",
   "id": "cb003f79",
   "metadata": {},
   "source": [
    "<img align = 'middle' src = 'images/Indexing1D2D.png' width = 700>"
   ]
  },
  {
   "cell_type": "code",
   "execution_count": 17,
   "id": "e29426fb",
   "metadata": {},
   "outputs": [
    {
     "name": "stdout",
     "output_type": "stream",
     "text": [
      "7\n"
     ]
    }
   ],
   "source": [
    "# Get the third and fourth element from the following array and return their sum.\n",
    "\n",
    "import numpy as np\n",
    "\n",
    "arr = np.array([1, 2, 3, 4])\n",
    "\n",
    "print(arr[2] + arr[3])"
   ]
  },
  {
   "cell_type": "markdown",
   "id": "a997f920",
   "metadata": {},
   "source": [
    "<br>\n",
    "<img align = 'middle' src=\"images/indexing2.png\"  width = 700>\n",
    "<br>"
   ]
  },
  {
   "attachments": {},
   "cell_type": "markdown",
   "id": "80b070b7",
   "metadata": {},
   "source": [
    "### Access 2-D Arrays"
   ]
  },
  {
   "cell_type": "markdown",
   "id": "d4a66ce3",
   "metadata": {},
   "source": [
    "**To access elements from 2-D arrays we can use comma separated integers representing the dimension and the index of the element.**"
   ]
  },
  {
   "cell_type": "code",
   "execution_count": 2,
   "id": "b3dbab62",
   "metadata": {},
   "outputs": [
    {
     "name": "stdout",
     "output_type": "stream",
     "text": [
      "2nd element on 1st row:  9\n"
     ]
    }
   ],
   "source": [
    "# Accessing 2-D Array elements\n",
    "\n",
    "import numpy as np\n",
    "\n",
    "arr = np.array([[1,2,3,4,5], [6,7,8,9,10]])\n",
    "\n",
    "print('2nd element on 1st row: ', arr[1, 3])"
   ]
  },
  {
   "cell_type": "markdown",
   "id": "77ce26bf",
   "metadata": {},
   "source": [
    "<img align = ' middle ' src = \"images/Indexing2D.png\" width = 500>"
   ]
  },
  {
   "cell_type": "code",
   "execution_count": 3,
   "id": "71d77526",
   "metadata": {},
   "outputs": [
    {
     "name": "stdout",
     "output_type": "stream",
     "text": [
      "3rd element on 2nd row:  38\n"
     ]
    }
   ],
   "source": [
    "\n",
    "# Access the  3rd element on 2nd row :\n",
    "\n",
    "import numpy as np\n",
    "\n",
    "arr = np.array([[10,29,43,34,45], [16,47,38,29,10]])\n",
    "\n",
    "print('3rd element on 2nd row: ', arr[1, 2])\n"
   ]
  },
  {
   "attachments": {},
   "cell_type": "markdown",
   "id": "05faa59a",
   "metadata": {},
   "source": [
    "<img align = ' middle ' src = \"images/Indexing2D2.png\" width = 500>"
   ]
  },
  {
   "cell_type": "markdown",
   "id": "d7e49058",
   "metadata": {},
   "source": [
    "**Access 3-D Arrays**"
   ]
  },
  {
   "cell_type": "markdown",
   "id": "1907eefb",
   "metadata": {},
   "source": [
    "- To access elements from 3-D arrays we can use comma separated integers representing the dimensions and the index of the element.\n"
   ]
  },
  {
   "cell_type": "code",
   "execution_count": 20,
   "id": "c7cb10b9",
   "metadata": {},
   "outputs": [
    {
     "name": "stdout",
     "output_type": "stream",
     "text": [
      "76\n"
     ]
    }
   ],
   "source": [
    "# Accessing elements from 3-D Arrays\n",
    "# Access the third element of the second array of the first array:\n",
    "\n",
    "import numpy as np\n",
    "\n",
    "arr = np.array([[[12, 22, 43], [554, 65, 76]], [[87, 68, 49], [10, 11, 12]]])\n",
    "\n",
    "print(arr[0, 1, 2])"
   ]
  },
  {
   "cell_type": "markdown",
   "id": "89a9f3f9",
   "metadata": {},
   "source": [
    "<img align = ' middle ' src = \"images/3DArrayIndexing.png\" width = 500>"
   ]
  },
  {
   "attachments": {},
   "cell_type": "markdown",
   "id": "f06d6342",
   "metadata": {},
   "source": [
    "### 6.1 Negative Indexing "
   ]
  },
  {
   "cell_type": "markdown",
   "id": "bd3c905e",
   "metadata": {},
   "source": [
    "Negative Indexing starts from -1 and here -1 refers to the last element in the array."
   ]
  },
  {
   "cell_type": "code",
   "execution_count": 21,
   "id": "5fbd12dd",
   "metadata": {},
   "outputs": [
    {
     "name": "stdout",
     "output_type": "stream",
     "text": [
      "Last element from 2nd dim:  10\n"
     ]
    }
   ],
   "source": [
    "# Accessing elements from 2-D Arrays\n",
    "# Print the last element from the 2nd dim:\n",
    "\n",
    "import numpy as np\n",
    "\n",
    "arr = np.array([[13,24,35,46,58], [66,75,84,93,10]])\n",
    "\n",
    "print('Last element from 2nd dim: ', arr[1, -1])"
   ]
  },
  {
   "cell_type": "markdown",
   "id": "3852d8b7",
   "metadata": {},
   "source": [
    "<img align = ' middle ' src = \"images/2DArrayNegative.png\" width = 500>"
   ]
  },
  {
   "attachments": {},
   "cell_type": "markdown",
   "id": "bfcd22f9",
   "metadata": {},
   "source": [
    "## 7. Slicing"
   ]
  },
  {
   "cell_type": "markdown",
   "id": "f23cafa6",
   "metadata": {},
   "source": [
    "- Slicing refers to the technique of accessing a range of elements from a sequence (e.g. list, string, tuple) using the slicing operator ':'. \n",
    "- It is a way to extract a subset of the sequence, starting from a specified index and ending at another specified index, while also specifying the step size.\n",
    "- We pass a slice instead of an index like this: [start_index:stop_index + 1].\n",
    "- We can also define the step_size, like this: [start_index:stop_index:step_size].\n",
    "- If we don't pass the stop_index, the length of the array is considered as the stop_index.\n",
    "- If we don't pass the step_size, it is considered as 1."
   ]
  },
  {
   "cell_type": "code",
   "execution_count": 12,
   "id": "8160297f",
   "metadata": {},
   "outputs": [
    {
     "name": "stdout",
     "output_type": "stream",
     "text": [
      "[32 43 64 57]\n"
     ]
    }
   ],
   "source": [
    "# Slice elements from index 1 to index 5 from the following array:\n",
    "\n",
    "import numpy as np\n",
    "\n",
    "arr = np.array([21, 32, 43, 64, 57, 68, 37])\n",
    "\n",
    "print(arr[1:5]) # element at index 1 is included & element at index 5 is excluded"
   ]
  },
  {
   "attachments": {
    "Untitled%20Diagram%20%282%29.jpg": {
     "image/jpeg": "[encoded data removed]"
    }
   },
   "cell_type": "markdown",
   "id": "86d0c168",
   "metadata": {},
   "source": [
    "![Untitled%20Diagram%20%282%29.jpg](attachment:Untitled%20Diagram%20%282%29.jpg)\n",
    "\n",
    "**The highlighted section is the result we get after slicing**"
   ]
  },
  {
   "cell_type": "code",
   "execution_count": 13,
   "id": "e88d2ea9",
   "metadata": {},
   "outputs": [
    {
     "name": "stdout",
     "output_type": "stream",
     "text": [
      "[1 2 3]\n"
     ]
    }
   ],
   "source": [
    "# Slice elements from the beginning to index 3 (not including the element at index 3):\n",
    "\n",
    "import numpy as np\n",
    "\n",
    "arr = np.array([1, 2, 3, 4, 5, 6, 7])\n",
    "\n",
    "print(arr[:3])"
   ]
  },
  {
   "cell_type": "markdown",
   "id": "1b486114",
   "metadata": {},
   "source": [
    "<img align = ' middle ' src = \"images/1DSlicing.png\" width = 500 height = 200>"
   ]
  },
  {
   "attachments": {},
   "cell_type": "markdown",
   "id": "6d395861",
   "metadata": {},
   "source": [
    "### 7.1. Negative Slicing"
   ]
  },
  {
   "cell_type": "code",
   "execution_count": 16,
   "id": "a29f8ddf",
   "metadata": {},
   "outputs": [
    {
     "name": "stdout",
     "output_type": "stream",
     "text": [
      "[44 85 26]\n"
     ]
    }
   ],
   "source": [
    "# Negative slicing (1-D array):\n",
    "# Slice a section from the given array that contains all the elements from index 3 to index 5 (including).\n",
    "\n",
    "import numpy as np\n",
    "\n",
    "arr = np.array([41, 52, 73, 44, 85, 26, 37])\n",
    "\n",
    "print(arr[-4:-1])"
   ]
  },
  {
   "cell_type": "markdown",
   "id": "d16392ab",
   "metadata": {},
   "source": [
    "<img align = ' middle ' src = \"images/1DNegativeSlicing.png\" width = 600 height = auto>"
   ]
  },
  {
   "cell_type": "code",
   "execution_count": 16,
   "id": "64e11966",
   "metadata": {},
   "outputs": [
    {
     "name": "stdout",
     "output_type": "stream",
     "text": [
      "[57 68 79]\n"
     ]
    }
   ],
   "source": [
    "# Slicing (2-D Array): \n",
    "# From the second element, slice elements from index 1 to index 4 (not included):\n",
    "\n",
    "import numpy as np\n",
    "\n",
    "arr = np.array([[18, 72, 63, 54, 35], [46, 57, 68, 79, 10]])\n",
    "\n",
    "print(arr[1, 1:4])"
   ]
  },
  {
   "attachments": {
    "Untitled%20Diagram%20%283%29.jpg": {
     "image/jpeg": "[encoded data removed]"
    }
   },
   "cell_type": "markdown",
   "id": "943f24c1",
   "metadata": {},
   "source": [
    "![Untitled%20Diagram%20%283%29.jpg](attachment:Untitled%20Diagram%20%283%29.jpg)\n"
   ]
  },
  {
   "cell_type": "code",
   "execution_count": 6,
   "id": "73018084",
   "metadata": {},
   "outputs": [
    {
     "name": "stdout",
     "output_type": "stream",
     "text": [
      "[3 8]\n"
     ]
    }
   ],
   "source": [
    "# Slicing multiple elements of a 2-D array:\n",
    "\n",
    "import numpy as np\n",
    "\n",
    "arr = np.array([[1, 2, 3, 4, 5], [6, 7, 8, 9, 10]])\n",
    "\n",
    "print(arr[0:2, 2])\n"
   ]
  },
  {
   "cell_type": "markdown",
   "id": "4578c099",
   "metadata": {},
   "source": [
    "<img align = ' middle ' src = \"images/2DSlicing.png\" width = 600 height = auto>"
   ]
  },
  {
   "attachments": {},
   "cell_type": "markdown",
   "id": "05cdc2f3",
   "metadata": {},
   "source": [
    "<hr>"
   ]
  },
  {
   "cell_type": "markdown",
   "id": "f816ea7e",
   "metadata": {},
   "source": [
    "## Homework Questions"
   ]
  },
  {
   "cell_type": "markdown",
   "id": "c1db5d7c",
   "metadata": {},
   "source": [
    "1) Create a 0D array"
   ]
  },
  {
   "cell_type": "markdown",
   "id": "cac9f604",
   "metadata": {},
   "source": [
    "2) Create a 1D array"
   ]
  },
  {
   "cell_type": "markdown",
   "id": "dafc5dbd",
   "metadata": {},
   "source": [
    "3) Create a 2D array"
   ]
  },
  {
   "cell_type": "markdown",
   "id": "797e1da9",
   "metadata": {},
   "source": [
    "4) Print the last element from the 2nd dimension"
   ]
  },
  {
   "cell_type": "markdown",
   "id": "d187a319",
   "metadata": {},
   "source": [
    "5) Access the third element of the second array of the first array"
   ]
  },
  {
   "cell_type": "markdown",
   "id": "020de159",
   "metadata": {},
   "source": [
    "6) Get third and fourth elements from the following array and add them."
   ]
  },
  {
   "cell_type": "markdown",
   "id": "37670ffe",
   "metadata": {},
   "source": [
    "7. Create a numpy array of shape (3, 5) with random integers between 1 and 10. Slice the array to obtain the first row."
   ]
  },
  {
   "cell_type": "markdown",
   "id": "9234950a",
   "metadata": {},
   "source": [
    "8. Create a numpy array of shape (5, 5) with integers from 1 to 20. Slice the array to obtain the second column, but only the first three elements."
   ]
  },
  {
   "attachments": {},
   "cell_type": "markdown",
   "id": "5d55e94b",
   "metadata": {},
   "source": [
    "<hr>"
   ]
  },
  {
   "cell_type": "markdown",
   "id": "1a0dc884",
   "metadata": {},
   "source": [
    "For solutions of Homework questions, please refer to the ```HomeworkSolution.ipynb``` file."
   ]
  }
 ],
 "metadata": {
  "kernelspec": {
   "display_name": "Python 3 (ipykernel)",
   "language": "python",
   "name": "python3"
  },
  "language_info": {
   "codemirror_mode": {
    "name": "ipython",
    "version": 3
   },
   "file_extension": ".py",
   "mimetype": "text/x-python",
   "name": "python",
   "nbconvert_exporter": "python",
   "pygments_lexer": "ipython3",
   "version": "3.9.2"
  },
  "vscode": {
   "interpreter": {
    "hash": "f1a104daade7a70772ad630bf0568980f4e260449ff540bcd2b6baf0ecd3487d"
   }
  }
 },
 "nbformat": 4,
 "nbformat_minor": 5
}
