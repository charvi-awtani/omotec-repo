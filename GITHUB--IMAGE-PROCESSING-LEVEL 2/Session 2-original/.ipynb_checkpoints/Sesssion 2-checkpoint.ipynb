{
 "cells": [
  {
   "cell_type": "markdown",
   "metadata": {},
   "source": [
    "<img src=\"images/omotec.png\" alt=\"Drawing\" style=\"width: 130px;\" align=\"center\"/>"
   ]
  },
  {
   "cell_type": "markdown",
   "metadata": {},
   "source": [
    "## Image thresholding\n",
    "\n",
    "Thresholding is the process by which we create masks in opencv. Mask are imges which has only 2 colors white and black.\n",
    "We are going to look two thresholding funcions\n",
    "1. `cv2.threshold`\n",
    "2. `cv2.adaptiveThreshold`\n",
    "\n",
    "**Note : For thresholding to work we need gray scale images**"
   ]
  },
  {
   "cell_type": "markdown",
   "metadata": {},
   "source": [
    "### 1) `cv2.threshold`\n",
    "\n",
    "This fucnion takes in 4 arguments.\n",
    "`cv2.threshold(image array, threshold value, max value, Threshold Type)`\n",
    "\n",
    "- **Threshold value** - If pixel value is greater than the threshold value, it is assigned one value (may be white), else it is assigned another value (may be black). \n",
    "- **max value** - The value assigned to the pixel whcih is greater than the threshold\n",
    "- **Threshold Type** - There are 5 types of threshold availabel in opencv\n",
    "    - cv2.THRESH_BINARY\n",
    "    - cv2.THRESH_BINARY_INV\n",
    "    - cv2.THRESH_TRUNC\n",
    "    - cv2.THRESH_TOZERO\n",
    "    - cv2.THRESH_TOZERO_INV\n",
    "    \n",
    "We will have a look at each one of this methods"
   ]
  },
  {
   "cell_type": "code",
   "execution_count": 5,
   "metadata": {},
   "outputs": [],
   "source": [
    "import cv2\n",
    "import numpy as np\n",
    "\n",
    "\n",
    "img = cv2.imread('images/gradient.png',0)\n",
    "\n",
    "ret,thresh1 = cv2.threshold(img,127,255,cv2.THRESH_BINARY)\n",
    "\n",
    "while True:\n",
    "    cv2.imshow('image',thresh1)\n",
    "    cv2.imshow(\"actual\",img)\n",
    "    key = cv2.waitKey(100)\n",
    "    if key == ord('q'):\n",
    "        break\n",
    "\n",
    "cv2.destroyAllWindows()"
   ]
  },
  {
   "cell_type": "markdown",
   "metadata": {},
   "source": [
    "We Will be using matplotlib to plot all images in a single grid"
   ]
  },
  {
   "cell_type": "code",
   "execution_count": 10,
   "metadata": {},
   "outputs": [
    {
     "data": {
      "image/png": "[encoded data removed]",
      "text/plain": [
       "<Figure size 432x288 with 6 Axes>"
      ]
     },
     "metadata": {},
     "output_type": "display_data"
    }
   ],
   "source": [
    "import cv2\n",
    "import numpy as np\n",
    "from matplotlib import pyplot as plt\n",
    "\n",
    "img = cv2.imread('images/gradient.png',0)\n",
    "ret,thresh1 = cv2.threshold(img,127,255,cv2.THRESH_BINARY)\n",
    "ret,thresh2 = cv2.threshold(img,127,255,cv2.THRESH_BINARY_INV)\n",
    "ret,thresh3 = cv2.threshold(img,127,255,cv2.THRESH_TRUNC)\n",
    "ret,thresh4 = cv2.threshold(img,127,255,cv2.THRESH_TOZERO)\n",
    "ret,thresh5 = cv2.threshold(img,127,255,cv2.THRESH_TOZERO_INV)\n",
    "\n",
    "titles = ['Original Image','BINARY','BINARY_INV','TRUNC','TOZERO','TOZERO_INV']\n",
    "images = [img, thresh1, thresh2, thresh3, thresh4, thresh5]\n",
    "\n",
    "for i in range(0,6):\n",
    "    plt.subplot(2,3,i+1)\n",
    "    plt.imshow(images[i],'gray')\n",
    "    plt.title(titles[i])\n",
    "    plt.xticks([])\n",
    "    plt.yticks([])\n",
    "\n",
    "plt.show()"
   ]
  },
  {
   "cell_type": "markdown",
   "metadata": {},
   "source": [
    "### 2) `cv2.adaptiveThreshold`"
   ]
  },
  {
   "cell_type": "markdown",
   "metadata": {},
   "source": [
    "There are two types of adaptive thresholding : \n",
    "1. `cv2.ADAPTIVE_THRESH_MEAN_C` : threshold value is the mean of neighbourhood area.\n",
    "1. `cv2.ADAPTIVE_THRESH_GAUSSIAN_C` : threshold value is the weighted sum of neighbourhood values where weights are a gaussian window."
   ]
  },
  {
   "cell_type": "markdown",
   "metadata": {},
   "source": [
    "**syntax for adaptive thresholding**<br>\n",
    "`cv2.adaptiveThreshold(imgage array, max value, adaptive threshold type, threshold type, block size, constant)`\n",
    "\n",
    "- Threshold type - The threshold can only be `cv2.THRESH_BINARY` or `cv2.THRESH_BINARY_INV`\n",
    "- block size - The kernal size use to calculate the mean and the weighted mean (the samller the block size fastert the computation)\n",
    "- consatnt - The value that is dedcucted from the calculated adaptive thershold"
   ]
  },
  {
   "cell_type": "code",
   "execution_count": 6,
   "metadata": {},
   "outputs": [],
   "source": [
    "import cv2\n",
    "import numpy as np\n",
    "from matplotlib import pyplot as plt\n",
    "\n",
    "img = cv2.imread('images/sudoku.png',0)\n",
    "img = cv2.medianBlur(img,5)\n",
    "\n",
    "ret,th1 = cv2.threshold(img,127, 255, cv2.THRESH_BINARY)\n",
    "th2 = cv2.adaptiveThreshold(img, 255, cv2.ADAPTIVE_THRESH_MEAN_C, cv2.THRESH_BINARY,5,2)\n",
    "th3 = cv2.adaptiveThreshold(img, 255, cv2.ADAPTIVE_THRESH_GAUSSIAN_C, cv2.THRESH_BINARY,5,2)\n",
    "\n",
    "while True:\n",
    "    cv2.imshow('original', img)\n",
    "    cv2.imshow('notmal threshold', th1)\n",
    "    cv2.imshow('adaptive threshold mean', th2)\n",
    "    cv2.imshow('adaptive threshold Gaussian', th2)            \n",
    "    \n",
    "    if cv2.waitKey(50) == ord('q'):\n",
    "        break\n",
    "        \n",
    "cv2.destroyAllWindows()"
   ]
  },
  {
   "cell_type": "markdown",
   "metadata": {},
   "source": [
    "\n",
    "---\n"
   ]
  },
  {
   "cell_type": "markdown",
   "metadata": {},
   "source": [
    "## Home Work"
   ]
  },
  {
   "cell_type": "markdown",
   "metadata": {},
   "source": [
    "### 1) Threshold the below image such that the shaded region of the circle becomes black"
   ]
  },
  {
   "cell_type": "markdown",
   "metadata": {},
   "source": [
    "<div>\n",
    "<img src=\"images/circle.png\" width=\"200\" align=\"center\"/>\n",
    "</div> "
   ]
  },
  {
   "cell_type": "markdown",
   "metadata": {},
   "source": [
    "### 2) Threshold the below image such that the text becomes clear"
   ]
  },
  {
   "cell_type": "markdown",
   "metadata": {},
   "source": [
    "<div>\n",
    "<img src=\"images/text.jpg\" width=\"400\" align=\"center\"/>\n",
    "</div> "
   ]
  },
  {
   "cell_type": "code",
   "execution_count": null,
   "metadata": {},
   "outputs": [],
   "source": []
  },
  {
   "cell_type": "markdown",
   "metadata": {},
   "source": [
    "# Otsu’s Binarization"
   ]
  },
  {
   "cell_type": "markdown",
   "metadata": {},
   "source": [
    "To be only done later if required else skip()"
   ]
  }
 ],
 "metadata": {
  "kernelspec": {
   "display_name": "Python 3",
   "language": "python",
   "name": "python3"
  },
  "language_info": {
   "codemirror_mode": {
    "name": "ipython",
    "version": 3
   },
   "file_extension": ".py",
   "mimetype": "text/x-python",
   "name": "python",
   "nbconvert_exporter": "python",
   "pygments_lexer": "ipython3",
   "version": "3.9.1"
  }
 },
 "nbformat": 4,
 "nbformat_minor": 4
}
