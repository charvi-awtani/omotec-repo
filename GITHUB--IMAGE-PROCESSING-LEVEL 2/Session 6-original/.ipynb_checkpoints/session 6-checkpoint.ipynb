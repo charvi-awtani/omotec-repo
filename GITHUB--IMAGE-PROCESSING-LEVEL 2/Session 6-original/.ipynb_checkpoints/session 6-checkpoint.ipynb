{
 "cells": [
  {
   "cell_type": "markdown",
   "metadata": {},
   "source": [
    "<img src=\"images/omotec.png\" alt=\"Drawing\" style=\"width: 130px;\" align=\"center\"/>"
   ]
  },
  {
   "cell_type": "markdown",
   "metadata": {},
   "source": [
    "# Project - 1\n",
    "## Virtual Paint"
   ]
  },
  {
   "cell_type": "code",
   "execution_count": null,
   "metadata": {},
   "outputs": [],
   "source": [
    "import numpy as np\n",
    "from cv2 import cv2\n",
    "\n",
    "cap = cv2.VideoCapture(0)\n",
    "cap.set(3,640)\n",
    "cap.set(4,480)\n",
    "cap.set(10,300)\n",
    "\n",
    "kernel_e = np.ones((7,7),np.uint8)\n",
    "kernel_d1 = np.ones((5,5),np.uint8)\n",
    "kernel_d2 = np.ones((3,3),np.uint8)\n",
    "\n",
    "points = []\n",
    "\n",
    "while True:\n",
    "# Take each frame\n",
    "    ret, frame = cap.read()\n",
    "    frame = cv2.flip(frame,1)\n",
    "\n",
    "    if not ret:\n",
    "        break\n",
    "    # Convert BGR to HSV\n",
    "    hsv = cv2.cvtColor(frame, cv2.COLOR_BGR2HSV)\n",
    "\n",
    "    # define range of blue color in HSV\n",
    "    lower_blue = np.array([26,53,0])\n",
    "    upper_blue = np.array([79,255,255])\n",
    "\n",
    "    # Threshold the HSV image to get only blue colors\n",
    "    mask = cv2.inRange(hsv, lower_blue, upper_blue)\n",
    "\n",
    "    # erosion = cv2.erode(mask,kernel_e,iterations = 1)\n",
    "    # # dilate1 = cv2.dilate(erosion,kernel_d1,iterations = 3)\n",
    "    # dilate2 = cv2.dilate(erosion,kernel_d2,iterations = 1)\n",
    "\n",
    "\n",
    "    contours, hierarchy = cv2.findContours(mask,cv2.RETR_TREE,cv2.CHAIN_APPROX_SIMPLE)\n",
    "    # img = cv2.drawContours(frame, contours, -1, (0,255,0), 3)\n",
    "\n",
    "    print(len(contours))\n",
    "\n",
    "    # img = np.copy(frame)\n",
    "\n",
    "    # print(contours[0])\n",
    "\n",
    "    for cnt in contours:\n",
    "        if cv2.contourArea(cnt)>800:\n",
    "            # cv2.drawContours(frame, [cnt], -1, (0,255,0), 3)\n",
    "            epsilon = 0.02*cv2.arcLength(cnt,True)\n",
    "            approx = cv2.approxPolyDP(cnt,epsilon,True)\n",
    "\n",
    "            x,y,w,h = cv2.boundingRect(approx)\n",
    "            cv2.rectangle(frame,(x,y),(x+w,y+h),(255,0,0),3)\n",
    "\n",
    "            cv2.circle(frame,(((x+(x+w))//2),y),4,(0,0,255),-1)\n",
    "\n",
    "            points.append([((x+(x+w))//2),y])\n",
    "        \n",
    "    for p in points:\n",
    "        cv2.circle(frame,(p[0],p[1]),4,(0,0,255),-1)\n",
    "\n",
    "    cv2.imshow('frame',frame)\n",
    "    # cv2.imshow('mask',mask)\n",
    "    # cv2.imshow('mask',erosion)\n",
    "    # cv2.imshow('mask',dilate2)\n",
    "\n",
    "\n",
    "    # cv2.imshow('res',res)\n",
    "    k = cv2.waitKey(1) & 0xFF\n",
    "    if k == 27:\n",
    "        break\n",
    "\n",
    "cv2.destroyAllWindows()\n",
    "\n"
   ]
  }
 ],
 "metadata": {
  "kernelspec": {
   "display_name": "Python 3",
   "language": "python",
   "name": "python3"
  },
  "language_info": {
   "codemirror_mode": {
    "name": "ipython",
    "version": 3
   },
   "file_extension": ".py",
   "mimetype": "text/x-python",
   "name": "python",
   "nbconvert_exporter": "python",
   "pygments_lexer": "ipython3",
   "version": "3.9.1"
  }
 },
 "nbformat": 4,
 "nbformat_minor": 4
}
