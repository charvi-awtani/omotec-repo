{
 "cells": [
  {
   "cell_type": "markdown",
   "metadata": {},
   "source": [
    "<img src=\"images/omotec.png\" alt=\"Drawing\" style=\"width: 130px;\" align=\"center\"/>"
   ]
  },
  {
   "cell_type": "markdown",
   "metadata": {},
   "source": [
    "## Template matching\n",
    "\n",
    "**The best matches can be found as global minimums when CV_TM_SQDIFF is used or maximums when CV_TM_CCORR or CV_TM_CCOEFF is used**"
   ]
  },
  {
   "cell_type": "code",
   "execution_count": 27,
   "metadata": {
    "scrolled": true
   },
   "outputs": [
    {
     "name": "stdout",
     "output_type": "stream",
     "text": [
      "<class 'float'>\n",
      "6683491.0\n",
      "(228, 271)\n",
      "(222, 84)\n"
     ]
    }
   ],
   "source": [
    "import cv2\n",
    "import numpy as np\n",
    "from matplotlib import pyplot as plt\n",
    "\n",
    "img = cv2.imread('images/messi5.jpg',0)\n",
    "template = cv2.imread('images/messi_face.jpg',0)\n",
    "\n",
    "w, h = template.shape[::-1]\n",
    "\n",
    "res = cv2.matchTemplate(img,template,cv2.TM_)\n",
    "min_val, max_val, min_loc, max_loc = cv2.minMaxLoc(res)\n",
    "\n",
    "print(type(min_val))\n",
    "print(max_val)\n",
    "\n",
    "print(min_loc)\n",
    "print(max_loc)\n",
    "\n",
    "\n",
    "top_left = max_loc\n",
    "bottom_right = (top_left[0] + w, top_left[1] + h)\n",
    "\n",
    "cv2.rectangle(img,top_left, bottom_right, 255, 2)\n",
    "\n",
    "cv2.imshow(\"image\",img)\n",
    "cv2.waitKey(5000)\n",
    "cv2.destroyAllWindows()"
   ]
  },
  {
   "cell_type": "markdown",
   "metadata": {},
   "source": [
    "## Canny edge detection"
   ]
  },
  {
   "cell_type": "code",
   "execution_count": 4,
   "metadata": {},
   "outputs": [],
   "source": [
    "import cv2\n",
    "import numpy as np\n",
    "from matplotlib import pyplot as plt\n",
    "\n",
    "img = cv2.imread('images/messi5.jpg',0)\n",
    "edges = cv2.Canny(img,200,400) # min and max values for hytserisis thresholding\n",
    "\n",
    "cv2.imshow(\"edges\",edges)\n",
    "cv2.imshow('messi',img)\n",
    "cv2.waitKey(0)\n",
    "cv2.destroyAllWindows()"
   ]
  },
  {
   "cell_type": "code",
   "execution_count": null,
   "metadata": {},
   "outputs": [],
   "source": []
  },
  {
   "cell_type": "markdown",
   "metadata": {},
   "source": [
    "## Home Work"
   ]
  },
  {
   "cell_type": "markdown",
   "metadata": {},
   "source": [
    "### 1) Using template matching make the mouse click automatically on a icon on your screen"
   ]
  },
  {
   "cell_type": "markdown",
   "metadata": {},
   "source": [
    "**Solution - problem 1**"
   ]
  },
  {
   "cell_type": "code",
   "execution_count": null,
   "metadata": {},
   "outputs": [],
   "source": [
    "from cv2 import cv2\n",
    "import numpy as np\n",
    "from matplotlib import pyplot as plt\n",
    "import pyautogui as p\n",
    "import time\n",
    "\n",
    "\n",
    "# img1 = cv2.imread('images/mail.png',0)\n",
    "template = cv2.imread('images/google.jpg',0)\n",
    "p.hotkey('win','d')\n",
    "time.sleep(0.5)\n",
    "\n",
    "img = p.screenshot()\n",
    "\n",
    "\n",
    "img = cv2.cvtColor(np.array(img),cv2.COLOR_RGB2BGR)\n",
    "img = cv2.cvtColor(img,cv2.COLOR_BGR2GRAY)\n",
    "\n",
    "# h1, w1 = img.shape[::-1]\n",
    "h, w = template.shape[::-1]\n",
    "\n",
    "\n",
    "# img = cv2.resize(img,(int(0.5*h1),int(0.5*w1)))\n",
    "# img1 = cv2.resize(img1,(int(0.5*h1),int(0.5*w1)))\n",
    "# template = cv2.resize(template,(int(0.5*h),int(0.5*w)))\n",
    "\n",
    "\n",
    "res = cv2.matchTemplate(img,template,cv2.TM_CCORR_NORMED)\n",
    "min_val, max_val, min_loc, max_loc = cv2.minMaxLoc(res)\n",
    "\n",
    "print(type(min_val))\n",
    "print(max_val)\n",
    "\n",
    "print(min_loc)\n",
    "print(max_loc)\n",
    "\n",
    "\n",
    "# top_left = max_loc\n",
    "# bottom_right = (top_left[0] + int(0.5*h2), top_left[1] + int(0.5*w2))\n",
    "\n",
    "p.click(max_loc[0]+5,max_loc[1]+5)\n",
    "\n",
    "# cv2.rectangle(img1,top_left, bottom_right, (255,0,0), 4)\n",
    "\n",
    "# cv2.imshow(\"image\",img1)\n",
    "# cv2.waitKey(0)\n",
    "# cv2.destroyAllWindows()"
   ]
  }
 ],
 "metadata": {
  "kernelspec": {
   "display_name": "Python 3",
   "language": "python",
   "name": "python3"
  },
  "language_info": {
   "codemirror_mode": {
    "name": "ipython",
    "version": 3
   },
   "file_extension": ".py",
   "mimetype": "text/x-python",
   "name": "python",
   "nbconvert_exporter": "python",
   "pygments_lexer": "ipython3",
   "version": "3.9.1"
  }
 },
 "nbformat": 4,
 "nbformat_minor": 4
}
