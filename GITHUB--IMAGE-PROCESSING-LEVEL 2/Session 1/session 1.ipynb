{
 "cells": [
  {
   "cell_type": "markdown",
   "metadata": {},
   "source": [
    "<img src=\"images/omotec.png\" alt=\"Drawing\" style=\"width: 130px;\" align=\"center\"/>"
   ]
  },
  {
   "cell_type": "markdown",
   "metadata": {},
   "source": [
    "## Changing color spaces"
   ]
  },
  {
   "cell_type": "markdown",
   "metadata": {},
   "source": [
    "We can use the `cv2.cvtColor(image,flag)` function to convert the color space of an image.\n",
    "The flag defines the existing color space and the color space the image has to be converted to.\n",
    "\n",
    "There are a lot of color conversion flags available in opencv.\n",
    "To get the list of all color spaces just type cv2.COLOR_ and press the crtl+space key to show the list.\n",
    "\n",
    "We are going to look at 2 color conversion formats.\n",
    "\n",
    "1. `cv2.COLOR_BGR2GRAY`\n",
    "2. `cv2.COLOR_BGR2HSV`\n",
    "\n",
    "<br>\n",
    "\n",
    "- Hue range in opencv is from 0-179 (most of the online color pickers have a range of 0-360)\n",
    "- Saturation range is 0-255\n",
    "- Value range is 0-255"
   ]
  },
  {
   "cell_type": "markdown",
   "metadata": {},
   "source": [
    "**We use BGR2GRAY to create masks for images**<br>\n",
    "**The HSV color sapce is used intead of the BGR color sapce as thersholding for a particular color is easier in HSV color sapce**"
   ]
  },
  {
   "cell_type": "markdown",
   "metadata": {},
   "source": [
    "---"
   ]
  },
  {
   "cell_type": "markdown",
   "metadata": {},
   "source": [
    "Before we start tracking the ball we must able to isolate the ball from the entire image. we will using the `inRange()` function to acheive this.<br>\n",
    "\n",
    "We will take a pic of the ball from the video and try to isolate the ball from the background."
   ]
  },
  {
   "cell_type": "code",
   "execution_count": 3,
   "metadata": {},
   "outputs": [],
   "source": [
    "from cv2 import cv2\n",
    "import numpy as np\n",
    "\n",
    "img = cv2.imread('images/blue_ball_pic.JPG')\n",
    "\n",
    "hsv = cv2.cvtColor(img, cv2.COLOR_BGR2HSV)\n",
    "\n",
    "def nothing(x):\n",
    "    pass\n",
    "\n",
    "cv2.namedWindow('image')\n",
    "\n",
    "cv2.createTrackbar('H-Low','image',0,179,nothing)\n",
    "cv2.createTrackbar('H-High','image',0,179,nothing)\n",
    "\n",
    "cv2.createTrackbar('S-Low','image',0,255,nothing)\n",
    "cv2.createTrackbar('S-High','image',0,255,nothing)\n",
    "\n",
    "cv2.createTrackbar('V-Low','image',0,255,nothing)\n",
    "cv2.createTrackbar('V-High','image',0,255,nothing)\n",
    "\n",
    "while True:\n",
    "    h_l = cv2.getTrackbarPos('H-Low','image')\n",
    "    h_h = cv2.getTrackbarPos('H-High','image')\n",
    "\n",
    "    s_l = cv2.getTrackbarPos('S-Low','image')\n",
    "    s_h = cv2.getTrackbarPos('S-High','image')\n",
    "\n",
    "    v_l = cv2.getTrackbarPos('V-Low','image')\n",
    "    v_h = cv2.getTrackbarPos('V-High','image')\n",
    "\n",
    "    low = np.array([h_l,s_l,v_l],dtype = 'uint8')\n",
    "    high = np.array([h_h,s_h,v_h],dtype = 'uint8')\n",
    "\n",
    "\n",
    "    mask = cv2.inRange(hsv, low,high)\n",
    "\n",
    "    blue = cv2.bitwise_and(img,img,mask = mask)\n",
    "\n",
    "    cv2.imshow('image',blue)\n",
    "    cv2.imshow('mask',mask)\n",
    "\n",
    "\n",
    "    key  = cv2.waitKey(50)\n",
    "\n",
    "    if key == ord('q'):\n",
    "        break\n",
    "\n",
    "cv2.destroyAllWindows()"
   ]
  },
  {
   "cell_type": "markdown",
   "metadata": {},
   "source": [
    "The high and low HSV threshold that we get from the tackbars can now be used to track the ball from the video.\n",
    "\n",
    "low thresholds  : `[32,86,109]` <br>\n",
    "high thresholds : `[127,255,199]`"
   ]
  },
  {
   "cell_type": "markdown",
   "metadata": {},
   "source": [
    "**Now since we have the high and the low threshold for the blue ball we can use this to actually track the ball in the video.**"
   ]
  },
  {
   "cell_type": "code",
   "execution_count": 1,
   "metadata": {},
   "outputs": [],
   "source": [
    "import cv2\n",
    "import numpy as np\n",
    "\n",
    "cap = cv2.VideoCapture('videos/blue_ball.mp4')\n",
    "\n",
    "while(1):\n",
    "\n",
    "    # Take each frame\n",
    "    ret, frame = cap.read()\n",
    "\n",
    "    if not ret:\n",
    "        break\n",
    "    # Convert BGR to HSV\n",
    "    hsv = cv2.cvtColor(frame, cv2.COLOR_BGR2HSV)\n",
    "\n",
    "    # define range of blue color in HSV\n",
    "    lower_blue = np.array([32,86,109])\n",
    "    upper_blue = np.array([127,255,199])\n",
    "\n",
    "    # Threshold the HSV image to get only blue colors\n",
    "    mask = cv2.inRange(hsv, lower_blue, upper_blue)\n",
    "\n",
    "    # Bitwise-AND mask and original image\n",
    "    res = cv2.bitwise_and(frame,frame, mask= mask)\n",
    "\n",
    "    cv2.imshow('frame',frame)\n",
    "    cv2.imshow('mask',mask)\n",
    "    cv2.imshow('res',res)\n",
    "    k = cv2.waitKey(5) & 0xFF\n",
    "    if k == 27:\n",
    "        break\n",
    "        \n",
    "\n",
    "cv2.destroyAllWindows()"
   ]
  },
  {
   "cell_type": "markdown",
   "metadata": {},
   "source": [
    "We a bit of green with the above thresholds. The reason is we did'nt fine tuen the thresholds.\n",
    "\n",
    "low thresholds  : `[92,86,109]` <br>\n",
    "high thresholds : `[127,255,199]`\n",
    "\n",
    "We can try again with the above thershold to get a better results"
   ]
  },
  {
   "cell_type": "markdown",
   "metadata": {},
   "source": [
    "---"
   ]
  },
  {
   "cell_type": "markdown",
   "metadata": {},
   "source": [
    "## Home Work"
   ]
  },
  {
   "cell_type": "markdown",
   "metadata": {},
   "source": [
    "### 1) Tracking Multiple colored balls\n",
    "\n",
    "Track the blue, red and the green colored balls in this video"
   ]
  },
  {
   "cell_type": "markdown",
   "metadata": {},
   "source": [
    "<video controls src=\"videos/all_ball.mp4\" width=\"700\" align=\"center\"/>"
   ]
  },
  {
   "cell_type": "markdown",
   "metadata": {},
   "source": [
    "**Solution - problem 1**"
   ]
  },
  {
   "cell_type": "code",
   "execution_count": 1,
   "metadata": {},
   "outputs": [],
   "source": [
    "from cv2 import cv2\n",
    "import numpy as np\n",
    "\n",
    "img = cv2.imread('images/all_ball_pic.JPG')\n",
    "\n",
    "hsv = cv2.cvtColor(img, cv2.COLOR_BGR2HSV)\n",
    "\n",
    "def nothing(x):\n",
    "    pass\n",
    "\n",
    "cv2.namedWindow('track_bar')\n",
    "\n",
    "cv2.createTrackbar('H-Low','track_bar',0,179,nothing)\n",
    "cv2.createTrackbar('H-High','track_bar',0,179,nothing)\n",
    "\n",
    "cv2.createTrackbar('S-Low','track_bar',0,255,nothing)\n",
    "cv2.createTrackbar('S-High','track_bar',0,255,nothing)\n",
    "\n",
    "cv2.createTrackbar('V-Low','track_bar',0,255,nothing)\n",
    "cv2.createTrackbar('V-High','track_bar',0,255,nothing)\n",
    "\n",
    "while True:\n",
    "    h_l = cv2.getTrackbarPos('H-Low','track_bar')\n",
    "    h_h = cv2.getTrackbarPos('H-High','track_bar')\n",
    "\n",
    "    s_l = cv2.getTrackbarPos('S-Low','track_bar')\n",
    "    s_h = cv2.getTrackbarPos('S-Hign','track_bar')\n",
    "\n",
    "    v_l = cv2.getTrackbarPos('V-Low','track_bar')\n",
    "    v_h = cv2.getTrackbarPos('V-High','track_bar')\n",
    "\n",
    "    low = np.array([h_l,s_l,v_l],dtype = 'uint8')\n",
    "    high = np.array([h_h,s_h,v_h],dtype = 'uint8')\n",
    "\n",
    "\n",
    "    mask = cv2.inRange(hsv, low,high)\n",
    "\n",
    "    blue = cv2.bitwise_and(img,img,mask = mask)\n",
    "\n",
    "    cv2.imshow('image',blue)\n",
    "    cv2.imshow('mask',mask)\n",
    "\n",
    "\n",
    "    key  = cv2.waitKey(50)\n",
    "\n",
    "    if key == ord('q'):\n",
    "        break\n",
    "\n",
    "cv2.destroyAllWindows()"
   ]
  },
  {
   "cell_type": "markdown",
   "metadata": {},
   "source": [
    "**Blue Ball**<br>\n",
    "low thresholds  : `[80,144,134]` <br>\n",
    "high thresholds : `[114,255,182]`<br>\n",
    "**Red Ball - 1**<br>\n",
    "low thresholds  : `[0,86,88]` <br>\n",
    "high thresholds : `[6,113,255]`<br>\n",
    "**Red Ball - 2**<br>\n",
    "low thresholds  : `[172,86,88]` <br>\n",
    "high thresholds : `[179,113,255]`<br>\n",
    "**Green Ball**<br>\n",
    "low thresholds  : `[33,70,81]` <br>\n",
    "high thresholds : `[98,179,255]`<br>\n"
   ]
  },
  {
   "cell_type": "code",
   "execution_count": 29,
   "metadata": {},
   "outputs": [],
   "source": [
    "import cv2\n",
    "import numpy as np\n",
    "\n",
    "cap = cv2.VideoCapture('videos/all_ball.mp4')\n",
    "\n",
    "while(1):\n",
    "\n",
    "    # Take each frame\n",
    "    ret, frame = cap.read()\n",
    "\n",
    "    if not ret:\n",
    "        break\n",
    "    # Convert BGR to HSV\n",
    "    hsv = cv2.cvtColor(frame, cv2.COLOR_BGR2HSV)\n",
    "\n",
    "    # define range of blue color in HSV\n",
    "#     lower_blue = np.array([80,144,134])\n",
    "#     upper_blue = np.array([114,255,182])\n",
    "    \n",
    "#     lower_green = np.array([33,70,81])\n",
    "#     upper_green = np.array([98,179,255])\n",
    "    \n",
    "    lower_red_1 = np.array([0,106,102])\n",
    "    upper_red_1 = np.array([8,255,255])\n",
    "\n",
    "    lower_red_2 = np.array([172,86,88])\n",
    "    upper_red_2 = np.array([179,255,255])\n",
    "\n",
    "    # Threshold the HSV image to get only blue colors\n",
    "#     mask_b = cv2.inRange(hsv, lower_blue, upper_blue)\n",
    "#     mask_g = cv2.inRange(hsv, lower_green, upper_green)\n",
    "    mask_r1 = cv2.inRange(hsv, lower_red_1, upper_red_1)\n",
    "    mask_r2 = cv2.inRange(hsv, lower_red_2, upper_red_2)\n",
    "\n",
    "\n",
    "#     mask = cv2.add(mask_b,mask_g,mask_r1,mask_r2)\n",
    "#     mask1 = cv2.bitwise_or(mask_b,mask_g)\n",
    "    mask2 = cv2.bitwise_or(mask_r1,mask_r2)\n",
    "\n",
    "#     mask = cv2.bitwise_or(mask1,mask2)\n",
    "\n",
    "    # Bitwise-AND mask and original image\n",
    "    res = cv2.bitwise_and(frame,frame, mask= mask2)\n",
    "\n",
    "    cv2.imshow('frame',frame)\n",
    "    cv2.imshow('mask',mask2)\n",
    "    cv2.imshow('res',res)\n",
    "    k = cv2.waitKey(20) & 0xFF\n",
    "    if k == 27:\n",
    "        break\n",
    "        \n",
    "\n",
    "cv2.destroyAllWindows()"
   ]
  }
 ],
 "metadata": {
  "kernelspec": {
   "display_name": "Python 3",
   "language": "python",
   "name": "python3"
  },
  "language_info": {
   "codemirror_mode": {
    "name": "ipython",
    "version": 3
   },
   "file_extension": ".py",
   "mimetype": "text/x-python",
   "name": "python",
   "nbconvert_exporter": "python",
   "pygments_lexer": "ipython3",
   "version": "3.9.1"
  }
 },
 "nbformat": 4,
 "nbformat_minor": 4
}
