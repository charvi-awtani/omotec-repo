{
 "cells": [
  {
   "cell_type": "markdown",
   "metadata": {},
   "source": [
    "## Image Gradients\n",
    "\n",
    "- Sobel filter\n",
    "- Scharr filter\n",
    "- Laplacian Derivatives "
   ]
  },
  {
   "cell_type": "markdown",
   "metadata": {},
   "source": [
    "## Review of all filter"
   ]
  },
  {
   "cell_type": "code",
   "execution_count": 2,
   "metadata": {
    "scrolled": true
   },
   "outputs": [],
   "source": [
    "import cv2\n",
    "import numpy as np\n",
    "from matplotlib import pyplot as plt\n",
    "\n",
    "img = cv2.imread('images/sudoku.png',0)\n",
    "# works only with grayscale images\n",
    "\n",
    "blur = cv2.blur(img,(5,5))\n",
    "\n",
    "\n",
    "sobelx = cv2.Sobel(blur,-1,1,0,ksize=5)\n",
    "# ddepth - output datatype (-1 same as input)\n",
    "# x - order of derivative along x (can be 0 or 1)\n",
    "# y - order of derivative along y (can be 0 or 1)\n",
    "# ksize - kernal size (-1 mean scharr derivative)\n",
    "# delta - delta is added to the output image\n",
    "\n",
    "\n",
    "sobely = cv2.Sobel(blur,-1,0,1,ksize=5)\n",
    "laplacian = cv2.Laplacian(img,cv2.CV_64F,ksize = 5,delta = 120)\n",
    "\n",
    "\n",
    "abs_dst = cv2.convertScaleAbs(laplacian)\n",
    "\n",
    "cv2.imshow('img',img)\n",
    "\n",
    "cv2.imshow('sobelx',sobelx)\n",
    "cv2.imshow('sobely',sobely)\n",
    "\n",
    "cv2.imshow('laplacian',laplacian)\n",
    "\n",
    "\n",
    "cv2.waitKey(0)\n",
    "cv2.destroyAllWindows()"
   ]
  },
  {
   "cell_type": "markdown",
   "metadata": {},
   "source": [
    "## Sobel Filter"
   ]
  },
  {
   "cell_type": "code",
   "execution_count": 10,
   "metadata": {},
   "outputs": [],
   "source": [
    "import cv2\n",
    "import numpy as np\n",
    "from matplotlib import pyplot as plt\n",
    "\n",
    "src = cv2.imread('images/box.jpg',0)\n",
    "\n",
    "grad_x = cv2.Sobel(scr, -1, 1, 0,scale = 1, delta=delta)\n",
    "# Gradient-Y\n",
    "# grad_y = cv.Scharr(gray,ddepth,0,1)\n",
    "# grad_y = cv2.Sobel(gray, ddepth, 0, 1, ksize=3, scale=scale, delta=delta, borderType=cv2.BORDER_DEFAULT)\n",
    "\n",
    "\n",
    "# abs_grad_x = cv2.convertScaleAbs(grad_x)\n",
    "# abs_grad_y = cv2.convertScaleAbs(grad_y)\n",
    "\n",
    "\n",
    "# grad = cv2.addWeighted(abs_grad_x, 0.5, abs_grad_y, 0.5, 0)\n",
    "\n",
    "\n",
    "# cv2.imshow(\"grad\", grad)\n",
    "cv2.imshow(\"grad\", grad_x)\n",
    "\n",
    "cv2.waitKey(0)\n",
    "cv2.destroyAllWindows()"
   ]
  },
  {
   "cell_type": "code",
   "execution_count": 2,
   "metadata": {},
   "outputs": [],
   "source": [
    "import cv2\n",
    "import numpy as np\n",
    "from matplotlib import pyplot as plt\n",
    "\n",
    "img = cv2.imread('images/box.jpg',0)\n",
    "\n",
    "# Output dtype = cv2.CV_8U\n",
    "sobelx8u = cv2.Sobel(img,cv2.CV_8U,1,0,ksize=-1)\n",
    "\n",
    "# Output dtype = cv2.CV_64F. Then take its absolute and convert to cv2.CV_8U\n",
    "sobelx64f = cv2.Sobel(img,cv2.CV_64F,1,0,ksize=5)\n",
    "abs_sobel64f = np.absolute(sobelx64f)\n",
    "sobel_8u = np.uint8(abs_sobel64f)\n",
    "\n",
    "\n",
    "cv2.imshow('sobel_8u',sobel_8u)\n",
    "cv2.imshow('sobelx8u',sobelx8u)\n",
    "\n",
    "\n",
    "cv2.waitKey(0)\n",
    "cv2.destroyAllWindows()\n",
    "\n",
    "# plt.subplot(1,3,1),plt.imshow(img,cmap = 'gray')\n",
    "# plt.title('Original'), plt.xticks([]), plt.yticks([])\n",
    "# plt.subplot(1,3,2),plt.imshow(sobelx8u,cmap = 'gray')\n",
    "# plt.title('Sobel CV_8U'), plt.xticks([]), plt.yticks([])\n",
    "# plt.subplot(1,3,3),plt.imshow(sobel_8u,cmap = 'gray')\n",
    "# plt.title('Sobel abs(CV_64F)'), plt.xticks([]), plt.yticks([])\n",
    "\n",
    "# plt.show()"
   ]
  },
  {
   "cell_type": "markdown",
   "metadata": {},
   "source": [
    "# sobel"
   ]
  },
  {
   "cell_type": "code",
   "execution_count": 3,
   "metadata": {},
   "outputs": [],
   "source": [
    "from cv2 import cv2\n",
    "import numpy as np\n",
    "\n",
    "img = cv2.imread('images/box.jpg',0)\n",
    "\n",
    "sobelx = cv2.Sobel(img,cv2.CV_8U,1,0,ksize = 3,scale = 1, \n",
    "                   delta = 0)\n",
    "sobely = cv2.Sobel(img,cv2.CV_8U,0,1,ksize = 3,scale = 1, \n",
    "                   delta = 0)\n",
    "\n",
    "sobelx64f = cv2.Sobel(img,cv2.CV_64F,1,0,ksize=3)\n",
    "\n",
    "abs_sobel64f = np.absolute(sobelx64f)\n",
    "sobel_8u = np.uint8(abs_sobel64f)\n",
    "\n",
    "\n",
    "cv2.imshow('img',img)\n",
    "\n",
    "cv2.imshow('x',sobelx)\n",
    "cv2.imshow('y',sobely)\n",
    "cv2.imshow('sobel_8u',sobel_8u)\n",
    "\n",
    "\n",
    "cv2.waitKey(0)\n",
    "cv2.destroyAllWindows()"
   ]
  },
  {
   "cell_type": "markdown",
   "metadata": {},
   "source": [
    "## We can force sobel function to act as scharr fucntion by providing a ksize of -1"
   ]
  },
  {
   "cell_type": "markdown",
   "metadata": {},
   "source": [
    "## Scharr function uses a bit modified kernal to remove the noices which is otherwise there in sobel function"
   ]
  },
  {
   "cell_type": "markdown",
   "metadata": {},
   "source": [
    "# numpy visualize"
   ]
  },
  {
   "cell_type": "code",
   "execution_count": 4,
   "metadata": {
    "scrolled": true
   },
   "outputs": [
    {
     "name": "stdout",
     "output_type": "stream",
     "text": [
      "[[0. 0. 0. 0. 0. 0. 0.]\n",
      " [0. 0. 0. 0. 0. 0. 0.]\n",
      " [0. 0. 1. 1. 1. 0. 0.]\n",
      " [0. 0. 1. 1. 1. 0. 0.]\n",
      " [0. 0. 1. 1. 1. 0. 0.]\n",
      " [0. 0. 0. 0. 0. 0. 0.]\n",
      " [0. 0. 0. 0. 0. 0. 0.]]\n",
      "[[0 0 0 0 0 0 0]\n",
      " [0 1 1 0 1 1 0]\n",
      " [0 3 3 0 3 3 0]\n",
      " [0 4 4 0 4 4 0]\n",
      " [0 3 3 0 3 3 0]\n",
      " [0 1 1 0 1 1 0]\n",
      " [0 0 0 0 0 0 0]]\n"
     ]
    }
   ],
   "source": [
    "from cv2 import cv2\n",
    "import numpy as np\n",
    "\n",
    "img = np.zeros((7,7))\n",
    "# img = np.zeros((7,7),dtype = 'uint8')\n",
    "\n",
    "img[2:5,2:5] = 1\n",
    "\n",
    "\n",
    "print(img)\n",
    "\n",
    "sobelx = cv2.Sobel(img,cv2.CV_16S,1,0,ksize = 3,scale = 1, delta = 0, borderType= cv2.BORDER_DEFAULT)\n",
    "# sobely = cv2.Sobel(img,cv2.CV_8U,0,1,ksize = 3,scale = 1, delta = 0, borderType= cv2.BORDER_DEFAULT)\n",
    "\n",
    "# sobelx64f = cv2.Sobel(img,cv2.CV_64F,1,0,ksize=3)\n",
    "\n",
    "abs_sobel64f = np.absolute(sobelx)\n",
    "sobel_8u = np.uint8(abs_sobel64f)\n",
    "\n",
    "print(sobel_8u)\n",
    "\n",
    "# cv2.imshow('img',img)\n",
    "\n",
    "# cv2.imshow('x',sobelx)\n",
    "# cv2.imshow('y',sobely)\n",
    "# cv2.imshow('sobel_8u',sobel_8u)\n",
    "\n",
    "\n",
    "# cv2.waitKey(0)\n",
    "# cv2.destroyAllWindows()"
   ]
  },
  {
   "cell_type": "markdown",
   "metadata": {},
   "source": [
    "\n",
    "---\n"
   ]
  },
  {
   "cell_type": "markdown",
   "metadata": {},
   "source": [
    "## Home Work"
   ]
  },
  {
   "cell_type": "markdown",
   "metadata": {},
   "source": [
    "### 1) Do histogram equalisation on the below image"
   ]
  },
  {
   "cell_type": "markdown",
   "metadata": {},
   "source": [
    "<div>\n",
    "<img src=\"images/hist_equalisation_hw2.png\" width=\"300\" align=\"center\"/>\n",
    "</div> "
   ]
  },
  {
   "cell_type": "code",
   "execution_count": null,
   "metadata": {},
   "outputs": [],
   "source": []
  }
 ],
 "metadata": {
  "kernelspec": {
   "display_name": "Python 3",
   "language": "python",
   "name": "python3"
  },
  "language_info": {
   "codemirror_mode": {
    "name": "ipython",
    "version": 3
   },
   "file_extension": ".py",
   "mimetype": "text/x-python",
   "name": "python",
   "nbconvert_exporter": "python",
   "pygments_lexer": "ipython3",
   "version": "3.9.1"
  }
 },
 "nbformat": 4,
 "nbformat_minor": 4
}
