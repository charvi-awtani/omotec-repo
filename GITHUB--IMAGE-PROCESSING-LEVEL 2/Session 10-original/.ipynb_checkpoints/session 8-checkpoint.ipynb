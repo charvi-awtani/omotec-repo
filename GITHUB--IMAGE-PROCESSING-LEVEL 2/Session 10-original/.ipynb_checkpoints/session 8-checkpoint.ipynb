{
 "cells": [
  {
   "cell_type": "markdown",
   "metadata": {},
   "source": [
    "<img src=\"images/omotec.png\" alt=\"Drawing\" style=\"width: 130px;\" align=\"center\"/>"
   ]
  },
  {
   "cell_type": "markdown",
   "metadata": {},
   "source": [
    "## Histograms"
   ]
  },
  {
   "cell_type": "markdown",
   "metadata": {},
   "source": [
    "Histograms are most of the times plotted for a grayscale image. But can also simetimes be plottted for the other channels.<br>\n",
    "It is a plot of **Intensity VS. No of pixel**"
   ]
  },
  {
   "cell_type": "markdown",
   "metadata": {},
   "source": [
    "**`cv2.calcHist(images, channels, mask, histSize, ranges[, hist[, accumulate]])`**\n",
    "\n",
    "- **images** : it is the source image of type uint8 or float32. it should be given in square brackets, ie, “[img]”.\n",
    "- **channels** : it is also given in square brackets. It the index of channel for which we calculate histogram. For example, if input is grayscale image, its value is [0]. For color image, you can pass [0],[1] or [2] to calculate histogram of blue,green or red channel respectively.\n",
    "- **mask** : mask image. To find histogram of full image, it is given as “None”. But if you want to find histogram of particular region of image, you have to create a mask image for that and give it as mask. (I will show an example later.)\n",
    "- **histSize** : this represents our BIN count. Need to be given in square brackets. For full scale, we pass [256].\n",
    "- **ranges** : this is our RANGE. Normally, it is [0,256]."
   ]
  },
  {
   "cell_type": "code",
   "execution_count": 5,
   "metadata": {},
   "outputs": [],
   "source": [
    "import cv2\n",
    "import numpy as np\n",
    "\n",
    "img = cv2.imread('images/moon.jpg',0)\n",
    "\n",
    "hist = cv2.calcHist([img],[0],None,[256],[0,256])\n",
    "\n",
    "cv2.imshow('win',img)\n",
    "cv2.imshow('hist',hist)\n",
    "\n",
    "cv2.waitKey(0)\n",
    "cv2.destroyAllWindows()"
   ]
  },
  {
   "cell_type": "markdown",
   "metadata": {},
   "source": [
    "The output of the calcHist fucntion is not an actual imgae insted it is just a 2D array with 256 rows and each row has a value corresponding to the frquency of that pixel intensity.<br>\n",
    "So to actually plot an histogram we can use matplotlib."
   ]
  },
  {
   "cell_type": "code",
   "execution_count": 9,
   "metadata": {
    "scrolled": true
   },
   "outputs": [
    {
     "data": {
      "image/png": "[encoded data removed]",
      "text/plain": [
       "<Figure size 432x288 with 1 Axes>"
      ]
     },
     "metadata": {
      "needs_background": "light"
     },
     "output_type": "display_data"
    }
   ],
   "source": [
    "import cv2\n",
    "import numpy as np\n",
    "from matplotlib import pyplot as plt\n",
    "\n",
    "img = cv2.imread('images/moon.jpg',0)\n",
    "\n",
    "hist = cv2.calcHist([img],[0],None,[256],[0,256])\n",
    "\n",
    "cv2.imshow('win',img)\n",
    "cv2.imshow('hist',hist)\n",
    "plt.plot(hist)\n",
    "plt.show()\n",
    "\n",
    "# cv2.waitKey(0)\n",
    "# cv2.destroyAllWindows()"
   ]
  },
  {
   "cell_type": "markdown",
   "metadata": {},
   "source": [
    "## Histogram Equalization"
   ]
  },
  {
   "cell_type": "code",
   "execution_count": 3,
   "metadata": {},
   "outputs": [],
   "source": [
    "import cv2\n",
    "import numpy as np\n",
    "from matplotlib import pyplot as plt\n",
    "\n",
    "img = cv2.imread('images/hist_equ1.jpg',0)\n",
    "\n",
    "equ = cv2.equalizeHist(img)\n",
    "\n",
    "cv2.imshow('win',img)\n",
    "cv2.imshow('equ',equ)\n",
    "\n",
    "# plt.plot(hist)\n",
    "# plt.show()\n",
    "\n",
    "cv2.waitKey(0)\n",
    "cv2.destroyAllWindows()"
   ]
  },
  {
   "cell_type": "markdown",
   "metadata": {},
   "source": [
    "## CLAHE (Contrast Limited Adaptive Histogram Equalization)"
   ]
  },
  {
   "cell_type": "code",
   "execution_count": 4,
   "metadata": {},
   "outputs": [],
   "source": [
    "import cv2\n",
    "import numpy as np\n",
    "from matplotlib import pyplot as plt\n",
    "\n",
    "img = cv2.imread('images/hist_equ1.jpg',0)\n",
    "\n",
    "equ = cv2.equalizeHist(img)\n",
    "\n",
    "cv2.imshow('win',img)\n",
    "cv2.imshow('equ',equ)\n",
    "\n",
    "\n",
    "cv2.waitKey(0)\n",
    "cv2.destroyAllWindows()\n"
   ]
  },
  {
   "cell_type": "markdown",
   "metadata": {},
   "source": [
    "But with adaptive histogram equalization we can get a better result"
   ]
  },
  {
   "cell_type": "code",
   "execution_count": 5,
   "metadata": {},
   "outputs": [],
   "source": [
    "import cv2\n",
    "import numpy as np\n",
    "from matplotlib import pyplot as plt\n",
    "\n",
    "img = cv2.imread('images/hist_equ1.jpg',0)\n",
    "\n",
    "equ = cv2.equalizeHist(img)\n",
    "\n",
    "clahe = cv2.createCLAHE()\n",
    "clahe1 = cv2.createCLAHE(clipLimit=4.0, tileGridSize=(8,8))\n",
    "cl1 = clahe.apply(img)\n",
    "cl2 = clahe.apply(img)\n",
    "\n",
    "cv2.imshow('win',img)\n",
    "cv2.imshow('cl1',cl1)\n",
    "cv2.imshow('cl2',cl2)\n",
    "\n",
    "\n",
    "cv2.waitKey(0)\n",
    "cv2.destroyAllWindows()\n"
   ]
  },
  {
   "cell_type": "markdown",
   "metadata": {},
   "source": [
    "\n",
    "---\n"
   ]
  },
  {
   "cell_type": "markdown",
   "metadata": {},
   "source": [
    "## Home Work"
   ]
  },
  {
   "cell_type": "markdown",
   "metadata": {},
   "source": [
    "### 1) Do histogram equalisation on the below image"
   ]
  },
  {
   "cell_type": "markdown",
   "metadata": {},
   "source": [
    "<div>\n",
    "<img src=\"images/hist_equalisation_hw1.png\" width=\"300\" align=\"center\"/>\n",
    "</div> "
   ]
  },
  {
   "cell_type": "markdown",
   "metadata": {},
   "source": [
    "### 2) Do histogram equalisation on the below image"
   ]
  },
  {
   "cell_type": "markdown",
   "metadata": {},
   "source": [
    "<div>\n",
    "<img src=\"images/hist_equalisation_hw2.png\" width=\"300\" align=\"center\"/>\n",
    "</div> "
   ]
  },
  {
   "cell_type": "code",
   "execution_count": null,
   "metadata": {},
   "outputs": [],
   "source": []
  }
 ],
 "metadata": {
  "kernelspec": {
   "display_name": "Python 3",
   "language": "python",
   "name": "python3"
  },
  "language_info": {
   "codemirror_mode": {
    "name": "ipython",
    "version": 3
   },
   "file_extension": ".py",
   "mimetype": "text/x-python",
   "name": "python",
   "nbconvert_exporter": "python",
   "pygments_lexer": "ipython3",
   "version": "3.9.1"
  }
 },
 "nbformat": 4,
 "nbformat_minor": 4
}
