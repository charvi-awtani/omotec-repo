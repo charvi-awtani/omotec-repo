{
 "cells": [
  {
   "cell_type": "markdown",
   "metadata": {},
   "source": [
    "<img src=\"images/omotec.png\" alt=\"Drawing\" style=\"width: 130px;\" align=\"center\"/>"
   ]
  },
  {
   "cell_type": "markdown",
   "metadata": {},
   "source": [
    "# Project - 2\n",
    "\n",
    "## Create a document scanner"
   ]
  },
  {
   "cell_type": "markdown",
   "metadata": {},
   "source": [
    "<hr>"
   ]
  },
  {
   "cell_type": "markdown",
   "metadata": {},
   "source": [
    "# PROJECT IMPLEMENTATION"
   ]
  },
  {
   "cell_type": "markdown",
   "metadata": {},
   "source": [
    "### Preparing Your Environment\n",
    "\n",
    "You will use OpenCV-Python to take the image input and perform some image processing. Imutils to resize the input and output images. scikit-image to apply a threshold on the image. NumPy will help you work with arrays."
   ]
  },
  {
   "cell_type": "code",
   "execution_count": null,
   "metadata": {},
   "outputs": [],
   "source": [
    "pip install OpenCV-Python imutils scikit-image NumPy"
   ]
  },
  {
   "cell_type": "markdown",
   "metadata": {},
   "source": [
    "<br>\n",
    "<img align = \"middle\" src=\"images/setup-image.png\" alt=\"Drawing\" style=\"height: 200px; width: 800px;\">\n",
    "<br>"
   ]
  },
  {
   "cell_type": "markdown",
   "metadata": {},
   "source": [
    "### Importing the Installed Libraries"
   ]
  },
  {
   "cell_type": "code",
   "execution_count": null,
   "metadata": {},
   "outputs": [],
   "source": [
    "import cv2\n",
    "import imutils\n",
    "from skimage.filters import threshold_local\n",
    "from transform import perspective_transform"
   ]
  },
  {
   "cell_type": "markdown",
   "metadata": {},
   "source": [
    "### Taking and Resizing the Input\n",
    "Take a clear image of the document you want to scan. Ensure the four corners of the document and its contents are visible. Copy the image to the same folder you are storing the program files."
   ]
  },
  {
   "cell_type": "markdown",
   "metadata": {},
   "source": [
    "Pass the input image path to OpenCV. Make a copy of the original image as you will need it during perspective transformation. Divide the height of the original image by the height you wish to resize it to. This will maintain the aspect ratio. Finally, output the resized image."
   ]
  },
  {
   "cell_type": "markdown",
   "metadata": {},
   "source": [
    "<br>\n",
    "<img align = \"middle\" src=\"images/input-image.png\" alt=\"Drawing\" style=\"height: 500px; width: 500px;\">\n",
    "<br>\n"
   ]
  },
  {
   "cell_type": "code",
   "execution_count": null,
   "metadata": {},
   "outputs": [],
   "source": [
    "# Passing the image path\n",
    "original_img = cv2.imread('images/sample.png')\n",
    "copy = original_img.copy()\n",
    "\n",
    "# The resized height in hundreds\n",
    "ratio = original_img.shape[0] / 500.0\n",
    "img_resize = imutils.resize(original_img, height=500)\n",
    "\n",
    "# Displaying output\n",
    "cv2.imshow('Resized image', img_resize)\n",
    "\n",
    "# Waiting for the user to press any key\n",
    "cv2.waitKey(0)"
   ]
  },
  {
   "cell_type": "markdown",
   "metadata": {},
   "source": [
    "<br>\n",
    "<img align = \"middle\" src=\"images/resized-image.png\" alt=\"Drawing\" style=\"height: 400px; width: 600px;\">\n",
    "<br>"
   ]
  },
  {
   "cell_type": "markdown",
   "metadata": {},
   "source": [
    "You’ve now resized the height of the original image to 500 pixels."
   ]
  },
  {
   "cell_type": "markdown",
   "metadata": {},
   "source": [
    "<hr>"
   ]
  },
  {
   "cell_type": "markdown",
   "metadata": {},
   "source": [
    "### Converting the Resized Image to Grayscale\n",
    "Convert the resized RGB image to grayscale. Most image-processing libraries only work with grayscale images as they are easier to process."
   ]
  },
  {
   "cell_type": "code",
   "execution_count": null,
   "metadata": {},
   "outputs": [],
   "source": [
    "gray_image = cv2.cvtColor(img_resize, cv2.COLOR_BGR2GRAY)\n",
    "cv2.imshow('Grayed Image', gray_image)\n",
    "cv2.waitKey(0)"
   ]
  },
  {
   "cell_type": "markdown",
   "metadata": {},
   "source": [
    "Notice the difference between the original image and the grayed one.\n",
    "\n",
    "The colored table has turned to black and white."
   ]
  },
  {
   "cell_type": "markdown",
   "metadata": {},
   "source": [
    "<br>\n",
    "<img align = \"middle\" src=\"images/gray-image.png\" alt=\"Drawing\" style=\"height: 300px; width: 500px;\">\n",
    "<br>"
   ]
  },
  {
   "cell_type": "markdown",
   "metadata": {},
   "source": [
    "The colored table has turned to black and white.\n",
    "\n"
   ]
  },
  {
   "cell_type": "markdown",
   "metadata": {},
   "source": [
    "<hr>"
   ]
  },
  {
   "cell_type": "markdown",
   "metadata": {},
   "source": [
    "### Applying an Edge Detector\n",
    "Apply a Gaussian blur filter on the grayed image to remove noise. Then call the OpenCV canny function to detect the edges present in the image."
   ]
  },
  {
   "cell_type": "code",
   "execution_count": null,
   "metadata": {},
   "outputs": [],
   "source": [
    "blurred_image = cv2.GaussianBlur(gray_image, (5, 5), 0)\n",
    "edged_img = cv2.Canny(blurred_image, 75, 200)\n",
    "cv2.imshow('Image edges', edged_img)\n",
    "cv2.waitKey(0)"
   ]
  },
  {
   "cell_type": "markdown",
   "metadata": {},
   "source": [
    "<br>\n",
    "<img align = \"middle\" src=\"images/edges-image.png\" alt=\"Drawing\" style=\"height: 300px; width: 500px;\">\n",
    "<br>"
   ]
  },
  {
   "cell_type": "markdown",
   "metadata": {},
   "source": [
    "### Finding the Largest Contour\n",
    "Detect the contours present in the edged image. Sort them in descending order keeping only the five largest contours. Approximate the largest contour with four sides by looping through the sorted contours.\n",
    "\n",
    "The contour with four sides is likely to contain the document."
   ]
  },
  {
   "cell_type": "code",
   "execution_count": null,
   "metadata": {},
   "outputs": [],
   "source": [
    "cnts, _ = cv2.findContours(edged_img, cv2.RETR_LIST, cv2.CHAIN_APPROX_SIMPLE)\n",
    "cnts = sorted(cnts, key=cv2.contourArea, reverse=True)[:5]\n",
    "\n",
    "for c in cnts:\n",
    "    peri = cv2.arcLength(c, True)\n",
    "    approx = cv2.approxPolyDP(c, 0.02 * peri, True)\n",
    "\n",
    "    if len(approx) == 4:\n",
    "        doc = approx\n",
    "        break"
   ]
  },
  {
   "cell_type": "markdown",
   "metadata": {},
   "source": [
    "### Circling the Four Corners of the Document Contour\n",
    "Circle the corners of the detected document contour. This will help you determine whether your program was able to detect the document in the image."
   ]
  },
  {
   "cell_type": "code",
   "execution_count": null,
   "metadata": {},
   "outputs": [],
   "source": [
    "p = []\n",
    "\n",
    "for d in doc:\n",
    "    tuple_point = tuple(d[0])\n",
    "    cv2.circle(img_resize, tuple_point, 3, (0, 0, 255), 4)\n",
    "    p.append(tuple_point)\n",
    "\n",
    "cv2.imshow('Circled corner points', img_resize)\n",
    "cv2.waitKey(0)"
   ]
  },
  {
   "cell_type": "markdown",
   "metadata": {},
   "source": [
    "Implement circling on the resized RGB image.\n",
    "\n",
    "Having detected the document, you now need to extract the document from the image."
   ]
  },
  {
   "cell_type": "markdown",
   "metadata": {},
   "source": [
    "<br>\n",
    "<img align = \"middle\" src=\"images/circled-image.png\" alt=\"Drawing\" style=\"height: 300px; width: 500px;\">\n",
    "<br>"
   ]
  },
  {
   "cell_type": "markdown",
   "metadata": {},
   "source": [
    "<hr>"
   ]
  },
  {
   "cell_type": "markdown",
   "metadata": {},
   "source": [
    "### Using Warp Perspective to Get the Desired Image\n",
    "Warp perspective is a computer vision technique for transforming an image to correct distortions. It transforms an image into a different plane allowing you to view the image from a different angle."
   ]
  },
  {
   "cell_type": "code",
   "execution_count": null,
   "metadata": {},
   "outputs": [],
   "source": [
    "warped_image = perspective_transform(copy, doc.reshape(4, 2) * ratio)\n",
    "warped_image = cv2.cvtColor(warped_image, cv2.COLOR_BGR2GRAY)\n",
    "cv2.imshow(\"Warped Image\", imutils.resize(warped_image, height=650))\n",
    "cv2.waitKey(0)"
   ]
  },
  {
   "cell_type": "markdown",
   "metadata": {},
   "source": [
    "To obtain a warped image, you need to create a simple module that will perform the perspective transformation."
   ]
  },
  {
   "cell_type": "markdown",
   "metadata": {},
   "source": [
    "<hr>"
   ]
  },
  {
   "cell_type": "markdown",
   "metadata": {},
   "source": [
    "### Transformation Module\n",
    "The module will order the points of the document corners. It will also transform the document image into a different plane and change the camera angle to an overhead shot.\n",
    "\n",
    "Open the transform.py file you created earlier. Import OpenCV and NumPy libraries."
   ]
  },
  {
   "cell_type": "code",
   "execution_count": null,
   "metadata": {},
   "outputs": [],
   "source": [
    "import numpy as np\n",
    "import cv2"
   ]
  },
  {
   "cell_type": "markdown",
   "metadata": {},
   "source": [
    "This module will contain two functions. Create a function that will order the coordinates of the document corner points. The first coordinate will be that of the top left corner, the second will be that of the top right corner, the third will be of the bottom right corner, and the fourth coordinate will be that of the bottom left corner."
   ]
  },
  {
   "cell_type": "code",
   "execution_count": null,
   "metadata": {},
   "outputs": [],
   "source": [
    "def order_points(pts):\n",
    "   # initializing the list of coordinates to be ordered\n",
    "   rect = np.zeros((4, 2), dtype = \"float32\")\n",
    "\n",
    "   s = pts.sum(axis = 1)\n",
    "\n",
    "   # top-left point will have the smallest sum\n",
    "   rect[0] = pts[np.argmin(s)]\n",
    "\n",
    "   # bottom-right point will have the largest sum\n",
    "   rect[2] = pts[np.argmax(s)]\n",
    "\n",
    "   '''computing the difference between the points, the\n",
    "   top-right point will have the smallest difference,\n",
    "   whereas the bottom-left will have the largest difference'''\n",
    "   diff = np.diff(pts, axis = 1)\n",
    "   rect[1] = pts[np.argmin(diff)]\n",
    "   rect[3] = pts[np.argmax(diff)]\n",
    "\n",
    "   # returns ordered coordinates\n",
    "   return rect"
   ]
  },
  {
   "cell_type": "markdown",
   "metadata": {},
   "source": [
    "Create a second function that will compute the corner coordinates of the new image and obtain an overhead shot. It will then calculate the perspective transform matrix and return the warped image."
   ]
  },
  {
   "cell_type": "code",
   "execution_count": null,
   "metadata": {},
   "outputs": [],
   "source": [
    "def perspective_transform(image, pts):\n",
    "   # unpack the ordered coordinates individually\n",
    "   rect = order_points(pts)\n",
    "   (tl, tr, br, bl) = rect\n",
    "\n",
    "   '''compute the width of the new image, which will be the\n",
    "   maximum distance between bottom-right and bottom-left\n",
    "   x-coordinates or the top-right and top-left x-coordinates'''\n",
    "   widthA = np.sqrt(((br[0] - bl[0]) ** 2) + ((br[1] - bl[1]) ** 2))\n",
    "   widthB = np.sqrt(((tr[0] - tl[0]) ** 2) + ((tr[1] - tl[1]) ** 2))\n",
    "   maxWidth = max(int(widthA), int(widthB))\n",
    "\n",
    "   '''compute the height of the new image, which will be the\n",
    "   maximum distance between the top-left and bottom-left y-coordinates'''\n",
    "   heightA = np.sqrt(((tr[0] - br[0]) ** 2) + ((tr[1] - br[1]) ** 2))\n",
    "   heightB = np.sqrt(((tl[0] - bl[0]) ** 2) + ((tl[1] - bl[1]) ** 2))\n",
    "   maxHeight = max(int(heightA), int(heightB))\n",
    "\n",
    "   '''construct the set of destination points to obtain an overhead shot'''\n",
    "   dst = np.array([\n",
    "      [0, 0],\n",
    "      [maxWidth - 1, 0],\n",
    "      [maxWidth - 1, maxHeight - 1],\n",
    "      [0, maxHeight - 1]], dtype = \"float32\")\n",
    "\n",
    "   # compute the perspective transform matrix\n",
    "   transform_matrix = cv2.getPerspectiveTransform(rect, dst)\n",
    "\n",
    "   # Apply the transform matrix\n",
    "   warped = cv2.warpPerspective(image, transform_matrix, (maxWidth, maxHeight))\n",
    "\n",
    "   # return the warped image\n",
    "   return warped"
   ]
  },
  {
   "cell_type": "markdown",
   "metadata": {},
   "source": [
    "You have now created the transform module. The error on the perspective_transform import will now disappear.\n",
    "\n",
    "Notice that the image displayed has an overhead shot."
   ]
  },
  {
   "cell_type": "markdown",
   "metadata": {},
   "source": [
    "<br>\n",
    "<img align = \"middle\" src=\"images/overhead-image.png\" alt=\"Drawing\" style=\"height: 300px; width: 500px;\">\n",
    "<br>"
   ]
  },
  {
   "cell_type": "markdown",
   "metadata": {},
   "source": [
    "### Applying Adaptive Threshold and Saving the Scanned Output\n",
    "In the main.py file, apply the Gaussian threshold to the warped image. This will give the warped image a scanned look. Save the scanned image output to the folder containing the program files.\n",
    "\n",
    "Saving the scan in PNG format maintains the document quality."
   ]
  },
  {
   "cell_type": "code",
   "execution_count": null,
   "metadata": {},
   "outputs": [],
   "source": [
    "T = threshold_local(warped_image, 11, offset=10, method=\"gaussian\")\n",
    "warped = (warped_image > T).astype(\"uint8\") * 255\n",
    "cv2.imwrite('./'+'scan'+'.png',warped)"
   ]
  },
  {
   "cell_type": "markdown",
   "metadata": {},
   "source": [
    "### Displaying the Output\n",
    "Output the image of the scanned document:"
   ]
  },
  {
   "cell_type": "code",
   "execution_count": null,
   "metadata": {},
   "outputs": [],
   "source": [
    "cv2.imshow(\"Final Scanned image\", imutils.resize(warped, height=650))\n",
    "cv2.waitKey(0)\n",
    "cv2.destroyAllWindows()"
   ]
  },
  {
   "cell_type": "markdown",
   "metadata": {},
   "source": [
    "<br>\n",
    "<img align = \"middle\" src=\"images/final_image.png\" alt=\"Drawing\" style=\"height: 300px; width: 500px;\">\n",
    "<br>"
   ]
  },
  {
   "cell_type": "markdown",
   "metadata": {},
   "source": [
    "The following image shows the output of the program, an overhead shot of the scanned document.\n",
    "\n"
   ]
  },
  {
   "cell_type": "markdown",
   "metadata": {},
   "source": [
    "<hr>"
   ]
  }
 ],
 "metadata": {
  "kernelspec": {
   "display_name": "Python 3",
   "language": "python",
   "name": "python3"
  },
  "language_info": {
   "codemirror_mode": {
    "name": "ipython",
    "version": 3
   },
   "file_extension": ".py",
   "mimetype": "text/x-python",
   "name": "python",
   "nbconvert_exporter": "python",
   "pygments_lexer": "ipython3",
   "version": "3.9.1"
  }
 },
 "nbformat": 4,
 "nbformat_minor": 4
}
