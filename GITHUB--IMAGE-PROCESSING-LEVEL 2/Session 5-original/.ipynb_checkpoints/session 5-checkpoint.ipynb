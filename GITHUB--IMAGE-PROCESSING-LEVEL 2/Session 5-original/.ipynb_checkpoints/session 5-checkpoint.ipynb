{
 "cells": [
  {
   "cell_type": "markdown",
   "metadata": {},
   "source": [
    "<img src=\"images/omotec.png\" alt=\"Drawing\" style=\"width: 130px;\" align=\"center\"/>"
   ]
  },
  {
   "cell_type": "markdown",
   "metadata": {},
   "source": [
    "## Contours in openCV\n",
    "\n",
    "- use Binary Images\n",
    "- background should be black and objects white\n",
    "- contours modifies the original image so save a copy first."
   ]
  },
  {
   "cell_type": "code",
   "execution_count": 23,
   "metadata": {},
   "outputs": [],
   "source": [
    "import numpy as np\n",
    "import cv2\n",
    "\n",
    "img = cv2.imread('images/pic1.png')\n",
    "imgray = cv2.cvtColor(img,cv2.COLOR_BGR2GRAY)\n",
    "ret,thresh = cv2.threshold(imgray,127,255,0)\n",
    "contours, hierarchy = cv2.findContours(thresh,cv2.RETR_TREE,cv2.CHAIN_APPROX_SIMPLE)\n",
    "\n",
    "print(len(contours))"
   ]
  },
  {
   "cell_type": "markdown",
   "metadata": {},
   "source": [
    "### using drawContours fucntion to draw all the contours"
   ]
  },
  {
   "cell_type": "code",
   "execution_count": 22,
   "metadata": {},
   "outputs": [],
   "source": [
    "import numpy as np\n",
    "import cv2\n",
    "\n",
    "img = cv2.imread('images/pic1.png')\n",
    "imgray = cv2.cvtColor(img,cv2.COLOR_BGR2GRAY)\n",
    "ret,thresh = cv2.threshold(imgray,127,255,0)\n",
    "contours, hierarchy = cv2.findContours(thresh,cv2.RETR_TREE,cv2.CHAIN_APPROX_SIMPLE)\n",
    "\n",
    "\n",
    "img = cv2.drawContours(img, contours, -1, (0,255,0), 1)\n",
    "cv2.imshow(\"image\",img)\n",
    "cv2.waitKey(5000)\n",
    "cv2.destroyAllWindows()"
   ]
  },
  {
   "cell_type": "markdown",
   "metadata": {},
   "source": [
    "### Contour Approximation methods\n",
    "\n",
    "- **`cv2.CHAIN_APPROX_NONE`**\n",
    "    - Stores all the points in the contour (inefficient)\n",
    "- **`cv2.CHAIN_APPROX_SIMPLE`**\n",
    "    - removes all the redundant points found (efficient)"
   ]
  },
  {
   "cell_type": "markdown",
   "metadata": {},
   "source": [
    "### Contour area\n",
    "\n",
    "To find the contour area we can use the `cv2.contourArea()` function"
   ]
  },
  {
   "cell_type": "markdown",
   "metadata": {},
   "source": [
    "### Contour Perimeter \n",
    "\n",
    "To find the contour area we can use the `cv2.arcLength(cnt,True)` function"
   ]
  },
  {
   "cell_type": "markdown",
   "metadata": {},
   "source": [
    "### Contour Approximation\n",
    "Contour approximation can be used when we are tying to detect a particular shape but can't because of some irruegularities.\n",
    "\n",
    "We can use the `cv2.approxPolyDP()` fucntion to do the approximation for us\n",
    "The fucntion requires a epsilon argument which has to chosen wisely fot the approximation to work as expected.Usually it is taken as a percentage of the perimeter of the contour\n",
    "\n",
    "`\n",
    "epsilon = 0.1*cv2.arcLength(cnt,True)\n",
    "approx = cv2.approxPolyDP(cnt,epsilon,True)\n",
    "`\n",
    "\n",
    "The function returns another contour which will mostly have lesser number of edges. Ideally we will us this approximated contour to draw bounding box."
   ]
  },
  {
   "cell_type": "markdown",
   "metadata": {},
   "source": [
    "### Bounding Rectangle\n",
    "\n",
    "We can use the `cv2.boundingRect()` fucntion to draw a bounding box around the detected contour.\n",
    "The fucntion returns the (x,y) coordinates along with the height and the width of the rectangle. Later we can use this information to draw the rectangle."
   ]
  },
  {
   "cell_type": "markdown",
   "metadata": {},
   "source": [
    "\n",
    "---\n"
   ]
  },
  {
   "cell_type": "markdown",
   "metadata": {},
   "source": [
    "## Home Work"
   ]
  },
  {
   "cell_type": "markdown",
   "metadata": {},
   "source": [
    "### 1) calculate the number of circles in this image using contours"
   ]
  },
  {
   "cell_type": "markdown",
   "metadata": {},
   "source": [
    "<div>\n",
    "<img src=\"images/smarties.png\" width=\"300\" align=\"center\"/>\n",
    "</div> "
   ]
  },
  {
   "cell_type": "code",
   "execution_count": null,
   "metadata": {},
   "outputs": [],
   "source": []
  }
 ],
 "metadata": {
  "kernelspec": {
   "display_name": "Python 3",
   "language": "python",
   "name": "python3"
  },
  "language_info": {
   "codemirror_mode": {
    "name": "ipython",
    "version": 3
   },
   "file_extension": ".py",
   "mimetype": "text/x-python",
   "name": "python",
   "nbconvert_exporter": "python",
   "pygments_lexer": "ipython3",
   "version": "3.9.1"
  }
 },
 "nbformat": 4,
 "nbformat_minor": 4
}
